{
 "cells": [
  {
   "cell_type": "code",
   "execution_count": 1,
   "metadata": {},
   "outputs": [],
   "source": [
    "# using Pkg; Pkg.add(\"Distributions\")"
   ]
  },
  {
   "cell_type": "code",
   "execution_count": 2,
   "metadata": {},
   "outputs": [],
   "source": [
    "using Distributions\n",
    "using DataFrames\n",
    "using Distributed"
   ]
  },
  {
   "cell_type": "code",
   "execution_count": 3,
   "metadata": {},
   "outputs": [
    {
     "data": {
      "text/plain": [
       "8-element Array{Int64,1}:\n",
       " 2\n",
       " 3\n",
       " 4\n",
       " 5\n",
       " 6\n",
       " 7\n",
       " 8\n",
       " 9"
      ]
     },
     "execution_count": 3,
     "metadata": {},
     "output_type": "execute_result"
    }
   ],
   "source": [
    "addprocs(8)"
   ]
  },
  {
   "cell_type": "code",
   "execution_count": 4,
   "metadata": {},
   "outputs": [
    {
     "data": {
      "text/plain": [
       "8"
      ]
     },
     "execution_count": 4,
     "metadata": {},
     "output_type": "execute_result"
    }
   ],
   "source": [
    "nworkers()"
   ]
  },
  {
   "cell_type": "code",
   "execution_count": 5,
   "metadata": {},
   "outputs": [],
   "source": [
    "using Distributed\n",
    "@everywhere using Distributed, Distributions, DataFrames, Random"
   ]
  },
  {
   "cell_type": "code",
   "execution_count": 6,
   "metadata": {},
   "outputs": [],
   "source": [
    "@everywhere function sim_inventory(reorder_q::Int64,\n",
    "                                   reorder_point::Int64;\n",
    "        days = 100,\n",
    "        sd = Normal(20,20^0.5),     # 日毎の売上の分布\n",
    "        wh = 0.1,                   #  在庫コスト\n",
    "        p = 4.0,                    #  ユニットあたりの売上利益\n",
    "        d_prob = 0.50,              #  日毎の注文分布\n",
    "        k = 60.0,                   # 固定配送コスト\n",
    "        rng = MersenneTwister(0))\n",
    "    profit = 0.0                    # 利益の総計\n",
    "    stock = reorder_q\n",
    "    for day in 1:days\n",
    "        if stock < reorder_point && rand(rng)< d_prob # 注文到着\n",
    "            profit -= k                #  配送料支払い\n",
    "            stock += reorder_q\n",
    "        end\n",
    "        sale = max(0, min(Int(round(rand(rng, sd))), stock))\n",
    "        stock -= sale                #  在庫を減らす\n",
    "        profit += p*sale - wh*stock #  利益を増やす\n",
    "    end\n",
    "    return profit / days\n",
    "end"
   ]
  },
  {
   "cell_type": "code",
   "execution_count": 7,
   "metadata": {},
   "outputs": [
    {
     "data": {
      "text/plain": [
       "5625-element Array{Tuple{Int64,Int64,Int64},1}:\n",
       " (10, 10, 20)  \n",
       " (20, 10, 20)  \n",
       " (30, 10, 20)  \n",
       " (40, 10, 20)  \n",
       " (50, 10, 20)  \n",
       " (60, 10, 20)  \n",
       " (70, 10, 20)  \n",
       " (80, 10, 20)  \n",
       " (90, 10, 20)  \n",
       " (100, 10, 20) \n",
       " (110, 10, 20) \n",
       " (120, 10, 20) \n",
       " (130, 10, 20) \n",
       " ⋮             \n",
       " (140, 250, 60)\n",
       " (150, 250, 60)\n",
       " (160, 250, 60)\n",
       " (170, 250, 60)\n",
       " (180, 250, 60)\n",
       " (190, 250, 60)\n",
       " (200, 250, 60)\n",
       " (210, 250, 60)\n",
       " (220, 250, 60)\n",
       " (230, 250, 60)\n",
       " (240, 250, 60)\n",
       " (250, 250, 60)"
      ]
     },
     "execution_count": 7,
     "metadata": {},
     "output_type": "execute_result"
    }
   ],
   "source": [
    "sweep = vec(collect(Base.product(10:10:250, 10:10:250, 20:5:60)))"
   ]
  },
  {
   "cell_type": "code",
   "execution_count": 8,
   "metadata": {},
   "outputs": [],
   "source": [
    "Random.seed!(0);\n",
    "Random.shuffle!(sweep);"
   ]
  },
  {
   "cell_type": "code",
   "execution_count": 9,
   "metadata": {},
   "outputs": [],
   "source": [
    "const rngs = Dict(i=>MersenneTwister(i) for i in workers());"
   ]
  },
  {
   "cell_type": "code",
   "execution_count": 10,
   "metadata": {},
   "outputs": [
    {
     "data": {
      "text/html": [
       "<table class=\"data-frame\"><thead><tr><th></th><th>worker</th><th>reorder_q</th><th>reorder_point</th><th>days</th><th>profit</th></tr><tr><th></th><th>Int64</th><th>Int64</th><th>Int64</th><th>Int64</th><th>Float64</th></tr></thead><tbody><p>5,625 rows × 5 columns</p><tr><th>1</th><td>2</td><td>160</td><td>30</td><td>35</td><td>61.3314</td></tr><tr><th>2</th><td>2</td><td>190</td><td>160</td><td>25</td><td>51.4862</td></tr><tr><th>3</th><td>2</td><td>120</td><td>170</td><td>35</td><td>50.337</td></tr><tr><th>4</th><td>2</td><td>210</td><td>120</td><td>30</td><td>55.7457</td></tr><tr><th>5</th><td>2</td><td>40</td><td>10</td><td>40</td><td>33.3784</td></tr><tr><th>6</th><td>2</td><td>210</td><td>150</td><td>55</td><td>53.0972</td></tr><tr><th>7</th><td>2</td><td>140</td><td>60</td><td>20</td><td>61.8401</td></tr><tr><th>8</th><td>2</td><td>60</td><td>100</td><td>20</td><td>49.4209</td></tr><tr><th>9</th><td>2</td><td>70</td><td>40</td><td>55</td><td>53.416</td></tr><tr><th>10</th><td>2</td><td>100</td><td>10</td><td>40</td><td>54.0573</td></tr><tr><th>11</th><td>2</td><td>200</td><td>180</td><td>50</td><td>49.9971</td></tr><tr><th>12</th><td>2</td><td>70</td><td>200</td><td>40</td><td>42.7777</td></tr><tr><th>13</th><td>2</td><td>200</td><td>70</td><td>25</td><td>61.0831</td></tr><tr><th>14</th><td>2</td><td>250</td><td>250</td><td>45</td><td>41.0306</td></tr><tr><th>15</th><td>2</td><td>50</td><td>120</td><td>35</td><td>44.7039</td></tr><tr><th>16</th><td>2</td><td>140</td><td>10</td><td>60</td><td>57.4871</td></tr><tr><th>17</th><td>2</td><td>220</td><td>140</td><td>50</td><td>53.8456</td></tr><tr><th>18</th><td>2</td><td>110</td><td>200</td><td>55</td><td>47.0266</td></tr><tr><th>19</th><td>2</td><td>60</td><td>60</td><td>55</td><td>51.517</td></tr><tr><th>20</th><td>2</td><td>220</td><td>90</td><td>55</td><td>58.3</td></tr><tr><th>21</th><td>2</td><td>210</td><td>140</td><td>60</td><td>53.7927</td></tr><tr><th>22</th><td>2</td><td>160</td><td>120</td><td>60</td><td>56.4064</td></tr><tr><th>23</th><td>2</td><td>90</td><td>220</td><td>60</td><td>43.643</td></tr><tr><th>24</th><td>2</td><td>150</td><td>90</td><td>40</td><td>59.3623</td></tr><tr><th>25</th><td>2</td><td>200</td><td>140</td><td>45</td><td>54.1342</td></tr><tr><th>26</th><td>2</td><td>20</td><td>40</td><td>60</td><td>11.0531</td></tr><tr><th>27</th><td>2</td><td>200</td><td>240</td><td>25</td><td>42.8667</td></tr><tr><th>28</th><td>2</td><td>50</td><td>210</td><td>50</td><td>38.6326</td></tr><tr><th>29</th><td>2</td><td>80</td><td>170</td><td>25</td><td>46.4924</td></tr><tr><th>30</th><td>2</td><td>200</td><td>200</td><td>60</td><td>47.986</td></tr><tr><th>&vellip;</th><td>&vellip;</td><td>&vellip;</td><td>&vellip;</td><td>&vellip;</td><td>&vellip;</td></tr></tbody></table>"
      ],
      "text/latex": [
       "\\begin{tabular}{r|ccccc}\n",
       "\t& worker & reorder\\_q & reorder\\_point & days & profit\\\\\n",
       "\t\\hline\n",
       "\t& Int64 & Int64 & Int64 & Int64 & Float64\\\\\n",
       "\t\\hline\n",
       "\t1 & 2 & 160 & 30 & 35 & 61.3314 \\\\\n",
       "\t2 & 2 & 190 & 160 & 25 & 51.4862 \\\\\n",
       "\t3 & 2 & 120 & 170 & 35 & 50.337 \\\\\n",
       "\t4 & 2 & 210 & 120 & 30 & 55.7457 \\\\\n",
       "\t5 & 2 & 40 & 10 & 40 & 33.3784 \\\\\n",
       "\t6 & 2 & 210 & 150 & 55 & 53.0972 \\\\\n",
       "\t7 & 2 & 140 & 60 & 20 & 61.8401 \\\\\n",
       "\t8 & 2 & 60 & 100 & 20 & 49.4209 \\\\\n",
       "\t9 & 2 & 70 & 40 & 55 & 53.416 \\\\\n",
       "\t10 & 2 & 100 & 10 & 40 & 54.0573 \\\\\n",
       "\t11 & 2 & 200 & 180 & 50 & 49.9971 \\\\\n",
       "\t12 & 2 & 70 & 200 & 40 & 42.7777 \\\\\n",
       "\t13 & 2 & 200 & 70 & 25 & 61.0831 \\\\\n",
       "\t14 & 2 & 250 & 250 & 45 & 41.0306 \\\\\n",
       "\t15 & 2 & 50 & 120 & 35 & 44.7039 \\\\\n",
       "\t16 & 2 & 140 & 10 & 60 & 57.4871 \\\\\n",
       "\t17 & 2 & 220 & 140 & 50 & 53.8456 \\\\\n",
       "\t18 & 2 & 110 & 200 & 55 & 47.0266 \\\\\n",
       "\t19 & 2 & 60 & 60 & 55 & 51.517 \\\\\n",
       "\t20 & 2 & 220 & 90 & 55 & 58.3 \\\\\n",
       "\t21 & 2 & 210 & 140 & 60 & 53.7927 \\\\\n",
       "\t22 & 2 & 160 & 120 & 60 & 56.4064 \\\\\n",
       "\t23 & 2 & 90 & 220 & 60 & 43.643 \\\\\n",
       "\t24 & 2 & 150 & 90 & 40 & 59.3623 \\\\\n",
       "\t25 & 2 & 200 & 140 & 45 & 54.1342 \\\\\n",
       "\t26 & 2 & 20 & 40 & 60 & 11.0531 \\\\\n",
       "\t27 & 2 & 200 & 240 & 25 & 42.8667 \\\\\n",
       "\t28 & 2 & 50 & 210 & 50 & 38.6326 \\\\\n",
       "\t29 & 2 & 80 & 170 & 25 & 46.4924 \\\\\n",
       "\t30 & 2 & 200 & 200 & 60 & 47.986 \\\\\n",
       "\t$\\dots$ & $\\dots$ & $\\dots$ & $\\dots$ & $\\dots$ & $\\dots$ \\\\\n",
       "\\end{tabular}\n"
      ],
      "text/plain": [
       "5625×5 DataFrame\n",
       "│ Row  │ worker │ reorder_q │ reorder_point │ days  │ profit   │\n",
       "│      │ \u001b[90mInt64\u001b[39m  │ \u001b[90mInt64\u001b[39m     │ \u001b[90mInt64\u001b[39m         │ \u001b[90mInt64\u001b[39m │ \u001b[90mFloat64\u001b[39m  │\n",
       "├──────┼────────┼───────────┼───────────────┼───────┼──────────┤\n",
       "│ 1    │ 2      │ 160       │ 30            │ 35    │ 61.3314  │\n",
       "│ 2    │ 2      │ 190       │ 160           │ 25    │ 51.4862  │\n",
       "│ 3    │ 2      │ 120       │ 170           │ 35    │ 50.337   │\n",
       "│ 4    │ 2      │ 210       │ 120           │ 30    │ 55.7457  │\n",
       "│ 5    │ 2      │ 40        │ 10            │ 40    │ 33.3784  │\n",
       "│ 6    │ 2      │ 210       │ 150           │ 55    │ 53.0972  │\n",
       "│ 7    │ 2      │ 140       │ 60            │ 20    │ 61.8401  │\n",
       "│ 8    │ 2      │ 60        │ 100           │ 20    │ 49.4209  │\n",
       "│ 9    │ 2      │ 70        │ 40            │ 55    │ 53.416   │\n",
       "│ 10   │ 2      │ 100       │ 10            │ 40    │ 54.0573  │\n",
       "⋮\n",
       "│ 5615 │ 9      │ 150       │ 190           │ 45    │ 49.0349  │\n",
       "│ 5616 │ 9      │ 190       │ 230           │ 35    │ 44.8725  │\n",
       "│ 5617 │ 9      │ 10        │ 20            │ 45    │ -9.14801 │\n",
       "│ 5618 │ 9      │ 220       │ 110           │ 60    │ 56.8894  │\n",
       "│ 5619 │ 9      │ 10        │ 170           │ 60    │ -9.37165 │\n",
       "│ 5620 │ 9      │ 10        │ 120           │ 20    │ -8.04942 │\n",
       "│ 5621 │ 9      │ 50        │ 180           │ 35    │ 40.3416  │\n",
       "│ 5622 │ 9      │ 190       │ 30            │ 50    │ 61.4394  │\n",
       "│ 5623 │ 9      │ 220       │ 50            │ 55    │ 61.1612  │\n",
       "│ 5624 │ 9      │ 220       │ 120           │ 25    │ 56.2579  │\n",
       "│ 5625 │ 9      │ 80        │ 40            │ 20    │ 57.039   │"
      ]
     },
     "execution_count": 10,
     "metadata": {},
     "output_type": "execute_result"
    }
   ],
   "source": [
    "res = @distributed (append!) for s in sweep\n",
    "    rng = deepcopy(rngs[myid()])\n",
    "    profit = 0.0\n",
    "    for sim in 1:10000\n",
    "        profit += sim_inventory(s[1], s[2], days=s[3], rng=rng)\n",
    "    end\n",
    "    DataFrame(worker=myid(), reorder_q=s[1], reorder_point=s[2],\n",
    "           days=s[3], profit=profit/10000)\n",
    "end"
   ]
  },
  {
   "cell_type": "code",
   "execution_count": 11,
   "metadata": {},
   "outputs": [
    {
     "data": {
      "text/html": [
       "<table class=\"data-frame\"><thead><tr><th></th><th>worker</th><th>reorder_q</th><th>reorder_point</th><th>days</th><th>profit</th></tr><tr><th></th><th>Int64</th><th>Int64</th><th>Int64</th><th>Int64</th><th>Float64</th></tr></thead><tbody><p>9 rows × 5 columns</p><tr><th>1</th><td>5</td><td>210</td><td>30</td><td>20</td><td>63.7809</td></tr><tr><th>2</th><td>9</td><td>170</td><td>40</td><td>25</td><td>62.8526</td></tr><tr><th>3</th><td>5</td><td>210</td><td>40</td><td>30</td><td>62.5125</td></tr><tr><th>4</th><td>9</td><td>180</td><td>40</td><td>35</td><td>62.3673</td></tr><tr><th>5</th><td>6</td><td>200</td><td>40</td><td>40</td><td>61.9569</td></tr><tr><th>6</th><td>2</td><td>180</td><td>40</td><td>45</td><td>61.8942</td></tr><tr><th>7</th><td>8</td><td>170</td><td>40</td><td>50</td><td>61.738</td></tr><tr><th>8</th><td>9</td><td>180</td><td>40</td><td>55</td><td>61.6621</td></tr><tr><th>9</th><td>7</td><td>170</td><td>40</td><td>60</td><td>61.5416</td></tr></tbody></table>"
      ],
      "text/latex": [
       "\\begin{tabular}{r|ccccc}\n",
       "\t& worker & reorder\\_q & reorder\\_point & days & profit\\\\\n",
       "\t\\hline\n",
       "\t& Int64 & Int64 & Int64 & Int64 & Float64\\\\\n",
       "\t\\hline\n",
       "\t1 & 5 & 210 & 30 & 20 & 63.7809 \\\\\n",
       "\t2 & 9 & 170 & 40 & 25 & 62.8526 \\\\\n",
       "\t3 & 5 & 210 & 40 & 30 & 62.5125 \\\\\n",
       "\t4 & 9 & 180 & 40 & 35 & 62.3673 \\\\\n",
       "\t5 & 6 & 200 & 40 & 40 & 61.9569 \\\\\n",
       "\t6 & 2 & 180 & 40 & 45 & 61.8942 \\\\\n",
       "\t7 & 8 & 170 & 40 & 50 & 61.738 \\\\\n",
       "\t8 & 9 & 180 & 40 & 55 & 61.6621 \\\\\n",
       "\t9 & 7 & 170 & 40 & 60 & 61.5416 \\\\\n",
       "\\end{tabular}\n"
      ],
      "text/plain": [
       "9×5 DataFrame\n",
       "│ Row │ worker │ reorder_q │ reorder_point │ days  │ profit  │\n",
       "│     │ \u001b[90mInt64\u001b[39m  │ \u001b[90mInt64\u001b[39m     │ \u001b[90mInt64\u001b[39m         │ \u001b[90mInt64\u001b[39m │ \u001b[90mFloat64\u001b[39m │\n",
       "├─────┼────────┼───────────┼───────────────┼───────┼─────────┤\n",
       "│ 1   │ 5      │ 210       │ 30            │ 20    │ 63.7809 │\n",
       "│ 2   │ 9      │ 170       │ 40            │ 25    │ 62.8526 │\n",
       "│ 3   │ 5      │ 210       │ 40            │ 30    │ 62.5125 │\n",
       "│ 4   │ 9      │ 180       │ 40            │ 35    │ 62.3673 │\n",
       "│ 5   │ 6      │ 200       │ 40            │ 40    │ 61.9569 │\n",
       "│ 6   │ 2      │ 180       │ 40            │ 45    │ 61.8942 │\n",
       "│ 7   │ 8      │ 170       │ 40            │ 50    │ 61.738  │\n",
       "│ 8   │ 9      │ 180       │ 40            │ 55    │ 61.6621 │\n",
       "│ 9   │ 7      │ 170       │ 40            │ 60    │ 61.5416 │"
      ]
     },
     "execution_count": 11,
     "metadata": {},
     "output_type": "execute_result"
    }
   ],
   "source": [
    "DataFrame([sdf[argmax(sdf.profit), :] for sdf in groupby(res, :days, sort=true)])"
   ]
  },
  {
   "cell_type": "code",
   "execution_count": null,
   "metadata": {},
   "outputs": [],
   "source": []
  }
 ],
 "metadata": {
  "@webio": {
   "lastCommId": null,
   "lastKernelId": null
  },
  "kernelspec": {
   "display_name": "Julia 1.2.0",
   "language": "julia",
   "name": "julia-1.2"
  },
  "language_info": {
   "file_extension": ".jl",
   "mimetype": "application/julia",
   "name": "julia",
   "version": "1.2.0"
  }
 },
 "nbformat": 4,
 "nbformat_minor": 1
}

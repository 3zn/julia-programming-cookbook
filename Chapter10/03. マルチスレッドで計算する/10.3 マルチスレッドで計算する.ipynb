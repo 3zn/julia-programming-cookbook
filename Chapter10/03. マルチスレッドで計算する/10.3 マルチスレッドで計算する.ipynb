{
 "cells": [
  {
   "cell_type": "code",
   "execution_count": 1,
   "metadata": {},
   "outputs": [],
   "source": [
    "using DataFrames, BenchmarkTools, Random, Statistics"
   ]
  },
  {
   "cell_type": "code",
   "execution_count": 2,
   "metadata": {},
   "outputs": [
    {
     "data": {
      "text/plain": [
       "2"
      ]
     },
     "execution_count": 2,
     "metadata": {},
     "output_type": "execute_result"
    }
   ],
   "source": [
    "Threads.nthreads()"
   ]
  },
  {
   "cell_type": "code",
   "execution_count": 3,
   "metadata": {},
   "outputs": [],
   "source": [
    "Random.seed!(0);\n",
    "N = 100_000;\n",
    "const data = DataFrame(rowtype=rand(1:12, N));\n",
    "data.x1 = data.rowtype .* randn(N);"
   ]
  },
  {
   "cell_type": "code",
   "execution_count": 4,
   "metadata": {},
   "outputs": [
    {
     "data": {
      "text/html": [
       "<table class=\"data-frame\"><thead><tr><th></th><th>rowtype</th><th>x1</th></tr><tr><th></th><th>Int64</th><th>Float64</th></tr></thead><tbody><p>5 rows × 2 columns</p><tr><th>1</th><td>1</td><td>-0.298115</td></tr><tr><th>2</th><td>3</td><td>-2.71766</td></tr><tr><th>3</th><td>10</td><td>-28.0064</td></tr><tr><th>4</th><td>6</td><td>4.39991</td></tr><tr><th>5</th><td>1</td><td>0.809952</td></tr></tbody></table>"
      ],
      "text/latex": [
       "\\begin{tabular}{r|cc}\n",
       "\t& rowtype & x1\\\\\n",
       "\t\\hline\n",
       "\t& Int64 & Float64\\\\\n",
       "\t\\hline\n",
       "\t1 & 1 & -0.298115 \\\\\n",
       "\t2 & 3 & -2.71766 \\\\\n",
       "\t3 & 10 & -28.0064 \\\\\n",
       "\t4 & 6 & 4.39991 \\\\\n",
       "\t5 & 1 & 0.809952 \\\\\n",
       "\\end{tabular}\n"
      ],
      "text/plain": [
       "5×2 DataFrame\n",
       "│ Row │ rowtype │ x1        │\n",
       "│     │ \u001b[90mInt64\u001b[39m   │ \u001b[90mFloat64\u001b[39m   │\n",
       "├─────┼─────────┼───────────┤\n",
       "│ 1   │ 1       │ -0.298115 │\n",
       "│ 2   │ 3       │ -2.71766  │\n",
       "│ 3   │ 10      │ -28.0064  │\n",
       "│ 4   │ 6       │ 4.39991   │\n",
       "│ 5   │ 1       │ 0.809952  │"
      ]
     },
     "execution_count": 4,
     "metadata": {},
     "output_type": "execute_result"
    }
   ],
   "source": [
    "first(data, 5)"
   ]
  },
  {
   "cell_type": "code",
   "execution_count": 5,
   "metadata": {},
   "outputs": [
    {
     "data": {
      "text/plain": [
       "stats (generic function with 1 method)"
      ]
     },
     "execution_count": 5,
     "metadata": {},
     "output_type": "execute_result"
    }
   ],
   "source": [
    "function stats(df)\n",
    "    m = MersenneTwister()\n",
    "    median_val = 0\n",
    "    for i in 1:100\n",
    "        median_val += median(rand(m, df.x1, nrow(df)))\n",
    "    end\n",
    "    return (rowtype=df.rowtype[1], n=nrow(df),\n",
    "            tid=Threads.threadid(), median=median_val / 100) \n",
    "end\n"
   ]
  },
  {
   "cell_type": "code",
   "execution_count": 6,
   "metadata": {},
   "outputs": [
    {
     "name": "stdout",
     "output_type": "stream",
     "text": [
      "  3.028538 seconds (10.75 M allocations: 684.714 MiB, 8.52% gc time)\n"
     ]
    },
    {
     "data": {
      "text/html": [
       "<table class=\"data-frame\"><thead><tr><th></th><th>rowtype</th><th>rowtype_1</th><th>n</th><th>tid</th><th>median</th></tr><tr><th></th><th>Int64</th><th>Int64</th><th>Int64</th><th>Int64</th><th>Float64</th></tr></thead><tbody><p>12 rows × 5 columns</p><tr><th>1</th><td>1</td><td>1</td><td>8384</td><td>1</td><td>-0.0187663</td></tr><tr><th>2</th><td>3</td><td>3</td><td>8316</td><td>1</td><td>-0.0252967</td></tr><tr><th>3</th><td>10</td><td>10</td><td>8425</td><td>1</td><td>0.0436726</td></tr><tr><th>4</th><td>6</td><td>6</td><td>8340</td><td>1</td><td>-0.000717997</td></tr><tr><th>5</th><td>11</td><td>11</td><td>8332</td><td>1</td><td>-0.0429839</td></tr><tr><th>6</th><td>4</td><td>4</td><td>8202</td><td>1</td><td>-0.0351851</td></tr><tr><th>7</th><td>9</td><td>9</td><td>8360</td><td>1</td><td>-0.0274824</td></tr><tr><th>8</th><td>8</td><td>8</td><td>8125</td><td>1</td><td>-0.200808</td></tr><tr><th>9</th><td>12</td><td>12</td><td>8456</td><td>1</td><td>0.103124</td></tr><tr><th>10</th><td>5</td><td>5</td><td>8417</td><td>1</td><td>-0.0601838</td></tr><tr><th>11</th><td>2</td><td>2</td><td>8316</td><td>1</td><td>0.0269767</td></tr><tr><th>12</th><td>7</td><td>7</td><td>8327</td><td>1</td><td>0.135012</td></tr></tbody></table>"
      ],
      "text/latex": [
       "\\begin{tabular}{r|ccccc}\n",
       "\t& rowtype & rowtype\\_1 & n & tid & median\\\\\n",
       "\t\\hline\n",
       "\t& Int64 & Int64 & Int64 & Int64 & Float64\\\\\n",
       "\t\\hline\n",
       "\t1 & 1 & 1 & 8384 & 1 & -0.0187663 \\\\\n",
       "\t2 & 3 & 3 & 8316 & 1 & -0.0252967 \\\\\n",
       "\t3 & 10 & 10 & 8425 & 1 & 0.0436726 \\\\\n",
       "\t4 & 6 & 6 & 8340 & 1 & -0.000717997 \\\\\n",
       "\t5 & 11 & 11 & 8332 & 1 & -0.0429839 \\\\\n",
       "\t6 & 4 & 4 & 8202 & 1 & -0.0351851 \\\\\n",
       "\t7 & 9 & 9 & 8360 & 1 & -0.0274824 \\\\\n",
       "\t8 & 8 & 8 & 8125 & 1 & -0.200808 \\\\\n",
       "\t9 & 12 & 12 & 8456 & 1 & 0.103124 \\\\\n",
       "\t10 & 5 & 5 & 8417 & 1 & -0.0601838 \\\\\n",
       "\t11 & 2 & 2 & 8316 & 1 & 0.0269767 \\\\\n",
       "\t12 & 7 & 7 & 8327 & 1 & 0.135012 \\\\\n",
       "\\end{tabular}\n"
      ],
      "text/plain": [
       "12×5 DataFrame\n",
       "│ Row │ rowtype │ rowtype_1 │ n     │ tid   │ median       │\n",
       "│     │ \u001b[90mInt64\u001b[39m   │ \u001b[90mInt64\u001b[39m     │ \u001b[90mInt64\u001b[39m │ \u001b[90mInt64\u001b[39m │ \u001b[90mFloat64\u001b[39m      │\n",
       "├─────┼─────────┼───────────┼───────┼───────┼──────────────┤\n",
       "│ 1   │ 1       │ 1         │ 8384  │ 1     │ -0.0187663   │\n",
       "│ 2   │ 3       │ 3         │ 8316  │ 1     │ -0.0252967   │\n",
       "│ 3   │ 10      │ 10        │ 8425  │ 1     │ 0.0436726    │\n",
       "│ 4   │ 6       │ 6         │ 8340  │ 1     │ -0.000717997 │\n",
       "│ 5   │ 11      │ 11        │ 8332  │ 1     │ -0.0429839   │\n",
       "│ 6   │ 4       │ 4         │ 8202  │ 1     │ -0.0351851   │\n",
       "│ 7   │ 9       │ 9         │ 8360  │ 1     │ -0.0274824   │\n",
       "│ 8   │ 8       │ 8         │ 8125  │ 1     │ -0.200808    │\n",
       "│ 9   │ 12      │ 12        │ 8456  │ 1     │ 0.103124     │\n",
       "│ 10  │ 5       │ 5         │ 8417  │ 1     │ -0.0601838   │\n",
       "│ 11  │ 2       │ 2         │ 8316  │ 1     │ 0.0269767    │\n",
       "│ 12  │ 7       │ 7         │ 8327  │ 1     │ 0.135012     │"
      ]
     },
     "execution_count": 6,
     "metadata": {},
     "output_type": "execute_result"
    }
   ],
   "source": [
    "@time by(data, :rowtype, stats)"
   ]
  },
  {
   "cell_type": "code",
   "execution_count": 7,
   "metadata": {},
   "outputs": [
    {
     "name": "stdout",
     "output_type": "stream",
     "text": [
      "  0.476513 seconds (13.85 k allocations: 157.342 MiB, 1.92% gc time)\n"
     ]
    }
   ],
   "source": [
    "@time by(data,:rowtype, stats);"
   ]
  },
  {
   "cell_type": "code",
   "execution_count": 8,
   "metadata": {},
   "outputs": [
    {
     "data": {
      "text/plain": [
       "threaded_by (generic function with 1 method)"
      ]
     },
     "execution_count": 8,
     "metadata": {},
     "output_type": "execute_result"
    }
   ],
   "source": [
    "function threaded_by(df::DataFrame, groupcol::Symbol, f::Function)\n",
    "    groups = groupby(df, groupcol)\n",
    "    f(view(groups[1], 1:2, :));      # 事前にコンパイルするために必要!\n",
    "    res = Vector{NamedTuple}(undef, length(groups))\n",
    "    Threads.@threads for g in 1:length(groups)\n",
    "        rv = f(groups[g])\n",
    "        res[g] = rv\n",
    "    end\n",
    "    DataFrame(rowtype=getfield.(res, groupcol), x1=res)\n",
    "end"
   ]
  },
  {
   "cell_type": "code",
   "execution_count": 9,
   "metadata": {},
   "outputs": [
    {
     "name": "stdout",
     "output_type": "stream",
     "text": [
      "  0.448821 seconds (555.41 k allocations: 184.903 MiB, 3.74% gc time)\n"
     ]
    },
    {
     "data": {
      "text/html": [
       "<table class=\"data-frame\"><thead><tr><th></th><th>rowtype</th><th>x1</th></tr><tr><th></th><th>Int64</th><th>NamedTup…</th></tr></thead><tbody><p>12 rows × 2 columns</p><tr><th>1</th><td>1</td><td>(rowtype = 1, n = 8384, tid = 1, median = -0.0183003)</td></tr><tr><th>2</th><td>3</td><td>(rowtype = 3, n = 8316, tid = 1, median = -0.0223301)</td></tr><tr><th>3</th><td>10</td><td>(rowtype = 10, n = 8425, tid = 1, median = 0.0532021)</td></tr><tr><th>4</th><td>6</td><td>(rowtype = 6, n = 8340, tid = 1, median = -0.00511231)</td></tr><tr><th>5</th><td>11</td><td>(rowtype = 11, n = 8332, tid = 1, median = -0.0316445)</td></tr><tr><th>6</th><td>4</td><td>(rowtype = 4, n = 8202, tid = 1, median = -0.0410587)</td></tr><tr><th>7</th><td>9</td><td>(rowtype = 9, n = 8360, tid = 2, median = -0.0264698)</td></tr><tr><th>8</th><td>8</td><td>(rowtype = 8, n = 8125, tid = 2, median = -0.173995)</td></tr><tr><th>9</th><td>12</td><td>(rowtype = 12, n = 8456, tid = 2, median = 0.0818977)</td></tr><tr><th>10</th><td>5</td><td>(rowtype = 5, n = 8417, tid = 2, median = -0.0600339)</td></tr><tr><th>11</th><td>2</td><td>(rowtype = 2, n = 8316, tid = 2, median = 0.025818)</td></tr><tr><th>12</th><td>7</td><td>(rowtype = 7, n = 8327, tid = 2, median = 0.117212)</td></tr></tbody></table>"
      ],
      "text/latex": [
       "\\begin{tabular}{r|cc}\n",
       "\t& rowtype & x1\\\\\n",
       "\t\\hline\n",
       "\t& Int64 & NamedTup…\\\\\n",
       "\t\\hline\n",
       "\t1 & 1 & (rowtype = 1, n = 8384, tid = 1, median = -0.0183003) \\\\\n",
       "\t2 & 3 & (rowtype = 3, n = 8316, tid = 1, median = -0.0223301) \\\\\n",
       "\t3 & 10 & (rowtype = 10, n = 8425, tid = 1, median = 0.0532021) \\\\\n",
       "\t4 & 6 & (rowtype = 6, n = 8340, tid = 1, median = -0.00511231) \\\\\n",
       "\t5 & 11 & (rowtype = 11, n = 8332, tid = 1, median = -0.0316445) \\\\\n",
       "\t6 & 4 & (rowtype = 4, n = 8202, tid = 1, median = -0.0410587) \\\\\n",
       "\t7 & 9 & (rowtype = 9, n = 8360, tid = 2, median = -0.0264698) \\\\\n",
       "\t8 & 8 & (rowtype = 8, n = 8125, tid = 2, median = -0.173995) \\\\\n",
       "\t9 & 12 & (rowtype = 12, n = 8456, tid = 2, median = 0.0818977) \\\\\n",
       "\t10 & 5 & (rowtype = 5, n = 8417, tid = 2, median = -0.0600339) \\\\\n",
       "\t11 & 2 & (rowtype = 2, n = 8316, tid = 2, median = 0.025818) \\\\\n",
       "\t12 & 7 & (rowtype = 7, n = 8327, tid = 2, median = 0.117212) \\\\\n",
       "\\end{tabular}\n"
      ],
      "text/plain": [
       "12×2 DataFrame\n",
       "│ Row │ rowtype │ x1                                                     │\n",
       "│     │ \u001b[90mInt64\u001b[39m   │ \u001b[90mNamedTuple\u001b[39m                                             │\n",
       "├─────┼─────────┼────────────────────────────────────────────────────────┤\n",
       "│ 1   │ 1       │ (rowtype = 1, n = 8384, tid = 1, median = -0.0183003)  │\n",
       "│ 2   │ 3       │ (rowtype = 3, n = 8316, tid = 1, median = -0.0223301)  │\n",
       "│ 3   │ 10      │ (rowtype = 10, n = 8425, tid = 1, median = 0.0532021)  │\n",
       "│ 4   │ 6       │ (rowtype = 6, n = 8340, tid = 1, median = -0.00511231) │\n",
       "│ 5   │ 11      │ (rowtype = 11, n = 8332, tid = 1, median = -0.0316445) │\n",
       "│ 6   │ 4       │ (rowtype = 4, n = 8202, tid = 1, median = -0.0410587)  │\n",
       "│ 7   │ 9       │ (rowtype = 9, n = 8360, tid = 2, median = -0.0264698)  │\n",
       "│ 8   │ 8       │ (rowtype = 8, n = 8125, tid = 2, median = -0.173995)   │\n",
       "│ 9   │ 12      │ (rowtype = 12, n = 8456, tid = 2, median = 0.0818977)  │\n",
       "│ 10  │ 5       │ (rowtype = 5, n = 8417, tid = 2, median = -0.0600339)  │\n",
       "│ 11  │ 2       │ (rowtype = 2, n = 8316, tid = 2, median = 0.025818)    │\n",
       "│ 12  │ 7       │ (rowtype = 7, n = 8327, tid = 2, median = 0.117212)    │"
      ]
     },
     "execution_count": 9,
     "metadata": {},
     "output_type": "execute_result"
    }
   ],
   "source": [
    "@time threaded_by(data, :rowtype, stats)"
   ]
  },
  {
   "cell_type": "code",
   "execution_count": 10,
   "metadata": {},
   "outputs": [
    {
     "name": "stdout",
     "output_type": "stream",
     "text": [
      "  0.282378 seconds (14.50 k allocations: 157.387 MiB, 3.53% gc time)\n"
     ]
    }
   ],
   "source": [
    "@time threaded_by(data, :rowtype, stats);"
   ]
  },
  {
   "cell_type": "code",
   "execution_count": 11,
   "metadata": {},
   "outputs": [
    {
     "data": {
      "text/plain": [
       "2"
      ]
     },
     "execution_count": 11,
     "metadata": {},
     "output_type": "execute_result"
    }
   ],
   "source": [
    "Threads.nthreads()"
   ]
  },
  {
   "cell_type": "code",
   "execution_count": 12,
   "metadata": {},
   "outputs": [
    {
     "data": {
      "text/plain": [
       "503925"
      ]
     },
     "execution_count": 12,
     "metadata": {},
     "output_type": "execute_result"
    }
   ],
   "source": [
    "total = 0;\n",
    "Threads.@threads for i in 1:1_000_000\n",
    "    global total = total + 1\n",
    "end\n",
    "total"
   ]
  },
  {
   "cell_type": "code",
   "execution_count": 13,
   "metadata": {},
   "outputs": [
    {
     "data": {
      "text/plain": [
       "1000000"
      ]
     },
     "execution_count": 13,
     "metadata": {},
     "output_type": "execute_result"
    }
   ],
   "source": [
    "total2 = 0;\n",
    "s = Threads.SpinLock()\n",
    "Threads.@threads for i in 1:1_000_000\n",
    "    Threads.lock(s)\n",
    "    global total2 = total2+1\n",
    "    Threads.unlock(s)\n",
    "end\n",
    "total2"
   ]
  },
  {
   "cell_type": "code",
   "execution_count": null,
   "metadata": {
    "collapsed": true
   },
   "outputs": [],
   "source": []
  }
 ],
 "metadata": {
  "@webio": {
   "lastCommId": null,
   "lastKernelId": null
  },
  "kernelspec": {
   "display_name": "Julia 1.2.0",
   "language": "julia",
   "name": "julia-1.2"
  },
  "language_info": {
   "file_extension": ".jl",
   "mimetype": "application/julia",
   "name": "julia",
   "version": "1.2.0"
  }
 },
 "nbformat": 4,
 "nbformat_minor": 1
}

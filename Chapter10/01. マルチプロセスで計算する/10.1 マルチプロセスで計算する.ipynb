{
 "cells": [
  {
   "cell_type": "code",
   "execution_count": 1,
   "metadata": {},
   "outputs": [
    {
     "data": {
      "text/plain": [
       "1-element Array{Int64,1}:\n",
       " 2"
      ]
     },
     "execution_count": 1,
     "metadata": {},
     "output_type": "execute_result"
    }
   ],
   "source": [
    "using Distributed\n",
    "addprocs(1)"
   ]
  },
  {
   "cell_type": "code",
   "execution_count": 2,
   "metadata": {},
   "outputs": [
    {
     "data": {
      "text/plain": [
       "1"
      ]
     },
     "execution_count": 2,
     "metadata": {},
     "output_type": "execute_result"
    }
   ],
   "source": [
    "Distributed.myid()"
   ]
  },
  {
   "cell_type": "code",
   "execution_count": 3,
   "metadata": {},
   "outputs": [
    {
     "data": {
      "text/plain": [
       "1-element Array{Int64,1}:\n",
       " 2"
      ]
     },
     "execution_count": 3,
     "metadata": {},
     "output_type": "execute_result"
    }
   ],
   "source": [
    "workers()"
   ]
  },
  {
   "cell_type": "code",
   "execution_count": 4,
   "metadata": {},
   "outputs": [
    {
     "data": {
      "text/plain": [
       "Future(2, 1, 3, nothing)"
      ]
     },
     "execution_count": 4,
     "metadata": {},
     "output_type": "execute_result"
    }
   ],
   "source": [
    "res = @spawnat 2 myid()"
   ]
  },
  {
   "cell_type": "code",
   "execution_count": 5,
   "metadata": {},
   "outputs": [
    {
     "data": {
      "text/plain": [
       "2"
      ]
     },
     "execution_count": 5,
     "metadata": {},
     "output_type": "execute_result"
    }
   ],
   "source": [
    "fetch(res)"
   ]
  },
  {
   "cell_type": "code",
   "execution_count": 6,
   "metadata": {},
   "outputs": [
    {
     "data": {
      "text/plain": [
       "#5 (generic function with 2 methods)"
      ]
     },
     "execution_count": 6,
     "metadata": {},
     "output_type": "execute_result"
    }
   ],
   "source": [
    "remote_f= function(s::Int=3)\n",
    "    println(\"Worker $(myid()) will sleep for $s seconds\")\n",
    "    sleep(s)\n",
    "    val=rand(1:1000)\n",
    "    println(\"Completed worker $(myid()) - return $val\")\n",
    "    return val\n",
    "end"
   ]
  },
  {
   "cell_type": "code",
   "execution_count": 7,
   "metadata": {},
   "outputs": [
    {
     "name": "stdout",
     "output_type": "stream",
     "text": [
      "      From worker 2:\tWorker 2 will sleep for 4 seconds\n",
      "      From worker 2:\tCompleted worker 2 - return 123\n"
     ]
    },
    {
     "data": {
      "text/plain": [
       "123"
      ]
     },
     "execution_count": 7,
     "metadata": {},
     "output_type": "execute_result"
    }
   ],
   "source": [
    "@fetchfrom 2 remote_f(4)"
   ]
  },
  {
   "cell_type": "code",
   "execution_count": 8,
   "metadata": {},
   "outputs": [
    {
     "data": {
      "text/plain": [
       "run_timeout (generic function with 1 method)"
      ]
     },
     "execution_count": 8,
     "metadata": {},
     "output_type": "execute_result"
    }
   ],
   "source": [
    "function run_timeout(timeout::Int, f::Function, params...)    \n",
    "    wid = addprocs(1)[1]\n",
    "    result = RemoteChannel(()->Channel{Tuple}(1));\n",
    "    @spawnat wid put!(result, (f(params...), myid()))\n",
    "    res = nothing\n",
    "    time_elapsed = 0.0\n",
    "    while time_elapsed < timeout && !isready(result)\n",
    "        sleep(0.25)\n",
    "        time_elapsed += 0.25\n",
    "    end\n",
    "    if !isready(result)\n",
    "        println(\"Not completed! Computation at $wid will be terminated!\")  \n",
    "    else\n",
    "        res = take!(result)\n",
    "    end\n",
    "    rmprocs(wid);\n",
    "    return res\n",
    "end"
   ]
  },
  {
   "cell_type": "code",
   "execution_count": 9,
   "metadata": {},
   "outputs": [
    {
     "name": "stdout",
     "output_type": "stream",
     "text": [
      "      From worker 3:\tWorker 3 will sleep for 2 seconds\n",
      "      From worker 3:\tCompleted worker 3 - return 94\n"
     ]
    },
    {
     "data": {
      "text/plain": [
       "(94, 3)"
      ]
     },
     "execution_count": 9,
     "metadata": {},
     "output_type": "execute_result"
    }
   ],
   "source": [
    "run_timeout(3, remote_f, 2)"
   ]
  },
  {
   "cell_type": "code",
   "execution_count": 10,
   "metadata": {},
   "outputs": [
    {
     "name": "stdout",
     "output_type": "stream",
     "text": [
      "      From worker 4:\tWorker 4 will sleep for 10 seconds\n",
      "Not completed! Computation at 4 will be terminated!\n"
     ]
    }
   ],
   "source": [
    "run_timeout(3, remote_f, 10)"
   ]
  },
  {
   "cell_type": "code",
   "execution_count": 11,
   "metadata": {},
   "outputs": [
    {
     "data": {
      "text/plain": [
       "1-element Array{Int64,1}:\n",
       " 2"
      ]
     },
     "execution_count": 11,
     "metadata": {},
     "output_type": "execute_result"
    }
   ],
   "source": [
    "workers()"
   ]
  },
  {
   "cell_type": "code",
   "execution_count": null,
   "metadata": {},
   "outputs": [],
   "source": []
  },
  {
   "cell_type": "code",
   "execution_count": 12,
   "metadata": {},
   "outputs": [
    {
     "name": "stdout",
     "output_type": "stream",
     "text": [
      "      From worker 2:\tmyF2 2\n"
     ]
    }
   ],
   "source": [
    "using Distributed\n",
    "@everywhere function myF2(); println(\"myF2 \", myid()); end;\n",
    "@spawnat workers()[end] myF2();"
   ]
  },
  {
   "cell_type": "code",
   "execution_count": null,
   "metadata": {},
   "outputs": [],
   "source": []
  },
  {
   "cell_type": "code",
   "execution_count": 13,
   "metadata": {},
   "outputs": [],
   "source": [
    "hello() = println(\"hello\");"
   ]
  },
  {
   "cell_type": "code",
   "execution_count": 14,
   "metadata": {},
   "outputs": [
    {
     "ename": "RemoteException",
     "evalue": "On worker 2:\nUndefVarError: #hello not defined\ndeserialize_datatype at /buildworker/worker/package_linux64/build/usr/share/julia/stdlib/v1.2/Serialization/src/Serialization.jl:1186\nhandle_deserialize at /buildworker/worker/package_linux64/build/usr/share/julia/stdlib/v1.2/Serialization/src/Serialization.jl:775\ndeserialize at /buildworker/worker/package_linux64/build/usr/share/julia/stdlib/v1.2/Serialization/src/Serialization.jl:722\nhandle_deserialize at /buildworker/worker/package_linux64/build/usr/share/julia/stdlib/v1.2/Serialization/src/Serialization.jl:782\ndeserialize_global_from_main at /buildworker/worker/package_linux64/build/usr/share/julia/stdlib/v1.2/Serialization/src/Serialization.jl:722\n#5 at /buildworker/worker/package_linux64/build/usr/share/julia/stdlib/v1.2/Distributed/src/clusterserialize.jl:72 [inlined]\nforeach at ./abstractarray.jl:1920\ndeserialize at /buildworker/worker/package_linux64/build/usr/share/julia/stdlib/v1.2/Distributed/src/clusterserialize.jl:72\nhandle_deserialize at /buildworker/worker/package_linux64/build/usr/share/julia/stdlib/v1.2/Serialization/src/Serialization.jl:860\ndeserialize at /buildworker/worker/package_linux64/build/usr/share/julia/stdlib/v1.2/Serialization/src/Serialization.jl:722\nhandle_deserialize at /buildworker/worker/package_linux64/build/usr/share/julia/stdlib/v1.2/Serialization/src/Serialization.jl:779\ndeserialize at /buildworker/worker/package_linux64/build/usr/share/julia/stdlib/v1.2/Serialization/src/Serialization.jl:722\nhandle_deserialize at /buildworker/worker/package_linux64/build/usr/share/julia/stdlib/v1.2/Serialization/src/Serialization.jl:782\ndeserialize_msg at /buildworker/worker/package_linux64/build/usr/share/julia/stdlib/v1.2/Serialization/src/Serialization.jl:722\n#invokelatest#1 at ./essentials.jl:790 [inlined]\ninvokelatest at ./essentials.jl:789 [inlined]\nmessage_handler_loop at /buildworker/worker/package_linux64/build/usr/share/julia/stdlib/v1.2/Distributed/src/process_messages.jl:183\nprocess_tcp_streams at /buildworker/worker/package_linux64/build/usr/share/julia/stdlib/v1.2/Distributed/src/process_messages.jl:140\n#105 at ./task.jl:268",
     "output_type": "error",
     "traceback": [
      "On worker 2:\nUndefVarError: #hello not defined\ndeserialize_datatype at /buildworker/worker/package_linux64/build/usr/share/julia/stdlib/v1.2/Serialization/src/Serialization.jl:1186\nhandle_deserialize at /buildworker/worker/package_linux64/build/usr/share/julia/stdlib/v1.2/Serialization/src/Serialization.jl:775\ndeserialize at /buildworker/worker/package_linux64/build/usr/share/julia/stdlib/v1.2/Serialization/src/Serialization.jl:722\nhandle_deserialize at /buildworker/worker/package_linux64/build/usr/share/julia/stdlib/v1.2/Serialization/src/Serialization.jl:782\ndeserialize_global_from_main at /buildworker/worker/package_linux64/build/usr/share/julia/stdlib/v1.2/Serialization/src/Serialization.jl:722\n#5 at /buildworker/worker/package_linux64/build/usr/share/julia/stdlib/v1.2/Distributed/src/clusterserialize.jl:72 [inlined]\nforeach at ./abstractarray.jl:1920\ndeserialize at /buildworker/worker/package_linux64/build/usr/share/julia/stdlib/v1.2/Distributed/src/clusterserialize.jl:72\nhandle_deserialize at /buildworker/worker/package_linux64/build/usr/share/julia/stdlib/v1.2/Serialization/src/Serialization.jl:860\ndeserialize at /buildworker/worker/package_linux64/build/usr/share/julia/stdlib/v1.2/Serialization/src/Serialization.jl:722\nhandle_deserialize at /buildworker/worker/package_linux64/build/usr/share/julia/stdlib/v1.2/Serialization/src/Serialization.jl:779\ndeserialize at /buildworker/worker/package_linux64/build/usr/share/julia/stdlib/v1.2/Serialization/src/Serialization.jl:722\nhandle_deserialize at /buildworker/worker/package_linux64/build/usr/share/julia/stdlib/v1.2/Serialization/src/Serialization.jl:782\ndeserialize_msg at /buildworker/worker/package_linux64/build/usr/share/julia/stdlib/v1.2/Serialization/src/Serialization.jl:722\n#invokelatest#1 at ./essentials.jl:790 [inlined]\ninvokelatest at ./essentials.jl:789 [inlined]\nmessage_handler_loop at /buildworker/worker/package_linux64/build/usr/share/julia/stdlib/v1.2/Distributed/src/process_messages.jl:183\nprocess_tcp_streams at /buildworker/worker/package_linux64/build/usr/share/julia/stdlib/v1.2/Distributed/src/process_messages.jl:140\n#105 at ./task.jl:268",
      "",
      "Stacktrace:",
      " [1] #remotecall_fetch#149 at /buildworker/worker/package_linux64/build/usr/share/julia/stdlib/v1.2/Distributed/src/remotecall.jl:379 [inlined]",
      " [2] remotecall_fetch(::Function, ::Distributed.Worker) at /buildworker/worker/package_linux64/build/usr/share/julia/stdlib/v1.2/Distributed/src/remotecall.jl:371",
      " [3] #remotecall_fetch#152(::Base.Iterators.Pairs{Union{},Union{},Tuple{},NamedTuple{(),Tuple{}}}, ::typeof(remotecall_fetch), ::Function, ::Int64) at /buildworker/worker/package_linux64/build/usr/share/julia/stdlib/v1.2/Distributed/src/remotecall.jl:406",
      " [4] remotecall_fetch(::Function, ::Int64) at /buildworker/worker/package_linux64/build/usr/share/julia/stdlib/v1.2/Distributed/src/remotecall.jl:406",
      " [5] top-level scope at In[14]:1"
     ]
    }
   ],
   "source": [
    "@fetchfrom 2 hello()"
   ]
  },
  {
   "cell_type": "code",
   "execution_count": 15,
   "metadata": {},
   "outputs": [],
   "source": [
    "f_lambda = () -> hello();"
   ]
  },
  {
   "cell_type": "code",
   "execution_count": 16,
   "metadata": {},
   "outputs": [
    {
     "name": "stdout",
     "output_type": "stream",
     "text": [
      "hello\n"
     ]
    }
   ],
   "source": [
    "f_lambda()"
   ]
  },
  {
   "cell_type": "code",
   "execution_count": 17,
   "metadata": {},
   "outputs": [
    {
     "ename": "RemoteException",
     "evalue": "On worker 2:\nUndefVarError: #hello not defined\ndeserialize_datatype at /buildworker/worker/package_linux64/build/usr/share/julia/stdlib/v1.2/Serialization/src/Serialization.jl:1186\nhandle_deserialize at /buildworker/worker/package_linux64/build/usr/share/julia/stdlib/v1.2/Serialization/src/Serialization.jl:775\ndeserialize at /buildworker/worker/package_linux64/build/usr/share/julia/stdlib/v1.2/Serialization/src/Serialization.jl:722\nhandle_deserialize at /buildworker/worker/package_linux64/build/usr/share/julia/stdlib/v1.2/Serialization/src/Serialization.jl:782\ndeserialize_global_from_main at /buildworker/worker/package_linux64/build/usr/share/julia/stdlib/v1.2/Serialization/src/Serialization.jl:722\n#5 at /buildworker/worker/package_linux64/build/usr/share/julia/stdlib/v1.2/Distributed/src/clusterserialize.jl:72 [inlined]\nforeach at ./abstractarray.jl:1920\ndeserialize at /buildworker/worker/package_linux64/build/usr/share/julia/stdlib/v1.2/Distributed/src/clusterserialize.jl:72\nhandle_deserialize at /buildworker/worker/package_linux64/build/usr/share/julia/stdlib/v1.2/Serialization/src/Serialization.jl:860\ndeserialize at /buildworker/worker/package_linux64/build/usr/share/julia/stdlib/v1.2/Serialization/src/Serialization.jl:722\nhandle_deserialize at /buildworker/worker/package_linux64/build/usr/share/julia/stdlib/v1.2/Serialization/src/Serialization.jl:779\ndeserialize at /buildworker/worker/package_linux64/build/usr/share/julia/stdlib/v1.2/Serialization/src/Serialization.jl:722\nhandle_deserialize at /buildworker/worker/package_linux64/build/usr/share/julia/stdlib/v1.2/Serialization/src/Serialization.jl:782\ndeserialize_global_from_main at /buildworker/worker/package_linux64/build/usr/share/julia/stdlib/v1.2/Serialization/src/Serialization.jl:722\n#5 at /buildworker/worker/package_linux64/build/usr/share/julia/stdlib/v1.2/Distributed/src/clusterserialize.jl:72 [inlined]\nforeach at ./abstractarray.jl:1920\ndeserialize at /buildworker/worker/package_linux64/build/usr/share/julia/stdlib/v1.2/Distributed/src/clusterserialize.jl:72\nhandle_deserialize at /buildworker/worker/package_linux64/build/usr/share/julia/stdlib/v1.2/Serialization/src/Serialization.jl:860\ndeserialize at /buildworker/worker/package_linux64/build/usr/share/julia/stdlib/v1.2/Serialization/src/Serialization.jl:722\nhandle_deserialize at /buildworker/worker/package_linux64/build/usr/share/julia/stdlib/v1.2/Serialization/src/Serialization.jl:779\ndeserialize at /buildworker/worker/package_linux64/build/usr/share/julia/stdlib/v1.2/Serialization/src/Serialization.jl:722\nhandle_deserialize at /buildworker/worker/package_linux64/build/usr/share/julia/stdlib/v1.2/Serialization/src/Serialization.jl:782\ndeserialize_msg at /buildworker/worker/package_linux64/build/usr/share/julia/stdlib/v1.2/Serialization/src/Serialization.jl:722\n#invokelatest#1 at ./essentials.jl:790 [inlined]\ninvokelatest at ./essentials.jl:789 [inlined]\nmessage_handler_loop at /buildworker/worker/package_linux64/build/usr/share/julia/stdlib/v1.2/Distributed/src/process_messages.jl:183\nprocess_tcp_streams at /buildworker/worker/package_linux64/build/usr/share/julia/stdlib/v1.2/Distributed/src/process_messages.jl:140\n#105 at ./task.jl:268",
     "output_type": "error",
     "traceback": [
      "On worker 2:\nUndefVarError: #hello not defined\ndeserialize_datatype at /buildworker/worker/package_linux64/build/usr/share/julia/stdlib/v1.2/Serialization/src/Serialization.jl:1186\nhandle_deserialize at /buildworker/worker/package_linux64/build/usr/share/julia/stdlib/v1.2/Serialization/src/Serialization.jl:775\ndeserialize at /buildworker/worker/package_linux64/build/usr/share/julia/stdlib/v1.2/Serialization/src/Serialization.jl:722\nhandle_deserialize at /buildworker/worker/package_linux64/build/usr/share/julia/stdlib/v1.2/Serialization/src/Serialization.jl:782\ndeserialize_global_from_main at /buildworker/worker/package_linux64/build/usr/share/julia/stdlib/v1.2/Serialization/src/Serialization.jl:722\n#5 at /buildworker/worker/package_linux64/build/usr/share/julia/stdlib/v1.2/Distributed/src/clusterserialize.jl:72 [inlined]\nforeach at ./abstractarray.jl:1920\ndeserialize at /buildworker/worker/package_linux64/build/usr/share/julia/stdlib/v1.2/Distributed/src/clusterserialize.jl:72\nhandle_deserialize at /buildworker/worker/package_linux64/build/usr/share/julia/stdlib/v1.2/Serialization/src/Serialization.jl:860\ndeserialize at /buildworker/worker/package_linux64/build/usr/share/julia/stdlib/v1.2/Serialization/src/Serialization.jl:722\nhandle_deserialize at /buildworker/worker/package_linux64/build/usr/share/julia/stdlib/v1.2/Serialization/src/Serialization.jl:779\ndeserialize at /buildworker/worker/package_linux64/build/usr/share/julia/stdlib/v1.2/Serialization/src/Serialization.jl:722\nhandle_deserialize at /buildworker/worker/package_linux64/build/usr/share/julia/stdlib/v1.2/Serialization/src/Serialization.jl:782\ndeserialize_global_from_main at /buildworker/worker/package_linux64/build/usr/share/julia/stdlib/v1.2/Serialization/src/Serialization.jl:722\n#5 at /buildworker/worker/package_linux64/build/usr/share/julia/stdlib/v1.2/Distributed/src/clusterserialize.jl:72 [inlined]\nforeach at ./abstractarray.jl:1920\ndeserialize at /buildworker/worker/package_linux64/build/usr/share/julia/stdlib/v1.2/Distributed/src/clusterserialize.jl:72\nhandle_deserialize at /buildworker/worker/package_linux64/build/usr/share/julia/stdlib/v1.2/Serialization/src/Serialization.jl:860\ndeserialize at /buildworker/worker/package_linux64/build/usr/share/julia/stdlib/v1.2/Serialization/src/Serialization.jl:722\nhandle_deserialize at /buildworker/worker/package_linux64/build/usr/share/julia/stdlib/v1.2/Serialization/src/Serialization.jl:779\ndeserialize at /buildworker/worker/package_linux64/build/usr/share/julia/stdlib/v1.2/Serialization/src/Serialization.jl:722\nhandle_deserialize at /buildworker/worker/package_linux64/build/usr/share/julia/stdlib/v1.2/Serialization/src/Serialization.jl:782\ndeserialize_msg at /buildworker/worker/package_linux64/build/usr/share/julia/stdlib/v1.2/Serialization/src/Serialization.jl:722\n#invokelatest#1 at ./essentials.jl:790 [inlined]\ninvokelatest at ./essentials.jl:789 [inlined]\nmessage_handler_loop at /buildworker/worker/package_linux64/build/usr/share/julia/stdlib/v1.2/Distributed/src/process_messages.jl:183\nprocess_tcp_streams at /buildworker/worker/package_linux64/build/usr/share/julia/stdlib/v1.2/Distributed/src/process_messages.jl:140\n#105 at ./task.jl:268",
      "",
      "Stacktrace:",
      " [1] #remotecall_fetch#149 at /buildworker/worker/package_linux64/build/usr/share/julia/stdlib/v1.2/Distributed/src/remotecall.jl:379 [inlined]",
      " [2] remotecall_fetch(::Function, ::Distributed.Worker) at /buildworker/worker/package_linux64/build/usr/share/julia/stdlib/v1.2/Distributed/src/remotecall.jl:371",
      " [3] #remotecall_fetch#152(::Base.Iterators.Pairs{Union{},Union{},Tuple{},NamedTuple{(),Tuple{}}}, ::typeof(remotecall_fetch), ::Function, ::Int64) at /buildworker/worker/package_linux64/build/usr/share/julia/stdlib/v1.2/Distributed/src/remotecall.jl:406",
      " [4] remotecall_fetch(::Function, ::Int64) at /buildworker/worker/package_linux64/build/usr/share/julia/stdlib/v1.2/Distributed/src/remotecall.jl:406",
      " [5] top-level scope at In[17]:1"
     ]
    }
   ],
   "source": [
    "@fetchfrom 2 f_lambda()"
   ]
  },
  {
   "cell_type": "code",
   "execution_count": 18,
   "metadata": {},
   "outputs": [],
   "source": [
    "@everywhere hello() = println(\"hello\")"
   ]
  },
  {
   "cell_type": "code",
   "execution_count": 19,
   "metadata": {},
   "outputs": [
    {
     "name": "stdout",
     "output_type": "stream",
     "text": [
      "      From worker 2:\thello\n"
     ]
    }
   ],
   "source": [
    "@fetchfrom 2 f_lambda()"
   ]
  },
  {
   "cell_type": "code",
   "execution_count": null,
   "metadata": {},
   "outputs": [],
   "source": []
  },
  {
   "cell_type": "code",
   "execution_count": null,
   "metadata": {},
   "outputs": [],
   "source": []
  }
 ],
 "metadata": {
  "@webio": {
   "lastCommId": null,
   "lastKernelId": null
  },
  "kernelspec": {
   "display_name": "Julia 1.2.0",
   "language": "julia",
   "name": "julia-1.2"
  },
  "language_info": {
   "file_extension": ".jl",
   "mimetype": "application/julia",
   "name": "julia",
   "version": "1.2.0"
  }
 },
 "nbformat": 4,
 "nbformat_minor": 1
}

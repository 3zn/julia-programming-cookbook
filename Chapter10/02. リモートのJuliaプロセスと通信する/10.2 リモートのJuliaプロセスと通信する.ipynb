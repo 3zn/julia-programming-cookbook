{
 "cells": [
  {
   "cell_type": "code",
   "execution_count": 1,
   "metadata": {},
   "outputs": [
    {
     "name": "stdout",
     "output_type": "stream",
     "text": [
      "\u001b[32m\u001b[1m  Updating\u001b[22m\u001b[39m registry at `~/.julia/registries/General`\n",
      "\u001b[32m\u001b[1m  Updating\u001b[22m\u001b[39m git-repo `https://github.com/JuliaRegistries/General.git`\n",
      "\u001b[?25l\u001b[2K\u001b[?25h\u001b[32m\u001b[1m Resolving\u001b[22m\u001b[39m package versions...\n",
      "\u001b[32m\u001b[1m Installed\u001b[22m\u001b[39m ParallelDataTransfer ─ v0.5.0\n",
      "\u001b[32m\u001b[1m  Updating\u001b[22m\u001b[39m `~/.julia/environments/v1.2/Project.toml`\n",
      " \u001b[90m [2dcacdae]\u001b[39m\u001b[92m + ParallelDataTransfer v0.5.0\u001b[39m\n",
      "\u001b[32m\u001b[1m  Updating\u001b[22m\u001b[39m `~/.julia/environments/v1.2/Manifest.toml`\n",
      " \u001b[90m [2dcacdae]\u001b[39m\u001b[92m + ParallelDataTransfer v0.5.0\u001b[39m\n"
     ]
    }
   ],
   "source": [
    "#using Pkg; Pkg.add(\"ParallelDataTransfer\")"
   ]
  },
  {
   "cell_type": "code",
   "execution_count": 2,
   "metadata": {},
   "outputs": [
    {
     "data": {
      "text/plain": [
       "4-element Array{Int64,1}:\n",
       " 2\n",
       " 3\n",
       " 4\n",
       " 5"
      ]
     },
     "execution_count": 2,
     "metadata": {},
     "output_type": "execute_result"
    }
   ],
   "source": [
    "using Distributed\n",
    "Distributed.addprocs(4)"
   ]
  },
  {
   "cell_type": "code",
   "execution_count": 3,
   "metadata": {},
   "outputs": [
    {
     "data": {
      "text/plain": [
       "4"
      ]
     },
     "execution_count": 3,
     "metadata": {},
     "output_type": "execute_result"
    }
   ],
   "source": [
    "nworkers()"
   ]
  },
  {
   "cell_type": "code",
   "execution_count": 4,
   "metadata": {},
   "outputs": [
    {
     "name": "stderr",
     "output_type": "stream",
     "text": [
      "┌ Info: Precompiling ParallelDataTransfer [2dcacdae-9679-587a-88bb-8b444fb7085b]\n",
      "└ @ Base loading.jl:1242\n"
     ]
    }
   ],
   "source": [
    "using Distributed\n",
    "@everywhere using ParallelDataTransfer\n"
   ]
  },
  {
   "cell_type": "code",
   "execution_count": 5,
   "metadata": {},
   "outputs": [],
   "source": [
    "@everywhere function rule30(ca::Array{Bool})\n",
    "    lastv = ca[1]\n",
    "    for i in 2:(length(ca)-1)\n",
    "        current = ca[i]\n",
    "        ca[i] = xor(lastv, ca[i] || ca[i+1])\n",
    "        lastv = current\n",
    "    end\n",
    "end"
   ]
  },
  {
   "cell_type": "code",
   "execution_count": 6,
   "metadata": {},
   "outputs": [],
   "source": [
    "@everywhere function getsetborder(ca::Array{Bool},\n",
    "                                  neighbours::Tuple{Int64,Int64})\n",
    "   ca[1] = (@fetchfrom neighbours[1] caa[end-1])\n",
    "   ca[end] = (@fetchfrom neighbours[2] caa[2])\n",
    "end\n"
   ]
  },
  {
   "cell_type": "code",
   "execution_count": 7,
   "metadata": {},
   "outputs": [
    {
     "data": {
      "text/plain": [
       "printsimdist (generic function with 1 method)"
      ]
     },
     "execution_count": 7,
     "metadata": {},
     "output_type": "execute_result"
    }
   ],
   "source": [
    "function printsimdist(workers::Array{Int})\n",
    "    for w in workers\n",
    "        dat = @fetchfrom w caa\n",
    "        for b in dat[2:end-1]\n",
    "            print(b ? \"#\" : \" \")\n",
    "        end\n",
    "    end\n",
    "    println()\n",
    "end"
   ]
  },
  {
   "cell_type": "code",
   "execution_count": 8,
   "metadata": {},
   "outputs": [
    {
     "data": {
      "text/plain": [
       "runca (generic function with 1 method)"
      ]
     },
     "execution_count": 8,
     "metadata": {},
     "output_type": "execute_result"
    }
   ],
   "source": [
    "function runca(steps::Int, visualize::Bool)\n",
    "    @sync for w in workers()\n",
    "        @async @fetchfrom w fill!(caa, false)\n",
    "    end\n",
    "    @fetchfrom wks[Int(nwks/2)+1] caa[2]=true\n",
    "    visualize && printsimdist(workers())\n",
    "    for i in 1:steps\n",
    "        @sync for w in workers()\n",
    "            @async @fetchfrom w getsetborder(caa, neighbours)\n",
    "        end\n",
    "        @sync for w in workers()\n",
    "            @async @fetchfrom w rule30(caa)\n",
    "        end\n",
    "        visualize && printsimdist(workers())\n",
    "    end\n",
    "end"
   ]
  },
  {
   "cell_type": "code",
   "execution_count": 9,
   "metadata": {},
   "outputs": [],
   "source": [
    "wks = workers()\n",
    "nwks = length(wks)\n",
    "for i in 1:nwks\n",
    "    sendto(wks[i],neighbours=(i==1 ? wks[nwks] : wks[i-1],\n",
    "                              i==nwks ? wks[1] : wks[i+1]))\n",
    "    fetch(@defineat wks[i] const caa = zeros(Bool,15+2));\n",
    "end"
   ]
  },
  {
   "cell_type": "code",
   "execution_count": 10,
   "metadata": {},
   "outputs": [
    {
     "name": "stdout",
     "output_type": "stream",
     "text": [
      "                              #                             \n",
      "                             ###                            \n",
      "                            ##  #                           \n",
      "                           ## ####                          \n",
      "                          ##  #   #                         \n",
      "                         ## #### ###                        \n",
      "                        ##  #    #  #                       \n",
      "                       ## ####  ######                      \n",
      "                      ##  #   ###     #                     \n",
      "                     ## #### ##  #   ###                    \n",
      "                    ##  #    # #### ##  #                   \n",
      "                   ## ####  ## #    # ####                  \n",
      "                  ##  #   ###  ##  ## #   #                 \n",
      "                 ## #### ##  ### ###  ## ###                \n",
      "                ##  #    # ###   #  ###  #  #               \n",
      "               ## ####  ## #  # #####  #######              \n",
      "              ##  #   ###  #### #    ###      #             \n",
      "             ## #### ##  ###    ##  ##  #    ###            \n",
      "            ##  #    # ###  #  ## ### ####  ##  #           \n",
      "           ## ####  ## #  ######  #   #   ### ####          \n",
      "          ##  #   ###  ####     #### ### ##   #   #         \n"
     ]
    }
   ],
   "source": [
    "runca(20,true)"
   ]
  },
  {
   "cell_type": "code",
   "execution_count": null,
   "metadata": {
    "collapsed": true
   },
   "outputs": [],
   "source": []
  }
 ],
 "metadata": {
  "@webio": {
   "lastCommId": null,
   "lastKernelId": null
  },
  "kernelspec": {
   "display_name": "Julia 1.2.0",
   "language": "julia",
   "name": "julia-1.2"
  },
  "language_info": {
   "file_extension": ".jl",
   "mimetype": "application/julia",
   "name": "julia",
   "version": "1.2.0"
  }
 },
 "nbformat": 4,
 "nbformat_minor": 1
}

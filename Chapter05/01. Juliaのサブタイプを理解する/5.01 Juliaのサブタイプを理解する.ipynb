{
 "cells": [
  {
   "cell_type": "code",
   "execution_count": 1,
   "metadata": {},
   "outputs": [],
   "source": [
    "struct Point{T<:Integer, S<:AbstractString}\n",
    "    pos::Complex{T}\n",
    "    label::S \n",
    "end"
   ]
  },
  {
   "cell_type": "code",
   "execution_count": 2,
   "metadata": {},
   "outputs": [
    {
     "data": {
      "text/plain": [
       "Point"
      ]
     },
     "execution_count": 2,
     "metadata": {},
     "output_type": "execute_result"
    }
   ],
   "source": [
    "Point(x::T, y::T, label::S) where {T<:Integer, S<:AbstractString} = \n",
    "    Point{T,S}(Complex(x,y), label)\n"
   ]
  },
  {
   "cell_type": "code",
   "execution_count": 3,
   "metadata": {},
   "outputs": [
    {
     "data": {
      "text/plain": [
       "Point"
      ]
     },
     "execution_count": 3,
     "metadata": {},
     "output_type": "execute_result"
    }
   ],
   "source": [
    "Point(x, y, label) = Point(promote(Integer.((x,y))...)..., label)"
   ]
  },
  {
   "cell_type": "code",
   "execution_count": 4,
   "metadata": {},
   "outputs": [
    {
     "data": {
      "text/plain": [
       "Point{Int64,String}(1 + 0im, \"1\")"
      ]
     },
     "execution_count": 4,
     "metadata": {},
     "output_type": "execute_result"
    }
   ],
   "source": [
    "p1 = Point(1, 0, \"1\")"
   ]
  },
  {
   "cell_type": "code",
   "execution_count": 5,
   "metadata": {},
   "outputs": [
    {
     "data": {
      "text/plain": [
       "Point{Int64,SubString{String}}(1 + 0im, \"1\")"
      ]
     },
     "execution_count": 5,
     "metadata": {},
     "output_type": "execute_result"
    }
   ],
   "source": [
    "p2 = Point(1, 0, SubString(\"1\", 1))"
   ]
  },
  {
   "cell_type": "code",
   "execution_count": 6,
   "metadata": {},
   "outputs": [
    {
     "data": {
      "text/plain": [
       "Point{Bool,String}(Complex(true,false), \"1\")"
      ]
     },
     "execution_count": 6,
     "metadata": {},
     "output_type": "execute_result"
    }
   ],
   "source": [
    "p3 = Point(true, false, \"1\")"
   ]
  },
  {
   "cell_type": "code",
   "execution_count": 7,
   "metadata": {},
   "outputs": [
    {
     "data": {
      "text/plain": [
       "Point{Int64,String}(2 + 0im, \"2\")"
      ]
     },
     "execution_count": 7,
     "metadata": {},
     "output_type": "execute_result"
    }
   ],
   "source": [
    "p4 = Point(2, 0, \"2\")"
   ]
  },
  {
   "cell_type": "code",
   "execution_count": 8,
   "metadata": {},
   "outputs": [
    {
     "data": {
      "text/plain": [
       "4-element Array{Point,1}:\n",
       " Point{Int64,String}(1 + 0im, \"1\")           \n",
       " Point{Int64,SubString{String}}(1 + 0im, \"1\")\n",
       " Point{Bool,String}(Complex(true,false), \"1\")\n",
       " Point{Int64,String}(2 + 0im, \"2\")           "
      ]
     },
     "execution_count": 8,
     "metadata": {},
     "output_type": "execute_result"
    }
   ],
   "source": [
    "[p1, p2, p3, p4]"
   ]
  },
  {
   "cell_type": "code",
   "execution_count": 9,
   "metadata": {},
   "outputs": [
    {
     "data": {
      "text/plain": [
       "2-element Array{Point{Int64,S} where S<:AbstractString,1}:\n",
       " Point{Int64,String}(1 + 0im, \"1\")           \n",
       " Point{Int64,SubString{String}}(1 + 0im, \"1\")"
      ]
     },
     "execution_count": 9,
     "metadata": {},
     "output_type": "execute_result"
    }
   ],
   "source": [
    "[p1, p2]"
   ]
  },
  {
   "cell_type": "code",
   "execution_count": 10,
   "metadata": {},
   "outputs": [
    {
     "data": {
      "text/plain": [
       "2-element Array{Point{T,String} where T<:Integer,1}:\n",
       " Point{Int64,String}(1 + 0im, \"1\")           \n",
       " Point{Bool,String}(Complex(true,false), \"1\")"
      ]
     },
     "execution_count": 10,
     "metadata": {},
     "output_type": "execute_result"
    }
   ],
   "source": [
    "[p1, p3]"
   ]
  },
  {
   "cell_type": "code",
   "execution_count": 11,
   "metadata": {},
   "outputs": [
    {
     "data": {
      "text/plain": [
       "2-element Array{Point{Int64,String},1}:\n",
       " Point{Int64,String}(1 + 0im, \"1\")\n",
       " Point{Int64,String}(2 + 0im, \"2\")"
      ]
     },
     "execution_count": 11,
     "metadata": {},
     "output_type": "execute_result"
    }
   ],
   "source": [
    "[p1, p4]"
   ]
  },
  {
   "cell_type": "code",
   "execution_count": 12,
   "metadata": {},
   "outputs": [
    {
     "data": {
      "text/plain": [
       "sumpoint1 (generic function with 1 method)"
      ]
     },
     "execution_count": 12,
     "metadata": {},
     "output_type": "execute_result"
    }
   ],
   "source": [
    "sumpoint1(v::AbstractVector{Point}) =\n",
    "    Point(sum(p.pos for p in v), \"\")"
   ]
  },
  {
   "cell_type": "code",
   "execution_count": 13,
   "metadata": {},
   "outputs": [
    {
     "ename": "MethodError",
     "evalue": "MethodError: no method matching sumpoint1(::Array{Point{Int64,S} where S<:AbstractString,1})\nClosest candidates are:\n  sumpoint1(!Matched::AbstractArray{Point,1}) at In[12]:1",
     "output_type": "error",
     "traceback": [
      "MethodError: no method matching sumpoint1(::Array{Point{Int64,S} where S<:AbstractString,1})\nClosest candidates are:\n  sumpoint1(!Matched::AbstractArray{Point,1}) at In[12]:1",
      "",
      "Stacktrace:",
      " [1] top-level scope at In[13]:1"
     ]
    }
   ],
   "source": [
    "sumpoint1([p1, p2])"
   ]
  },
  {
   "cell_type": "code",
   "execution_count": 14,
   "metadata": {},
   "outputs": [
    {
     "data": {
      "text/plain": [
       "sumpoint2 (generic function with 1 method)"
      ]
     },
     "execution_count": 14,
     "metadata": {},
     "output_type": "execute_result"
    }
   ],
   "source": [
    "sumpoint2(v::AbstractVector{<:Point}) =\n",
    "    Point(sum(p.pos for p in v), \"\")\n"
   ]
  },
  {
   "cell_type": "code",
   "execution_count": 15,
   "metadata": {},
   "outputs": [
    {
     "data": {
      "text/plain": [
       "Point{Int64,String}(2 + 0im, \"\")"
      ]
     },
     "execution_count": 15,
     "metadata": {},
     "output_type": "execute_result"
    }
   ],
   "source": [
    "sumpoint2([p1, p2])"
   ]
  },
  {
   "cell_type": "code",
   "execution_count": 16,
   "metadata": {},
   "outputs": [
    {
     "data": {
      "text/plain": [
       "foo (generic function with 1 method)"
      ]
     },
     "execution_count": 16,
     "metadata": {},
     "output_type": "execute_result"
    }
   ],
   "source": [
    "foo(p::Point) = \"一般的な定義\""
   ]
  },
  {
   "cell_type": "code",
   "execution_count": 17,
   "metadata": {},
   "outputs": [
    {
     "data": {
      "text/plain": [
       "foo (generic function with 2 methods)"
      ]
     },
     "execution_count": 17,
     "metadata": {},
     "output_type": "execute_result"
    }
   ],
   "source": [
    "foo(p::Point{Int, <:AbstractString}) = \"Intが渡された際のデフォルト\""
   ]
  },
  {
   "cell_type": "code",
   "execution_count": 18,
   "metadata": {},
   "outputs": [
    {
     "data": {
      "text/plain": [
       "foo (generic function with 3 methods)"
      ]
     },
     "execution_count": 18,
     "metadata": {},
     "output_type": "execute_result"
    }
   ],
   "source": [
    "foo(p::Point{<:Integer, String}) = \"Stringが渡された際のデフォルト\""
   ]
  },
  {
   "cell_type": "code",
   "execution_count": 19,
   "metadata": {},
   "outputs": [
    {
     "data": {
      "text/plain": [
       "\"一般的な定義\""
      ]
     },
     "execution_count": 19,
     "metadata": {},
     "output_type": "execute_result"
    }
   ],
   "source": [
    "foo(Point(true, true, s\"12\"))"
   ]
  },
  {
   "cell_type": "code",
   "execution_count": 20,
   "metadata": {},
   "outputs": [
    {
     "data": {
      "text/plain": [
       "\"Intが渡された際のデフォルト\""
      ]
     },
     "execution_count": 20,
     "metadata": {},
     "output_type": "execute_result"
    }
   ],
   "source": [
    "foo(Point(1, 1, s\"12\"))"
   ]
  },
  {
   "cell_type": "code",
   "execution_count": 21,
   "metadata": {},
   "outputs": [
    {
     "ename": "MethodError",
     "evalue": "MethodError: foo(::Point{Int64,String}) is ambiguous. Candidates:\n  foo(p::Point{#s1,String} where #s1<:Integer) in Main at In[18]:1\n  foo(p::Point{Int64,#s1} where #s1<:AbstractString) in Main at In[17]:1\nPossible fix, define\n  foo(::Point{Int64,String})",
     "output_type": "error",
     "traceback": [
      "MethodError: foo(::Point{Int64,String}) is ambiguous. Candidates:\n  foo(p::Point{#s1,String} where #s1<:Integer) in Main at In[18]:1\n  foo(p::Point{Int64,#s1} where #s1<:AbstractString) in Main at In[17]:1\nPossible fix, define\n  foo(::Point{Int64,String})",
      "",
      "Stacktrace:",
      " [1] top-level scope at In[21]:1"
     ]
    }
   ],
   "source": [
    "foo(Point(1, 1, \"12\"))"
   ]
  },
  {
   "cell_type": "code",
   "execution_count": 22,
   "metadata": {},
   "outputs": [
    {
     "data": {
      "text/plain": [
       "foo (generic function with 4 methods)"
      ]
     },
     "execution_count": 22,
     "metadata": {},
     "output_type": "execute_result"
    }
   ],
   "source": [
    "foo(p::Point{Int, String}) = \"厳密に型を指定したメソッド\""
   ]
  },
  {
   "cell_type": "code",
   "execution_count": 23,
   "metadata": {},
   "outputs": [
    {
     "data": {
      "text/plain": [
       "\"厳密に型を指定したメソッド\""
      ]
     },
     "execution_count": 23,
     "metadata": {},
     "output_type": "execute_result"
    }
   ],
   "source": [
    "foo(Point(1, 1, \"12\"))"
   ]
  },
  {
   "cell_type": "code",
   "execution_count": 24,
   "metadata": {},
   "outputs": [
    {
     "ename": "MethodError",
     "evalue": "MethodError: Cannot `convert` an object of type Point{Int64,SubString{String}} to an object of type Point{Int64,String}\nClosest candidates are:\n  convert(::Type{T}, !Matched::T) where T at essentials.jl:167\n  Point{Int64,String}(::Any, !Matched::Any) where {T<:Integer, S<:AbstractString} at In[1]:2",
     "output_type": "error",
     "traceback": [
      "MethodError: Cannot `convert` an object of type Point{Int64,SubString{String}} to an object of type Point{Int64,String}\nClosest candidates are:\n  convert(::Type{T}, !Matched::T) where T at essentials.jl:167\n  Point{Int64,String}(::Any, !Matched::Any) where {T<:Integer, S<:AbstractString} at In[1]:2",
      "",
      "Stacktrace:",
      " [1] push!(::Array{Point{Int64,String},1}, ::Point{Int64,SubString{String}}) at ./array.jl:852",
      " [2] top-level scope at In[24]:1"
     ]
    }
   ],
   "source": [
    " push!([p1], p2)"
   ]
  },
  {
   "cell_type": "code",
   "execution_count": 25,
   "metadata": {},
   "outputs": [
    {
     "data": {
      "text/plain": [
       "2-element Array{Point,1}:\n",
       " Point{Int64,String}(1 + 0im, \"1\")           \n",
       " Point{Int64,SubString{String}}(1 + 0im, \"1\")"
      ]
     },
     "execution_count": 25,
     "metadata": {},
     "output_type": "execute_result"
    }
   ],
   "source": [
    "push!(Point[p1], p2)\n"
   ]
  },
  {
   "cell_type": "code",
   "execution_count": 26,
   "metadata": {},
   "outputs": [
    {
     "data": {
      "text/plain": [
       "true"
      ]
     },
     "execution_count": 26,
     "metadata": {},
     "output_type": "execute_result"
    }
   ],
   "source": [
    "Int <: Integer"
   ]
  },
  {
   "cell_type": "code",
   "execution_count": 27,
   "metadata": {},
   "outputs": [
    {
     "data": {
      "text/plain": [
       "false"
      ]
     },
     "execution_count": 27,
     "metadata": {},
     "output_type": "execute_result"
    }
   ],
   "source": [
    "Point{Int, String} <: Point{Integer, String}"
   ]
  },
  {
   "cell_type": "code",
   "execution_count": 28,
   "metadata": {},
   "outputs": [
    {
     "data": {
      "text/plain": [
       "true"
      ]
     },
     "execution_count": 28,
     "metadata": {},
     "output_type": "execute_result"
    }
   ],
   "source": [
    "Point{Int, String} <: Point{<:Integer, String}\n"
   ]
  },
  {
   "cell_type": "code",
   "execution_count": 29,
   "metadata": {},
   "outputs": [
    {
     "data": {
      "text/plain": [
       "true"
      ]
     },
     "execution_count": 29,
     "metadata": {},
     "output_type": "execute_result"
    }
   ],
   "source": [
    "Point{Int, String} <: Point{T, String} where T<:Integer"
   ]
  },
  {
   "cell_type": "code",
   "execution_count": 30,
   "metadata": {},
   "outputs": [
    {
     "data": {
      "text/plain": [
       "Point{Int64,S} where S<:AbstractString"
      ]
     },
     "execution_count": 30,
     "metadata": {},
     "output_type": "execute_result"
    }
   ],
   "source": [
    "Point{Int}"
   ]
  },
  {
   "cell_type": "code",
   "execution_count": 31,
   "metadata": {},
   "outputs": [
    {
     "data": {
      "text/plain": [
       "Point{#s1,String} where #s1<:Signed"
      ]
     },
     "execution_count": 31,
     "metadata": {},
     "output_type": "execute_result"
    }
   ],
   "source": [
    "Point{<:Signed, String}\n"
   ]
  },
  {
   "cell_type": "code",
   "execution_count": 32,
   "metadata": {},
   "outputs": [
    {
     "data": {
      "text/plain": [
       "Point{Int64,String}"
      ]
     },
     "execution_count": 32,
     "metadata": {},
     "output_type": "execute_result"
    }
   ],
   "source": [
    "Point{Int}{String}"
   ]
  },
  {
   "cell_type": "code",
   "execution_count": 33,
   "metadata": {},
   "outputs": [
    {
     "data": {
      "text/plain": [
       "Point{Int64,String}"
      ]
     },
     "execution_count": 33,
     "metadata": {},
     "output_type": "execute_result"
    }
   ],
   "source": [
    "Point{Int, String}"
   ]
  },
  {
   "cell_type": "code",
   "execution_count": 34,
   "metadata": {},
   "outputs": [
    {
     "data": {
      "text/plain": [
       "Point{Int64,String}(2 + 0im, \"\")"
      ]
     },
     "execution_count": 34,
     "metadata": {},
     "output_type": "execute_result"
    }
   ],
   "source": [
    "sumpoint1(Point[p1, p2])"
   ]
  },
  {
   "cell_type": "code",
   "execution_count": 35,
   "metadata": {},
   "outputs": [
    {
     "data": {
      "text/html": [
       "4 methods for generic function <b>foo</b>:<ul><li> foo(p::<b>Point{Int64,String}</b>) in Main at In[22]:1</li> <li> foo(p::<b>Point{Int64,#s1} where #s1<:AbstractString</b>) in Main at In[17]:1</li> <li> foo(p::<b>Point{#s1,String} where #s1<:Integer</b>) in Main at In[18]:1</li> <li> foo(p::<b>Point</b>) in Main at In[16]:1</li> </ul>"
      ],
      "text/plain": [
       "# 4 methods for generic function \"foo\":\n",
       "[1] foo(p::Point{Int64,String}) in Main at In[22]:1\n",
       "[2] foo(p::Point{Int64,#s1} where #s1<:AbstractString) in Main at In[17]:1\n",
       "[3] foo(p::Point{#s1,String} where #s1<:Integer) in Main at In[18]:1\n",
       "[4] foo(p::Point) in Main at In[16]:1"
      ]
     },
     "execution_count": 35,
     "metadata": {},
     "output_type": "execute_result"
    }
   ],
   "source": [
    "methods(foo)"
   ]
  },
  {
   "cell_type": "code",
   "execution_count": 36,
   "metadata": {},
   "outputs": [
    {
     "data": {
      "text/plain": [
       "true"
      ]
     },
     "execution_count": 36,
     "metadata": {},
     "output_type": "execute_result"
    }
   ],
   "source": [
    "Tuple{Point{Int, String}, Point{Bool, SubString{String}}} <: Tuple{Point{Int}, Point}"
   ]
  },
  {
   "cell_type": "code",
   "execution_count": 37,
   "metadata": {},
   "outputs": [
    {
     "data": {
      "text/plain": [
       "sumpoint_tuple (generic function with 1 method)"
      ]
     },
     "execution_count": 37,
     "metadata": {},
     "output_type": "execute_result"
    }
   ],
   "source": [
    "sumpoint_tuple(v::Tuple{Vararg{Point}}) =\n",
    "              Point(sum(p.pos for p in v), \"\")"
   ]
  },
  {
   "cell_type": "code",
   "execution_count": 38,
   "metadata": {},
   "outputs": [
    {
     "data": {
      "text/plain": [
       "Point{Int64,String}(3 + 0im, \"\")"
      ]
     },
     "execution_count": 38,
     "metadata": {},
     "output_type": "execute_result"
    }
   ],
   "source": [
    "sumpoint_tuple((p1, p2, p3))"
   ]
  },
  {
   "cell_type": "code",
   "execution_count": null,
   "metadata": {},
   "outputs": [],
   "source": []
  }
 ],
 "metadata": {
  "kernelspec": {
   "display_name": "Julia 1.2.0",
   "language": "julia",
   "name": "julia-1.2"
  },
  "language_info": {
   "file_extension": ".jl",
   "mimetype": "application/julia",
   "name": "julia",
   "version": "1.2.0"
  }
 },
 "nbformat": 4,
 "nbformat_minor": 1
}

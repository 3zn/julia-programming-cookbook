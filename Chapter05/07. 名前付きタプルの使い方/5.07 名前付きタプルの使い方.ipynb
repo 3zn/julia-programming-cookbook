{
 "cells": [
  {
   "cell_type": "code",
   "execution_count": 1,
   "metadata": {},
   "outputs": [
    {
     "data": {
      "text/plain": [
       "(a = 1.0, b = 2)"
      ]
     },
     "execution_count": 1,
     "metadata": {},
     "output_type": "execute_result"
    }
   ],
   "source": [
    "t1 = (1, 2)\n",
    "t2 = (1.0, 2)\n",
    "nt1 = (a=1, b=2)\n",
    "nt2 = (a=1.0, b=2)"
   ]
  },
  {
   "cell_type": "code",
   "execution_count": 2,
   "metadata": {},
   "outputs": [
    {
     "data": {
      "text/plain": [
       "true"
      ]
     },
     "execution_count": 2,
     "metadata": {},
     "output_type": "execute_result"
    }
   ],
   "source": [
    "t1 isa Tuple{Real, Int}"
   ]
  },
  {
   "cell_type": "code",
   "execution_count": 3,
   "metadata": {},
   "outputs": [
    {
     "data": {
      "text/plain": [
       "true"
      ]
     },
     "execution_count": 3,
     "metadata": {},
     "output_type": "execute_result"
    }
   ],
   "source": [
    "t2 isa Tuple{Real, Int}"
   ]
  },
  {
   "cell_type": "code",
   "execution_count": 4,
   "metadata": {},
   "outputs": [
    {
     "data": {
      "text/plain": [
       "false"
      ]
     },
     "execution_count": 4,
     "metadata": {},
     "output_type": "execute_result"
    }
   ],
   "source": [
    "nt1 isa NamedTuple{(:a, :b), Tuple{Real,Int64}}"
   ]
  },
  {
   "cell_type": "code",
   "execution_count": 5,
   "metadata": {},
   "outputs": [
    {
     "data": {
      "text/plain": [
       "false"
      ]
     },
     "execution_count": 5,
     "metadata": {},
     "output_type": "execute_result"
    }
   ],
   "source": [
    "nt2 isa NamedTuple{(:a, :b), Tuple{Real,Int64}}"
   ]
  },
  {
   "cell_type": "code",
   "execution_count": 6,
   "metadata": {},
   "outputs": [
    {
     "data": {
      "text/plain": [
       "true"
      ]
     },
     "execution_count": 6,
     "metadata": {},
     "output_type": "execute_result"
    }
   ],
   "source": [
    "nt1 isa NamedTuple{(:a, :b), Tuple{T,Int64}} where T<:Real"
   ]
  },
  {
   "cell_type": "code",
   "execution_count": 7,
   "metadata": {},
   "outputs": [
    {
     "data": {
      "text/plain": [
       "true"
      ]
     },
     "execution_count": 7,
     "metadata": {},
     "output_type": "execute_result"
    }
   ],
   "source": [
    "nt2 isa NamedTuple{(:a, :b), Tuple{T,Int64}} where T<:Real"
   ]
  },
  {
   "cell_type": "markdown",
   "metadata": {},
   "source": [
    "## 説明しよう"
   ]
  },
  {
   "cell_type": "code",
   "execution_count": 8,
   "metadata": {},
   "outputs": [
    {
     "data": {
      "text/plain": [
       "2-element Array{Tuple{Real,Int64},1}:\n",
       " (1, 2)  \n",
       " (1.0, 2)"
      ]
     },
     "execution_count": 8,
     "metadata": {},
     "output_type": "execute_result"
    }
   ],
   "source": [
    "[t1, t2]"
   ]
  },
  {
   "cell_type": "code",
   "execution_count": 9,
   "metadata": {},
   "outputs": [
    {
     "data": {
      "text/plain": [
       "2-element Array{NamedTuple{(:a, :b),T} where T<:Tuple,1}:\n",
       " (a = 1, b = 2)  \n",
       " (a = 1.0, b = 2)"
      ]
     },
     "execution_count": 9,
     "metadata": {},
     "output_type": "execute_result"
    }
   ],
   "source": [
    "[nt1, nt2]"
   ]
  },
  {
   "cell_type": "markdown",
   "metadata": {},
   "source": [
    "## もう少し解説しよう"
   ]
  },
  {
   "cell_type": "code",
   "execution_count": 10,
   "metadata": {},
   "outputs": [
    {
     "data": {
      "text/plain": [
       "foo (generic function with 1 method)"
      ]
     },
     "execution_count": 10,
     "metadata": {},
     "output_type": "execute_result"
    }
   ],
   "source": [
    "foo(x; y::Integer) = (x, y)"
   ]
  },
  {
   "cell_type": "code",
   "execution_count": 11,
   "metadata": {},
   "outputs": [
    {
     "data": {
      "text/plain": [
       "CodeInfo(\n",
       "\u001b[90m1 ──\u001b[39m %1  = Base.haskey(@_2, :y)\n",
       "\u001b[90m└───\u001b[39m       goto #6 if not %1\n",
       "\u001b[90m2 ──\u001b[39m %3  = Base.getindex(@_2, :y)\n",
       "\u001b[90m│   \u001b[39m %4  = %3 isa Main.Integer\n",
       "\u001b[90m└───\u001b[39m       goto #4 if not %4\n",
       "\u001b[90m3 ──\u001b[39m       goto #5\n",
       "\u001b[90m4 ──\u001b[39m %7  = %new(Core.TypeError, Symbol(\"keyword argument\"), :y, Main.Integer, %3)\n",
       "\u001b[90m└───\u001b[39m       Core.throw(%7)\n",
       "\u001b[90m5 ┄─\u001b[39m       @_6 = %3\n",
       "\u001b[90m└───\u001b[39m       goto #7\n",
       "\u001b[90m6 ──\u001b[39m %11 = Core.UndefKeywordError(:y)\n",
       "\u001b[90m└───\u001b[39m       @_6 = Core.throw(%11)\n",
       "\u001b[90m7 ┄─\u001b[39m       y = @_6\n",
       "\u001b[90m│   \u001b[39m %14 = (:y,)\n",
       "\u001b[90m│   \u001b[39m %15 = Core.apply_type(Core.NamedTuple, %14)\n",
       "\u001b[90m│   \u001b[39m %16 = Base.structdiff(@_2, %15)\n",
       "\u001b[90m│   \u001b[39m %17 = Base.pairs(%16)\n",
       "\u001b[90m│   \u001b[39m %18 = Base.isempty(%17)\n",
       "\u001b[90m└───\u001b[39m       goto #9 if not %18\n",
       "\u001b[90m8 ──\u001b[39m       goto #10\n",
       "\u001b[90m9 ──\u001b[39m       Base.kwerr(@_2, @_3, x)\n",
       "\u001b[90m10 ┄\u001b[39m %22 = Main.:(#foo#3)(y, @_3, x)\n",
       "\u001b[90m└───\u001b[39m       return %22\n",
       ")"
      ]
     },
     "execution_count": 11,
     "metadata": {},
     "output_type": "execute_result"
    }
   ],
   "source": [
    "@code_lowered foo(1, y=1)"
   ]
  },
  {
   "cell_type": "code",
   "execution_count": null,
   "metadata": {
    "collapsed": true
   },
   "outputs": [],
   "source": []
  }
 ],
 "metadata": {
  "kernelspec": {
   "display_name": "Julia 1.2.0",
   "language": "julia",
   "name": "julia-1.2"
  },
  "language_info": {
   "file_extension": ".jl",
   "mimetype": "application/julia",
   "name": "julia",
   "version": "1.2.0"
  }
 },
 "nbformat": 4,
 "nbformat_minor": 1
}

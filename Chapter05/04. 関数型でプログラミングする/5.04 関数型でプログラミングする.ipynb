{
 "cells": [
  {
   "cell_type": "code",
   "execution_count": 1,
   "metadata": {},
   "outputs": [
    {
     "name": "stdout",
     "output_type": "stream",
     "text": [
      "\u001b[32m\u001b[1m  Updating\u001b[22m\u001b[39m registry at `~/.julia/registries/General`\n",
      "\u001b[32m\u001b[1m  Updating\u001b[22m\u001b[39m git-repo `https://github.com/JuliaRegistries/General.git`\n",
      "\u001b[?25l\u001b[2K\u001b[?25h\u001b[32m\u001b[1m Resolving\u001b[22m\u001b[39m package versions...\n"
     ]
    },
    {
     "name": "stderr",
     "output_type": "stream",
     "text": [
      "┌ Warning: Some registries failed to update:\n",
      "│     — /home/nakada/.julia/registries/General — failed to fetch from repo\n",
      "└ @ Pkg.Types /buildworker/worker/package_linux64/build/usr/share/julia/stdlib/v1.2/Pkg/src/Types.jl:1171\n"
     ]
    },
    {
     "name": "stdout",
     "output_type": "stream",
     "text": [
      "\u001b[32m\u001b[1m   Cloning\u001b[22m\u001b[39m [b8865327-cd53-5732-bb35-84acbb429228] UnicodePlots from https://github.com/Evizero/UnicodePlots.jl.git\n",
      "\u001b[?25l\u001b[2K\u001b[?25h"
     ]
    },
    {
     "ename": "Pkg.Types.PkgError",
     "evalue": "failed to clone from https://github.com/Evizero/UnicodePlots.jl.git, error: GitError(Code:ERROR, Class:Net, curl error: Could not resolve host: github.com\n)",
     "output_type": "error",
     "traceback": [
      "failed to clone from https://github.com/Evizero/UnicodePlots.jl.git, error: GitError(Code:ERROR, Class:Net, curl error: Could not resolve host: github.com\n)",
      "",
      "Stacktrace:",
      " [1] pkgerror(::String) at /buildworker/worker/package_linux64/build/usr/share/julia/stdlib/v1.2/Pkg/src/Types.jl:112",
      " [2] #clone#4(::String, ::Base.Iterators.Pairs{Symbol,Any,Tuple{Symbol,Symbol},NamedTuple{(:isbare, :credentials),Tuple{Bool,LibGit2.CachedCredentials}}}, ::typeof(Pkg.GitTools.clone), ::String, ::String) at /buildworker/worker/package_linux64/build/usr/share/julia/stdlib/v1.2/Pkg/src/GitTools.jl:128",
      " [3] #clone at ./none:0 [inlined]",
      " [4] #ensure_clone#3 at /buildworker/worker/package_linux64/build/usr/share/julia/stdlib/v1.2/Pkg/src/GitTools.jl:104 [inlined]",
      " [5] #ensure_clone at ./none:0 [inlined]",
      " [6] (::getfield(Pkg.Operations, Symbol(\"##66#68\")){Base.UUID,String,Base.SHA1,Array{String,1}})(::LibGit2.CachedCredentials) at /buildworker/worker/package_linux64/build/usr/share/julia/stdlib/v1.2/Pkg/src/Operations.jl:521",
      " [7] shred!(::getfield(Pkg.Operations, Symbol(\"##66#68\")){Base.UUID,String,Base.SHA1,Array{String,1}}, ::LibGit2.CachedCredentials) at ./secretbuffer.jl:184",
      " [8] install_git(::Pkg.Types.Context, ::Base.UUID, ::String, ::Base.SHA1, ::Array{String,1}, ::VersionNumber, ::String) at /buildworker/worker/package_linux64/build/usr/share/julia/stdlib/v1.2/Pkg/src/Operations.jl:517",
      " [9] #download_source#71(::Bool, ::typeof(Pkg.Operations.download_source), ::Pkg.Types.Context, ::Array{Pkg.Types.PackageSpec,1}, ::Dict{Base.UUID,Array{String,1}}) at /buildworker/worker/package_linux64/build/usr/share/julia/stdlib/v1.2/Pkg/src/Operations.jl:640",
      " [10] #download_source at ./none:0 [inlined]",
      " [11] #download_source#70 at /buildworker/worker/package_linux64/build/usr/share/julia/stdlib/v1.2/Pkg/src/Operations.jl:563 [inlined]",
      " [12] download_source at /buildworker/worker/package_linux64/build/usr/share/julia/stdlib/v1.2/Pkg/src/Operations.jl:561 [inlined]",
      " [13] #add#100(::Bool, ::typeof(Pkg.Operations.add), ::Pkg.Types.Context, ::Array{Pkg.Types.PackageSpec,1}, ::Array{Base.UUID,1}) at /buildworker/worker/package_linux64/build/usr/share/julia/stdlib/v1.2/Pkg/src/Operations.jl:965",
      " [14] #add at ./none:0 [inlined]",
      " [15] #add#25(::Bool, ::Base.Iterators.Pairs{Union{},Union{},Tuple{},NamedTuple{(),Tuple{}}}, ::typeof(Pkg.API.add), ::Pkg.Types.Context, ::Array{Pkg.Types.PackageSpec,1}) at /buildworker/worker/package_linux64/build/usr/share/julia/stdlib/v1.2/Pkg/src/API.jl:99",
      " [16] add at /buildworker/worker/package_linux64/build/usr/share/julia/stdlib/v1.2/Pkg/src/API.jl:69 [inlined]",
      " [17] #add#24 at /buildworker/worker/package_linux64/build/usr/share/julia/stdlib/v1.2/Pkg/src/API.jl:67 [inlined]",
      " [18] add at /buildworker/worker/package_linux64/build/usr/share/julia/stdlib/v1.2/Pkg/src/API.jl:67 [inlined]",
      " [19] #add#21 at /buildworker/worker/package_linux64/build/usr/share/julia/stdlib/v1.2/Pkg/src/API.jl:65 [inlined]",
      " [20] add at /buildworker/worker/package_linux64/build/usr/share/julia/stdlib/v1.2/Pkg/src/API.jl:65 [inlined]",
      " [21] #add#20(::Base.Iterators.Pairs{Union{},Union{},Tuple{},NamedTuple{(),Tuple{}}}, ::typeof(Pkg.API.add), ::String) at /buildworker/worker/package_linux64/build/usr/share/julia/stdlib/v1.2/Pkg/src/API.jl:64",
      " [22] add(::String) at /buildworker/worker/package_linux64/build/usr/share/julia/stdlib/v1.2/Pkg/src/API.jl:64",
      " [23] top-level scope at In[1]:1"
     ]
    }
   ],
   "source": [
    "# using Pkg; Pkg.add(\"UnicodePlots\")"
   ]
  },
  {
   "cell_type": "code",
   "execution_count": 2,
   "metadata": {},
   "outputs": [
    {
     "data": {
      "text/plain": [
       "deriv (generic function with 1 method)"
      ]
     },
     "execution_count": 2,
     "metadata": {},
     "output_type": "execute_result"
    }
   ],
   "source": [
    "function deriv(f::Function)::Function \n",
    "    h = √eps()\n",
    "    f1(x) = (f(x+h)-f(x))/h\n",
    "    return f1 \n",
    "end"
   ]
  },
  {
   "cell_type": "code",
   "execution_count": 3,
   "metadata": {},
   "outputs": [
    {
     "ename": "ArgumentError",
     "evalue": "ArgumentError: Package UnicodePlots not found in current path:\n- Run `import Pkg; Pkg.add(\"UnicodePlots\")` to install the UnicodePlots package.\n",
     "output_type": "error",
     "traceback": [
      "ArgumentError: Package UnicodePlots not found in current path:\n- Run `import Pkg; Pkg.add(\"UnicodePlots\")` to install the UnicodePlots package.\n",
      "",
      "Stacktrace:",
      " [1] require(::Module, ::Symbol) at ./loading.jl:876",
      " [2] top-level scope at In[3]:1"
     ]
    }
   ],
   "source": [
    "using UnicodePlots\n",
    "f(x) = 2x*x + 5x - 4;\n",
    "x = -5:3;"
   ]
  },
  {
   "cell_type": "code",
   "execution_count": 4,
   "metadata": {},
   "outputs": [
    {
     "ename": "UndefVarError",
     "evalue": "UndefVarError: DotCanvas not defined",
     "output_type": "error",
     "traceback": [
      "UndefVarError: DotCanvas not defined",
      "",
      "Stacktrace:",
      " [1] top-level scope at In[4]:1"
     ]
    }
   ],
   "source": [
    "plot = lineplot(x, f.(x), width=45, height=15, canvas=DotCanvas,\n",
    "name=\"f(x)\");\n",
    "plot = lineplot!(plot, x, deriv(f).(x), name=\"f'(x)\")\n"
   ]
  },
  {
   "cell_type": "code",
   "execution_count": 5,
   "metadata": {},
   "outputs": [
    {
     "data": {
      "text/plain": [
       "q_solve (generic function with 1 method)"
      ]
     },
     "execution_count": 5,
     "metadata": {},
     "output_type": "execute_result"
    }
   ],
   "source": [
    "function q_solve(f)\n",
    "    c = f(0)\n",
    "    f1 = deriv(f)\n",
    "    b = f1(0)\n",
    "    a = f(1)-b-c\n",
    "    d = √(b*b-4*a*c)\n",
    "    return ((-b-d)/(2*a),(-b+d)/(2*a))\n",
    "end"
   ]
  },
  {
   "cell_type": "code",
   "execution_count": 6,
   "metadata": {},
   "outputs": [
    {
     "data": {
      "text/plain": [
       "(-7.0, 1.0)"
      ]
     },
     "execution_count": 6,
     "metadata": {},
     "output_type": "execute_result"
    }
   ],
   "source": [
    "q_solve(x -> (x-1)*(x+7))"
   ]
  },
  {
   "cell_type": "code",
   "execution_count": 7,
   "metadata": {},
   "outputs": [
    {
     "ename": "DomainError",
     "evalue": "DomainError with -3.9999999403953552:\nsqrt will only return a complex result if called with a complex argument. Try sqrt(Complex(x)).",
     "output_type": "error",
     "traceback": [
      "DomainError with -3.9999999403953552:\nsqrt will only return a complex result if called with a complex argument. Try sqrt(Complex(x)).",
      "",
      "Stacktrace:",
      " [1] throw_complex_domainerror(::Symbol, ::Float64) at ./math.jl:31",
      " [2] sqrt at ./math.jl:493 [inlined]",
      " [3] q_solve(::getfield(Main, Symbol(\"##6#7\"))) at ./In[5]:6",
      " [4] top-level scope at In[7]:1"
     ]
    }
   ],
   "source": [
    "q_solve(x -> x*x + 1)"
   ]
  },
  {
   "cell_type": "code",
   "execution_count": 8,
   "metadata": {},
   "outputs": [
    {
     "data": {
      "text/plain": [
       "(-7.450580707946132e-9 - 1.0000000074505806im, -7.450580707946132e-9 + 1.0000000074505806im)"
      ]
     },
     "execution_count": 8,
     "metadata": {},
     "output_type": "execute_result"
    }
   ],
   "source": [
    "q_solve(x -> x*x + 1 + 0im)"
   ]
  },
  {
   "cell_type": "code",
   "execution_count": null,
   "metadata": {
    "collapsed": true
   },
   "outputs": [],
   "source": []
  }
 ],
 "metadata": {
  "@webio": {
   "lastCommId": null,
   "lastKernelId": null
  },
  "kernelspec": {
   "display_name": "Julia 1.2.0",
   "language": "julia",
   "name": "julia-1.2"
  },
  "language_info": {
   "file_extension": ".jl",
   "mimetype": "application/julia",
   "name": "julia",
   "version": "1.2.0"
  }
 },
 "nbformat": 4,
 "nbformat_minor": 1
}

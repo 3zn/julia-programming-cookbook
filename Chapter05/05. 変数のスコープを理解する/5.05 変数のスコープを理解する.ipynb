{
 "cells": [
  {
   "cell_type": "code",
   "execution_count": 1,
   "metadata": {},
   "outputs": [
    {
     "name": "stdout",
     "output_type": "stream",
     "text": [
      "inner scope 30 500\n",
      "outer scope 30 40\n"
     ]
    }
   ],
   "source": [
    "a, b = 1, 2;\n",
    "let a=30, b=40\n",
    "    let b=500\n",
    "        println(\"inner scope $a $b\")\n",
    "    end\n",
    "    println(\"outer scope $a $b\")\n",
    "end"
   ]
  },
  {
   "cell_type": "code",
   "execution_count": 2,
   "metadata": {},
   "outputs": [
    {
     "name": "stdout",
     "output_type": "stream",
     "text": [
      "global scope 1 2\n"
     ]
    }
   ],
   "source": [
    "println(\"global scope $a $b\")"
   ]
  },
  {
   "cell_type": "code",
   "execution_count": 3,
   "metadata": {},
   "outputs": [],
   "source": [
    "# Jupyter notebookではデフォルトでSoftGlobalScopeが有効になっているため、大域変数の挙動がREPLとことなる。\n",
    "# ここではSoftGlobalScopeを無効にしている。\n",
    "\n",
    "IJulia.SOFTSCOPE[] = false\n",
    "\n",
    "x=5;"
   ]
  },
  {
   "cell_type": "code",
   "execution_count": 4,
   "metadata": {
    "scrolled": true
   },
   "outputs": [
    {
     "name": "stdout",
     "output_type": "stream",
     "text": [
      "6\n"
     ]
    }
   ],
   "source": [
    "let\n",
    "    println(x+1)\n",
    "end"
   ]
  },
  {
   "cell_type": "code",
   "execution_count": 5,
   "metadata": {},
   "outputs": [
    {
     "ename": "LoadError",
     "evalue": "UndefVarError: x not defined",
     "output_type": "error",
     "traceback": [
      "UndefVarError: x not defined",
      "",
      "Stacktrace:",
      " [1] top-level scope at In[5]:2"
     ]
    }
   ],
   "source": [
    "let\n",
    "    x = x+1\n",
    "end"
   ]
  },
  {
   "cell_type": "code",
   "execution_count": 6,
   "metadata": {},
   "outputs": [
    {
     "data": {
      "text/plain": [
       "6"
      ]
     },
     "execution_count": 6,
     "metadata": {},
     "output_type": "execute_result"
    }
   ],
   "source": [
    "let\n",
    "    global x = x+1\n",
    "end"
   ]
  },
  {
   "cell_type": "code",
   "execution_count": 7,
   "metadata": {},
   "outputs": [
    {
     "data": {
      "text/plain": [
       "twogram (generic function with 1 method)"
      ]
     },
     "execution_count": 7,
     "metadata": {},
     "output_type": "execute_result"
    }
   ],
   "source": [
    "#この関数は実行に失敗する\n",
    "#this function will fail when run\n",
    "function twogram(s::AbstractString)\n",
    "    twograms = String[]\n",
    "    for (i, c) in enumerate(s)\n",
    "        if i == 1\n",
    "            prev = c\n",
    "        else\n",
    "            push!(twograms, string(prev, c))\n",
    "            prev = c\n",
    "        end \n",
    "    end\n",
    "    twograms\n",
    "end\n"
   ]
  },
  {
   "cell_type": "code",
   "execution_count": 8,
   "metadata": {},
   "outputs": [
    {
     "ename": "LoadError",
     "evalue": "UndefVarError: prev not defined",
     "output_type": "error",
     "traceback": [
      "UndefVarError: prev not defined",
      "",
      "Stacktrace:",
      " [1] twogram(::String) at ./In[7]:9",
      " [2] top-level scope at In[8]:1"
     ]
    }
   ],
   "source": [
    "twogram(\"ABCD\")"
   ]
  },
  {
   "cell_type": "code",
   "execution_count": 9,
   "metadata": {},
   "outputs": [
    {
     "data": {
      "text/plain": [
       "twogram2 (generic function with 1 method)"
      ]
     },
     "execution_count": 9,
     "metadata": {},
     "output_type": "execute_result"
    }
   ],
   "source": [
    "function twogram2(s::AbstractString)\n",
    "    twograms = String[]\n",
    "    local prev\n",
    "    for (i, c) in enumerate(s)\n",
    "        if i == 1\n",
    "            prev = c\n",
    "        else\n",
    "            push!(twograms, string(prev, c))\n",
    "            prev = c\n",
    "        end\n",
    "    end\n",
    "    twograms \n",
    "end"
   ]
  },
  {
   "cell_type": "code",
   "execution_count": 10,
   "metadata": {},
   "outputs": [
    {
     "data": {
      "text/plain": [
       "3-element Array{String,1}:\n",
       " \"AB\"\n",
       " \"BC\"\n",
       " \"CD\""
      ]
     },
     "execution_count": 10,
     "metadata": {},
     "output_type": "execute_result"
    }
   ],
   "source": [
    "twogram2(\"ABCD\")"
   ]
  },
  {
   "cell_type": "code",
   "execution_count": 11,
   "metadata": {},
   "outputs": [
    {
     "ename": "LoadError",
     "evalue": "UndefVarError: prev not defined",
     "output_type": "error",
     "traceback": [
      "UndefVarError: prev not defined",
      "",
      "Stacktrace:",
      " [1] top-level scope at ./In[11]:8"
     ]
    }
   ],
   "source": [
    "s=\"ABCD\"\n",
    "twograms = String[]\n",
    "local prev\n",
    "for (i, c) in enumerate(s)\n",
    "    if i == 1\n",
    "        prev = c\n",
    "    else\n",
    "        push!(twograms, string(prev, c))\n",
    "        prev = c\n",
    "    end\n",
    "end"
   ]
  },
  {
   "cell_type": "code",
   "execution_count": 12,
   "metadata": {},
   "outputs": [
    {
     "data": {
      "text/plain": [
       "3-element Array{String,1}:\n",
       " \"AB\"\n",
       " \"BC\"\n",
       " \"CD\""
      ]
     },
     "execution_count": 12,
     "metadata": {},
     "output_type": "execute_result"
    }
   ],
   "source": [
    "s=\"ABCD\"\n",
    "twograms = String[]\n",
    "let\n",
    "    local prev\n",
    "    for (i, c) in enumerate(s)\n",
    "        if i == 1\n",
    "            prev = c\n",
    "        else\n",
    "            push!(twograms, string(prev, c))\n",
    "            prev = c\n",
    "        end\n",
    "    end\n",
    "    twograms\n",
    "end"
   ]
  },
  {
   "cell_type": "code",
   "execution_count": 13,
   "metadata": {},
   "outputs": [
    {
     "data": {
      "text/plain": [
       "3-element Array{String,1}:\n",
       " \"AB\"\n",
       " \"BC\"\n",
       " \"CD\""
      ]
     },
     "execution_count": 13,
     "metadata": {},
     "output_type": "execute_result"
    }
   ],
   "source": [
    "s=\"ABCD\"\n",
    "twograms = String[]\n",
    "for (i, c) in enumerate(s)\n",
    "    if i == 1\n",
    "        global prev = c\n",
    "    else\n",
    "        push!(twograms, string(prev, c))\n",
    "        global prev = c\n",
    "    end\n",
    "end\n",
    "twograms"
   ]
  },
  {
   "cell_type": "markdown",
   "metadata": {},
   "source": [
    "## how it works"
   ]
  },
  {
   "cell_type": "code",
   "execution_count": 14,
   "metadata": {},
   "outputs": [
    {
     "data": {
      "text/plain": [
       "Main.B"
      ]
     },
     "execution_count": 14,
     "metadata": {},
     "output_type": "execute_result"
    }
   ],
   "source": [
    "module B \n",
    "    x=1\n",
    "    function getxplusone()\n",
    "        return x+1\n",
    "    end\n",
    "    function increasex()\n",
    "        return x+=1\n",
    "    end\n",
    "    function increasexglob()\n",
    "        return global x+=1\n",
    "    end \n",
    "end"
   ]
  },
  {
   "cell_type": "code",
   "execution_count": 15,
   "metadata": {},
   "outputs": [
    {
     "data": {
      "text/plain": [
       "2"
      ]
     },
     "execution_count": 15,
     "metadata": {},
     "output_type": "execute_result"
    }
   ],
   "source": [
    "B.getxplusone()"
   ]
  },
  {
   "cell_type": "code",
   "execution_count": 16,
   "metadata": {},
   "outputs": [
    {
     "ename": "LoadError",
     "evalue": "UndefVarError: x not defined",
     "output_type": "error",
     "traceback": [
      "UndefVarError: x not defined",
      "",
      "Stacktrace:",
      " [1] increasex() at ./In[14]:7",
      " [2] top-level scope at In[16]:1"
     ]
    }
   ],
   "source": [
    "B.increasex()"
   ]
  },
  {
   "cell_type": "code",
   "execution_count": 17,
   "metadata": {},
   "outputs": [
    {
     "data": {
      "text/plain": [
       "2"
      ]
     },
     "execution_count": 17,
     "metadata": {},
     "output_type": "execute_result"
    }
   ],
   "source": [
    "B.increasexglob()"
   ]
  },
  {
   "cell_type": "code",
   "execution_count": 18,
   "metadata": {},
   "outputs": [
    {
     "data": {
      "text/plain": [
       "f (generic function with 1 method)"
      ]
     },
     "execution_count": 18,
     "metadata": {},
     "output_type": "execute_result"
    }
   ],
   "source": [
    "function f() \n",
    "    x= 1\n",
    "    for a in 1:10\n",
    "        x +=1\n",
    "    end\n",
    "    x\n",
    "end"
   ]
  },
  {
   "cell_type": "code",
   "execution_count": 19,
   "metadata": {},
   "outputs": [
    {
     "data": {
      "text/plain": [
       "11"
      ]
     },
     "execution_count": 19,
     "metadata": {},
     "output_type": "execute_result"
    }
   ],
   "source": [
    "f()"
   ]
  },
  {
   "cell_type": "code",
   "execution_count": 20,
   "metadata": {},
   "outputs": [
    {
     "ename": "LoadError",
     "evalue": "UndefVarError: x not defined",
     "output_type": "error",
     "traceback": [
      "UndefVarError: x not defined",
      "",
      "Stacktrace:",
      " [1] top-level scope at ./In[20]:3"
     ]
    }
   ],
   "source": [
    "x= 1\n",
    "for a in 1:10\n",
    "    x +=1\n",
    "end"
   ]
  },
  {
   "cell_type": "code",
   "execution_count": 21,
   "metadata": {},
   "outputs": [
    {
     "data": {
      "text/plain": [
       "11"
      ]
     },
     "execution_count": 21,
     "metadata": {},
     "output_type": "execute_result"
    }
   ],
   "source": [
    "let\n",
    "    x= 1\n",
    "    for a in 1:10\n",
    "        x +=1\n",
    "    end\n",
    "    x\n",
    "end"
   ]
  },
  {
   "cell_type": "code",
   "execution_count": 22,
   "metadata": {},
   "outputs": [
    {
     "data": {
      "text/plain": [
       "11"
      ]
     },
     "execution_count": 22,
     "metadata": {},
     "output_type": "execute_result"
    }
   ],
   "source": [
    "x= 1\n",
    "for a in 1:10\n",
    "    global x +=1\n",
    "end\n",
    "x"
   ]
  },
  {
   "cell_type": "code",
   "execution_count": 23,
   "metadata": {},
   "outputs": [
    {
     "data": {
      "text/plain": [
       "2-element Array{Int64,1}:\n",
       " 6\n",
       " 7"
      ]
     },
     "execution_count": 23,
     "metadata": {},
     "output_type": "execute_result"
    }
   ],
   "source": [
    "z=5\n",
    "[(x=z+i;x) for i in 1:2]"
   ]
  },
  {
   "cell_type": "code",
   "execution_count": 24,
   "metadata": {},
   "outputs": [
    {
     "ename": "LoadError",
     "evalue": "UndefVarError: z not defined",
     "output_type": "error",
     "traceback": [
      "UndefVarError: z not defined",
      "",
      "Stacktrace:",
      " [1] (::getfield(Main, Symbol(\"##5#6\")))(::Int64) at ./none:0",
      " [2] iterate at ./generator.jl:47 [inlined]",
      " [3] collect(::Base.Generator{UnitRange{Int64},getfield(Main, Symbol(\"##5#6\"))}) at ./array.jl:606",
      " [4] top-level scope at In[24]:2"
     ]
    }
   ],
   "source": [
    "z = 5\n",
    "[(z=z+i;z) for i in 1:2]"
   ]
  },
  {
   "cell_type": "code",
   "execution_count": 25,
   "metadata": {},
   "outputs": [
    {
     "data": {
      "text/plain": [
       "2-element Array{Int64,1}:\n",
       " 6\n",
       " 8"
      ]
     },
     "execution_count": 25,
     "metadata": {},
     "output_type": "execute_result"
    }
   ],
   "source": [
    "z = 5\n",
    "[(global z=z+i;z) for i in 1:2]"
   ]
  },
  {
   "cell_type": "code",
   "execution_count": 26,
   "metadata": {},
   "outputs": [
    {
     "data": {
      "text/plain": [
       "counter (generic function with 1 method)"
      ]
     },
     "execution_count": 26,
     "metadata": {},
     "output_type": "execute_result"
    }
   ],
   "source": [
    "let state = 0\n",
    "    global counter() = (state += 1)\n",
    "end"
   ]
  },
  {
   "cell_type": "code",
   "execution_count": 27,
   "metadata": {},
   "outputs": [
    {
     "data": {
      "text/plain": [
       "1"
      ]
     },
     "execution_count": 27,
     "metadata": {},
     "output_type": "execute_result"
    }
   ],
   "source": [
    "counter()"
   ]
  },
  {
   "cell_type": "code",
   "execution_count": 28,
   "metadata": {},
   "outputs": [
    {
     "data": {
      "text/plain": [
       "2"
      ]
     },
     "execution_count": 28,
     "metadata": {},
     "output_type": "execute_result"
    }
   ],
   "source": [
    "counter()"
   ]
  },
  {
   "cell_type": "code",
   "execution_count": 29,
   "metadata": {},
   "outputs": [
    {
     "ename": "LoadError",
     "evalue": "UndefVarError: state not defined",
     "output_type": "error",
     "traceback": [
      "UndefVarError: state not defined",
      ""
     ]
    }
   ],
   "source": [
    "state"
   ]
  },
  {
   "cell_type": "code",
   "execution_count": null,
   "metadata": {},
   "outputs": [],
   "source": []
  }
 ],
 "metadata": {
  "kernelspec": {
   "display_name": "Julia 1.2.0",
   "language": "julia",
   "name": "julia-1.2"
  },
  "language_info": {
   "file_extension": ".jl",
   "mimetype": "application/julia",
   "name": "julia",
   "version": "1.2.0"
  }
 },
 "nbformat": 4,
 "nbformat_minor": 1
}

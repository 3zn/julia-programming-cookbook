{
 "cells": [
  {
   "cell_type": "code",
   "execution_count": 1,
   "metadata": {},
   "outputs": [],
   "source": [
    "# using Pkg; Pkg.add(\"DataFrames\"); Pkg.add(\"BenchmarkTools\")"
   ]
  },
  {
   "cell_type": "code",
   "execution_count": 1,
   "metadata": {},
   "outputs": [],
   "source": [
    "using DataFrames"
   ]
  },
  {
   "cell_type": "code",
   "execution_count": 2,
   "metadata": {},
   "outputs": [
    {
     "data": {
      "text/html": [
       "<table class=\"data-frame\"><thead><tr><th></th><th>s</th><th>n</th><th>f</th></tr><tr><th></th><th>Categorical…</th><th>Float64</th><th>Function⍰</th></tr></thead><tbody><p>3 rows × 3 columns</p><tr><th>1</th><td>a</td><td>1.0</td><td>sin</td></tr><tr><th>2</th><td>b</td><td>2.0</td><td>cos</td></tr><tr><th>3</th><td>c</td><td>3.0</td><td>missing</td></tr></tbody></table>"
      ],
      "text/latex": [
       "\\begin{tabular}{r|ccc}\n",
       "\t& s & n & f\\\\\n",
       "\t\\hline\n",
       "\t& Categorical… & Float64 & Function⍰\\\\\n",
       "\t\\hline\n",
       "\t1 & a & 1.0 & sin \\\\\n",
       "\t2 & b & 2.0 & cos \\\\\n",
       "\t3 & c & 3.0 &  \\\\\n",
       "\\end{tabular}\n"
      ],
      "text/plain": [
       "3×3 DataFrame\n",
       "│ Row │ s            │ n       │ f         │\n",
       "│     │ \u001b[90mCategorical…\u001b[39m │ \u001b[90mFloat64\u001b[39m │ \u001b[90mFunction⍰\u001b[39m │\n",
       "├─────┼──────────────┼─────────┼───────────┤\n",
       "│ 1   │ a            │ 1.0     │ sin       │\n",
       "│ 2   │ b            │ 2.0     │ cos       │\n",
       "│ 3   │ c            │ 3.0     │ \u001b[90mmissing\u001b[39m   │"
      ]
     },
     "execution_count": 2,
     "metadata": {},
     "output_type": "execute_result"
    }
   ],
   "source": [
    "df = DataFrame(s = categorical([\"a\", \"b\", \"c\"]),\n",
    "                         n = 1.0:3.0,\n",
    "                         f = [sin, cos, missing])"
   ]
  },
  {
   "cell_type": "code",
   "execution_count": 3,
   "metadata": {},
   "outputs": [
    {
     "data": {
      "text/plain": [
       "simpledescribe (generic function with 1 method)"
      ]
     },
     "execution_count": 3,
     "metadata": {},
     "output_type": "execute_result"
    }
   ],
   "source": [
    "simpledescribe(v) = \"unknown type\""
   ]
  },
  {
   "cell_type": "code",
   "execution_count": 4,
   "metadata": {},
   "outputs": [
    {
     "data": {
      "text/plain": [
       "simpledescribe (generic function with 2 methods)"
      ]
     },
     "execution_count": 4,
     "metadata": {},
     "output_type": "execute_result"
    }
   ],
   "source": [
    "simpledescribe(v::Vector{<:Number}) = \"numeric\""
   ]
  },
  {
   "cell_type": "code",
   "execution_count": 5,
   "metadata": {},
   "outputs": [
    {
     "data": {
      "text/plain": [
       "simpledescribe (generic function with 3 methods)"
      ]
     },
     "execution_count": 5,
     "metadata": {},
     "output_type": "execute_result"
    }
   ],
   "source": [
    "simpledescribe(v::CategoricalArray) = \"categorical\""
   ]
  },
  {
   "cell_type": "code",
   "execution_count": 6,
   "metadata": {},
   "outputs": [
    {
     "data": {
      "text/plain": [
       "simpledisplay (generic function with 1 method)"
      ]
     },
     "execution_count": 6,
     "metadata": {},
     "output_type": "execute_result"
    }
   ],
   "source": [
    "simpledisplay(df) =\n",
    "    foreach(x -> println(x[1], \": \", simpledescribe(x[2])),\n",
    "            eachcol(df, true))"
   ]
  },
  {
   "cell_type": "code",
   "execution_count": 7,
   "metadata": {},
   "outputs": [
    {
     "name": "stdout",
     "output_type": "stream",
     "text": [
      "s: categorical\n",
      "n: numeric\n",
      "f: unknown type\n"
     ]
    }
   ],
   "source": [
    "simpledisplay(df)"
   ]
  },
  {
   "cell_type": "code",
   "execution_count": 8,
   "metadata": {},
   "outputs": [
    {
     "data": {
      "text/html": [
       "3 methods for generic function <b>simpledescribe</b>:<ul><li> simpledescribe(v::<b>Array{#s3,1} where #s3<:Number</b>) in Main at In[4]:1</li> <li> simpledescribe(v::<b>CategoricalArray</b>) in Main at In[5]:1</li> <li> simpledescribe(v) in Main at In[3]:1</li> </ul>"
      ],
      "text/plain": [
       "# 3 methods for generic function \"simpledescribe\":\n",
       "[1] simpledescribe(v::Array{#s3,1} where #s3<:Number) in Main at In[4]:1\n",
       "[2] simpledescribe(v::CategoricalArray) in Main at In[5]:1\n",
       "[3] simpledescribe(v) in Main at In[3]:1"
      ]
     },
     "execution_count": 8,
     "metadata": {},
     "output_type": "execute_result"
    }
   ],
   "source": [
    "methods(simpledescribe)"
   ]
  },
  {
   "cell_type": "code",
   "execution_count": 9,
   "metadata": {},
   "outputs": [],
   "source": [
    "df = DataFrame(x=1:10^6);"
   ]
  },
  {
   "cell_type": "code",
   "execution_count": 10,
   "metadata": {},
   "outputs": [
    {
     "data": {
      "text/plain": [
       "helper (generic function with 1 method)"
      ]
     },
     "execution_count": 10,
     "metadata": {},
     "output_type": "execute_result"
    }
   ],
   "source": [
    "function helper(x)\n",
    "    s = zero(eltype(x))\n",
    "    for v in x\n",
    "        s += v \n",
    "    end\n",
    "    s \n",
    "end\n"
   ]
  },
  {
   "cell_type": "code",
   "execution_count": 11,
   "metadata": {},
   "outputs": [
    {
     "data": {
      "text/plain": [
       "fun1 (generic function with 1 method)"
      ]
     },
     "execution_count": 11,
     "metadata": {},
     "output_type": "execute_result"
    }
   ],
   "source": [
    "function fun1(df)\n",
    "    s = zero(eltype(df[!, 1]))\n",
    "    for v in df[!, 1]\n",
    "        s += v\n",
    "    end\n",
    "    s \n",
    "end"
   ]
  },
  {
   "cell_type": "code",
   "execution_count": 12,
   "metadata": {},
   "outputs": [
    {
     "data": {
      "text/plain": [
       "fun2 (generic function with 1 method)"
      ]
     },
     "execution_count": 12,
     "metadata": {},
     "output_type": "execute_result"
    }
   ],
   "source": [
    "fun2(df) = helper(df[!, 1])"
   ]
  },
  {
   "cell_type": "code",
   "execution_count": 13,
   "metadata": {},
   "outputs": [],
   "source": [
    "using BenchmarkTools\n"
   ]
  },
  {
   "cell_type": "code",
   "execution_count": 14,
   "metadata": {},
   "outputs": [
    {
     "name": "stdout",
     "output_type": "stream",
     "text": [
      "  129.231 ms (3998948 allocations: 76.28 MiB)\n"
     ]
    },
    {
     "data": {
      "text/plain": [
       "500000500000"
      ]
     },
     "execution_count": 14,
     "metadata": {},
     "output_type": "execute_result"
    }
   ],
   "source": [
    "@btime fun1(df)"
   ]
  },
  {
   "cell_type": "code",
   "execution_count": 15,
   "metadata": {},
   "outputs": [
    {
     "name": "stdout",
     "output_type": "stream",
     "text": [
      "  194.500 μs (1 allocation: 16 bytes)\n"
     ]
    },
    {
     "data": {
      "text/plain": [
       "500000500000"
      ]
     },
     "execution_count": 15,
     "metadata": {},
     "output_type": "execute_result"
    }
   ],
   "source": [
    "@btime fun2(df)"
   ]
  },
  {
   "cell_type": "code",
   "execution_count": null,
   "metadata": {
    "collapsed": true
   },
   "outputs": [],
   "source": []
  },
  {
   "cell_type": "code",
   "execution_count": null,
   "metadata": {
    "collapsed": true
   },
   "outputs": [],
   "source": []
  }
 ],
 "metadata": {
  "kernelspec": {
   "display_name": "Julia 1.2.0",
   "language": "julia",
   "name": "julia-1.2"
  },
  "language_info": {
   "file_extension": ".jl",
   "mimetype": "application/julia",
   "name": "julia",
   "version": "1.2.0"
  }
 },
 "nbformat": 4,
 "nbformat_minor": 1
}

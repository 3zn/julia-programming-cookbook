{
 "cells": [
  {
   "cell_type": "code",
   "execution_count": 1,
   "metadata": {},
   "outputs": [
    {
     "data": {
      "text/plain": [
       "MersenneTwister(UInt32[0x00000000], Random.DSFMT.DSFMT_state(Int32[748398797, 1073523691, -1738140313, 1073664641, -1492392947, 1073490074, -1625281839, 1073254801, 1875112882, 1073717145  …  943540191, 1073626624, 1091647724, 1073372234, -1273625233, -823628301, 835224507, 991807863, 382, 0]), [0.0, 0.0, 0.0, 0.0, 0.0, 0.0, 0.0, 0.0, 0.0, 0.0  …  0.0, 0.0, 0.0, 0.0, 0.0, 0.0, 0.0, 0.0, 0.0, 0.0], UInt128[0x00000000000000000000000000000000, 0x00000000000000000000000000000000, 0x00000000000000000000000000000000, 0x00000000000000000000000000000000, 0x00000000000000000000000000000000, 0x00000000000000000000000000000000, 0x00000000000000000000000000000000, 0x00000000000000000000000000000000, 0x00000000000000000000000000000000, 0x00000000000000000000000000000000  …  0x00000000000000000000000000000000, 0x00000000000000000000000000000000, 0x00000000000000000000000000000000, 0x00000000000000000000000000000000, 0x00000000000000000000000000000000, 0x00000000000000000000000000000000, 0x00000000000000000000000000000000, 0x00000000000000000000000000000000, 0x00000000000000000000000000000000, 0x00000000000000000000000000000000], 1002, 0)"
      ]
     },
     "execution_count": 1,
     "metadata": {},
     "output_type": "execute_result"
    }
   ],
   "source": [
    "using Random\n",
    "Random.seed!(0)"
   ]
  },
  {
   "cell_type": "code",
   "execution_count": 2,
   "metadata": {},
   "outputs": [],
   "source": [
    "mutable struct Agent\n",
    "    id::Int\n",
    "    x::Float64\n",
    "    y::Float64\n",
    "    times_moved::Int\n",
    "end"
   ]
  },
  {
   "cell_type": "code",
   "execution_count": 3,
   "metadata": {},
   "outputs": [
    {
     "data": {
      "text/plain": [
       "move! (generic function with 1 method)"
      ]
     },
     "execution_count": 3,
     "metadata": {},
     "output_type": "execute_result"
    }
   ],
   "source": [
    "function move!(agent::Agent)\n",
    "    angle = rand()*2π\n",
    "    agent.x += cos(angle)\n",
    "    agent.y += sin(angle)\n",
    "    agent.times_moved += 1\n",
    "end"
   ]
  },
  {
   "cell_type": "code",
   "execution_count": 4,
   "metadata": {},
   "outputs": [
    {
     "data": {
      "text/plain": [
       "30-element Array{Agent,1}:\n",
       " Agent(1, 0.0, 0.0, 0) \n",
       " Agent(2, 0.0, 0.0, 0) \n",
       " Agent(3, 0.0, 0.0, 0) \n",
       " Agent(4, 0.0, 0.0, 0) \n",
       " Agent(5, 0.0, 0.0, 0) \n",
       " Agent(6, 0.0, 0.0, 0) \n",
       " Agent(7, 0.0, 0.0, 0) \n",
       " Agent(8, 0.0, 0.0, 0) \n",
       " Agent(9, 0.0, 0.0, 0) \n",
       " Agent(10, 0.0, 0.0, 0)\n",
       " Agent(11, 0.0, 0.0, 0)\n",
       " Agent(12, 0.0, 0.0, 0)\n",
       " Agent(13, 0.0, 0.0, 0)\n",
       " ⋮                     \n",
       " Agent(19, 0.0, 0.0, 0)\n",
       " Agent(20, 0.0, 0.0, 0)\n",
       " Agent(21, 0.0, 0.0, 0)\n",
       " Agent(22, 0.0, 0.0, 0)\n",
       " Agent(23, 0.0, 0.0, 0)\n",
       " Agent(24, 0.0, 0.0, 0)\n",
       " Agent(25, 0.0, 0.0, 0)\n",
       " Agent(26, 0.0, 0.0, 0)\n",
       " Agent(27, 0.0, 0.0, 0)\n",
       " Agent(28, 0.0, 0.0, 0)\n",
       " Agent(29, 0.0, 0.0, 0)\n",
       " Agent(30, 0.0, 0.0, 0)"
      ]
     },
     "execution_count": 4,
     "metadata": {},
     "output_type": "execute_result"
    }
   ],
   "source": [
    "pop = Agent.(1:30, 0, 0, 0)"
   ]
  },
  {
   "cell_type": "code",
   "execution_count": 5,
   "metadata": {},
   "outputs": [
    {
     "data": {
      "text/plain": [
       "step! (generic function with 1 method)"
      ]
     },
     "execution_count": 5,
     "metadata": {},
     "output_type": "execute_result"
    }
   ],
   "source": [
    "function step!(pop::Array{Agent,1})\n",
    "    sort!(pop, by = a -> √(a.x*a.x + a.y*a.y), rev=true)\n",
    "    foreach(i -> (rand() < (1/i)) && move!(pop[i]), 1:length(pop))\n",
    "end"
   ]
  },
  {
   "cell_type": "code",
   "execution_count": 6,
   "metadata": {},
   "outputs": [],
   "source": [
    "foreach(s -> step!(pop), 1:1000)"
   ]
  },
  {
   "cell_type": "code",
   "execution_count": 7,
   "metadata": {},
   "outputs": [
    {
     "data": {
      "text/plain": [
       "2-element Array{Agent,1}:\n",
       " Agent(12, -21.782926370813627, 24.238199368699437, 436)\n",
       " Agent(4, -22.711361031074716, 17.81154946976432, 322)  "
      ]
     },
     "execution_count": 7,
     "metadata": {},
     "output_type": "execute_result"
    }
   ],
   "source": [
    "filter(a -> √(a.x*a.x + a.y*a.y) >= 25, pop)"
   ]
  },
  {
   "cell_type": "markdown",
   "metadata": {},
   "source": [
    "## There's more"
   ]
  },
  {
   "cell_type": "code",
   "execution_count": 8,
   "metadata": {},
   "outputs": [
    {
     "data": {
      "text/plain": [
       "3-element Array{Agent,1}:\n",
       " Agent(1, 0.0, 0.0, 0)\n",
       " Agent(1, 0.0, 0.0, 0)\n",
       " Agent(1, 0.0, 0.0, 0)"
      ]
     },
     "execution_count": 8,
     "metadata": {},
     "output_type": "execute_result"
    }
   ],
   "source": [
    "pop = fill(Agent(1, 0.0, 0.0, 0), 3)"
   ]
  },
  {
   "cell_type": "code",
   "execution_count": 9,
   "metadata": {},
   "outputs": [
    {
     "data": {
      "text/plain": [
       "2"
      ]
     },
     "execution_count": 9,
     "metadata": {},
     "output_type": "execute_result"
    }
   ],
   "source": [
    "pop[2].id = 2\n"
   ]
  },
  {
   "cell_type": "code",
   "execution_count": 10,
   "metadata": {},
   "outputs": [
    {
     "data": {
      "text/plain": [
       "3-element Array{Agent,1}:\n",
       " Agent(2, 0.0, 0.0, 0)\n",
       " Agent(2, 0.0, 0.0, 0)\n",
       " Agent(2, 0.0, 0.0, 0)"
      ]
     },
     "execution_count": 10,
     "metadata": {},
     "output_type": "execute_result"
    }
   ],
   "source": [
    "pop"
   ]
  },
  {
   "cell_type": "code",
   "execution_count": 11,
   "metadata": {},
   "outputs": [
    {
     "data": {
      "text/plain": [
       "3-element Array{Agent,1}:\n",
       " Agent(1, 0.0, 0.0, 0)\n",
       " Agent(2, 0.0, 0.0, 0)\n",
       " Agent(3, 0.0, 0.0, 0)"
      ]
     },
     "execution_count": 11,
     "metadata": {},
     "output_type": "execute_result"
    }
   ],
   "source": [
    "pop = [Agent(i, 0.0, 0.0 ,0) for i in 1:3]"
   ]
  },
  {
   "cell_type": "code",
   "execution_count": null,
   "metadata": {
    "collapsed": true
   },
   "outputs": [],
   "source": []
  }
 ],
 "metadata": {
  "@webio": {
   "lastCommId": null,
   "lastKernelId": null
  },
  "kernelspec": {
   "display_name": "Julia 1.2.0",
   "language": "julia",
   "name": "julia-1.2"
  },
  "language_info": {
   "file_extension": ".jl",
   "mimetype": "application/julia",
   "name": "julia",
   "version": "1.2.0"
  }
 },
 "nbformat": 4,
 "nbformat_minor": 1
}

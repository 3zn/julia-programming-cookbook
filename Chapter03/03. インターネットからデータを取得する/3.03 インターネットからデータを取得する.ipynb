{
 "cells": [
  {
   "cell_type": "code",
   "execution_count": 1,
   "metadata": {},
   "outputs": [
    {
     "name": "stdout",
     "output_type": "stream",
     "text": [
      "\u001b[32m\u001b[1m  Updating\u001b[22m\u001b[39m registry at `~/.julia/registries/General`\n",
      "\u001b[32m\u001b[1m  Updating\u001b[22m\u001b[39m git-repo `https://github.com/JuliaRegistries/General.git`\n",
      "\u001b[?25l\u001b[2K\u001b[?25h\u001b[32m\u001b[1m Resolving\u001b[22m\u001b[39m package versions...\n",
      "\u001b[32m\u001b[1m Installed\u001b[22m\u001b[39m IniFile ─ v0.5.0\n",
      "\u001b[32m\u001b[1m Installed\u001b[22m\u001b[39m HTTP ──── v0.8.5\n",
      "\u001b[32m\u001b[1m  Updating\u001b[22m\u001b[39m `~/.julia/environments/v1.2/Project.toml`\n",
      " \u001b[90m [cd3eb016]\u001b[39m\u001b[92m + HTTP v0.8.5\u001b[39m\n",
      "\u001b[32m\u001b[1m  Updating\u001b[22m\u001b[39m `~/.julia/environments/v1.2/Manifest.toml`\n",
      " \u001b[90m [cd3eb016]\u001b[39m\u001b[92m + HTTP v0.8.5\u001b[39m\n",
      " \u001b[90m [83e8ac13]\u001b[39m\u001b[92m + IniFile v0.5.0\u001b[39m\n",
      "\u001b[32m\u001b[1m Resolving\u001b[22m\u001b[39m package versions...\n",
      "\u001b[32m\u001b[1m Installed\u001b[22m\u001b[39m AbstractTrees ─ v0.2.1\n",
      "\u001b[32m\u001b[1m Installed\u001b[22m\u001b[39m Gumbo ───────── v0.5.1\n",
      "\u001b[32m\u001b[1m  Updating\u001b[22m\u001b[39m `~/.julia/environments/v1.2/Project.toml`\n",
      " \u001b[90m [708ec375]\u001b[39m\u001b[92m + Gumbo v0.5.1\u001b[39m\n",
      "\u001b[32m\u001b[1m  Updating\u001b[22m\u001b[39m `~/.julia/environments/v1.2/Manifest.toml`\n",
      " \u001b[90m [1520ce14]\u001b[39m\u001b[92m + AbstractTrees v0.2.1\u001b[39m\n",
      " \u001b[90m [708ec375]\u001b[39m\u001b[92m + Gumbo v0.5.1\u001b[39m\n",
      "\u001b[32m\u001b[1m  Building\u001b[22m\u001b[39m Gumbo → `~/.julia/packages/Gumbo/G7Qbw/deps/build.log`\n",
      "\u001b[32m\u001b[1m Resolving\u001b[22m\u001b[39m package versions...\n",
      "\u001b[32m\u001b[1m Installed\u001b[22m\u001b[39m Cascadia ─ v0.4.0\n",
      "\u001b[32m\u001b[1m  Updating\u001b[22m\u001b[39m `~/.julia/environments/v1.2/Project.toml`\n",
      " \u001b[90m [54eefc05]\u001b[39m\u001b[92m + Cascadia v0.4.0\u001b[39m\n",
      "\u001b[32m\u001b[1m  Updating\u001b[22m\u001b[39m `~/.julia/environments/v1.2/Manifest.toml`\n",
      " \u001b[90m [54eefc05]\u001b[39m\u001b[92m + Cascadia v0.4.0\u001b[39m\n"
     ]
    }
   ],
   "source": [
    "#using Pkg; Pkg.add(\"HTTP\"); Pkg.add(\"Gumbo\"); Pkg.add(\"Cascadia\")"
   ]
  },
  {
   "cell_type": "code",
   "execution_count": 1,
   "metadata": {},
   "outputs": [],
   "source": [
    "using HTTP, Gumbo, Cascadia"
   ]
  },
  {
   "cell_type": "code",
   "execution_count": 2,
   "metadata": {},
   "outputs": [],
   "source": [
    "r = HTTP.get(\"https://github.com/JuliaWeb\");\n",
    "page_body = String(r.body);"
   ]
  },
  {
   "cell_type": "code",
   "execution_count": 3,
   "metadata": {},
   "outputs": [],
   "source": [
    "h = Gumbo.parsehtml(page_body);"
   ]
  },
  {
   "cell_type": "code",
   "execution_count": 4,
   "metadata": {},
   "outputs": [],
   "source": [
    "qs = HTMLElement[]\n",
    "Cascadia.matchAllInto(sel\"h3 .d-inline-block\", h.root,qs);\n",
    "names_links = Tuple{String,String}[]\n",
    "for q in qs\n",
    "    name = strip(nodeText(q))\n",
    "    link = q.attributes[\"href\"]\n",
    "    push!(names_links, (name, link))\n",
    "end"
   ]
  },
  {
   "cell_type": "code",
   "execution_count": 5,
   "metadata": {},
   "outputs": [
    {
     "data": {
      "text/plain": [
       "26-element Array{Tuple{String,String},1}:\n",
       " (\"HTTP.jl\", \"/JuliaWeb/HTTP.jl\")                                    \n",
       " (\"Mux.jl\", \"/JuliaWeb/Mux.jl\")                                      \n",
       " (\"WebSockets.jl\", \"/JuliaWeb/WebSockets.jl\")                        \n",
       " (\"GitHub.jl\", \"/JuliaWeb/GitHub.jl\")                                \n",
       " (\"HTTPClient.jl\", \"/JuliaWeb/HTTPClient.jl\")                        \n",
       " (\"MbedTLS.jl\", \"/JuliaWeb/MbedTLS.jl\")                              \n",
       " (\"LibCURL.jl\", \"/JuliaWeb/LibCURL.jl\")                              \n",
       " (\"Gumbo.jl\", \"/JuliaWeb/Gumbo.jl\")                                  \n",
       " (\"URIParser.jl\", \"/JuliaWeb/URIParser.jl\")                          \n",
       " (\"LibCURLBuilder\", \"/JuliaWeb/LibCURLBuilder\")                      \n",
       " (\"MbedTLSBuilder\", \"/JuliaWeb/MbedTLSBuilder\")                      \n",
       " (\"JuliaWebAPI.jl\", \"/JuliaWeb/JuliaWebAPI.jl\")                      \n",
       " (\"UAParser.jl\", \"/JuliaWeb/UAParser.jl\")                            \n",
       " (\"GeoIP.jl\", \"/JuliaWeb/GeoIP.jl\")                                  \n",
       " (\"HttpParser.jl\", \"/JuliaWeb/HttpParser.jl\")                        \n",
       " (\"Retry.jl\", \"/JuliaWeb/Retry.jl\")                                  \n",
       " (\"HttpCommon.jl\", \"/JuliaWeb/HttpCommon.jl\")                        \n",
       " (\"IPNets.jl\", \"/JuliaWeb/IPNets.jl\")                                \n",
       " (\"HttpServer.jl\", \"/JuliaWeb/HttpServer.jl\")                        \n",
       " (\"Requests.jl\", \"/JuliaWeb/Requests.jl\")                            \n",
       " (\"TLSClient.jl\", \"/JuliaWeb/TLSClient.jl\")                          \n",
       " (\"GumboBuilder\", \"/JuliaWeb/GumboBuilder\")                          \n",
       " (\"URITemplate.jl\", \"/JuliaWeb/URITemplate.jl\")                      \n",
       " (\"TransportLayerSecurity.jl\", \"/JuliaWeb/TransportLayerSecurity.jl\")\n",
       " (\"GnuTLS.jl\", \"/JuliaWeb/GnuTLS.jl\")                                \n",
       " (\"Roadmap\", \"/JuliaWeb/Roadmap\")                                    "
      ]
     },
     "execution_count": 5,
     "metadata": {},
     "output_type": "execute_result"
    }
   ],
   "source": [
    "names_links"
   ]
  },
  {
   "cell_type": "code",
   "execution_count": 6,
   "metadata": {},
   "outputs": [],
   "source": [
    "stats = Dict{String,String}();"
   ]
  },
  {
   "cell_type": "code",
   "execution_count": 7,
   "metadata": {},
   "outputs": [],
   "source": [
    "@sync for (name,link) in names_links\n",
    "    @async begin\n",
    "        r2 = HTTP.get(\"https://github.com\"*link);\n",
    "        h2 = parsehtml(String(r2.body));\n",
    "        qs2 = HTMLElement[]\n",
    "        Cascadia.matchAllInto(sel\".social-count.js-social-count\", h2.root,qs2);\n",
    "        stats[name] = strip(nodeText(qs2[1]))\n",
    "    end \n",
    "end"
   ]
  },
  {
   "cell_type": "code",
   "execution_count": 8,
   "metadata": {},
   "outputs": [
    {
     "data": {
      "text/plain": [
       "Dict{String,String} with 26 entries:\n",
       "  \"HTTPClient.jl\"             => \"15\"\n",
       "  \"JuliaWebAPI.jl\"            => \"106\"\n",
       "  \"HTTP.jl\"                   => \"213\"\n",
       "  \"WebSockets.jl\"             => \"90\"\n",
       "  \"Roadmap\"                   => \"6\"\n",
       "  \"URITemplate.jl\"            => \"2\"\n",
       "  \"Retry.jl\"                  => \"17\"\n",
       "  \"UAParser.jl\"               => \"5\"\n",
       "  \"Requests.jl\"               => \"122\"\n",
       "  \"Gumbo.jl\"                  => \"50\"\n",
       "  \"Mux.jl\"                    => \"164\"\n",
       "  \"HttpParser.jl\"             => \"13\"\n",
       "  \"IPNets.jl\"                 => \"6\"\n",
       "  \"TLSClient.jl\"              => \"0\"\n",
       "  \"GeoIP.jl\"                  => \"18\"\n",
       "  \"HttpServer.jl\"             => \"142\"\n",
       "  \"MbedTLS.jl\"                => \"14\"\n",
       "  \"GumboBuilder\"              => \"0\"\n",
       "  \"GnuTLS.jl\"                 => \"6\"\n",
       "  \"LibCURL.jl\"                => \"14\"\n",
       "  \"MbedTLSBuilder\"            => \"0\"\n",
       "  \"GitHub.jl\"                 => \"77\"\n",
       "  \"TransportLayerSecurity.jl\" => \"0\"\n",
       "  \"HttpCommon.jl\"             => \"24\"\n",
       "  \"LibCURLBuilder\"            => \"0\"\n",
       "  \"URIParser.jl\"              => \"4\""
      ]
     },
     "execution_count": 8,
     "metadata": {},
     "output_type": "execute_result"
    }
   ],
   "source": [
    "stats\n"
   ]
  },
  {
   "cell_type": "code",
   "execution_count": 9,
   "metadata": {},
   "outputs": [
    {
     "data": {
      "text/plain": [
       "Dict{String,Int64} with 26 entries:\n",
       "  \"HTTPClient.jl\"             => 15\n",
       "  \"JuliaWebAPI.jl\"            => 106\n",
       "  \"HTTP.jl\"                   => 213\n",
       "  \"WebSockets.jl\"             => 90\n",
       "  \"Roadmap\"                   => 6\n",
       "  \"URITemplate.jl\"            => 2\n",
       "  \"Retry.jl\"                  => 17\n",
       "  \"UAParser.jl\"               => 5\n",
       "  \"Requests.jl\"               => 122\n",
       "  \"Gumbo.jl\"                  => 50\n",
       "  \"Mux.jl\"                    => 164\n",
       "  \"HttpParser.jl\"             => 13\n",
       "  \"IPNets.jl\"                 => 6\n",
       "  \"TLSClient.jl\"              => 0\n",
       "  \"GeoIP.jl\"                  => 18\n",
       "  \"HttpServer.jl\"             => 142\n",
       "  \"MbedTLS.jl\"                => 14\n",
       "  \"GumboBuilder\"              => 0\n",
       "  \"GnuTLS.jl\"                 => 6\n",
       "  \"LibCURL.jl\"                => 14\n",
       "  \"MbedTLSBuilder\"            => 0\n",
       "  \"GitHub.jl\"                 => 77\n",
       "  \"TransportLayerSecurity.jl\" => 0\n",
       "  \"HttpCommon.jl\"             => 24\n",
       "  \"LibCURLBuilder\"            => 0\n",
       "  \"URIParser.jl\"              => 4"
      ]
     },
     "execution_count": 9,
     "metadata": {},
     "output_type": "execute_result"
    }
   ],
   "source": [
    "stats2 = Dict(key => parse(Int64, stats[key]) for key in keys(stats))"
   ]
  },
  {
   "cell_type": "code",
   "execution_count": 10,
   "metadata": {},
   "outputs": [
    {
     "data": {
      "text/plain": [
       "213"
      ]
     },
     "execution_count": 10,
     "metadata": {},
     "output_type": "execute_result"
    }
   ],
   "source": [
    "m = maximum(values(stats2))"
   ]
  },
  {
   "cell_type": "code",
   "execution_count": 11,
   "metadata": {},
   "outputs": [
    {
     "data": {
      "text/plain": [
       "Dict{String,Int64} with 1 entry:\n",
       "  \"HTTP.jl\" => 213"
      ]
     },
     "execution_count": 11,
     "metadata": {},
     "output_type": "execute_result"
    }
   ],
   "source": [
    "filter(x -> x[2] == m, stats2)"
   ]
  },
  {
   "cell_type": "markdown",
   "metadata": {},
   "source": [
    "------------------"
   ]
  },
  {
   "cell_type": "code",
   "execution_count": 13,
   "metadata": {},
   "outputs": [
    {
     "name": "stdout",
     "output_type": "stream",
     "text": [
      "\u001b[32m\u001b[1m  Building\u001b[22m\u001b[39m Conda ─→ `~/.julia/packages/Conda/kLXeC/deps/build.log`\n",
      "\u001b[32m\u001b[1m  Building\u001b[22m\u001b[39m PyCall → `~/.julia/packages/PyCall/ttONZ/deps/build.log`\n"
     ]
    },
    {
     "data": {
      "text/plain": [
       "false"
      ]
     },
     "execution_count": 13,
     "metadata": {},
     "output_type": "execute_result"
    }
   ],
   "source": [
    "#using Pkg; Pkg.add(\"PyCall\"); Pkg.add(\"Conda\")\n",
    "using Pkg;\n",
    "ENV[\"PYTHON\"] = \"/home/nakada/.julia/conda/3/bin/python\"   # 利用するPythonを指定すること\n",
    "Pkg.build(\"PyCall\")"
   ]
  },
  {
   "cell_type": "code",
   "execution_count": 14,
   "metadata": {},
   "outputs": [
    {
     "name": "stderr",
     "output_type": "stream",
     "text": [
      "┌ Info: Recompiling stale cache file /home/nakada/.julia/compiled/v1.2/PyCall/GkzkC.ji for PyCall [438e738f-606a-5dbb-bf0a-cddfbfd45ab0]\n",
      "└ @ Base loading.jl:1240\n",
      "┌ Info: Running `conda install -y scrapy` in root environment\n",
      "└ @ Conda /home/nakada/.julia/packages/Conda/kLXeC/src/Conda.jl:112\n"
     ]
    },
    {
     "name": "stdout",
     "output_type": "stream",
     "text": [
      "Collecting package metadata (current_repodata.json): ...working... done\n",
      "Solving environment: ...working... done\n",
      "\n",
      "# All requested packages already installed.\n",
      "\n"
     ]
    }
   ],
   "source": [
    "using PyCall\n",
    "using Conda\n",
    "Conda.add(\"scrapy\")"
   ]
  },
  {
   "cell_type": "code",
   "execution_count": 15,
   "metadata": {},
   "outputs": [
    {
     "data": {
      "text/plain": [
       "PyObject <module 'scrapy.selector' from '/home/nakada/.julia/conda/3/lib/python3.7/site-packages/scrapy/selector/__init__.py'>"
      ]
     },
     "execution_count": 15,
     "metadata": {},
     "output_type": "execute_result"
    }
   ],
   "source": [
    "ssel = pyimport(\"scrapy.selector\")\n"
   ]
  },
  {
   "cell_type": "code",
   "execution_count": 16,
   "metadata": {},
   "outputs": [
    {
     "data": {
      "text/plain": [
       "PyObject <Selector xpath=None data='<html lang=\"en\">\\n  <head>\\n    <meta char'>"
      ]
     },
     "execution_count": 16,
     "metadata": {},
     "output_type": "execute_result"
    }
   ],
   "source": [
    "s = ssel.Selector(text=page_body)"
   ]
  },
  {
   "cell_type": "code",
   "execution_count": 17,
   "metadata": {},
   "outputs": [
    {
     "data": {
      "text/plain": [
       "26-element Array{PyObject,1}:\n",
       " PyObject <Selector xpath=\"//a[@itemprop='name codeRepository']\" data='<a class=\"d-inline-block\" href=\"/JuliaWe'>\n",
       " PyObject <Selector xpath=\"//a[@itemprop='name codeRepository']\" data='<a class=\"d-inline-block\" href=\"/JuliaWe'>\n",
       " PyObject <Selector xpath=\"//a[@itemprop='name codeRepository']\" data='<a class=\"d-inline-block\" href=\"/JuliaWe'>\n",
       " PyObject <Selector xpath=\"//a[@itemprop='name codeRepository']\" data='<a class=\"d-inline-block\" href=\"/JuliaWe'>\n",
       " PyObject <Selector xpath=\"//a[@itemprop='name codeRepository']\" data='<a class=\"d-inline-block\" href=\"/JuliaWe'>\n",
       " PyObject <Selector xpath=\"//a[@itemprop='name codeRepository']\" data='<a class=\"d-inline-block\" href=\"/JuliaWe'>\n",
       " PyObject <Selector xpath=\"//a[@itemprop='name codeRepository']\" data='<a class=\"d-inline-block\" href=\"/JuliaWe'>\n",
       " PyObject <Selector xpath=\"//a[@itemprop='name codeRepository']\" data='<a class=\"d-inline-block\" href=\"/JuliaWe'>\n",
       " PyObject <Selector xpath=\"//a[@itemprop='name codeRepository']\" data='<a class=\"d-inline-block\" href=\"/JuliaWe'>\n",
       " PyObject <Selector xpath=\"//a[@itemprop='name codeRepository']\" data='<a class=\"d-inline-block\" href=\"/JuliaWe'>\n",
       " PyObject <Selector xpath=\"//a[@itemprop='name codeRepository']\" data='<a class=\"d-inline-block\" href=\"/JuliaWe'>\n",
       " PyObject <Selector xpath=\"//a[@itemprop='name codeRepository']\" data='<a class=\"d-inline-block\" href=\"/JuliaWe'>\n",
       " PyObject <Selector xpath=\"//a[@itemprop='name codeRepository']\" data='<a class=\"d-inline-block\" href=\"/JuliaWe'>\n",
       " PyObject <Selector xpath=\"//a[@itemprop='name codeRepository']\" data='<a class=\"d-inline-block\" href=\"/JuliaWe'>\n",
       " PyObject <Selector xpath=\"//a[@itemprop='name codeRepository']\" data='<a class=\"d-inline-block\" href=\"/JuliaWe'>\n",
       " PyObject <Selector xpath=\"//a[@itemprop='name codeRepository']\" data='<a class=\"d-inline-block\" href=\"/JuliaWe'>\n",
       " PyObject <Selector xpath=\"//a[@itemprop='name codeRepository']\" data='<a class=\"d-inline-block\" href=\"/JuliaWe'>\n",
       " PyObject <Selector xpath=\"//a[@itemprop='name codeRepository']\" data='<a class=\"d-inline-block\" href=\"/JuliaWe'>\n",
       " PyObject <Selector xpath=\"//a[@itemprop='name codeRepository']\" data='<a class=\"d-inline-block\" href=\"/JuliaWe'>\n",
       " PyObject <Selector xpath=\"//a[@itemprop='name codeRepository']\" data='<a class=\"d-inline-block\" href=\"/JuliaWe'>\n",
       " PyObject <Selector xpath=\"//a[@itemprop='name codeRepository']\" data='<a class=\"d-inline-block\" href=\"/JuliaWe'>\n",
       " PyObject <Selector xpath=\"//a[@itemprop='name codeRepository']\" data='<a class=\"d-inline-block\" href=\"/JuliaWe'>\n",
       " PyObject <Selector xpath=\"//a[@itemprop='name codeRepository']\" data='<a class=\"d-inline-block\" href=\"/JuliaWe'>\n",
       " PyObject <Selector xpath=\"//a[@itemprop='name codeRepository']\" data='<a class=\"d-inline-block\" href=\"/JuliaWe'>\n",
       " PyObject <Selector xpath=\"//a[@itemprop='name codeRepository']\" data='<a class=\"d-inline-block\" href=\"/JuliaWe'>\n",
       " PyObject <Selector xpath=\"//a[@itemprop='name codeRepository']\" data='<a class=\"d-inline-block\" href=\"/JuliaWe'>"
      ]
     },
     "execution_count": 17,
     "metadata": {},
     "output_type": "execute_result"
    }
   ],
   "source": [
    "elems = s.xpath(\"//a[@itemprop='name codeRepository']\")"
   ]
  },
  {
   "cell_type": "code",
   "execution_count": 18,
   "metadata": {},
   "outputs": [
    {
     "data": {
      "text/plain": [
       "\"HTTP.jl\""
      ]
     },
     "execution_count": 18,
     "metadata": {},
     "output_type": "execute_result"
    }
   ],
   "source": [
    "strip(elems[1].xpath(\"text()\")[1].extract())"
   ]
  },
  {
   "cell_type": "code",
   "execution_count": 19,
   "metadata": {},
   "outputs": [
    {
     "data": {
      "text/plain": [
       "\"Mux.jl\""
      ]
     },
     "execution_count": 19,
     "metadata": {},
     "output_type": "execute_result"
    }
   ],
   "source": [
    "strip(elems[2].xpath(\"text()\")[1].extract())"
   ]
  },
  {
   "cell_type": "code",
   "execution_count": 20,
   "metadata": {},
   "outputs": [
    {
     "data": {
      "text/plain": [
       "\"/JuliaWeb/HTTP.jl\""
      ]
     },
     "execution_count": 20,
     "metadata": {},
     "output_type": "execute_result"
    }
   ],
   "source": [
    "a = elems[1].xpath(\"@href\")[1].extract()"
   ]
  },
  {
   "cell_type": "code",
   "execution_count": 21,
   "metadata": {},
   "outputs": [
    {
     "data": {
      "text/plain": [
       "\"/JuliaWeb/Mux.jl\""
      ]
     },
     "execution_count": 21,
     "metadata": {},
     "output_type": "execute_result"
    }
   ],
   "source": [
    "a = elems[2].xpath(\"@href\")[1].extract()"
   ]
  },
  {
   "cell_type": "code",
   "execution_count": null,
   "metadata": {},
   "outputs": [],
   "source": []
  },
  {
   "cell_type": "code",
   "execution_count": null,
   "metadata": {},
   "outputs": [],
   "source": []
  }
 ],
 "metadata": {
  "@webio": {
   "lastCommId": null,
   "lastKernelId": null
  },
  "kernelspec": {
   "display_name": "Julia 1.2.0",
   "language": "julia",
   "name": "julia-1.2"
  },
  "language_info": {
   "file_extension": ".jl",
   "mimetype": "application/julia",
   "name": "julia",
   "version": "1.2.0"
  }
 },
 "nbformat": 4,
 "nbformat_minor": 2
}

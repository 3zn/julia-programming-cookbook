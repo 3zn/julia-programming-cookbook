{
 "cells": [
  {
   "cell_type": "code",
   "execution_count": 1,
   "metadata": {},
   "outputs": [
    {
     "name": "stdout",
     "output_type": "stream",
     "text": [
      "\u001b[32m\u001b[1m  Updating\u001b[22m\u001b[39m registry at `~/.julia/registries/General`\n",
      "\u001b[32m\u001b[1m  Updating\u001b[22m\u001b[39m git-repo `https://github.com/JuliaRegistries/General.git`\n",
      "\u001b[?25l\u001b[2K\u001b[?25h\u001b[32m\u001b[1m Resolving\u001b[22m\u001b[39m package versions...\n",
      "\u001b[32m\u001b[1m Installed\u001b[22m\u001b[39m ZipFile ─ v0.8.3\n",
      "\u001b[32m\u001b[1m Installed\u001b[22m\u001b[39m XLSX ──── v0.5.5\n",
      "\u001b[32m\u001b[1m  Updating\u001b[22m\u001b[39m `~/.julia/environments/v1.2/Project.toml`\n",
      " \u001b[90m [fdbf4ff8]\u001b[39m\u001b[92m + XLSX v0.5.5\u001b[39m\n",
      "\u001b[32m\u001b[1m  Updating\u001b[22m\u001b[39m `~/.julia/environments/v1.2/Manifest.toml`\n",
      " \u001b[90m [fdbf4ff8]\u001b[39m\u001b[92m + XLSX v0.5.5\u001b[39m\n",
      " \u001b[90m [a5390f91]\u001b[39m\u001b[92m + ZipFile v0.8.3\u001b[39m\n",
      "\u001b[32m\u001b[1m  Building\u001b[22m\u001b[39m ZipFile → `~/.julia/packages/ZipFile/oD4uG/deps/build.log`\n"
     ]
    }
   ],
   "source": [
    "using Pkg; #Pkg.add(\"PyCall\"); Pkg.add(\"Conda\"); Pkg.add(\"DataFrames\"); Pkg.add(\"XLSX\")"
   ]
  },
  {
   "cell_type": "code",
   "execution_count": 2,
   "metadata": {},
   "outputs": [
    {
     "name": "stderr",
     "output_type": "stream",
     "text": [
      "┌ Info: Running `conda install -y openpyxl` in root environment\n",
      "└ @ Conda /home/nakada/.julia/packages/Conda/kLXeC/src/Conda.jl:112\n"
     ]
    },
    {
     "name": "stdout",
     "output_type": "stream",
     "text": [
      "Collecting package metadata (current_repodata.json): ...working... done\n",
      "Solving environment: ...working... done\n",
      "\n",
      "## Package Plan ##\n",
      "\n",
      "  environment location: /home/nakada/.julia/conda/3\n",
      "\n",
      "  added / updated specs:\n",
      "    - openpyxl\n",
      "\n",
      "\n",
      "The following packages will be downloaded:\n",
      "\n",
      "    package                    |            build\n",
      "    ---------------------------|-----------------\n",
      "    et_xmlfile-1.0.1           |           py37_0          21 KB\n",
      "    jdcal-1.4.1                |             py_0          11 KB\n",
      "    openpyxl-2.6.2             |             py_0         157 KB\n",
      "    ------------------------------------------------------------\n",
      "                                           Total:         189 KB\n",
      "\n",
      "The following NEW packages will be INSTALLED:\n",
      "\n",
      "  et_xmlfile         pkgs/main/linux-64::et_xmlfile-1.0.1-py37_0\n",
      "  jdcal              pkgs/main/noarch::jdcal-1.4.1-py_0\n",
      "  openpyxl           pkgs/main/noarch::openpyxl-2.6.2-py_0\n",
      "\n",
      "\n",
      "\n",
      "Downloading and Extracting Packages\n",
      "openpyxl-2.6.2       | 157 KB    | ########## | 100% \n",
      "jdcal-1.4.1          | 11 KB     | ########## | 100% \n",
      "et_xmlfile-1.0.1     | 21 KB     | ########## | 100% \n",
      "Preparing transaction: ...working... done\n",
      "Verifying transaction: ...working... done\n",
      "Executing transaction: ...working... done\n"
     ]
    }
   ],
   "source": [
    "using Conda\n",
    "Conda.add(\"openpyxl\")"
   ]
  },
  {
   "cell_type": "code",
   "execution_count": 3,
   "metadata": {},
   "outputs": [
    {
     "data": {
      "text/plain": [
       "PyObject <module 'openpyxl' from '/home/nakada/.julia/conda/3/lib/python3.7/site-packages/openpyxl/__init__.py'>"
      ]
     },
     "execution_count": 3,
     "metadata": {},
     "output_type": "execute_result"
    }
   ],
   "source": [
    "using PyCall\n",
    "using Dates\n",
    "using Random\n",
    "xl = pyimport(\"openpyxl\")"
   ]
  },
  {
   "cell_type": "code",
   "execution_count": 4,
   "metadata": {},
   "outputs": [
    {
     "data": {
      "text/plain": [
       "PyObject <Worksheet \"Sheet\">"
      ]
     },
     "execution_count": 4,
     "metadata": {},
     "output_type": "execute_result"
    }
   ],
   "source": [
    "wb = xl.Workbook();\n",
    "ws = wb.active"
   ]
  },
  {
   "cell_type": "code",
   "execution_count": 5,
   "metadata": {},
   "outputs": [
    {
     "data": {
      "text/plain": [
       "PyObject <Cell 'Sheet'.A1>"
      ]
     },
     "execution_count": 5,
     "metadata": {},
     "output_type": "execute_result"
    }
   ],
   "source": [
    "ws.cell(1, 1, \"Data generated on:\")"
   ]
  },
  {
   "cell_type": "code",
   "execution_count": 6,
   "metadata": {},
   "outputs": [
    {
     "data": {
      "text/plain": [
       "PyObject <Cell 'Sheet'.A2>"
      ]
     },
     "execution_count": 6,
     "metadata": {},
     "output_type": "execute_result"
    }
   ],
   "source": [
    "ws.cell(2, 1, Dates.now())"
   ]
  },
  {
   "cell_type": "code",
   "execution_count": 7,
   "metadata": {},
   "outputs": [],
   "source": [
    "Random.seed!(0)\n",
    "dat = rand(3, 5)\n",
    "for i in 1:size(dat)[1]\n",
    "    ws.append((dat[i, :]..., ))\n",
    "end"
   ]
  },
  {
   "cell_type": "code",
   "execution_count": 8,
   "metadata": {},
   "outputs": [],
   "source": [
    "wb.save(\"sample1.xlsx\")"
   ]
  },
  {
   "cell_type": "code",
   "execution_count": 9,
   "metadata": {},
   "outputs": [
    {
     "data": {
      "text/plain": [
       "PyObject <Worksheet \"Sheet\">"
      ]
     },
     "execution_count": 9,
     "metadata": {},
     "output_type": "execute_result"
    }
   ],
   "source": [
    "wb = xl.load_workbook(filename = \"sample1.xlsx\")\n",
    "ws = wb.active"
   ]
  },
  {
   "cell_type": "code",
   "execution_count": 10,
   "metadata": {},
   "outputs": [
    {
     "name": "stdout",
     "output_type": "stream",
     "text": [
      "Data generated on:\n",
      "2019-09-01T08:49:13.819\n"
     ]
    }
   ],
   "source": [
    "println(ws.cell(1, 1).value, \"\\n\", ws.cell(2, 1).value)"
   ]
  },
  {
   "cell_type": "code",
   "execution_count": 11,
   "metadata": {},
   "outputs": [
    {
     "data": {
      "text/plain": [
       "DateTime"
      ]
     },
     "execution_count": 11,
     "metadata": {},
     "output_type": "execute_result"
    }
   ],
   "source": [
    "typeof(ws.cell(2, 1).value)"
   ]
  },
  {
   "cell_type": "code",
   "execution_count": 12,
   "metadata": {},
   "outputs": [
    {
     "data": {
      "text/plain": [
       "true"
      ]
     },
     "execution_count": 12,
     "metadata": {},
     "output_type": "execute_result"
    }
   ],
   "source": [
    "ws.cell(20, 221).value == nothing"
   ]
  },
  {
   "cell_type": "code",
   "execution_count": 13,
   "metadata": {},
   "outputs": [
    {
     "name": "stdout",
     "output_type": "stream",
     "text": [
      "|\"Data generated on:\"|nothing|nothing|nothing|nothing|\n",
      "|2019-09-01T08:49:13.819|nothing|nothing|nothing|nothing|\n",
      "|0.824|0.177|0.042|0.973|0.260|\n",
      "|0.910|0.279|0.068|0.586|0.910|\n",
      "|0.165|0.203|0.362|0.539|0.167|\n"
     ]
    }
   ],
   "source": [
    "using Printf\n",
    "\n",
    "wb = xl.load_workbook(filename = \"sample1.xlsx\")\n",
    "ws = wb.active\n",
    "\n",
    "for row in ws.rows\n",
    "    for cell in row\n",
    "        print(\"|\")\n",
    "        if typeof(cell.value) <: Number\n",
    "            @printf(\"%.3f\", cell.value)\n",
    "        else\n",
    "            show(cell.value)\n",
    "        end\n",
    "    end\n",
    "    println(\"|\")\n",
    "end"
   ]
  },
  {
   "cell_type": "code",
   "execution_count": 14,
   "metadata": {},
   "outputs": [],
   "source": [
    "wb.close()"
   ]
  },
  {
   "cell_type": "markdown",
   "metadata": {},
   "source": [
    "-----"
   ]
  },
  {
   "cell_type": "code",
   "execution_count": 15,
   "metadata": {},
   "outputs": [
    {
     "name": "stderr",
     "output_type": "stream",
     "text": [
      "┌ Info: Precompiling XLSX [fdbf4ff8-1666-58a4-91e7-1b58723a45e0]\n",
      "└ @ Base loading.jl:1242\n"
     ]
    }
   ],
   "source": [
    "using XLSX"
   ]
  },
  {
   "cell_type": "code",
   "execution_count": 16,
   "metadata": {},
   "outputs": [],
   "source": [
    "XLSX.openxlsx(\"sample2.xlsx\", mode=\"w\") do xf\n",
    "    sheet = xf[1]\n",
    "    XLSX.rename!(sheet, \"SheetName\")\n",
    "    sheet[\"A1\"] = \"Data generated on:\"\n",
    "    sheet[\"A2\"] = Dates.now()\n",
    "    dat = rand(3, 5)\n",
    "    for row in 1:3\n",
    "        for col in 1:5\n",
    "            XLSX.setdata!(sheet, XLSX.CellRef(2+row, col), rand())\n",
    "        end \n",
    "    end\n",
    "end"
   ]
  },
  {
   "cell_type": "code",
   "execution_count": 17,
   "metadata": {},
   "outputs": [
    {
     "data": {
      "text/plain": [
       "XLSXFile(\"sample2.xlsx\") containing 1 Worksheets\n",
       "            sheetname size          range        \n",
       "-------------------------------------------------\n",
       "            SheetName 5x5           A1:E5        \n"
      ]
     },
     "execution_count": 17,
     "metadata": {},
     "output_type": "execute_result"
    }
   ],
   "source": [
    "wb = XLSX.readxlsx(\"sample2.xlsx\")"
   ]
  },
  {
   "cell_type": "code",
   "execution_count": 18,
   "metadata": {},
   "outputs": [
    {
     "data": {
      "text/plain": [
       "\"SheetName\""
      ]
     },
     "execution_count": 18,
     "metadata": {},
     "output_type": "execute_result"
    }
   ],
   "source": [
    "sheetname = XLSX.sheetnames(wb)[1]"
   ]
  },
  {
   "cell_type": "code",
   "execution_count": 19,
   "metadata": {},
   "outputs": [
    {
     "data": {
      "text/plain": [
       "5×5 XLSX.Worksheet: [\"SheetName\"](A1:E5)"
      ]
     },
     "execution_count": 19,
     "metadata": {},
     "output_type": "execute_result"
    }
   ],
   "source": [
    "ws = wb[sheetname]"
   ]
  },
  {
   "cell_type": "code",
   "execution_count": 20,
   "metadata": {},
   "outputs": [
    {
     "data": {
      "text/plain": [
       "A1:E5"
      ]
     },
     "execution_count": 20,
     "metadata": {},
     "output_type": "execute_result"
    }
   ],
   "source": [
    "dim = ws.dimension"
   ]
  },
  {
   "cell_type": "code",
   "execution_count": 21,
   "metadata": {},
   "outputs": [
    {
     "data": {
      "text/plain": [
       "5×5 Array{Any,2}:\n",
       "  \"Data generated on:\"   missing   missing    missing   missing \n",
       "  2019-09-01T08:50:00    missing   missing    missing   missing \n",
       " 0.838118               0.914712  0.300075   0.72285   0.119653 \n",
       " 0.76707                0.801924  0.0353445  0.484661  0.899199 \n",
       " 0.951691               0.801119  0.124323   0.114269  0.0795545"
      ]
     },
     "execution_count": 21,
     "metadata": {},
     "output_type": "execute_result"
    }
   ],
   "source": [
    "ws[dim]"
   ]
  },
  {
   "cell_type": "code",
   "execution_count": 22,
   "metadata": {},
   "outputs": [],
   "source": [
    "XLSX.close(wb)"
   ]
  },
  {
   "cell_type": "code",
   "execution_count": 23,
   "metadata": {},
   "outputs": [],
   "source": [
    "using DataFrames\n",
    "df1 = DataFrame(a=[1, 2, 3], b=[4, 5, 6]);\n",
    "df2 = DataFrame(x1=[1, 2, 3], x2=[\"A\", \"B\", \"C\"]);"
   ]
  },
  {
   "cell_type": "code",
   "execution_count": 24,
   "metadata": {},
   "outputs": [
    {
     "ename": "AssertionError",
     "evalue": "AssertionError: sample3.xlsx already exists.",
     "output_type": "error",
     "traceback": [
      "AssertionError: sample3.xlsx already exists.",
      "",
      "Stacktrace:",
      " [1] #writetable#44(::Bool, ::Base.Iterators.Pairs{Symbol,Tuple{DataFrames.DataFrameColumns{DataFrame,AbstractArray{T,1} where T},Array{Symbol,1}},Tuple{Symbol,Symbol},NamedTuple{(:SheetName1, :SheetName2),Tuple{Tuple{DataFrames.DataFrameColumns{DataFrame,AbstractArray{T,1} where T},Array{Symbol,1}},Tuple{DataFrames.DataFrameColumns{DataFrame,AbstractArray{T,1} where T},Array{Symbol,1}}}}}, ::typeof(XLSX.writetable), ::String) at /home/nakada/.julia/packages/XLSX/FJ07G/src/write.jl:627",
      " [2] (::getfield(XLSX, Symbol(\"#kw##writetable\")))(::NamedTuple{(:SheetName1, :SheetName2),Tuple{Tuple{DataFrames.DataFrameColumns{DataFrame,AbstractArray{T,1} where T},Array{Symbol,1}},Tuple{DataFrames.DataFrameColumns{DataFrame,AbstractArray{T,1} where T},Array{Symbol,1}}}}, ::typeof(XLSX.writetable), ::String) at ./none:0",
      " [3] top-level scope at In[24]:1"
     ]
    }
   ],
   "source": [
    "XLSX.writetable(\"sample3.xlsx\",\n",
    "    SheetName1=( DataFrames.eachcol(df1), DataFrames.names(df1) ),\n",
    "    SheetName2=( DataFrames.eachcol(df2), DataFrames.names(df2) ));\n"
   ]
  },
  {
   "cell_type": "code",
   "execution_count": null,
   "metadata": {},
   "outputs": [],
   "source": []
  }
 ],
 "metadata": {
  "@webio": {
   "lastCommId": null,
   "lastKernelId": null
  },
  "kernelspec": {
   "display_name": "Julia 1.2.0",
   "language": "julia",
   "name": "julia-1.2"
  },
  "language_info": {
   "file_extension": ".jl",
   "mimetype": "application/julia",
   "name": "julia",
   "version": "1.2.0"
  }
 },
 "nbformat": 4,
 "nbformat_minor": 2
}

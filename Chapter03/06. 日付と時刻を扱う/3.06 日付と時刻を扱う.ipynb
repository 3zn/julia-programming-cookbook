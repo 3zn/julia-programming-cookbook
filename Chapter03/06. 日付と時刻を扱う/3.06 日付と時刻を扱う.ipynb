{
 "cells": [
  {
   "cell_type": "code",
   "execution_count": 1,
   "metadata": {},
   "outputs": [],
   "source": [
    "using Dates"
   ]
  },
  {
   "cell_type": "code",
   "execution_count": 2,
   "metadata": {},
   "outputs": [
    {
     "data": {
      "text/plain": [
       "2019-09-01T08:39:58.971"
      ]
     },
     "execution_count": 2,
     "metadata": {},
     "output_type": "execute_result"
    }
   ],
   "source": [
    "ts = Dates.now()"
   ]
  },
  {
   "cell_type": "code",
   "execution_count": 3,
   "metadata": {},
   "outputs": [
    {
     "data": {
      "text/plain": [
       "DateTime"
      ]
     },
     "execution_count": 3,
     "metadata": {},
     "output_type": "execute_result"
    }
   ],
   "source": [
    "typeof(ts)"
   ]
  },
  {
   "cell_type": "code",
   "execution_count": 4,
   "metadata": {},
   "outputs": [
    {
     "data": {
      "text/plain": [
       "2018-08-15"
      ]
     },
     "execution_count": 4,
     "metadata": {},
     "output_type": "execute_result"
    }
   ],
   "source": [
    "Date(2018, 08, 15)"
   ]
  },
  {
   "cell_type": "code",
   "execution_count": 5,
   "metadata": {},
   "outputs": [
    {
     "data": {
      "text/plain": [
       "2018-08-01"
      ]
     },
     "execution_count": 5,
     "metadata": {},
     "output_type": "execute_result"
    }
   ],
   "source": [
    "Date(2018, 8)"
   ]
  },
  {
   "cell_type": "code",
   "execution_count": 6,
   "metadata": {},
   "outputs": [
    {
     "data": {
      "text/plain": [
       "2018-01-01"
      ]
     },
     "execution_count": 6,
     "metadata": {},
     "output_type": "execute_result"
    }
   ],
   "source": [
    "Date(2018)"
   ]
  },
  {
   "cell_type": "code",
   "execution_count": 7,
   "metadata": {},
   "outputs": [
    {
     "data": {
      "text/plain": [
       "2018-08-15T18:22:55.123"
      ]
     },
     "execution_count": 7,
     "metadata": {},
     "output_type": "execute_result"
    }
   ],
   "source": [
    "DateTime(2018, 8, 15, 18, 22, 55, 123)"
   ]
  },
  {
   "cell_type": "code",
   "execution_count": 8,
   "metadata": {},
   "outputs": [
    {
     "data": {
      "text/plain": [
       "2018-08-15"
      ]
     },
     "execution_count": 8,
     "metadata": {},
     "output_type": "execute_result"
    }
   ],
   "source": [
    "dt1 = Date(\"2018-08-15T18:22:55.123\", DateFormat(\"y-m-dTH:M:S.s\"))"
   ]
  },
  {
   "cell_type": "code",
   "execution_count": 9,
   "metadata": {},
   "outputs": [
    {
     "data": {
      "text/plain": [
       "2018-08-15T18:22:55.123"
      ]
     },
     "execution_count": 9,
     "metadata": {},
     "output_type": "execute_result"
    }
   ],
   "source": [
    "dtm1 = DateTime(\"2018-08-15T18:22:55.123\", DateFormat(\"y-m-dTH:M:S.s\"))"
   ]
  },
  {
   "cell_type": "code",
   "execution_count": 10,
   "metadata": {},
   "outputs": [
    {
     "data": {
      "text/plain": [
       "2018-08-16T19:32:55.223"
      ]
     },
     "execution_count": 10,
     "metadata": {},
     "output_type": "execute_result"
    }
   ],
   "source": [
    "dtm2 = DateTime(\"2018-08-16T19:32:55.223\", dateformat\"y-m-dTH:M:S.s\")"
   ]
  },
  {
   "cell_type": "code",
   "execution_count": 11,
   "metadata": {},
   "outputs": [
    {
     "data": {
      "text/plain": [
       "90600100 milliseconds"
      ]
     },
     "execution_count": 11,
     "metadata": {},
     "output_type": "execute_result"
    }
   ],
   "source": [
    "delta = dtm2 - dtm1"
   ]
  },
  {
   "cell_type": "code",
   "execution_count": 12,
   "metadata": {},
   "outputs": [
    {
     "data": {
      "text/plain": [
       "Millisecond"
      ]
     },
     "execution_count": 12,
     "metadata": {},
     "output_type": "execute_result"
    }
   ],
   "source": [
    "typeof(delta)"
   ]
  },
  {
   "cell_type": "code",
   "execution_count": 13,
   "metadata": {},
   "outputs": [
    {
     "data": {
      "text/plain": [
       "28 days"
      ]
     },
     "execution_count": 13,
     "metadata": {},
     "output_type": "execute_result"
    }
   ],
   "source": [
    "Date(\"2018-03-01\") - Date(\"2018-02-01\")"
   ]
  },
  {
   "cell_type": "code",
   "execution_count": 14,
   "metadata": {},
   "outputs": [
    {
     "data": {
      "text/plain": [
       "2019-12-19T21:22:55.123"
      ]
     },
     "execution_count": 14,
     "metadata": {},
     "output_type": "execute_result"
    }
   ],
   "source": [
    "dtm1 + Year(1) + Month(4) + Day(4) + Hour(3)"
   ]
  },
  {
   "cell_type": "code",
   "execution_count": 15,
   "metadata": {},
   "outputs": [
    {
     "data": {
      "text/plain": [
       "2018-08-16T18:22:55.123"
      ]
     },
     "execution_count": 15,
     "metadata": {},
     "output_type": "execute_result"
    }
   ],
   "source": [
    "dtm1 + Millisecond(24*3600*1000)"
   ]
  },
  {
   "cell_type": "code",
   "execution_count": 16,
   "metadata": {},
   "outputs": [
    {
     "data": {
      "text/plain": [
       "3 years, 2 months, 12 days, 3 hours"
      ]
     },
     "execution_count": 16,
     "metadata": {},
     "output_type": "execute_result"
    }
   ],
   "source": [
    "Year(1)*3 + Month(4)/2 + Day(4)*3 + Hour(3)"
   ]
  },
  {
   "cell_type": "code",
   "execution_count": 17,
   "metadata": {},
   "outputs": [
    {
     "data": {
      "text/plain": [
       "2 days"
      ]
     },
     "execution_count": 17,
     "metadata": {},
     "output_type": "execute_result"
    }
   ],
   "source": [
    "Day(4)/2"
   ]
  },
  {
   "cell_type": "code",
   "execution_count": 18,
   "metadata": {},
   "outputs": [
    {
     "ename": "InexactError",
     "evalue": "InexactError: Int64(0.5)",
     "output_type": "error",
     "traceback": [
      "InexactError: Int64(0.5)",
      "",
      "Stacktrace:",
      " [1] Type at ./float.jl:703 [inlined]",
      " [2] convert at ./number.jl:7 [inlined]",
      " [3] Type at /buildworker/worker/package_linux64/build/usr/share/julia/stdlib/v1.2/Dates/src/types.jl:27 [inlined]",
      " [4] /(::Day, ::Int64) at /buildworker/worker/package_linux64/build/usr/share/julia/stdlib/v1.2/Dates/src/periods.jl:81",
      " [5] top-level scope at In[18]:1"
     ]
    }
   ],
   "source": [
    "Day(4)/8"
   ]
  },
  {
   "cell_type": "code",
   "execution_count": 19,
   "metadata": {},
   "outputs": [
    {
     "ename": "InexactError",
     "evalue": "InexactError: Int64(0.5)",
     "output_type": "error",
     "traceback": [
      "InexactError: Int64(0.5)",
      "",
      "Stacktrace:",
      " [1] Type at ./float.jl:703 [inlined]",
      " [2] *(::Day, ::Float64) at /buildworker/worker/package_linux64/build/usr/share/julia/stdlib/v1.2/Dates/src/periods.jl:92",
      " [3] top-level scope at In[19]:1"
     ]
    }
   ],
   "source": [
    "Day(4)*0.5"
   ]
  },
  {
   "cell_type": "code",
   "execution_count": 20,
   "metadata": {},
   "outputs": [
    {
     "data": {
      "text/plain": [
       "2018-08-15"
      ]
     },
     "execution_count": 20,
     "metadata": {},
     "output_type": "execute_result"
    }
   ],
   "source": [
    "d1 = Date(\"2018-08-15\") "
   ]
  },
  {
   "cell_type": "code",
   "execution_count": 21,
   "metadata": {},
   "outputs": [
    {
     "name": "stdout",
     "output_type": "stream",
     "text": [
      "Date\n",
      "  instant: Dates.UTInstant{Day}\n",
      "    periods: Day\n",
      "      value: Int64 736921\n"
     ]
    }
   ],
   "source": [
    "dump(d1)"
   ]
  },
  {
   "cell_type": "code",
   "execution_count": 22,
   "metadata": {},
   "outputs": [
    {
     "data": {
      "text/plain": [
       "2018-08-15"
      ]
     },
     "execution_count": 22,
     "metadata": {},
     "output_type": "execute_result"
    }
   ],
   "source": [
    "d1 = Date(\"2018-08-15\")"
   ]
  },
  {
   "cell_type": "code",
   "execution_count": 23,
   "metadata": {},
   "outputs": [
    {
     "data": {
      "text/plain": [
       "0001-01-01"
      ]
     },
     "execution_count": 23,
     "metadata": {},
     "output_type": "execute_result"
    }
   ],
   "source": [
    "d1 - Day(d1.instant.periods.value)+Day(1)"
   ]
  },
  {
   "cell_type": "code",
   "execution_count": 24,
   "metadata": {},
   "outputs": [
    {
     "data": {
      "text/plain": [
       "2018-08-15T18:22:55.123"
      ]
     },
     "execution_count": 24,
     "metadata": {},
     "output_type": "execute_result"
    }
   ],
   "source": [
    "dt = DateTime(\"2018-08-15T18:22:55.123\")"
   ]
  },
  {
   "cell_type": "code",
   "execution_count": 25,
   "metadata": {},
   "outputs": [
    {
     "name": "stdout",
     "output_type": "stream",
     "text": [
      "DateTime\n",
      "  instant: Dates.UTInstant{Millisecond}\n",
      "    periods: Millisecond\n",
      "      value: Int64 63670040575123\n"
     ]
    }
   ],
   "source": [
    "dump(dt)"
   ]
  },
  {
   "cell_type": "code",
   "execution_count": 26,
   "metadata": {},
   "outputs": [
    {
     "data": {
      "text/plain": [
       "0001-01-01T00:00:00"
      ]
     },
     "execution_count": 26,
     "metadata": {},
     "output_type": "execute_result"
    }
   ],
   "source": [
    "dt = DateTime(\"2018-08-15T18:22:55.123\");\n",
    "dt - Millisecond(dt.instant.periods.value) + Day(1) "
   ]
  },
  {
   "cell_type": "code",
   "execution_count": 27,
   "metadata": {},
   "outputs": [
    {
     "data": {
      "text/plain": [
       "2008-02-29"
      ]
     },
     "execution_count": 27,
     "metadata": {},
     "output_type": "execute_result"
    }
   ],
   "source": [
    "Date(2008,1,31) + Month(1)"
   ]
  },
  {
   "cell_type": "code",
   "execution_count": 28,
   "metadata": {},
   "outputs": [
    {
     "data": {
      "text/plain": [
       "2008-01-29"
      ]
     },
     "execution_count": 28,
     "metadata": {},
     "output_type": "execute_result"
    }
   ],
   "source": [
    "Date(2008,1,31) + Month(1) - Month(1)"
   ]
  },
  {
   "cell_type": "code",
   "execution_count": 29,
   "metadata": {},
   "outputs": [
    {
     "data": {
      "text/plain": [
       "2008-01-31"
      ]
     },
     "execution_count": 29,
     "metadata": {},
     "output_type": "execute_result"
    }
   ],
   "source": [
    "Date(2008,1,31) + (Month(1) - Month(1))"
   ]
  },
  {
   "cell_type": "code",
   "execution_count": 30,
   "metadata": {},
   "outputs": [
    {
     "name": "stdout",
     "output_type": "stream",
     "text": [
      "\u001b[32m\u001b[1m  Updating\u001b[22m\u001b[39m registry at `~/.julia/registries/General`\n",
      "\u001b[32m\u001b[1m  Updating\u001b[22m\u001b[39m git-repo `https://github.com/JuliaRegistries/General.git`\n",
      "\u001b[?25l\u001b[2K\u001b[?25h\u001b[32m\u001b[1m Resolving\u001b[22m\u001b[39m package versions...\n",
      "\u001b[32m\u001b[1m Installed\u001b[22m\u001b[39m Mocking ─── v0.6.0\n",
      "\u001b[32m\u001b[1m Installed\u001b[22m\u001b[39m EzXML ───── v0.9.4\n",
      "\u001b[32m\u001b[1m Installed\u001b[22m\u001b[39m TimeZones ─ v0.9.2\n",
      "\u001b[32m\u001b[1m  Updating\u001b[22m\u001b[39m `~/.julia/environments/v1.2/Project.toml`\n",
      " \u001b[90m [f269a46b]\u001b[39m\u001b[92m + TimeZones v0.9.2\u001b[39m\n",
      "\u001b[32m\u001b[1m  Updating\u001b[22m\u001b[39m `~/.julia/environments/v1.2/Manifest.toml`\n",
      " \u001b[90m [8f5d6c58]\u001b[39m\u001b[92m + EzXML v0.9.4\u001b[39m\n",
      " \u001b[90m [78c3b35d]\u001b[39m\u001b[92m + Mocking v0.6.0\u001b[39m\n",
      " \u001b[90m [f269a46b]\u001b[39m\u001b[92m + TimeZones v0.9.2\u001b[39m\n",
      "\u001b[32m\u001b[1m  Building\u001b[22m\u001b[39m EzXML ────→ `~/.julia/packages/EzXML/G0JeY/deps/build.log`\n",
      "\u001b[32m\u001b[1m  Building\u001b[22m\u001b[39m TimeZones → `~/.julia/packages/TimeZones/M8H2J/deps/build.log`\n"
     ]
    }
   ],
   "source": [
    "using Pkg\n",
    "Pkg.add(\"TimeZones\")\n",
    "using TimeZones"
   ]
  },
  {
   "cell_type": "code",
   "execution_count": 31,
   "metadata": {},
   "outputs": [
    {
     "data": {
      "text/plain": [
       "2017-11-14T11:03:53+01:00"
      ]
     },
     "execution_count": 31,
     "metadata": {},
     "output_type": "execute_result"
    }
   ],
   "source": [
    "dtz = parse(ZonedDateTime, \"2017-11-14 11:03:53 +0100\",\n",
    "                        dateformat\"yyyy-mm-dd HH:MM:SS zzzzz\")"
   ]
  },
  {
   "cell_type": "code",
   "execution_count": 32,
   "metadata": {},
   "outputs": [
    {
     "data": {
      "text/plain": [
       "2018-08-22T09:22:07-01:00"
      ]
     },
     "execution_count": 32,
     "metadata": {},
     "output_type": "execute_result"
    }
   ],
   "source": [
    "dtz = parse(ZonedDateTime, \"22/Aug/2018:09:22:07 -0100\",\n",
    "                      DateFormat(\"dd/uuu/yyyy:H:M:S zzzzz\"))"
   ]
  },
  {
   "cell_type": "code",
   "execution_count": 33,
   "metadata": {},
   "outputs": [
    {
     "name": "stdout",
     "output_type": "stream",
     "text": [
      "ZonedDateTime\n",
      "  utc_datetime: DateTime\n",
      "    instant: Dates.UTInstant{Millisecond}\n",
      "      periods: Millisecond\n",
      "        value: Int64 63670616527000\n",
      "  timezone: FixedTimeZone\n",
      "    name: String \"UTC-01:00\"\n",
      "    offset: TimeZones.UTCOffset\n",
      "      std: Second\n",
      "        value: Int64 -3600\n",
      "      dst: Second\n",
      "        value: Int64 0\n",
      "  zone: FixedTimeZone\n",
      "    name: String \"UTC-01:00\"\n",
      "    offset: TimeZones.UTCOffset\n",
      "      std: Second\n",
      "        value: Int64 -3600\n",
      "      dst: Second\n",
      "        value: Int64 0\n"
     ]
    }
   ],
   "source": [
    "dump(dtz)"
   ]
  },
  {
   "cell_type": "code",
   "execution_count": null,
   "metadata": {},
   "outputs": [],
   "source": []
  }
 ],
 "metadata": {
  "@webio": {
   "lastCommId": null,
   "lastKernelId": null
  },
  "kernelspec": {
   "display_name": "Julia 1.2.0",
   "language": "julia",
   "name": "julia-1.2"
  },
  "language_info": {
   "file_extension": ".jl",
   "mimetype": "application/julia",
   "name": "julia",
   "version": "1.2.0"
  }
 },
 "nbformat": 4,
 "nbformat_minor": 2
}

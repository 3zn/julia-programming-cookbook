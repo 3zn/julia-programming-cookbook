{
 "cells": [
  {
   "cell_type": "code",
   "execution_count": 1,
   "metadata": {},
   "outputs": [
    {
     "data": {
      "text/plain": [
       "splitstring (generic function with 1 method)"
      ]
     },
     "execution_count": 1,
     "metadata": {},
     "output_type": "execute_result"
    }
   ],
   "source": [
    "function splitstring(s::AbstractString)\n",
    "    bufs = [IOBuffer() for i in 1:2]\n",
    "    idx = 1\n",
    "    for c in s\n",
    "        write(bufs[idx], c)\n",
    "        idx = 3 - idx\n",
    "    end\n",
    "    @. String(take!(bufs))\n",
    "end"
   ]
  },
  {
   "cell_type": "code",
   "execution_count": 2,
   "metadata": {},
   "outputs": [
    {
     "data": {
      "text/plain": [
       "\"1-2-3-4-5-6-7-8-9\""
      ]
     },
     "execution_count": 2,
     "metadata": {},
     "output_type": "execute_result"
    }
   ],
   "source": [
    "s = join('1':'9', \"-\")"
   ]
  },
  {
   "cell_type": "code",
   "execution_count": 3,
   "metadata": {},
   "outputs": [
    {
     "data": {
      "text/plain": [
       "2-element Array{String,1}:\n",
       " \"123456789\"\n",
       " \"--------\" "
      ]
     },
     "execution_count": 3,
     "metadata": {},
     "output_type": "execute_result"
    }
   ],
   "source": [
    "splitstring(s)"
   ]
  },
  {
   "cell_type": "code",
   "execution_count": 4,
   "metadata": {},
   "outputs": [
    {
     "data": {
      "text/plain": [
       "splitstring1 (generic function with 1 method)"
      ]
     },
     "execution_count": 4,
     "metadata": {},
     "output_type": "execute_result"
    }
   ],
   "source": [
    "function splitstring1(s::AbstractString)\n",
    "    bufs = [Char[] for i in 1:2]\n",
    "    idx = 1\n",
    "    for c in s\n",
    "        push!(bufs[idx], c)\n",
    "        idx = 3 - idx\n",
    "    end\n",
    "    join.(bufs)\n",
    "end"
   ]
  },
  {
   "cell_type": "code",
   "execution_count": 5,
   "metadata": {},
   "outputs": [
    {
     "data": {
      "text/plain": [
       "splitstring2 (generic function with 1 method)"
      ]
     },
     "execution_count": 5,
     "metadata": {},
     "output_type": "execute_result"
    }
   ],
   "source": [
    "function splitstring2(s::AbstractString)\n",
    "    bufs = [\"\" for i in 1:2]\n",
    "    idx = 1\n",
    "    for c in s\n",
    "        bufs[idx] *= c\n",
    "        idx = 3 - idx\n",
    "    end\n",
    "    bufs\n",
    "end"
   ]
  },
  {
   "cell_type": "code",
   "execution_count": 6,
   "metadata": {},
   "outputs": [],
   "source": [
    "using BenchmarkTools"
   ]
  },
  {
   "cell_type": "code",
   "execution_count": 7,
   "metadata": {},
   "outputs": [
    {
     "data": {
      "text/plain": [
       "BenchmarkTools.Trial: \n",
       "  memory estimate:  704 bytes\n",
       "  allocs estimate:  10\n",
       "  --------------\n",
       "  minimum time:     310.040 ns (0.00% GC)\n",
       "  median time:      332.129 ns (0.00% GC)\n",
       "  mean time:        412.910 ns (11.24% GC)\n",
       "  maximum time:     157.963 μs (99.56% GC)\n",
       "  --------------\n",
       "  samples:          10000\n",
       "  evals/sample:     249"
      ]
     },
     "execution_count": 7,
     "metadata": {},
     "output_type": "execute_result"
    }
   ],
   "source": [
    "@benchmark splitstring($s)"
   ]
  },
  {
   "cell_type": "code",
   "execution_count": 8,
   "metadata": {},
   "outputs": [
    {
     "data": {
      "text/plain": [
       "BenchmarkTools.Trial: \n",
       "  memory estimate:  1.00 KiB\n",
       "  allocs estimate:  18\n",
       "  --------------\n",
       "  minimum time:     888.889 ns (0.00% GC)\n",
       "  median time:      965.079 ns (0.00% GC)\n",
       "  mean time:        1.205 μs (13.38% GC)\n",
       "  maximum time:     668.351 μs (99.74% GC)\n",
       "  --------------\n",
       "  samples:          10000\n",
       "  evals/sample:     63"
      ]
     },
     "execution_count": 8,
     "metadata": {},
     "output_type": "execute_result"
    }
   ],
   "source": [
    "@benchmark splitstring1($s)"
   ]
  },
  {
   "cell_type": "code",
   "execution_count": 9,
   "metadata": {},
   "outputs": [
    {
     "data": {
      "text/plain": [
       "BenchmarkTools.Trial: \n",
       "  memory estimate:  1.16 KiB\n",
       "  allocs estimate:  35\n",
       "  --------------\n",
       "  minimum time:     1.310 μs (0.00% GC)\n",
       "  median time:      2.080 μs (0.00% GC)\n",
       "  mean time:        2.693 μs (20.03% GC)\n",
       "  maximum time:     3.940 ms (99.90% GC)\n",
       "  --------------\n",
       "  samples:          10000\n",
       "  evals/sample:     10"
      ]
     },
     "execution_count": 9,
     "metadata": {},
     "output_type": "execute_result"
    }
   ],
   "source": [
    "@benchmark splitstring2($s)"
   ]
  },
  {
   "cell_type": "code",
   "execution_count": null,
   "metadata": {},
   "outputs": [],
   "source": []
  }
 ],
 "metadata": {
  "@webio": {
   "lastCommId": null,
   "lastKernelId": null
  },
  "kernelspec": {
   "display_name": "Julia 1.2.0",
   "language": "julia",
   "name": "julia-1.2"
  },
  "language_info": {
   "file_extension": ".jl",
   "mimetype": "application/julia",
   "name": "julia",
   "version": "1.2.0"
  }
 },
 "nbformat": 4,
 "nbformat_minor": 2
}

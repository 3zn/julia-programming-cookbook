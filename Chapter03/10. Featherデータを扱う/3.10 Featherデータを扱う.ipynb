{
 "cells": [
  {
   "cell_type": "code",
   "execution_count": 11,
   "metadata": {},
   "outputs": [
    {
     "name": "stdout",
     "output_type": "stream",
     "text": [
      "\u001b[32m\u001b[1m Resolving\u001b[22m\u001b[39m package versions...\n",
      "\u001b[32m\u001b[1m Installed\u001b[22m\u001b[39m Requires ──────────── v0.5.2\n",
      "\u001b[32m\u001b[1m Installed\u001b[22m\u001b[39m WinReg ────────────── v0.3.1\n",
      "\u001b[32m\u001b[1m Installed\u001b[22m\u001b[39m RecipesBase ───────── v0.7.0\n",
      "\u001b[32m\u001b[1m Installed\u001b[22m\u001b[39m ShiftedArrays ─────── v0.5.0\n",
      "\u001b[32m\u001b[1m Installed\u001b[22m\u001b[39m OffsetArrays ──────── v0.11.1\n",
      "\u001b[32m\u001b[1m Installed\u001b[22m\u001b[39m RecursiveArrayTools ─ v0.20.0\n",
      "\u001b[32m\u001b[1m Installed\u001b[22m\u001b[39m RCall ─────────────── v0.13.4\n",
      "\u001b[32m\u001b[1m Installed\u001b[22m\u001b[39m StatsModels ───────── v0.6.3\n",
      "\u001b[32m\u001b[1m Installed\u001b[22m\u001b[39m ArrayInterface ────── v0.1.1\n",
      "\u001b[32m\u001b[1m Installed\u001b[22m\u001b[39m StaticArrays ──────── v0.11.0\n",
      "\u001b[32m\u001b[1m  Updating\u001b[22m\u001b[39m `~/.julia/environments/v1.2/Project.toml`\n",
      " \u001b[90m [6f49c342]\u001b[39m\u001b[92m + RCall v0.13.4\u001b[39m\n",
      "\u001b[32m\u001b[1m  Updating\u001b[22m\u001b[39m `~/.julia/environments/v1.2/Manifest.toml`\n",
      " \u001b[90m [4fba245c]\u001b[39m\u001b[92m + ArrayInterface v0.1.1\u001b[39m\n",
      " \u001b[90m [6fe1bfb0]\u001b[39m\u001b[92m + OffsetArrays v0.11.1\u001b[39m\n",
      " \u001b[90m [6f49c342]\u001b[39m\u001b[92m + RCall v0.13.4\u001b[39m\n",
      " \u001b[90m [3cdcf5f2]\u001b[39m\u001b[92m + RecipesBase v0.7.0\u001b[39m\n",
      " \u001b[90m [731186ca]\u001b[39m\u001b[92m + RecursiveArrayTools v0.20.0\u001b[39m\n",
      " \u001b[90m [ae029012]\u001b[39m\u001b[92m + Requires v0.5.2\u001b[39m\n",
      " \u001b[90m [1277b4bf]\u001b[39m\u001b[92m + ShiftedArrays v0.5.0\u001b[39m\n",
      " \u001b[90m [90137ffa]\u001b[39m\u001b[92m + StaticArrays v0.11.0\u001b[39m\n",
      " \u001b[90m [3eaba693]\u001b[39m\u001b[92m + StatsModels v0.6.3\u001b[39m\n",
      " \u001b[90m [1b915085]\u001b[39m\u001b[92m + WinReg v0.3.1\u001b[39m\n",
      "\u001b[32m\u001b[1m  Building\u001b[22m\u001b[39m RCall → `~/.julia/packages/RCall/g7dhB/deps/build.log`\n"
     ]
    },
    {
     "name": "stderr",
     "output_type": "stream",
     "text": [
      "┌ Error: Error building `RCall`: \n",
      "│ ERROR: LoadError: R_HOME is not a directory.\n",
      "│ Stacktrace:\n",
      "│  [1] error(::String) at ./error.jl:33\n",
      "│  [2] top-level scope at /home/nakada/.julia/packages/RCall/g7dhB/deps/build.jl:44\n",
      "│  [3] include at ./boot.jl:328 [inlined]\n",
      "│  [4] include_relative(::Module, ::String) at ./loading.jl:1094\n",
      "│  [5] include(::Module, ::String) at ./Base.jl:31\n",
      "│  [6] include(::String) at ./client.jl:431\n",
      "│  [7] top-level scope at none:5\n",
      "│ in expression starting at /home/nakada/.julia/packages/RCall/g7dhB/deps/build.jl:10\n",
      "└ @ Pkg.Operations /buildworker/worker/package_linux64/build/usr/share/julia/stdlib/v1.2/Pkg/src/backwards_compatible_isolation.jl:647\n"
     ]
    }
   ],
   "source": [
    "# using Pkg; foreach(p->Pkg.add(p), [\"DataFrames\",\"Feather\",\"RCall\",\"PyCall\",\"Conda\"])\n",
    "using Conda, Pkg \n",
    "Conda.add(\"R\")\n",
    "Pkg.add(\"RCall\")\n",
    "ENV[\"R_HOME\"] = \"/home/nakada/.julia/conda/3/lib/R\"   # 自分の環境に合わせて設定する。\n",
    "Pkg.build(\"RCall\")"
   ]
  },
  {
   "cell_type": "code",
   "execution_count": 2,
   "metadata": {},
   "outputs": [
    {
     "name": "stderr",
     "output_type": "stream",
     "text": [
      "┌ Info: Precompiling Feather [becb17da-46f6-5d3c-ad1b-1c5fe96bc73c]\n",
      "└ @ Base loading.jl:1242\n"
     ]
    }
   ],
   "source": [
    "using Feather\n",
    "using DataFrames"
   ]
  },
  {
   "cell_type": "code",
   "execution_count": 3,
   "metadata": {},
   "outputs": [],
   "source": [
    "using Random\n",
    "Random.seed!(0);"
   ]
  },
  {
   "cell_type": "code",
   "execution_count": 4,
   "metadata": {
    "scrolled": true
   },
   "outputs": [
    {
     "data": {
      "text/html": [
       "<table class=\"data-frame\"><thead><tr><th></th><th>x1</th><th>x2</th><th>x3</th></tr><tr><th></th><th>Int64⍰</th><th>Float64</th><th>Int64</th></tr></thead><tbody><p>4 rows × 3 columns</p><tr><th>1</th><td>1</td><td>0.823648</td><td>1</td></tr><tr><th>2</th><td>2</td><td>0.910357</td><td>1</td></tr><tr><th>3</th><td>3</td><td>0.164566</td><td>4</td></tr><tr><th>4</th><td>missing</td><td>0.177329</td><td>9</td></tr></tbody></table>"
      ],
      "text/latex": [
       "\\begin{tabular}{r|ccc}\n",
       "\t& x1 & x2 & x3\\\\\n",
       "\t\\hline\n",
       "\t& Int64⍰ & Float64 & Int64\\\\\n",
       "\t\\hline\n",
       "\t1 & 1 & 0.823648 & 1 \\\\\n",
       "\t2 & 2 & 0.910357 & 1 \\\\\n",
       "\t3 & 3 & 0.164566 & 4 \\\\\n",
       "\t4 &  & 0.177329 & 9 \\\\\n",
       "\\end{tabular}\n"
      ],
      "text/plain": [
       "4×3 DataFrame\n",
       "│ Row │ x1      │ x2       │ x3    │\n",
       "│     │ \u001b[90mInt64⍰\u001b[39m  │ \u001b[90mFloat64\u001b[39m  │ \u001b[90mInt64\u001b[39m │\n",
       "├─────┼─────────┼──────────┼───────┤\n",
       "│ 1   │ 1       │ 0.823648 │ 1     │\n",
       "│ 2   │ 2       │ 0.910357 │ 1     │\n",
       "│ 3   │ 3       │ 0.164566 │ 4     │\n",
       "│ 4   │ \u001b[90mmissing\u001b[39m │ 0.177329 │ 9     │"
      ]
     },
     "execution_count": 4,
     "metadata": {},
     "output_type": "execute_result"
    }
   ],
   "source": [
    "df=DataFrame(x1=[1:3..., missing],\n",
    "             x2=rand(4),\n",
    "             x3=rand(1:10, 4))"
   ]
  },
  {
   "cell_type": "code",
   "execution_count": 5,
   "metadata": {},
   "outputs": [],
   "source": [
    "Feather.write(\"df.dat\", df);"
   ]
  },
  {
   "cell_type": "code",
   "execution_count": 6,
   "metadata": {},
   "outputs": [],
   "source": [
    "df2 = Feather.read(\"df.dat\");"
   ]
  },
  {
   "cell_type": "code",
   "execution_count": 7,
   "metadata": {},
   "outputs": [
    {
     "data": {
      "text/plain": [
       "true"
      ]
     },
     "execution_count": 7,
     "metadata": {},
     "output_type": "execute_result"
    }
   ],
   "source": [
    "isequal(df, df2)"
   ]
  },
  {
   "cell_type": "code",
   "execution_count": 8,
   "metadata": {},
   "outputs": [
    {
     "name": "stderr",
     "output_type": "stream",
     "text": [
      "┌ Warning: `getindex(df::DataFrame, col_inds::Union{AbstractVector, Regex, Not})` is deprecated, use `df[:, col_inds]` instead.\n",
      "│   caller = top-level scope at In[8]:1\n",
      "└ @ Core In[8]:1\n"
     ]
    },
    {
     "data": {
      "text/html": [
       "<table class=\"data-frame\"><thead><tr><th></th><th>variable</th><th>mean</th><th>min</th><th>max</th><th>nmissing</th><th>eltype</th></tr><tr><th></th><th>Symbol</th><th>Float64</th><th>Real</th><th>Real</th><th>Union…</th><th>Type</th></tr></thead><tbody><p>3 rows × 6 columns</p><tr><th>1</th><td>x1</td><td>2.0</td><td>1</td><td>3</td><td>1</td><td>Union{Missing, Int64}</td></tr><tr><th>2</th><td>x2</td><td>0.518975</td><td>0.164566</td><td>0.910357</td><td></td><td>Float64</td></tr><tr><th>3</th><td>x3</td><td>3.75</td><td>1</td><td>9</td><td></td><td>Int64</td></tr></tbody></table>"
      ],
      "text/latex": [
       "\\begin{tabular}{r|cccccc}\n",
       "\t& variable & mean & min & max & nmissing & eltype\\\\\n",
       "\t\\hline\n",
       "\t& Symbol & Float64 & Real & Real & Union… & Type\\\\\n",
       "\t\\hline\n",
       "\t1 & x1 & 2.0 & 1 & 3 & 1 & Union\\{Missing, Int64\\} \\\\\n",
       "\t2 & x2 & 0.518975 & 0.164566 & 0.910357 &  & Float64 \\\\\n",
       "\t3 & x3 & 3.75 & 1 & 9 &  & Int64 \\\\\n",
       "\\end{tabular}\n"
      ],
      "text/plain": [
       "3×6 DataFrame. Omitted printing of 1 columns\n",
       "│ Row │ variable │ mean     │ min      │ max      │ nmissing │\n",
       "│     │ \u001b[90mSymbol\u001b[39m   │ \u001b[90mFloat64\u001b[39m  │ \u001b[90mReal\u001b[39m     │ \u001b[90mReal\u001b[39m     │ \u001b[90mUnion…\u001b[39m   │\n",
       "├─────┼──────────┼──────────┼──────────┼──────────┼──────────┤\n",
       "│ 1   │ x1       │ 2.0      │ 1        │ 3        │ 1        │\n",
       "│ 2   │ x2       │ 0.518975 │ 0.164566 │ 0.910357 │          │\n",
       "│ 3   │ x3       │ 3.75     │ 1        │ 9        │          │"
      ]
     },
     "execution_count": 8,
     "metadata": {},
     "output_type": "execute_result"
    }
   ],
   "source": [
    "describe(df)[[1:3..., 5, 7, 8]]"
   ]
  },
  {
   "cell_type": "code",
   "execution_count": 9,
   "metadata": {},
   "outputs": [
    {
     "name": "stderr",
     "output_type": "stream",
     "text": [
      "┌ Warning: `getindex(df::DataFrame, col_inds::Union{AbstractVector, Regex, Not})` is deprecated, use `df[:, col_inds]` instead.\n",
      "│   caller = top-level scope at In[9]:1\n",
      "└ @ Core In[9]:1\n"
     ]
    },
    {
     "data": {
      "text/html": [
       "<table class=\"data-frame\"><thead><tr><th></th><th>variable</th><th>mean</th><th>min</th><th>max</th><th>nmissing</th><th>eltype</th></tr><tr><th></th><th>Symbol</th><th>Float64</th><th>Real</th><th>Real</th><th>Union…</th><th>Type</th></tr></thead><tbody><p>3 rows × 6 columns</p><tr><th>1</th><td>x1</td><td>2.0</td><td>1</td><td>3</td><td>1</td><td>Union{Missing, Int64}</td></tr><tr><th>2</th><td>x2</td><td>0.518975</td><td>0.164566</td><td>0.910357</td><td></td><td>Float64</td></tr><tr><th>3</th><td>x3</td><td>3.75</td><td>1</td><td>9</td><td></td><td>Int64</td></tr></tbody></table>"
      ],
      "text/latex": [
       "\\begin{tabular}{r|cccccc}\n",
       "\t& variable & mean & min & max & nmissing & eltype\\\\\n",
       "\t\\hline\n",
       "\t& Symbol & Float64 & Real & Real & Union… & Type\\\\\n",
       "\t\\hline\n",
       "\t1 & x1 & 2.0 & 1 & 3 & 1 & Union\\{Missing, Int64\\} \\\\\n",
       "\t2 & x2 & 0.518975 & 0.164566 & 0.910357 &  & Float64 \\\\\n",
       "\t3 & x3 & 3.75 & 1 & 9 &  & Int64 \\\\\n",
       "\\end{tabular}\n"
      ],
      "text/plain": [
       "3×6 DataFrame. Omitted printing of 1 columns\n",
       "│ Row │ variable │ mean     │ min      │ max      │ nmissing │\n",
       "│     │ \u001b[90mSymbol\u001b[39m   │ \u001b[90mFloat64\u001b[39m  │ \u001b[90mReal\u001b[39m     │ \u001b[90mReal\u001b[39m     │ \u001b[90mUnion…\u001b[39m   │\n",
       "├─────┼──────────┼──────────┼──────────┼──────────┼──────────┤\n",
       "│ 1   │ x1       │ 2.0      │ 1        │ 3        │ 1        │\n",
       "│ 2   │ x2       │ 0.518975 │ 0.164566 │ 0.910357 │          │\n",
       "│ 3   │ x3       │ 3.75     │ 1        │ 9        │          │"
      ]
     },
     "execution_count": 9,
     "metadata": {},
     "output_type": "execute_result"
    }
   ],
   "source": [
    "describe(df2)[[1:3..., 5, 7, 8]]"
   ]
  },
  {
   "cell_type": "code",
   "execution_count": 1,
   "metadata": {},
   "outputs": [],
   "source": [
    "\n",
    "using RCall\n"
   ]
  },
  {
   "cell_type": "code",
   "execution_count": 5,
   "metadata": {},
   "outputs": [
    {
     "name": "stdout",
     "output_type": "stream",
     "text": [
      "x86_64-conda_cos6-linux-gnu-cc -I\"/home/nakada/.julia/conda/3/lib/R/include\" -DNDEBUG   -DNDEBUG -D_FORTIFY_SOURCE=2 -O2  -I/home/nakada/.julia/conda/3/include -Wl,-rpath-link,/home/nakada/.julia/conda/3/lib  -fpic  -march=nocona -mtune=haswell -ftree-vectorize -fPIC -fstack-protector-strong -fno-plt -O2 -ffunction-sections -pipe -I/home/nakada/.julia/conda/3/include -fdebug-prefix-map=/tmp/build/80754af9/r-base_1565162362119/work=/usr/local/src/conda/r-base-3.6.1 -fdebug-prefix-map=/home/nakada/.julia/conda/3=/usr/local/src/conda-prefix  -c arg-counter.c -o arg-counter.o\n",
      "x86_64-conda_cos6-linux-gnu-cc -I\"/home/nakada/.julia/conda/3/lib/R/include\" -DNDEBUG   -DNDEBUG -D_FORTIFY_SOURCE=2 -O2  -I/home/nakada/.julia/conda/3/include -Wl,-rpath-link,/home/nakada/.julia/conda/3/lib  -fpic  -march=nocona -mtune=haswell -ftree-vectorize -fPIC -fstack-protector-strong -fno-plt -O2 -ffunction-sections -pipe -I/home/nakada/.julia/conda/3/include -fdebug-prefix-map=/tmp/build/80754af9/r-base_1565162362119/work=/usr/local/src/conda/r-base-3.6.1 -fdebug-prefix-map=/home/nakada/.julia/conda/3=/usr/local/src/conda-prefix  -c arg.c -o arg.o\n",
      "x86_64-conda_cos6-linux-gnu-cc -I\"/home/nakada/.julia/conda/3/lib/R/include\" -DNDEBUG   -DNDEBUG -D_FORTIFY_SOURCE=2 -O2  -I/home/nakada/.julia/conda/3/include -Wl,-rpath-link,/home/nakada/.julia/conda/3/lib  -fpic  -march=nocona -mtune=haswell -ftree-vectorize -fPIC -fstack-protector-strong -fno-plt -O2 -ffunction-sections -pipe -I/home/nakada/.julia/conda/3/include -fdebug-prefix-map=/tmp/build/80754af9/r-base_1565162362119/work=/usr/local/src/conda/r-base-3.6.1 -fdebug-prefix-map=/home/nakada/.julia/conda/3=/usr/local/src/conda-prefix  -c bind.c -o bind.o\n",
      "x86_64-conda_cos6-linux-gnu-cc -I\"/home/nakada/.julia/conda/3/lib/R/include\" -DNDEBUG   -DNDEBUG -D_FORTIFY_SOURCE=2 -O2  -I/home/nakada/.julia/conda/3/include -Wl,-rpath-link,/home/nakada/.julia/conda/3/lib  -fpic  -march=nocona -mtune=haswell -ftree-vectorize -fPIC -fstack-protector-strong -fno-plt -O2 -ffunction-sections -pipe -I/home/nakada/.julia/conda/3/include -fdebug-prefix-map=/tmp/build/80754af9/r-base_1565162362119/work=/usr/local/src/conda/r-base-3.6.1 -fdebug-prefix-map=/home/nakada/.julia/conda/3=/usr/local/src/conda-prefix  -c c.c -o c.o\n",
      "x86_64-conda_cos6-linux-gnu-cc -I\"/home/nakada/.julia/conda/3/lib/R/include\" -DNDEBUG   -DNDEBUG -D_FORTIFY_SOURCE=2 -O2  -I/home/nakada/.julia/conda/3/include -Wl,-rpath-link,/home/nakada/.julia/conda/3/lib  -fpic  -march=nocona -mtune=haswell -ftree-vectorize -fPIC -fstack-protector-strong -fno-plt -O2 -ffunction-sections -pipe -I/home/nakada/.julia/conda/3/include -fdebug-prefix-map=/tmp/build/80754af9/r-base_1565162362119/work=/usr/local/src/conda/r-base-3.6.1 -fdebug-prefix-map=/home/nakada/.julia/conda/3=/usr/local/src/conda-prefix  -c cast.c -o cast.o\n",
      "x86_64-conda_cos6-linux-gnu-cc -I\"/home/nakada/.julia/conda/3/lib/R/include\" -DNDEBUG   -DNDEBUG -D_FORTIFY_SOURCE=2 -O2  -I/home/nakada/.julia/conda/3/include -Wl,-rpath-link,/home/nakada/.julia/conda/3/lib  -fpic  -march=nocona -mtune=haswell -ftree-vectorize -fPIC -fstack-protector-strong -fno-plt -O2 -ffunction-sections -pipe -I/home/nakada/.julia/conda/3/include -fdebug-prefix-map=/tmp/build/80754af9/r-base_1565162362119/work=/usr/local/src/conda/r-base-3.6.1 -fdebug-prefix-map=/home/nakada/.julia/conda/3=/usr/local/src/conda-prefix  -c compare.c -o compare.o\n",
      "x86_64-conda_cos6-linux-gnu-cc -I\"/home/nakada/.julia/conda/3/lib/R/include\" -DNDEBUG   -DNDEBUG -D_FORTIFY_SOURCE=2 -O2  -I/home/nakada/.julia/conda/3/include -Wl,-rpath-link,/home/nakada/.julia/conda/3/lib  -fpic  -march=nocona -mtune=haswell -ftree-vectorize -fPIC -fstack-protector-strong -fno-plt -O2 -ffunction-sections -pipe -I/home/nakada/.julia/conda/3/include -fdebug-prefix-map=/tmp/build/80754af9/r-base_1565162362119/work=/usr/local/src/conda/r-base-3.6.1 -fdebug-prefix-map=/home/nakada/.julia/conda/3=/usr/local/src/conda-prefix  -c conditions.c -o conditions.o\n",
      "x86_64-conda_cos6-linux-gnu-cc -I\"/home/nakada/.julia/conda/3/lib/R/include\" -DNDEBUG   -DNDEBUG -D_FORTIFY_SOURCE=2 -O2  -I/home/nakada/.julia/conda/3/include -Wl,-rpath-link,/home/nakada/.julia/conda/3/lib  -fpic  -march=nocona -mtune=haswell -ftree-vectorize -fPIC -fstack-protector-strong -fno-plt -O2 -ffunction-sections -pipe -I/home/nakada/.julia/conda/3/include -fdebug-prefix-map=/tmp/build/80754af9/r-base_1565162362119/work=/usr/local/src/conda/r-base-3.6.1 -fdebug-prefix-map=/home/nakada/.julia/conda/3=/usr/local/src/conda-prefix  -c dictionary.c -o dictionary.o\n",
      "x86_64-conda_cos6-linux-gnu-cc -I\"/home/nakada/.julia/conda/3/lib/R/include\" -DNDEBUG   -DNDEBUG -D_FORTIFY_SOURCE=2 -O2  -I/home/nakada/.julia/conda/3/include -Wl,-rpath-link,/home/nakada/.julia/conda/3/lib  -fpic  -march=nocona -mtune=haswell -ftree-vectorize -fPIC -fstack-protector-strong -fno-plt -O2 -ffunction-sections -pipe -I/home/nakada/.julia/conda/3/include -fdebug-prefix-map=/tmp/build/80754af9/r-base_1565162362119/work=/usr/local/src/conda/r-base-3.6.1 -fdebug-prefix-map=/home/nakada/.julia/conda/3=/usr/local/src/conda-prefix  -c equal.c -o equal.o\n",
      "x86_64-conda_cos6-linux-gnu-cc -I\"/home/nakada/.julia/conda/3/lib/R/include\" -DNDEBUG   -DNDEBUG -D_FORTIFY_SOURCE=2 -O2  -I/home/nakada/.julia/conda/3/include -Wl,-rpath-link,/home/nakada/.julia/conda/3/lib  -fpic  -march=nocona -mtune=haswell -ftree-vectorize -fPIC -fstack-protector-strong -fno-plt -O2 -ffunction-sections -pipe -I/home/nakada/.julia/conda/3/include -fdebug-prefix-map=/tmp/build/80754af9/r-base_1565162362119/work=/usr/local/src/conda/r-base-3.6.1 -fdebug-prefix-map=/home/nakada/.julia/conda/3=/usr/local/src/conda-prefix  -c fields.c -o fields.o\n",
      "x86_64-conda_cos6-linux-gnu-cc -I\"/home/nakada/.julia/conda/3/lib/R/include\" -DNDEBUG   -DNDEBUG -D_FORTIFY_SOURCE=2 -O2  -I/home/nakada/.julia/conda/3/include -Wl,-rpath-link,/home/nakada/.julia/conda/3/lib  -fpic  -march=nocona -mtune=haswell -ftree-vectorize -fPIC -fstack-protector-strong -fno-plt -O2 -ffunction-sections -pipe -I/home/nakada/.julia/conda/3/include -fdebug-prefix-map=/tmp/build/80754af9/r-base_1565162362119/work=/usr/local/src/conda/r-base-3.6.1 -fdebug-prefix-map=/home/nakada/.julia/conda/3=/usr/local/src/conda-prefix  -c growable.c -o growable.o\n",
      "x86_64-conda_cos6-linux-gnu-cc -I\"/home/nakada/.julia/conda/3/lib/R/include\" -DNDEBUG   -DNDEBUG -D_FORTIFY_SOURCE=2 -O2  -I/home/nakada/.julia/conda/3/include -Wl,-rpath-link,/home/nakada/.julia/conda/3/lib  -fpic  -march=nocona -mtune=haswell -ftree-vectorize -fPIC -fstack-protector-strong -fno-plt -O2 -ffunction-sections -pipe -I/home/nakada/.julia/conda/3/include -fdebug-prefix-map=/tmp/build/80754af9/r-base_1565162362119/work=/usr/local/src/conda/r-base-3.6.1 -fdebug-prefix-map=/home/nakada/.julia/conda/3=/usr/local/src/conda-prefix  -c hash.c -o hash.o\n",
      "x86_64-conda_cos6-linux-gnu-cc -I\"/home/nakada/.julia/conda/3/lib/R/include\" -DNDEBUG   -DNDEBUG -D_FORTIFY_SOURCE=2 -O2  -I/home/nakada/.julia/conda/3/include -Wl,-rpath-link,/home/nakada/.julia/conda/3/lib  -fpic  -march=nocona -mtune=haswell -ftree-vectorize -fPIC -fstack-protector-strong -fno-plt -O2 -ffunction-sections -pipe -I/home/nakada/.julia/conda/3/include -fdebug-prefix-map=/tmp/build/80754af9/r-base_1565162362119/work=/usr/local/src/conda/r-base-3.6.1 -fdebug-prefix-map=/home/nakada/.julia/conda/3=/usr/local/src/conda-prefix  -c init.c -o init.o\n",
      "x86_64-conda_cos6-linux-gnu-cc -I\"/home/nakada/.julia/conda/3/lib/R/include\" -DNDEBUG   -DNDEBUG -D_FORTIFY_SOURCE=2 -O2  -I/home/nakada/.julia/conda/3/include -Wl,-rpath-link,/home/nakada/.julia/conda/3/lib  -fpic  -march=nocona -mtune=haswell -ftree-vectorize -fPIC -fstack-protector-strong -fno-plt -O2 -ffunction-sections -pipe -I/home/nakada/.julia/conda/3/include -fdebug-prefix-map=/tmp/build/80754af9/r-base_1565162362119/work=/usr/local/src/conda/r-base-3.6.1 -fdebug-prefix-map=/home/nakada/.julia/conda/3=/usr/local/src/conda-prefix  -c names.c -o names.o\n",
      "x86_64-conda_cos6-linux-gnu-cc -I\"/home/nakada/.julia/conda/3/lib/R/include\" -DNDEBUG   -DNDEBUG -D_FORTIFY_SOURCE=2 -O2  -I/home/nakada/.julia/conda/3/include -Wl,-rpath-link,/home/nakada/.julia/conda/3/lib  -fpic  -march=nocona -mtune=haswell -ftree-vectorize -fPIC -fstack-protector-strong -fno-plt -O2 -ffunction-sections -pipe -I/home/nakada/.julia/conda/3/include -fdebug-prefix-map=/tmp/build/80754af9/r-base_1565162362119/work=/usr/local/src/conda/r-base-3.6.1 -fdebug-prefix-map=/home/nakada/.julia/conda/3=/usr/local/src/conda-prefix  -c proxy.c -o proxy.o\n",
      "x86_64-conda_cos6-linux-gnu-cc -I\"/home/nakada/.julia/conda/3/lib/R/include\" -DNDEBUG   -DNDEBUG -D_FORTIFY_SOURCE=2 -O2  -I/home/nakada/.julia/conda/3/include -Wl,-rpath-link,/home/nakada/.julia/conda/3/lib  -fpic  -march=nocona -mtune=haswell -ftree-vectorize -fPIC -fstack-protector-strong -fno-plt -O2 -ffunction-sections -pipe -I/home/nakada/.julia/conda/3/include -fdebug-prefix-map=/tmp/build/80754af9/r-base_1565162362119/work=/usr/local/src/conda/r-base-3.6.1 -fdebug-prefix-map=/home/nakada/.julia/conda/3=/usr/local/src/conda-prefix  -c size-common.c -o size-common.o\n",
      "x86_64-conda_cos6-linux-gnu-cc -I\"/home/nakada/.julia/conda/3/lib/R/include\" -DNDEBUG   -DNDEBUG -D_FORTIFY_SOURCE=2 -O2  -I/home/nakada/.julia/conda/3/include -Wl,-rpath-link,/home/nakada/.julia/conda/3/lib  -fpic  -march=nocona -mtune=haswell -ftree-vectorize -fPIC -fstack-protector-strong -fno-plt -O2 -ffunction-sections -pipe -I/home/nakada/.julia/conda/3/include -fdebug-prefix-map=/tmp/build/80754af9/r-base_1565162362119/work=/usr/local/src/conda/r-base-3.6.1 -fdebug-prefix-map=/home/nakada/.julia/conda/3=/usr/local/src/conda-prefix  -c size.c -o size.o\n",
      "x86_64-conda_cos6-linux-gnu-cc -I\"/home/nakada/.julia/conda/3/lib/R/include\" -DNDEBUG   -DNDEBUG -D_FORTIFY_SOURCE=2 -O2  -I/home/nakada/.julia/conda/3/include -Wl,-rpath-link,/home/nakada/.julia/conda/3/lib  -fpic  -march=nocona -mtune=haswell -ftree-vectorize -fPIC -fstack-protector-strong -fno-plt -O2 -ffunction-sections -pipe -I/home/nakada/.julia/conda/3/include -fdebug-prefix-map=/tmp/build/80754af9/r-base_1565162362119/work=/usr/local/src/conda/r-base-3.6.1 -fdebug-prefix-map=/home/nakada/.julia/conda/3=/usr/local/src/conda-prefix  -c slice-array.c -o slice-array.o\n",
      "x86_64-conda_cos6-linux-gnu-cc -I\"/home/nakada/.julia/conda/3/lib/R/include\" -DNDEBUG   -DNDEBUG -D_FORTIFY_SOURCE=2 -O2  -I/home/nakada/.julia/conda/3/include -Wl,-rpath-link,/home/nakada/.julia/conda/3/lib  -fpic  -march=nocona -mtune=haswell -ftree-vectorize -fPIC -fstack-protector-strong -fno-plt -O2 -ffunction-sections -pipe -I/home/nakada/.julia/conda/3/include -fdebug-prefix-map=/tmp/build/80754af9/r-base_1565162362119/work=/usr/local/src/conda/r-base-3.6.1 -fdebug-prefix-map=/home/nakada/.julia/conda/3=/usr/local/src/conda-prefix  -c slice-assign.c -o slice-assign.o\n",
      "x86_64-conda_cos6-linux-gnu-cc -I\"/home/nakada/.julia/conda/3/lib/R/include\" -DNDEBUG   -DNDEBUG -D_FORTIFY_SOURCE=2 -O2  -I/home/nakada/.julia/conda/3/include -Wl,-rpath-link,/home/nakada/.julia/conda/3/lib  -fpic  -march=nocona -mtune=haswell -ftree-vectorize -fPIC -fstack-protector-strong -fno-plt -O2 -ffunction-sections -pipe -I/home/nakada/.julia/conda/3/include -fdebug-prefix-map=/tmp/build/80754af9/r-base_1565162362119/work=/usr/local/src/conda/r-base-3.6.1 -fdebug-prefix-map=/home/nakada/.julia/conda/3=/usr/local/src/conda-prefix  -c slice.c -o slice.o\n",
      "x86_64-conda_cos6-linux-gnu-cc -I\"/home/nakada/.julia/conda/3/lib/R/include\" -DNDEBUG   -DNDEBUG -D_FORTIFY_SOURCE=2 -O2  -I/home/nakada/.julia/conda/3/include -Wl,-rpath-link,/home/nakada/.julia/conda/3/lib  -fpic  -march=nocona -mtune=haswell -ftree-vectorize -fPIC -fstack-protector-strong -fno-plt -O2 -ffunction-sections -pipe -I/home/nakada/.julia/conda/3/include -fdebug-prefix-map=/tmp/build/80754af9/r-base_1565162362119/work=/usr/local/src/conda/r-base-3.6.1 -fdebug-prefix-map=/home/nakada/.julia/conda/3=/usr/local/src/conda-prefix  -c type-data-frame.c -o type-data-frame.o\n",
      "x86_64-conda_cos6-linux-gnu-cc -I\"/home/nakada/.julia/conda/3/lib/R/include\" -DNDEBUG   -DNDEBUG -D_FORTIFY_SOURCE=2 -O2  -I/home/nakada/.julia/conda/3/include -Wl,-rpath-link,/home/nakada/.julia/conda/3/lib  -fpic  -march=nocona -mtune=haswell -ftree-vectorize -fPIC -fstack-protector-strong -fno-plt -O2 -ffunction-sections -pipe -I/home/nakada/.julia/conda/3/include -fdebug-prefix-map=/tmp/build/80754af9/r-base_1565162362119/work=/usr/local/src/conda/r-base-3.6.1 -fdebug-prefix-map=/home/nakada/.julia/conda/3=/usr/local/src/conda-prefix  -c type-info.c -o type-info.o\n",
      "x86_64-conda_cos6-linux-gnu-cc -I\"/home/nakada/.julia/conda/3/lib/R/include\" -DNDEBUG   -DNDEBUG -D_FORTIFY_SOURCE=2 -O2  -I/home/nakada/.julia/conda/3/include -Wl,-rpath-link,/home/nakada/.julia/conda/3/lib  -fpic  -march=nocona -mtune=haswell -ftree-vectorize -fPIC -fstack-protector-strong -fno-plt -O2 -ffunction-sections -pipe -I/home/nakada/.julia/conda/3/include -fdebug-prefix-map=/tmp/build/80754af9/r-base_1565162362119/work=/usr/local/src/conda/r-base-3.6.1 -fdebug-prefix-map=/home/nakada/.julia/conda/3=/usr/local/src/conda-prefix  -c type.c -o type.o\n",
      "x86_64-conda_cos6-linux-gnu-cc -I\"/home/nakada/.julia/conda/3/lib/R/include\" -DNDEBUG   -DNDEBUG -D_FORTIFY_SOURCE=2 -O2  -I/home/nakada/.julia/conda/3/include -Wl,-rpath-link,/home/nakada/.julia/conda/3/lib  -fpic  -march=nocona -mtune=haswell -ftree-vectorize -fPIC -fstack-protector-strong -fno-plt -O2 -ffunction-sections -pipe -I/home/nakada/.julia/conda/3/include -fdebug-prefix-map=/tmp/build/80754af9/r-base_1565162362119/work=/usr/local/src/conda/r-base-3.6.1 -fdebug-prefix-map=/home/nakada/.julia/conda/3=/usr/local/src/conda-prefix  -c type2-dispatch.c -o type2-dispatch.o\n",
      "x86_64-conda_cos6-linux-gnu-cc -I\"/home/nakada/.julia/conda/3/lib/R/include\" -DNDEBUG   -DNDEBUG -D_FORTIFY_SOURCE=2 -O2  -I/home/nakada/.julia/conda/3/include -Wl,-rpath-link,/home/nakada/.julia/conda/3/lib  -fpic  -march=nocona -mtune=haswell -ftree-vectorize -fPIC -fstack-protector-strong -fno-plt -O2 -ffunction-sections -pipe -I/home/nakada/.julia/conda/3/include -fdebug-prefix-map=/tmp/build/80754af9/r-base_1565162362119/work=/usr/local/src/conda/r-base-3.6.1 -fdebug-prefix-map=/home/nakada/.julia/conda/3=/usr/local/src/conda-prefix  -c type2.c -o type2.o\n",
      "x86_64-conda_cos6-linux-gnu-cc -I\"/home/nakada/.julia/conda/3/lib/R/include\" -DNDEBUG   -DNDEBUG -D_FORTIFY_SOURCE=2 -O2  -I/home/nakada/.julia/conda/3/include -Wl,-rpath-link,/home/nakada/.julia/conda/3/lib  -fpic  -march=nocona -mtune=haswell -ftree-vectorize -fPIC -fstack-protector-strong -fno-plt -O2 -ffunction-sections -pipe -I/home/nakada/.julia/conda/3/include -fdebug-prefix-map=/tmp/build/80754af9/r-base_1565162362119/work=/usr/local/src/conda/r-base-3.6.1 -fdebug-prefix-map=/home/nakada/.julia/conda/3=/usr/local/src/conda-prefix  -c unspecified.c -o unspecified.o\n",
      "x86_64-conda_cos6-linux-gnu-cc -I\"/home/nakada/.julia/conda/3/lib/R/include\" -DNDEBUG   -DNDEBUG -D_FORTIFY_SOURCE=2 -O2  -I/home/nakada/.julia/conda/3/include -Wl,-rpath-link,/home/nakada/.julia/conda/3/lib  -fpic  -march=nocona -mtune=haswell -ftree-vectorize -fPIC -fstack-protector-strong -fno-plt -O2 -ffunction-sections -pipe -I/home/nakada/.julia/conda/3/include -fdebug-prefix-map=/tmp/build/80754af9/r-base_1565162362119/work=/usr/local/src/conda/r-base-3.6.1 -fdebug-prefix-map=/home/nakada/.julia/conda/3=/usr/local/src/conda-prefix  -c utils-dispatch.c -o utils-dispatch.o\n",
      "x86_64-conda_cos6-linux-gnu-cc -I\"/home/nakada/.julia/conda/3/lib/R/include\" -DNDEBUG   -DNDEBUG -D_FORTIFY_SOURCE=2 -O2  -I/home/nakada/.julia/conda/3/include -Wl,-rpath-link,/home/nakada/.julia/conda/3/lib  -fpic  -march=nocona -mtune=haswell -ftree-vectorize -fPIC -fstack-protector-strong -fno-plt -O2 -ffunction-sections -pipe -I/home/nakada/.julia/conda/3/include -fdebug-prefix-map=/tmp/build/80754af9/r-base_1565162362119/work=/usr/local/src/conda/r-base-3.6.1 -fdebug-prefix-map=/home/nakada/.julia/conda/3=/usr/local/src/conda-prefix  -c utils.c -o utils.o\n",
      "x86_64-conda_cos6-linux-gnu-cc -shared -L/home/nakada/.julia/conda/3/lib/R/lib -Wl,-O2 -Wl,--sort-common -Wl,--as-needed -Wl,-z,relro -Wl,-z,now -Wl,--disable-new-dtags -Wl,--gc-sections -Wl,-rpath,/home/nakada/.julia/conda/3/lib -Wl,-rpath-link,/home/nakada/.julia/conda/3/lib -L/home/nakada/.julia/conda/3/lib -Wl,-rpath-link,/home/nakada/.julia/conda/3/lib -o vctrs.so arg-counter.o arg.o bind.o c.o cast.o compare.o conditions.o dictionary.o equal.o fields.o growable.o hash.o init.o names.o proxy.o size-common.o size.o slice-array.o slice-assign.o slice.o type-data-frame.o type-info.o type.o type2-dispatch.o type2.o unspecified.o utils-dispatch.o utils.o -L/home/nakada/.julia/conda/3/lib/R/lib -lR\n",
      "x86_64-conda_cos6-linux-gnu-cc -I\"/home/nakada/.julia/conda/3/lib/R/include\" -DNDEBUG   -DNDEBUG -D_FORTIFY_SOURCE=2 -O2  -I/home/nakada/.julia/conda/3/include -Wl,-rpath-link,/home/nakada/.julia/conda/3/lib  -fpic  -march=nocona -mtune=haswell -ftree-vectorize -fPIC -fstack-protector-strong -fno-plt -O2 -ffunction-sections -pipe -I/home/nakada/.julia/conda/3/include -fdebug-prefix-map=/tmp/build/80754af9/r-base_1565162362119/work=/usr/local/src/conda/r-base-3.6.1 -fdebug-prefix-map=/home/nakada/.julia/conda/3=/usr/local/src/conda-prefix  -c coerce.c -o coerce.o\n",
      "x86_64-conda_cos6-linux-gnu-cc -I\"/home/nakada/.julia/conda/3/lib/R/include\" -DNDEBUG   -DNDEBUG -D_FORTIFY_SOURCE=2 -O2  -I/home/nakada/.julia/conda/3/include -Wl,-rpath-link,/home/nakada/.julia/conda/3/lib  -fpic  -march=nocona -mtune=haswell -ftree-vectorize -fPIC -fstack-protector-strong -fno-plt -O2 -ffunction-sections -pipe -I/home/nakada/.julia/conda/3/include -fdebug-prefix-map=/tmp/build/80754af9/r-base_1565162362119/work=/usr/local/src/conda/r-base-3.6.1 -fdebug-prefix-map=/home/nakada/.julia/conda/3=/usr/local/src/conda-prefix  -c init.c -o init.o\n",
      "x86_64-conda_cos6-linux-gnu-cc -I\"/home/nakada/.julia/conda/3/lib/R/include\" -DNDEBUG   -DNDEBUG -D_FORTIFY_SOURCE=2 -O2  -I/home/nakada/.julia/conda/3/include -Wl,-rpath-link,/home/nakada/.julia/conda/3/lib  -fpic  -march=nocona -mtune=haswell -ftree-vectorize -fPIC -fstack-protector-strong -fno-plt -O2 -ffunction-sections -pipe -I/home/nakada/.julia/conda/3/include -fdebug-prefix-map=/tmp/build/80754af9/r-base_1565162362119/work=/usr/local/src/conda/r-base-3.6.1 -fdebug-prefix-map=/home/nakada/.julia/conda/3=/usr/local/src/conda-prefix  -c matrixToDataFrame.c -o matrixToDataFrame.o\n",
      "x86_64-conda_cos6-linux-gnu-cc -shared -L/home/nakada/.julia/conda/3/lib/R/lib -Wl,-O2 -Wl,--sort-common -Wl,--as-needed -Wl,-z,relro -Wl,-z,now -Wl,--disable-new-dtags -Wl,--gc-sections -Wl,-rpath,/home/nakada/.julia/conda/3/lib -Wl,-rpath-link,/home/nakada/.julia/conda/3/lib -L/home/nakada/.julia/conda/3/lib -Wl,-rpath-link,/home/nakada/.julia/conda/3/lib -o tibble.so coerce.o init.o matrixToDataFrame.o -L/home/nakada/.julia/conda/3/lib/R/lib -lR\n",
      "Platform is little endian. Good.\n",
      "x86_64-conda_cos6-linux-gnu-c++ -std=gnu++11 -I\"/home/nakada/.julia/conda/3/lib/R/include\" -DNDEBUG -I. -I\"/home/nakada/.julia/conda/3/lib/R/library/Rcpp/include\" -DNDEBUG -D_FORTIFY_SOURCE=2 -O2  -I/home/nakada/.julia/conda/3/include -Wl,-rpath-link,/home/nakada/.julia/conda/3/lib  -fpic  -fvisibility-inlines-hidden  -fmessage-length=0 -march=nocona -mtune=haswell -ftree-vectorize -fPIC -fstack-protector-strong -fno-plt -O2 -ffunction-sections -pipe -I/home/nakada/.julia/conda/3/include -fdebug-prefix-map=/tmp/build/80754af9/r-base_1565162362119/work=/usr/local/src/conda/r-base-3.6.1 -fdebug-prefix-map=/home/nakada/.julia/conda/3=/usr/local/src/conda-prefix  -c RcppExports.cpp -o RcppExports.o\n",
      "x86_64-conda_cos6-linux-gnu-c++ -std=gnu++11 -I\"/home/nakada/.julia/conda/3/lib/R/include\" -DNDEBUG -I. -I\"/home/nakada/.julia/conda/3/lib/R/library/Rcpp/include\" -DNDEBUG -D_FORTIFY_SOURCE=2 -O2  -I/home/nakada/.julia/conda/3/include -Wl,-rpath-link,/home/nakada/.julia/conda/3/lib  -fpic  -fvisibility-inlines-hidden  -fmessage-length=0 -march=nocona -mtune=haswell -ftree-vectorize -fPIC -fstack-protector-strong -fno-plt -O2 -ffunction-sections -pipe -I/home/nakada/.julia/conda/3/include -fdebug-prefix-map=/tmp/build/80754af9/r-base_1565162362119/work=/usr/local/src/conda/r-base-3.6.1 -fdebug-prefix-map=/home/nakada/.julia/conda/3=/usr/local/src/conda-prefix  -c feather-read.cpp -o feather-read.o\n",
      "x86_64-conda_cos6-linux-gnu-c++ -std=gnu++11 -I\"/home/nakada/.julia/conda/3/lib/R/include\" -DNDEBUG -I. -I\"/home/nakada/.julia/conda/3/lib/R/library/Rcpp/include\" -DNDEBUG -D_FORTIFY_SOURCE=2 -O2  -I/home/nakada/.julia/conda/3/include -Wl,-rpath-link,/home/nakada/.julia/conda/3/lib  -fpic  -fvisibility-inlines-hidden  -fmessage-length=0 -march=nocona -mtune=haswell -ftree-vectorize -fPIC -fstack-protector-strong -fno-plt -O2 -ffunction-sections -pipe -I/home/nakada/.julia/conda/3/include -fdebug-prefix-map=/tmp/build/80754af9/r-base_1565162362119/work=/usr/local/src/conda/r-base-3.6.1 -fdebug-prefix-map=/home/nakada/.julia/conda/3=/usr/local/src/conda-prefix  -c feather-types.cpp -o feather-types.o\n",
      "x86_64-conda_cos6-linux-gnu-c++ -std=gnu++11 -I\"/home/nakada/.julia/conda/3/lib/R/include\" -DNDEBUG -I. -I\"/home/nakada/.julia/conda/3/lib/R/library/Rcpp/include\" -DNDEBUG -D_FORTIFY_SOURCE=2 -O2  -I/home/nakada/.julia/conda/3/include -Wl,-rpath-link,/home/nakada/.julia/conda/3/lib  -fpic  -fvisibility-inlines-hidden  -fmessage-length=0 -march=nocona -mtune=haswell -ftree-vectorize -fPIC -fstack-protector-strong -fno-plt -O2 -ffunction-sections -pipe -I/home/nakada/.julia/conda/3/include -fdebug-prefix-map=/tmp/build/80754af9/r-base_1565162362119/work=/usr/local/src/conda/r-base-3.6.1 -fdebug-prefix-map=/home/nakada/.julia/conda/3=/usr/local/src/conda-prefix  -c feather-write.cpp -o feather-write.o\n",
      "x86_64-conda_cos6-linux-gnu-c++ -std=gnu++11 -I\"/home/nakada/.julia/conda/3/lib/R/include\" -DNDEBUG -I. -I\"/home/nakada/.julia/conda/3/lib/R/library/Rcpp/include\" -DNDEBUG -D_FORTIFY_SOURCE=2 -O2  -I/home/nakada/.julia/conda/3/include -Wl,-rpath-link,/home/nakada/.julia/conda/3/lib  -fpic  -fvisibility-inlines-hidden  -fmessage-length=0 -march=nocona -mtune=haswell -ftree-vectorize -fPIC -fstack-protector-strong -fno-plt -O2 -ffunction-sections -pipe -I/home/nakada/.julia/conda/3/include -fdebug-prefix-map=/tmp/build/80754af9/r-base_1565162362119/work=/usr/local/src/conda/r-base-3.6.1 -fdebug-prefix-map=/home/nakada/.julia/conda/3=/usr/local/src/conda-prefix  -c feather/buffer.cc -o feather/buffer.o\n",
      "x86_64-conda_cos6-linux-gnu-c++ -std=gnu++11 -I\"/home/nakada/.julia/conda/3/lib/R/include\" -DNDEBUG -I. -I\"/home/nakada/.julia/conda/3/lib/R/library/Rcpp/include\" -DNDEBUG -D_FORTIFY_SOURCE=2 -O2  -I/home/nakada/.julia/conda/3/include -Wl,-rpath-link,/home/nakada/.julia/conda/3/lib  -fpic  -fvisibility-inlines-hidden  -fmessage-length=0 -march=nocona -mtune=haswell -ftree-vectorize -fPIC -fstack-protector-strong -fno-plt -O2 -ffunction-sections -pipe -I/home/nakada/.julia/conda/3/include -fdebug-prefix-map=/tmp/build/80754af9/r-base_1565162362119/work=/usr/local/src/conda/r-base-3.6.1 -fdebug-prefix-map=/home/nakada/.julia/conda/3=/usr/local/src/conda-prefix  -c feather/feather-c.cc -o feather/feather-c.o\n",
      "x86_64-conda_cos6-linux-gnu-c++ -std=gnu++11 -I\"/home/nakada/.julia/conda/3/lib/R/include\" -DNDEBUG -I. -I\"/home/nakada/.julia/conda/3/lib/R/library/Rcpp/include\" -DNDEBUG -D_FORTIFY_SOURCE=2 -O2  -I/home/nakada/.julia/conda/3/include -Wl,-rpath-link,/home/nakada/.julia/conda/3/lib  -fpic  -fvisibility-inlines-hidden  -fmessage-length=0 -march=nocona -mtune=haswell -ftree-vectorize -fPIC -fstack-protector-strong -fno-plt -O2 -ffunction-sections -pipe -I/home/nakada/.julia/conda/3/include -fdebug-prefix-map=/tmp/build/80754af9/r-base_1565162362119/work=/usr/local/src/conda/r-base-3.6.1 -fdebug-prefix-map=/home/nakada/.julia/conda/3=/usr/local/src/conda-prefix  -c feather/io.cc -o feather/io.o\n",
      "x86_64-conda_cos6-linux-gnu-c++ -std=gnu++11 -I\"/home/nakada/.julia/conda/3/lib/R/include\" -DNDEBUG -I. -I\"/home/nakada/.julia/conda/3/lib/R/library/Rcpp/include\" -DNDEBUG -D_FORTIFY_SOURCE=2 -O2  -I/home/nakada/.julia/conda/3/include -Wl,-rpath-link,/home/nakada/.julia/conda/3/lib  -fpic  -fvisibility-inlines-hidden  -fmessage-length=0 -march=nocona -mtune=haswell -ftree-vectorize -fPIC -fstack-protector-strong -fno-plt -O2 -ffunction-sections -pipe -I/home/nakada/.julia/conda/3/include -fdebug-prefix-map=/tmp/build/80754af9/r-base_1565162362119/work=/usr/local/src/conda/r-base-3.6.1 -fdebug-prefix-map=/home/nakada/.julia/conda/3=/usr/local/src/conda-prefix  -c feather/metadata.cc -o feather/metadata.o\n",
      "x86_64-conda_cos6-linux-gnu-c++ -std=gnu++11 -I\"/home/nakada/.julia/conda/3/lib/R/include\" -DNDEBUG -I. -I\"/home/nakada/.julia/conda/3/lib/R/library/Rcpp/include\" -DNDEBUG -D_FORTIFY_SOURCE=2 -O2  -I/home/nakada/.julia/conda/3/include -Wl,-rpath-link,/home/nakada/.julia/conda/3/lib  -fpic  -fvisibility-inlines-hidden  -fmessage-length=0 -march=nocona -mtune=haswell -ftree-vectorize -fPIC -fstack-protector-strong -fno-plt -O2 -ffunction-sections -pipe -I/home/nakada/.julia/conda/3/include -fdebug-prefix-map=/tmp/build/80754af9/r-base_1565162362119/work=/usr/local/src/conda/r-base-3.6.1 -fdebug-prefix-map=/home/nakada/.julia/conda/3=/usr/local/src/conda-prefix  -c feather/reader.cc -o feather/reader.o\n",
      "x86_64-conda_cos6-linux-gnu-c++ -std=gnu++11 -I\"/home/nakada/.julia/conda/3/lib/R/include\" -DNDEBUG -I. -I\"/home/nakada/.julia/conda/3/lib/R/library/Rcpp/include\" -DNDEBUG -D_FORTIFY_SOURCE=2 -O2  -I/home/nakada/.julia/conda/3/include -Wl,-rpath-link,/home/nakada/.julia/conda/3/lib  -fpic  -fvisibility-inlines-hidden  -fmessage-length=0 -march=nocona -mtune=haswell -ftree-vectorize -fPIC -fstack-protector-strong -fno-plt -O2 -ffunction-sections -pipe -I/home/nakada/.julia/conda/3/include -fdebug-prefix-map=/tmp/build/80754af9/r-base_1565162362119/work=/usr/local/src/conda/r-base-3.6.1 -fdebug-prefix-map=/home/nakada/.julia/conda/3=/usr/local/src/conda-prefix  -c feather/status.cc -o feather/status.o\n",
      "x86_64-conda_cos6-linux-gnu-c++ -std=gnu++11 -I\"/home/nakada/.julia/conda/3/lib/R/include\" -DNDEBUG -I. -I\"/home/nakada/.julia/conda/3/lib/R/library/Rcpp/include\" -DNDEBUG -D_FORTIFY_SOURCE=2 -O2  -I/home/nakada/.julia/conda/3/include -Wl,-rpath-link,/home/nakada/.julia/conda/3/lib  -fpic  -fvisibility-inlines-hidden  -fmessage-length=0 -march=nocona -mtune=haswell -ftree-vectorize -fPIC -fstack-protector-strong -fno-plt -O2 -ffunction-sections -pipe -I/home/nakada/.julia/conda/3/include -fdebug-prefix-map=/tmp/build/80754af9/r-base_1565162362119/work=/usr/local/src/conda/r-base-3.6.1 -fdebug-prefix-map=/home/nakada/.julia/conda/3=/usr/local/src/conda-prefix  -c feather/types.cc -o feather/types.o\n",
      "x86_64-conda_cos6-linux-gnu-c++ -std=gnu++11 -I\"/home/nakada/.julia/conda/3/lib/R/include\" -DNDEBUG -I. -I\"/home/nakada/.julia/conda/3/lib/R/library/Rcpp/include\" -DNDEBUG -D_FORTIFY_SOURCE=2 -O2  -I/home/nakada/.julia/conda/3/include -Wl,-rpath-link,/home/nakada/.julia/conda/3/lib  -fpic  -fvisibility-inlines-hidden  -fmessage-length=0 -march=nocona -mtune=haswell -ftree-vectorize -fPIC -fstack-protector-strong -fno-plt -O2 -ffunction-sections -pipe -I/home/nakada/.julia/conda/3/include -fdebug-prefix-map=/tmp/build/80754af9/r-base_1565162362119/work=/usr/local/src/conda/r-base-3.6.1 -fdebug-prefix-map=/home/nakada/.julia/conda/3=/usr/local/src/conda-prefix  -c feather/writer.cc -o feather/writer.o\n",
      "x86_64-conda_cos6-linux-gnu-ar rcs libfeather.a feather/buffer.o feather/feather-c.o feather/io.o feather/metadata.o feather/reader.o feather/status.o feather/types.o feather/writer.o\n",
      "x86_64-conda_cos6-linux-gnu-c++ -std=gnu++11 -shared -L/home/nakada/.julia/conda/3/lib/R/lib -Wl,-O2 -Wl,--sort-common -Wl,--as-needed -Wl,-z,relro -Wl,-z,now -Wl,--disable-new-dtags -Wl,--gc-sections -Wl,-rpath,/home/nakada/.julia/conda/3/lib -Wl,-rpath-link,/home/nakada/.julia/conda/3/lib -L/home/nakada/.julia/conda/3/lib -Wl,-rpath-link,/home/nakada/.julia/conda/3/lib -o feather.so RcppExports.o feather-read.o feather-types.o feather-write.o -L. -lfeather -L/home/nakada/.julia/conda/3/lib/R/lib -lR\n"
     ]
    },
    {
     "name": "stderr",
     "output_type": "stream",
     "text": [
      "* installing *source* package ‘vctrs’ ...\n",
      "** package ‘vctrs’ successfully unpacked and MD5 sums checked\n",
      "** using staged installation\n",
      "** libs\n",
      "installing to /home/nakada/.julia/conda/3/lib/R/library/00LOCK-vctrs/00new/vctrs/libs\n",
      "** R\n",
      "** inst\n",
      "** byte-compile and prepare package for lazy loading\n",
      "** help\n",
      "*** installing help indices\n",
      "*** copying figures\n",
      "** building package indices\n",
      "** installing vignettes\n",
      "** testing if installed package can be loaded from temporary location\n",
      "** checking absolute paths in shared objects and dynamic libraries\n",
      "** testing if installed package can be loaded from final location\n",
      "** testing if installed package keeps a record of temporary installation path\n",
      "* DONE (vctrs)\n",
      "* installing *source* package ‘pillar’ ...\n",
      "** package ‘pillar’ successfully unpacked and MD5 sums checked\n",
      "** using staged installation\n",
      "** R\n",
      "** byte-compile and prepare package for lazy loading\n",
      "** help\n",
      "*** installing help indices\n",
      "*** copying figures\n",
      "** building package indices\n",
      "** testing if installed package can be loaded from temporary location\n",
      "** testing if installed package can be loaded from final location\n",
      "** testing if installed package keeps a record of temporary installation path\n",
      "* DONE (pillar)\n",
      "* installing *source* package ‘hms’ ...\n",
      "** package ‘hms’ successfully unpacked and MD5 sums checked\n",
      "** using staged installation\n",
      "** R\n",
      "** byte-compile and prepare package for lazy loading\n",
      "** help\n",
      "*** installing help indices\n",
      "*** copying figures\n",
      "** building package indices\n",
      "** testing if installed package can be loaded from temporary location\n",
      "** testing if installed package can be loaded from final location\n",
      "** testing if installed package keeps a record of temporary installation path\n",
      "* DONE (hms)\n",
      "* installing *source* package ‘tibble’ ...\n",
      "** package ‘tibble’ successfully unpacked and MD5 sums checked\n",
      "** using staged installation\n",
      "** libs\n",
      "installing to /home/nakada/.julia/conda/3/lib/R/library/00LOCK-tibble/00new/tibble/libs\n",
      "** R\n",
      "** inst\n",
      "** byte-compile and prepare package for lazy loading\n",
      "** help\n",
      "*** installing help indices\n",
      "*** copying figures\n",
      "** building package indices\n",
      "** installing vignettes\n",
      "** testing if installed package can be loaded from temporary location\n",
      "** checking absolute paths in shared objects and dynamic libraries\n",
      "** testing if installed package can be loaded from final location\n",
      "** testing if installed package keeps a record of temporary installation path\n",
      "* DONE (tibble)\n",
      "* installing *source* package ‘feather’ ...\n",
      "** package ‘feather’ successfully unpacked and MD5 sums checked\n",
      "** using staged installation\n",
      "** libs\n",
      "installing to /home/nakada/.julia/conda/3/lib/R/library/00LOCK-feather/00new/feather/libs\n",
      "** R\n",
      "** inst\n",
      "** byte-compile and prepare package for lazy loading\n",
      "** help\n",
      "*** installing help indices\n",
      "** building package indices\n",
      "** testing if installed package can be loaded from temporary location\n",
      "** checking absolute paths in shared objects and dynamic libraries\n",
      "** testing if installed package can be loaded from final location\n",
      "** testing if installed package keeps a record of temporary installation path\n",
      "* DONE (feather)\n",
      "┌ Warning: RCall.jl: also installing the dependencies ‘pillar’, ‘vctrs’, ‘tibble’, ‘hms’\n",
      "│ \n",
      "│ trying URL 'https://cran.ism.ac.jp/src/contrib/pillar_1.4.2.tar.gz'\n",
      "│ Content type 'application/x-gzip' length 228815 bytes (223 KB)\n",
      "│ ==================================================\n",
      "│ downloaded 223 KB\n",
      "│ \n",
      "│ trying URL 'https://cran.ism.ac.jp/src/contrib/vctrs_0.2.0.tar.gz'\n",
      "│ Content type 'application/x-gzip' length 668258 bytes (652 KB)\n",
      "│ ==================================================\n",
      "│ downloaded 652 KB\n",
      "│ \n",
      "│ trying URL 'https://cran.ism.ac.jp/src/contrib/tibble_2.1.3.tar.gz'\n",
      "│ Content type 'application/x-gzip' length 310774 bytes (303 KB)\n",
      "│ ==================================================\n",
      "│ downloaded 303 KB\n",
      "│ \n",
      "│ trying URL 'https://cran.ism.ac.jp/src/contrib/hms_0.5.1.tar.gz'\n",
      "│ Content type 'application/x-gzip' length 136031 bytes (132 KB)\n",
      "│ ==================================================\n",
      "│ downloaded 132 KB\n",
      "│ \n",
      "│ trying URL 'https://cran.ism.ac.jp/src/contrib/feather_0.3.3.tar.gz'\n",
      "│ Content type 'application/x-gzip' length 59965 bytes (58 KB)\n",
      "│ ==================================================\n",
      "│ downloaded 58 KB\n",
      "│ \n",
      "│ \n",
      "│ The downloaded source packages are in\n",
      "│ \t‘/tmp/RtmpnprdFF/downloaded_packages’\n",
      "│ Updating HTML index of packages in '.Library'\n",
      "│ Making 'packages.html' ... done\n",
      "└ @ RCall /home/nakada/.julia/packages/RCall/g7dhB/src/io.jl:113\n"
     ]
    },
    {
     "data": {
      "text/plain": [
       "RObject{NilSxp}\n",
       "NULL\n"
      ]
     },
     "execution_count": 5,
     "metadata": {},
     "output_type": "execute_result"
    }
   ],
   "source": [
    "R\"\"\"install.packages(\"feather\", repos=\"https://cran.ism.ac.jp\")\"\"\""
   ]
  },
  {
   "cell_type": "code",
   "execution_count": 6,
   "metadata": {},
   "outputs": [
    {
     "data": {
      "text/plain": [
       "RObject{StrSxp}\n",
       "[1] \"feather\"   \"stats\"     \"graphics\"  \"grDevices\" \"utils\"     \"datasets\" \n",
       "[7] \"methods\"   \"base\"     \n"
      ]
     },
     "execution_count": 6,
     "metadata": {},
     "output_type": "execute_result"
    }
   ],
   "source": [
    "R\"\"\"library(feather)\"\"\""
   ]
  },
  {
   "cell_type": "code",
   "execution_count": null,
   "metadata": {},
   "outputs": [],
   "source": [
    "R\"\"\"dfR <- read_feather(\"df.dat\")\"\"\""
   ]
  },
  {
   "cell_type": "markdown",
   "metadata": {},
   "source": [
    "# この方法では、なぜか動きません。カーネルごと落ちたり落ちなかったり。同じことをJuliaのREPLのなかからやると動くので、Jupyterの問題のようです。REPLで確認してください。"
   ]
  },
  {
   "cell_type": "code",
   "execution_count": 2,
   "metadata": {},
   "outputs": [
    {
     "data": {
      "text/plain": [
       "RObject{VecSxp}\n",
       "               _                           \n",
       "platform       x86_64-conda_cos6-linux-gnu \n",
       "arch           x86_64                      \n",
       "os             linux-gnu                   \n",
       "system         x86_64, linux-gnu           \n",
       "status                                     \n",
       "major          3                           \n",
       "minor          6.1                         \n",
       "year           2019                        \n",
       "month          07                          \n",
       "day            05                          \n",
       "svn rev        76782                       \n",
       "language       R                           \n",
       "version.string R version 3.6.1 (2019-07-05)\n",
       "nickname       Action of the Toes          \n"
      ]
     },
     "execution_count": 2,
     "metadata": {},
     "output_type": "execute_result"
    }
   ],
   "source": [
    "R\"\"\"version\"\"\""
   ]
  },
  {
   "cell_type": "markdown",
   "metadata": {},
   "source": [
    "---"
   ]
  },
  {
   "cell_type": "code",
   "execution_count": 3,
   "metadata": {},
   "outputs": [
    {
     "name": "stderr",
     "output_type": "stream",
     "text": [
      "┌ Info: Running `conda install feather-format -c conda-forge -y` in root environment\n",
      "└ @ Conda /home/nakada/.julia/packages/Conda/kLXeC/src/Conda.jl:112\n"
     ]
    },
    {
     "name": "stdout",
     "output_type": "stream",
     "text": [
      "Collecting package metadata (current_repodata.json): ...working... done\n",
      "Solving environment: ...working... done\n",
      "\n",
      "## Package Plan ##\n",
      "\n",
      "  environment location: /home/nakada/.julia/conda/3\n",
      "\n",
      "  added / updated specs:\n",
      "    - feather-format\n",
      "\n",
      "\n",
      "The following packages will be downloaded:\n",
      "\n",
      "    package                    |            build\n",
      "    ---------------------------|-----------------\n",
      "    arrow-cpp-0.11.1           |py37h0e61e49_1004         6.3 MB  conda-forge\n",
      "    boost-cpp-1.68.0           |    h11c811c_1000        20.5 MB  conda-forge\n",
      "    ca-certificates-2019.6.16  |       hecc5488_0         145 KB  conda-forge\n",
      "    certifi-2019.6.16          |           py37_1         149 KB  conda-forge\n",
      "    conda-4.7.11               |           py37_0         3.0 MB  conda-forge\n",
      "    feather-format-0.4.0       |          py_1003           5 KB  conda-forge\n",
      "    libprotobuf-3.6.1          |    hdbcaa40_1001         4.0 MB  conda-forge\n",
      "    openssl-1.1.1c             |       h516909a_0         2.1 MB  conda-forge\n",
      "    pandas-0.25.1              |   py37hb3f55d8_0        11.4 MB  conda-forge\n",
      "    parquet-cpp-1.5.1          |                3           3 KB  conda-forge\n",
      "    pyarrow-0.11.1             |py37hbbcf98d_1002         2.0 MB  conda-forge\n",
      "    python-dateutil-2.8.0      |             py_0         219 KB  conda-forge\n",
      "    pytz-2019.2                |             py_0         228 KB  conda-forge\n",
      "    thrift-cpp-0.12.0          |    h0a07b25_1002         2.4 MB  conda-forge\n",
      "    ------------------------------------------------------------\n",
      "                                           Total:        52.4 MB\n",
      "\n",
      "The following NEW packages will be INSTALLED:\n",
      "\n",
      "  arrow-cpp          conda-forge/linux-64::arrow-cpp-0.11.1-py37h0e61e49_1004\n",
      "  boost-cpp          conda-forge/linux-64::boost-cpp-1.68.0-h11c811c_1000\n",
      "  feather-format     conda-forge/noarch::feather-format-0.4.0-py_1003\n",
      "  libprotobuf        conda-forge/linux-64::libprotobuf-3.6.1-hdbcaa40_1001\n",
      "  pandas             conda-forge/linux-64::pandas-0.25.1-py37hb3f55d8_0\n",
      "  parquet-cpp        conda-forge/noarch::parquet-cpp-1.5.1-3\n",
      "  pyarrow            conda-forge/linux-64::pyarrow-0.11.1-py37hbbcf98d_1002\n",
      "  python-dateutil    conda-forge/noarch::python-dateutil-2.8.0-py_0\n",
      "  pytz               conda-forge/noarch::pytz-2019.2-py_0\n",
      "  thrift-cpp         conda-forge/linux-64::thrift-cpp-0.12.0-h0a07b25_1002\n",
      "\n",
      "The following packages will be UPDATED:\n",
      "\n",
      "  ca-certificates    pkgs/main::ca-certificates-2019.5.15-1 --> conda-forge::ca-certificates-2019.6.16-hecc5488_0\n",
      "\n",
      "The following packages will be SUPERSEDED by a higher-priority channel:\n",
      "\n",
      "  certifi                                         pkgs/main --> conda-forge\n",
      "  conda                                           pkgs/main --> conda-forge\n",
      "  openssl              pkgs/main::openssl-1.1.1c-h7b6447c_1 --> conda-forge::openssl-1.1.1c-h516909a_0\n",
      "\n",
      "\n",
      "\n",
      "Downloading and Extracting Packages\n",
      "thrift-cpp-0.12.0    | 2.4 MB    | ########## | 100% \n",
      "pyarrow-0.11.1       | 2.0 MB    | ########## | 100% \n",
      "libprotobuf-3.6.1    | 4.0 MB    | ########## | 100% \n",
      "conda-4.7.11         | 3.0 MB    | ########## | 100% \n",
      "feather-format-0.4.0 | 5 KB      | ########## | 100% \n",
      "arrow-cpp-0.11.1     | 6.3 MB    | ########## | 100% \n",
      "parquet-cpp-1.5.1    | 3 KB      | ########## | 100% \n",
      "python-dateutil-2.8. | 219 KB    | ########## | 100% \n",
      "boost-cpp-1.68.0     | 20.5 MB   | ########## | 100% \n",
      "pandas-0.25.1        | 11.4 MB   | ########## | 100% \n",
      "pytz-2019.2          | 228 KB    | ########## | 100% \n",
      "ca-certificates-2019 | 145 KB    | ########## | 100% \n",
      "openssl-1.1.1c       | 2.1 MB    | ########## | 100% \n",
      "certifi-2019.6.16    | 149 KB    | ########## | 100% \n",
      "Preparing transaction: ...working... done\n",
      "Verifying transaction: ...working... done\n",
      "Executing transaction: ...working... done\n"
     ]
    }
   ],
   "source": [
    "using Conda\n",
    "Conda.runconda(`install feather-format -c conda-forge -y`)"
   ]
  },
  {
   "cell_type": "code",
   "execution_count": 4,
   "metadata": {},
   "outputs": [
    {
     "data": {
      "text/plain": [
       "PyObject <module 'feather' from '/home/nakada/.julia/conda/3/lib/python3.7/site-packages/feather/__init__.py'>"
      ]
     },
     "execution_count": 4,
     "metadata": {},
     "output_type": "execute_result"
    }
   ],
   "source": [
    "using PyCall\n",
    "feather = pyimport(\"feather\")"
   ]
  },
  {
   "cell_type": "code",
   "execution_count": 5,
   "metadata": {},
   "outputs": [
    {
     "data": {
      "text/html": [
       "<div>\n",
       "<style scoped>\n",
       "    .dataframe tbody tr th:only-of-type {\n",
       "        vertical-align: middle;\n",
       "    }\n",
       "\n",
       "    .dataframe tbody tr th {\n",
       "        vertical-align: top;\n",
       "    }\n",
       "\n",
       "    .dataframe thead th {\n",
       "        text-align: right;\n",
       "    }\n",
       "</style>\n",
       "<table border=\"1\" class=\"dataframe\">\n",
       "  <thead>\n",
       "    <tr style=\"text-align: right;\">\n",
       "      <th></th>\n",
       "      <th>x1</th>\n",
       "      <th>x2</th>\n",
       "      <th>x3</th>\n",
       "    </tr>\n",
       "  </thead>\n",
       "  <tbody>\n",
       "    <tr>\n",
       "      <td>0</td>\n",
       "      <td>1.0</td>\n",
       "      <td>0.823648</td>\n",
       "      <td>1</td>\n",
       "    </tr>\n",
       "    <tr>\n",
       "      <td>1</td>\n",
       "      <td>2.0</td>\n",
       "      <td>0.910357</td>\n",
       "      <td>1</td>\n",
       "    </tr>\n",
       "    <tr>\n",
       "      <td>2</td>\n",
       "      <td>3.0</td>\n",
       "      <td>0.164566</td>\n",
       "      <td>4</td>\n",
       "    </tr>\n",
       "    <tr>\n",
       "      <td>3</td>\n",
       "      <td>NaN</td>\n",
       "      <td>0.177329</td>\n",
       "      <td>9</td>\n",
       "    </tr>\n",
       "  </tbody>\n",
       "</table>\n",
       "</div>"
      ],
      "text/plain": [
       "PyObject     x1        x2  x3\n",
       "0  1.0  0.823648   1\n",
       "1  2.0  0.910357   1\n",
       "2  3.0  0.164566   4\n",
       "3  NaN  0.177329   9"
      ]
     },
     "execution_count": 5,
     "metadata": {},
     "output_type": "execute_result"
    },
    {
     "name": "stderr",
     "output_type": "stream",
     "text": [
      "┌ Warning: `getindex(o::PyObject, s::AbstractString)` is deprecated in favor of dot overloading (`getproperty`) so elements should now be accessed as e.g. `o.\"s\"` instead of `o[\"s\"]`.\n",
      "│   caller = show(::IOContext{Base.GenericIOBuffer{Array{UInt8,1}}}, ::MIME{Symbol(\"text/html\")}, ::PyObject) at PyCall.jl:895\n",
      "└ @ PyCall /home/nakada/.julia/packages/PyCall/ttONZ/src/PyCall.jl:895\n"
     ]
    }
   ],
   "source": [
    "dat = feather.read_dataframe(\"df.dat\")"
   ]
  },
  {
   "cell_type": "code",
   "execution_count": null,
   "metadata": {},
   "outputs": [],
   "source": []
  }
 ],
 "metadata": {
  "@webio": {
   "lastCommId": null,
   "lastKernelId": null
  },
  "kernelspec": {
   "display_name": "Julia 1.2.0",
   "language": "julia",
   "name": "julia-1.2"
  },
  "language_info": {
   "file_extension": ".jl",
   "mimetype": "application/julia",
   "name": "julia",
   "version": "1.2.0"
  }
 },
 "nbformat": 4,
 "nbformat_minor": 2
}

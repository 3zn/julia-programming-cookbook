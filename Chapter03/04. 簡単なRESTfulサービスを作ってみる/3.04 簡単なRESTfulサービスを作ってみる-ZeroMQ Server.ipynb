{
 "cells": [
  {
   "cell_type": "code",
   "execution_count": 1,
   "metadata": {},
   "outputs": [],
   "source": [
    "using JuliaWebAPI\n",
    "using ZMQ"
   ]
  },
  {
   "cell_type": "code",
   "execution_count": 2,
   "metadata": {},
   "outputs": [
    {
     "data": {
      "text/plain": [
       "testfn (generic function with 1 method)"
      ]
     },
     "execution_count": 2,
     "metadata": {},
     "output_type": "execute_result"
    }
   ],
   "source": [
    "function testfn(arg1, arg2; optarg1=\"10\", optarg2=\"20\")\n",
    "    println(\"T: \", arg1, \" \", arg2, \" \", optarg1, \" \", optarg2)\n",
    "    return parse(Int,arg1) + parse(Int,arg2) + parse(Int,optarg1) + parse(Int,optarg2)\n",
    "end"
   ]
  },
  {
   "cell_type": "code",
   "execution_count": 3,
   "metadata": {},
   "outputs": [],
   "source": [
    "tr = JuliaWebAPI.ZMQTransport(\"tcp://127.0.0.1:9999\", ZMQ.REP, true);\n",
    "apir = JuliaWebAPI.APIResponder(tr, JuliaWebAPI.JSONMsgFormat());"
   ]
  },
  {
   "cell_type": "code",
   "execution_count": 4,
   "metadata": {},
   "outputs": [
    {
     "name": "stderr",
     "output_type": "stream",
     "text": [
      "┌ Info: registering\n",
      "│   endpt = testfn\n",
      "└ @ JuliaWebAPI /home/nakada/.julia/packages/JuliaWebAPI/9VrIU/src/APIResponder.jl:52\n"
     ]
    },
    {
     "data": {
      "text/plain": [
       "JuliaWebAPI.APIResponder with 1 endpoints (testfn)"
      ]
     },
     "execution_count": 4,
     "metadata": {},
     "output_type": "execute_result"
    }
   ],
   "source": [
    "register(apir, testfn; resp_json=true,\n",
    "        resp_headers = Dict(\"Content-Type\" => \"application/json;charset=utf-8\"))"
   ]
  },
  {
   "cell_type": "code",
   "execution_count": null,
   "metadata": {},
   "outputs": [
    {
     "name": "stderr",
     "output_type": "stream",
     "text": [
      "┌ Info: received\n",
      "│   command = testfn\n",
      "└ @ JuliaWebAPI /home/nakada/.julia/packages/JuliaWebAPI/9VrIU/src/APIResponder.jl:141\n"
     ]
    },
    {
     "name": "stdout",
     "output_type": "stream",
     "text": [
      "T: 5 9 100 1000\n"
     ]
    }
   ],
   "source": [
    "process(apir)"
   ]
  },
  {
   "cell_type": "code",
   "execution_count": null,
   "metadata": {},
   "outputs": [],
   "source": []
  },
  {
   "cell_type": "code",
   "execution_count": null,
   "metadata": {},
   "outputs": [],
   "source": []
  }
 ],
 "metadata": {
  "@webio": {
   "lastCommId": null,
   "lastKernelId": null
  },
  "kernelspec": {
   "display_name": "Julia 1.2.0",
   "language": "julia",
   "name": "julia-1.2"
  },
  "language_info": {
   "file_extension": ".jl",
   "mimetype": "application/julia",
   "name": "julia",
   "version": "1.2.0"
  }
 },
 "nbformat": 4,
 "nbformat_minor": 2
}

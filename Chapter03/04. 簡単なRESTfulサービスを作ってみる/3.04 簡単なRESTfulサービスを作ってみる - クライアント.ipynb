{
 "cells": [
  {
   "cell_type": "code",
   "execution_count": 1,
   "metadata": {},
   "outputs": [
    {
     "data": {
      "text/plain": [
       "5-element Array{String,1}:\n",
       " \"\"                                \n",
       " \"HTTP/1.1 200 OK\"                 \n",
       " \"Content-Type: text/html\"         \n",
       " \"\"                                \n",
       " \"<html><body>3*7=21</body></html>\""
      ]
     },
     "execution_count": 1,
     "metadata": {},
     "output_type": "execute_result"
    }
   ],
   "source": [
    "using Sockets\n",
    "\n",
    "client = Sockets.connect(\"127.0.0.1\",8080) \n",
    "write(client, \"GET /3*7\\n\")\n",
    "\n",
    "readlines(client)"
   ]
  },
  {
   "cell_type": "code",
   "execution_count": null,
   "metadata": {},
   "outputs": [],
   "source": []
  }
 ],
 "metadata": {
  "kernelspec": {
   "display_name": "Julia 1.2.0",
   "language": "julia",
   "name": "julia-1.2"
  },
  "language_info": {
   "file_extension": ".jl",
   "mimetype": "application/julia",
   "name": "julia",
   "version": "1.2.0"
  }
 },
 "nbformat": 4,
 "nbformat_minor": 2
}

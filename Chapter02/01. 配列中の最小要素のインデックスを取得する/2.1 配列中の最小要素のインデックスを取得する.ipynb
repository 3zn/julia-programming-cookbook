{
 "cells": [
  {
   "cell_type": "code",
   "execution_count": 1,
   "metadata": {},
   "outputs": [
    {
     "name": "stdout",
     "output_type": "stream",
     "text": [
      "\u001b[32m\u001b[1m  Updating\u001b[22m\u001b[39m registry at `~/.julia/registries/General`\n",
      "\u001b[32m\u001b[1m  Updating\u001b[22m\u001b[39m git-repo `https://github.com/JuliaRegistries/General.git`\n",
      "\u001b[2K\u001b[?25h[1mFetching:\u001b[22m\u001b[39m [========================================>]  99.8 %0.0 %.7 %\u001b[36m\u001b[1mFetching:\u001b[22m\u001b[39m [======>                                  ]  12.6 %>                             ]  27.2 %.0 % [===============>                         ]  37.3 %]  51.9 %]  59.9 % [==============================>          ]  74.6 %       ]  82.2 % [=======================================> ]  97.0 %]  99.9 %\u001b[32m\u001b[1m Resolving\u001b[22m\u001b[39m package versions...\n",
      "\u001b[32m\u001b[1m Installed\u001b[22m\u001b[39m Missings ─────────── v0.4.1\n",
      "\u001b[32m\u001b[1m Installed\u001b[22m\u001b[39m DataAPI ──────────── v1.0.1\n",
      "\u001b[32m\u001b[1m Installed\u001b[22m\u001b[39m SortingAlgorithms ── v0.3.1\n",
      "\u001b[32m\u001b[1m Installed\u001b[22m\u001b[39m Parsers ──────────── v0.3.7\n",
      "\u001b[32m\u001b[1m Installed\u001b[22m\u001b[39m OrderedCollections ─ v1.1.0\n",
      "\u001b[32m\u001b[1m Installed\u001b[22m\u001b[39m StatsBase ────────── v0.32.0\n",
      "\u001b[32m\u001b[1m Installed\u001b[22m\u001b[39m DataStructures ───── v0.17.0\n",
      "\u001b[32m\u001b[1m  Updating\u001b[22m\u001b[39m `~/.julia/environments/v1.2/Project.toml`\n",
      " \u001b[90m [2913bbd2]\u001b[39m\u001b[92m + StatsBase v0.32.0\u001b[39m\n",
      "\u001b[32m\u001b[1m  Updating\u001b[22m\u001b[39m `~/.julia/environments/v1.2/Manifest.toml`\n",
      " \u001b[90m [9a962f9c]\u001b[39m\u001b[92m + DataAPI v1.0.1\u001b[39m\n",
      " \u001b[90m [864edb3b]\u001b[39m\u001b[92m + DataStructures v0.17.0\u001b[39m\n",
      " \u001b[90m [e1d29d7a]\u001b[39m\u001b[92m + Missings v0.4.1\u001b[39m\n",
      " \u001b[90m [bac558e1]\u001b[39m\u001b[92m + OrderedCollections v1.1.0\u001b[39m\n",
      " \u001b[90m [69de0a69]\u001b[39m\u001b[93m ↑ Parsers v0.3.6 ⇒ v0.3.7\u001b[39m\n",
      " \u001b[90m [a2af1166]\u001b[39m\u001b[92m + SortingAlgorithms v0.3.1\u001b[39m\n",
      " \u001b[90m [2913bbd2]\u001b[39m\u001b[92m + StatsBase v0.32.0\u001b[39m\n",
      "\u001b[32m\u001b[1m Resolving\u001b[22m\u001b[39m package versions...\n",
      "\u001b[32m\u001b[1m Installed\u001b[22m\u001b[39m BenchmarkTools ─ v0.4.2\n",
      "\u001b[32m\u001b[1m  Updating\u001b[22m\u001b[39m `~/.julia/environments/v1.2/Project.toml`\n",
      " \u001b[90m [6e4b80f9]\u001b[39m\u001b[92m + BenchmarkTools v0.4.2\u001b[39m\n",
      "\u001b[32m\u001b[1m  Updating\u001b[22m\u001b[39m `~/.julia/environments/v1.2/Manifest.toml`\n",
      " \u001b[90m [6e4b80f9]\u001b[39m\u001b[92m + BenchmarkTools v0.4.2\u001b[39m\n"
     ]
    }
   ],
   "source": [
    "#using Pkg; Pkg.add(\"StatsBase\"); Pkg.add(\"BenchmarkTools\")"
   ]
  },
  {
   "cell_type": "code",
   "execution_count": 2,
   "metadata": {},
   "outputs": [
    {
     "data": {
      "text/plain": [
       "allargmin (generic function with 1 method)"
      ]
     },
     "execution_count": 2,
     "metadata": {},
     "output_type": "execute_result"
    }
   ],
   "source": [
    "function allargmin(a)\n",
    "    m = minimum(a)\n",
    "    filter(i -> a[i] == m, eachindex(a))\n",
    "end"
   ]
  },
  {
   "cell_type": "code",
   "execution_count": 3,
   "metadata": {},
   "outputs": [
    {
     "data": {
      "text/plain": [
       "2-element Array{Int64,1}:\n",
       " 1\n",
       " 4"
      ]
     },
     "execution_count": 3,
     "metadata": {},
     "output_type": "execute_result"
    }
   ],
   "source": [
    "allargmin([1,2,3,1,2,3])"
   ]
  },
  {
   "cell_type": "code",
   "execution_count": 4,
   "metadata": {},
   "outputs": [
    {
     "data": {
      "text/plain": [
       "randargmin1 (generic function with 1 method)"
      ]
     },
     "execution_count": 4,
     "metadata": {},
     "output_type": "execute_result"
    }
   ],
   "source": [
    "randargmin1(a) = rand(allargmin(a))"
   ]
  },
  {
   "cell_type": "code",
   "execution_count": 5,
   "metadata": {},
   "outputs": [
    {
     "data": {
      "text/plain": [
       "randargmin2 (generic function with 1 method)"
      ]
     },
     "execution_count": 5,
     "metadata": {},
     "output_type": "execute_result"
    }
   ],
   "source": [
    "function randargmin2(a)\n",
    "    indices = eachindex(a)\n",
    "    y = iterate(indices)\n",
    "    y === nothing && throw(ArgumentError(\"collection must be non-empty\"))\n",
    "    (idx, state) = y\n",
    "    minval = a[idx]\n",
    "    bestidx = idx\n",
    "    bestcount = 1\n",
    "    y = iterate(indices, state)\n",
    "    while y !== nothing\n",
    "        (idx, state) = y\n",
    "        curval = a[idx]\n",
    "        if isless(curval, minval)\n",
    "            minval = curval\n",
    "            bestidx = idx\n",
    "            bestcount = 1\n",
    "        elseif isequal(curval, minval)\n",
    "            bestcount += 1\n",
    "            rand() * bestcount < 1 && (bestidx = idx)\n",
    "        end\n",
    "        y = iterate(indices, state)\n",
    "    end\n",
    "    bestidx\n",
    "end"
   ]
  },
  {
   "cell_type": "code",
   "execution_count": 6,
   "metadata": {},
   "outputs": [
    {
     "name": "stderr",
     "output_type": "stream",
     "text": [
      "┌ Info: Precompiling StatsBase [2913bbd2-ae8a-5f71-8c99-4fb6c76f3a91]\n",
      "└ @ Base loading.jl:1242\n"
     ]
    }
   ],
   "source": [
    "using StatsBase"
   ]
  },
  {
   "cell_type": "code",
   "execution_count": 7,
   "metadata": {},
   "outputs": [
    {
     "data": {
      "text/plain": [
       "8-element Array{Int64,1}:\n",
       " 1\n",
       " 2\n",
       " 3\n",
       " 1\n",
       " 2\n",
       " 3\n",
       " 1\n",
       " 1"
      ]
     },
     "execution_count": 7,
     "metadata": {},
     "output_type": "execute_result"
    }
   ],
   "source": [
    "x = [1, 2, 3, 1, 2, 3, 1, 1]"
   ]
  },
  {
   "cell_type": "code",
   "execution_count": 8,
   "metadata": {},
   "outputs": [
    {
     "data": {
      "text/plain": [
       "Dict{Int64,Int64} with 4 entries:\n",
       "  7 => 250157\n",
       "  4 => 249433\n",
       "  8 => 250303\n",
       "  1 => 250107"
      ]
     },
     "execution_count": 8,
     "metadata": {},
     "output_type": "execute_result"
    }
   ],
   "source": [
    "countmap([randargmin1(x) for i in 1:10^6])"
   ]
  },
  {
   "cell_type": "code",
   "execution_count": 9,
   "metadata": {},
   "outputs": [
    {
     "data": {
      "text/plain": [
       "Dict{Int64,Int64} with 4 entries:\n",
       "  7 => 249298\n",
       "  4 => 250149\n",
       "  8 => 250166\n",
       "  1 => 250387"
      ]
     },
     "execution_count": 9,
     "metadata": {},
     "output_type": "execute_result"
    }
   ],
   "source": [
    "countmap([randargmin2(x) for i in 1:10^6])"
   ]
  },
  {
   "cell_type": "code",
   "execution_count": 10,
   "metadata": {},
   "outputs": [
    {
     "name": "stderr",
     "output_type": "stream",
     "text": [
      "┌ Info: Precompiling BenchmarkTools [6e4b80f9-dd63-53aa-95a3-0cdb28fa8baf]\n",
      "└ @ Base loading.jl:1242\n"
     ]
    }
   ],
   "source": [
    "x = rand(1:10, 1000);\n",
    "using BenchmarkTools\n"
   ]
  },
  {
   "cell_type": "code",
   "execution_count": 11,
   "metadata": {},
   "outputs": [
    {
     "name": "stdout",
     "output_type": "stream",
     "text": [
      "  1.900 μs (9 allocations: 2.02 KiB)\n"
     ]
    }
   ],
   "source": [
    "@btime randargmin1($x);"
   ]
  },
  {
   "cell_type": "code",
   "execution_count": 12,
   "metadata": {},
   "outputs": [
    {
     "name": "stdout",
     "output_type": "stream",
     "text": [
      "  1.720 μs (0 allocations: 0 bytes)\n"
     ]
    }
   ],
   "source": [
    "@btime randargmin2($x);"
   ]
  },
  {
   "cell_type": "code",
   "execution_count": 13,
   "metadata": {},
   "outputs": [
    {
     "data": {
      "text/plain": [
       "(true, false)"
      ]
     },
     "execution_count": 13,
     "metadata": {},
     "output_type": "execute_result"
    }
   ],
   "source": [
    "0.0 == -0.0, -0.0 < 0.0"
   ]
  },
  {
   "cell_type": "code",
   "execution_count": 14,
   "metadata": {},
   "outputs": [
    {
     "data": {
      "text/plain": [
       "(false, true)"
      ]
     },
     "execution_count": 14,
     "metadata": {},
     "output_type": "execute_result"
    }
   ],
   "source": [
    "isequal(0.0, -0.0), isless(-0.0, 0.0)"
   ]
  },
  {
   "cell_type": "code",
   "execution_count": 15,
   "metadata": {},
   "outputs": [
    {
     "data": {
      "text/plain": [
       "(false, false)"
      ]
     },
     "execution_count": 15,
     "metadata": {},
     "output_type": "execute_result"
    }
   ],
   "source": [
    "NaN == NaN, NaN < NaN"
   ]
  },
  {
   "cell_type": "code",
   "execution_count": 16,
   "metadata": {},
   "outputs": [
    {
     "data": {
      "text/plain": [
       "(true, false)"
      ]
     },
     "execution_count": 16,
     "metadata": {},
     "output_type": "execute_result"
    }
   ],
   "source": [
    "isequal(NaN, NaN), isless(NaN, NaN)"
   ]
  },
  {
   "cell_type": "code",
   "execution_count": null,
   "metadata": {},
   "outputs": [],
   "source": []
  },
  {
   "cell_type": "code",
   "execution_count": null,
   "metadata": {},
   "outputs": [],
   "source": []
  }
 ],
 "metadata": {
  "@webio": {
   "lastCommId": null,
   "lastKernelId": null
  },
  "kernelspec": {
   "display_name": "Julia 1.2.0",
   "language": "julia",
   "name": "julia-1.2"
  },
  "language_info": {
   "file_extension": ".jl",
   "mimetype": "application/julia",
   "name": "julia",
   "version": "1.2.0"
  }
 },
 "nbformat": 4,
 "nbformat_minor": 2
}

{
 "cells": [
  {
   "cell_type": "code",
   "execution_count": 1,
   "metadata": {},
   "outputs": [
    {
     "name": "stdout",
     "output_type": "stream",
     "text": [
      "\u001b[32m\u001b[1m  Updating\u001b[22m\u001b[39m registry at `~/.julia/registries/General`\n",
      "\u001b[32m\u001b[1m  Updating\u001b[22m\u001b[39m git-repo `https://github.com/JuliaRegistries/General.git`\n",
      "\u001b[?25l\u001b[2K\u001b[?25h\u001b[32m\u001b[1m Resolving\u001b[22m\u001b[39m package versions...\n",
      "\u001b[32m\u001b[1m  Updating\u001b[22m\u001b[39m `~/.julia/environments/v1.2/Project.toml`\n",
      "\u001b[90m [no changes]\u001b[39m\n",
      "\u001b[32m\u001b[1m  Updating\u001b[22m\u001b[39m `~/.julia/environments/v1.2/Manifest.toml`\n",
      "\u001b[90m [no changes]\u001b[39m\n",
      "\u001b[32m\u001b[1m Resolving\u001b[22m\u001b[39m package versions...\n",
      "\u001b[32m\u001b[1m  Updating\u001b[22m\u001b[39m `~/.julia/environments/v1.2/Project.toml`\n",
      "\u001b[90m [no changes]\u001b[39m\n",
      "\u001b[32m\u001b[1m  Updating\u001b[22m\u001b[39m `~/.julia/environments/v1.2/Manifest.toml`\n",
      "\u001b[90m [no changes]\u001b[39m\n"
     ]
    }
   ],
   "source": [
    "#using Pkg; Pkg.add(\"BenchmarkTools\"); Pkg.add(\"StatsBase\")"
   ]
  },
  {
   "cell_type": "code",
   "execution_count": 2,
   "metadata": {},
   "outputs": [
    {
     "data": {
      "text/plain": [
       "Xorshift"
      ]
     },
     "execution_count": 2,
     "metadata": {},
     "output_type": "execute_result"
    }
   ],
   "source": [
    "using Random\n",
    "mutable struct Xorshift <: AbstractRNG\n",
    "    state::UInt64\n",
    "end\n",
    "Xorshift() = Xorshift(rand(RandomDevice(), UInt64))"
   ]
  },
  {
   "cell_type": "code",
   "execution_count": 3,
   "metadata": {},
   "outputs": [
    {
     "data": {
      "text/plain": [
       "xorshift_rand (generic function with 1 method)"
      ]
     },
     "execution_count": 3,
     "metadata": {},
     "output_type": "execute_result"
    }
   ],
   "source": [
    "Random.seed!(r::Xorshift, seed::UInt64 = rand(RandomDevice(), UInt64)) = r.state = seed\n",
    "\n",
    "function xorshift_rand(r::Xorshift)\n",
    "    state = r.state\n",
    "    state ⊻= state << 13\n",
    "    state ⊻= state >> 7\n",
    "    state ⊻= state << 17\n",
    "    r.state = state\n",
    "end"
   ]
  },
  {
   "cell_type": "code",
   "execution_count": 4,
   "metadata": {},
   "outputs": [
    {
     "data": {
      "text/plain": [
       "Union{Random.SamplerType{Bool}, Random.SamplerType{Int32}, Random.SamplerType{Int64}, Random.SamplerType{UInt32}, Random.SamplerType{UInt64}}"
      ]
     },
     "execution_count": 4,
     "metadata": {},
     "output_type": "execute_result"
    }
   ],
   "source": [
    "const XorshiftSamplers = Union{map(T->Random.SamplerType{T},\n",
    "        [Bool, UInt32, Int32, UInt64, Int64])...}"
   ]
  },
  {
   "cell_type": "code",
   "execution_count": 5,
   "metadata": {},
   "outputs": [],
   "source": [
    "Base.rand(r::Xorshift, sampler::XorshiftSamplers) = xorshift_rand(r) % sampler[]"
   ]
  },
  {
   "cell_type": "code",
   "execution_count": 6,
   "metadata": {},
   "outputs": [],
   "source": [
    "Random.rng_native_52(::Xorshift) = UInt64"
   ]
  },
  {
   "cell_type": "code",
   "execution_count": 7,
   "metadata": {},
   "outputs": [
    {
     "data": {
      "text/plain": [
       "Xorshift(0x0139408dcbbf7a44)"
      ]
     },
     "execution_count": 7,
     "metadata": {},
     "output_type": "execute_result"
    }
   ],
   "source": [
    "using StatsBase\n",
    "r = Xorshift(0x0139408dcbbf7a44)"
   ]
  },
  {
   "cell_type": "code",
   "execution_count": 8,
   "metadata": {},
   "outputs": [
    {
     "data": {
      "text/plain": [
       "Dict{Int64,Int64} with 10 entries:\n",
       "  7  => 9996777\n",
       "  4  => 9997119\n",
       "  9  => 10004173\n",
       "  10 => 9998711\n",
       "  2  => 10000084\n",
       "  3  => 9998660\n",
       "  5  => 10002696\n",
       "  8  => 10001941\n",
       "  6  => 9996874\n",
       "  1  => 10002965"
      ]
     },
     "execution_count": 8,
     "metadata": {},
     "output_type": "execute_result"
    }
   ],
   "source": [
    "countmap(rand(r, 1:10, 10^8))"
   ]
  },
  {
   "cell_type": "code",
   "execution_count": 9,
   "metadata": {},
   "outputs": [
    {
     "data": {
      "text/plain": [
       "5×5 Array{Int64,2}:\n",
       " 0  0  0  0  0\n",
       " 0  0  0  0  0\n",
       " 0  0  0  0  0\n",
       " 0  0  0  0  0\n",
       " 0  0  0  0  0"
      ]
     },
     "execution_count": 9,
     "metadata": {},
     "output_type": "execute_result"
    }
   ],
   "source": [
    "const X = zeros(Int, 5, 5)"
   ]
  },
  {
   "cell_type": "code",
   "execution_count": 10,
   "metadata": {},
   "outputs": [],
   "source": [
    "foreach(i -> X[rand(r, 1:5), rand(r, 1:5)] += 1, 1:10^7)"
   ]
  },
  {
   "cell_type": "code",
   "execution_count": 11,
   "metadata": {},
   "outputs": [
    {
     "data": {
      "text/plain": [
       "5×5 Array{Float64,2}:\n",
       " 0.99747   1.00078   0.999343  1.00031   0.99737 \n",
       " 0.996387  1.00425   1.00035   0.999225  1.00246 \n",
       " 0.99828   1.00058   1.00111   1.00032   0.99703 \n",
       " 1.0003    0.999223  1.00174   1.00182   0.999058\n",
       " 1.00076   0.99959   1.00011   0.999045  1.00309 "
      ]
     },
     "execution_count": 11,
     "metadata": {},
     "output_type": "execute_result"
    }
   ],
   "source": [
    "25 * X / 10^7"
   ]
  },
  {
   "cell_type": "code",
   "execution_count": 12,
   "metadata": {},
   "outputs": [
    {
     "ename": "ArgumentError",
     "evalue": "ArgumentError: Sampler for this object is not defined",
     "output_type": "error",
     "traceback": [
      "ArgumentError: Sampler for this object is not defined",
      "",
      "Stacktrace:",
      " [1] Random.Sampler(::Type{Xorshift}, ::Random.SamplerType{UInt128}, ::Val{1}) at /buildworker/worker/package_linux64/build/usr/share/julia/stdlib/v1.2/Random/src/Random.jl:143",
      " [2] Random.Sampler(::Xorshift, ::Random.SamplerType{UInt128}, ::Val{1}) at /buildworker/worker/package_linux64/build/usr/share/julia/stdlib/v1.2/Random/src/Random.jl:140",
      " [3] rand(::Xorshift, ::Random.SamplerType{UInt128}) at /buildworker/worker/package_linux64/build/usr/share/julia/stdlib/v1.2/Random/src/Random.jl:230",
      " [4] rand(::Xorshift, ::Type{UInt128}) at /buildworker/worker/package_linux64/build/usr/share/julia/stdlib/v1.2/Random/src/Random.jl:233",
      " [5] top-level scope at In[12]:1"
     ]
    }
   ],
   "source": [
    "rand(Xorshift(), UInt128)\n"
   ]
  },
  {
   "cell_type": "code",
   "execution_count": 13,
   "metadata": {},
   "outputs": [],
   "source": [
    "function Base.rand(r::Xorshift, sampler::Random.SamplerType{UInt128})\n",
    "    r1 = rand(r, UInt64)\n",
    "    r2 = rand(r, UInt64)\n",
    "    (UInt128(r1) << 64) | r2\n",
    "end"
   ]
  },
  {
   "cell_type": "code",
   "execution_count": 14,
   "metadata": {},
   "outputs": [
    {
     "data": {
      "text/plain": [
       "0x0586c91d79ac483f84d56e715f94ff6f"
      ]
     },
     "execution_count": 14,
     "metadata": {},
     "output_type": "execute_result"
    }
   ],
   "source": [
    "rand(Xorshift(), UInt128)"
   ]
  },
  {
   "cell_type": "code",
   "execution_count": 15,
   "metadata": {},
   "outputs": [],
   "source": [
    "using BenchmarkTools"
   ]
  },
  {
   "cell_type": "code",
   "execution_count": 16,
   "metadata": {},
   "outputs": [
    {
     "data": {
      "text/plain": [
       "Xorshift(0xc4589f1aaef27ceb)"
      ]
     },
     "execution_count": 16,
     "metadata": {},
     "output_type": "execute_result"
    }
   ],
   "source": [
    "r = Xorshift()"
   ]
  },
  {
   "cell_type": "code",
   "execution_count": 17,
   "metadata": {},
   "outputs": [
    {
     "data": {
      "text/plain": [
       "BenchmarkTools.Trial: \n",
       "  memory estimate:  0 bytes\n",
       "  allocs estimate:  0\n",
       "  --------------\n",
       "  minimum time:     4.905 ns (0.00% GC)\n",
       "  median time:      8.709 ns (0.00% GC)\n",
       "  mean time:        9.483 ns (0.00% GC)\n",
       "  maximum time:     187.087 ns (0.00% GC)\n",
       "  --------------\n",
       "  samples:          10000\n",
       "  evals/sample:     999"
      ]
     },
     "execution_count": 17,
     "metadata": {},
     "output_type": "execute_result"
    }
   ],
   "source": [
    "@benchmark rand()"
   ]
  },
  {
   "cell_type": "code",
   "execution_count": 18,
   "metadata": {},
   "outputs": [
    {
     "data": {
      "text/plain": [
       "BenchmarkTools.Trial: \n",
       "  memory estimate:  0 bytes\n",
       "  allocs estimate:  0\n",
       "  --------------\n",
       "  minimum time:     5.005 ns (0.00% GC)\n",
       "  median time:      8.108 ns (0.00% GC)\n",
       "  mean time:        8.725 ns (0.00% GC)\n",
       "  maximum time:     179.880 ns (0.00% GC)\n",
       "  --------------\n",
       "  samples:          10000\n",
       "  evals/sample:     999"
      ]
     },
     "execution_count": 18,
     "metadata": {},
     "output_type": "execute_result"
    }
   ],
   "source": [
    "@benchmark rand($r)"
   ]
  },
  {
   "cell_type": "code",
   "execution_count": null,
   "metadata": {},
   "outputs": [],
   "source": []
  }
 ],
 "metadata": {
  "@webio": {
   "lastCommId": null,
   "lastKernelId": null
  },
  "kernelspec": {
   "display_name": "Julia 1.2.0",
   "language": "julia",
   "name": "julia-1.2"
  },
  "language_info": {
   "file_extension": ".jl",
   "mimetype": "application/julia",
   "name": "julia",
   "version": "1.2.0"
  }
 },
 "nbformat": 4,
 "nbformat_minor": 2
}

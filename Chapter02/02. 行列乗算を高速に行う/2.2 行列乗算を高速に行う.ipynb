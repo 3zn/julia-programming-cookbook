{
 "cells": [
  {
   "cell_type": "code",
   "execution_count": 1,
   "metadata": {},
   "outputs": [
    {
     "data": {
      "text/plain": [
       "domul (generic function with 1 method)"
      ]
     },
     "execution_count": 1,
     "metadata": {},
     "output_type": "execute_result"
    }
   ],
   "source": [
    "# 一連の行列を引数としてとり、最適な順番で乗算する\n",
    "function fastmatmul(args::AbstractMatrix...)\n",
    "    length(args) ≤ 1 && return *(args...)\n",
    "    sizes = size.(args)\n",
    "    if !all(sizes[i][2] == sizes[i+1][1] for i in 1:length(sizes)-1)\n",
    "         throw(ArgumentError(\"matrix dimensions mismatch\"))\n",
    "    end\n",
    "    partcost = Dict{Tuple{Int,Int}, Tuple{Int, Int}}()\n",
    "    from, to = 1, length(sizes)\n",
    "    solvemul(sizes, partcost, from, to)\n",
    "    domul(args, partcost, from, to)\n",
    "end\n",
    "\n",
    "# 最適な乗算順序を見つける\n",
    "function solvemul(sizes, partcost, from, to)\n",
    "    if from == to\n",
    "        partcost[(from, to)] = (0, from)\n",
    "        return\n",
    "    end\n",
    "    mincost = typemax(Int)\n",
    "    minj = -1\n",
    "    for j in from:to-1\n",
    "        haskey(partcost, (from, j)) || solvemul(sizes, partcost, from, j)\n",
    "        haskey(partcost, (j+1, to)) || solvemul(sizes, partcost, j+1, to)\n",
    "        curcost = sizes[from][1]*sizes[j][2]*sizes[to][2] +\n",
    "                  partcost[(from, j)][1] + partcost[(j+1, to)][1]\n",
    "        if curcost < mincost\n",
    "            minj = j\n",
    "            mincost = curcost\n",
    "        end\n",
    "    end\n",
    "    partcost[(from, to)] = (mincost, minj)\n",
    "end\n",
    "\n",
    "# 事前に計算した最適な順番で乗算を行う\n",
    "function domul(args, partcost, from, to)\n",
    "    from == to && return args[from]\n",
    "    from+1 == to && return args[from]*args[to]\n",
    "    j = partcost[(from, to)][2]\n",
    "    domul(args, partcost, from, j) * domul(args, partcost, j+1, to)\n",
    "end\n"
   ]
  },
  {
   "cell_type": "code",
   "execution_count": 2,
   "metadata": {},
   "outputs": [
    {
     "name": "stderr",
     "output_type": "stream",
     "text": [
      "┌ Info: Recompiling stale cache file /home/nakada/.julia/compiled/v1.2/BenchmarkTools/ZXPQo.ji for BenchmarkTools [6e4b80f9-dd63-53aa-95a3-0cdb28fa8baf]\n",
      "└ @ Base loading.jl:1240\n"
     ]
    }
   ],
   "source": [
    "using BenchmarkTools\n",
    "A = ones(5, 5000);\n",
    "B = ones(5000, 5);"
   ]
  },
  {
   "cell_type": "code",
   "execution_count": 3,
   "metadata": {},
   "outputs": [
    {
     "name": "stdout",
     "output_type": "stream",
     "text": [
      "  635.300 μs (33 allocations: 1.72 MiB)\n"
     ]
    }
   ],
   "source": [
    "@btime *(repeat([A,B], outer=10)...);"
   ]
  },
  {
   "cell_type": "code",
   "execution_count": 4,
   "metadata": {},
   "outputs": [
    {
     "name": "stdout",
     "output_type": "stream",
     "text": [
      "  401.600 μs (43 allocations: 52.25 KiB)\n"
     ]
    }
   ],
   "source": [
    "@btime fastmatmul(repeat([A,B], outer=10)...);"
   ]
  },
  {
   "cell_type": "code",
   "execution_count": 5,
   "metadata": {},
   "outputs": [
    {
     "data": {
      "text/plain": [
       "@fastmatmul (macro with 1 method)"
      ]
     },
     "execution_count": 5,
     "metadata": {},
     "output_type": "execute_result"
    }
   ],
   "source": [
    "macro fastmatmul(ex::Expr)\n",
    "    ex.head == :call || throw(ArgumentError(\"expression must be a call\"))\n",
    "    ex.args[1] == :(*) || throw(ArgumentError(\"only multiplication is allowed\"))\n",
    "    new_ex = deepcopy(ex)\n",
    "    new_ex.args[1] = :fastmatmul\n",
    "    esc(new_ex)\n",
    "end\n"
   ]
  },
  {
   "cell_type": "code",
   "execution_count": 6,
   "metadata": {},
   "outputs": [
    {
     "data": {
      "text/plain": [
       "2×5 Array{Float64,2}:\n",
       " 12.0  12.0  12.0  12.0  12.0\n",
       " 12.0  12.0  12.0  12.0  12.0"
      ]
     },
     "execution_count": 6,
     "metadata": {},
     "output_type": "execute_result"
    }
   ],
   "source": [
    "@fastmatmul ones(2,3)*ones(3,4)*ones(4,5)"
   ]
  },
  {
   "cell_type": "code",
   "execution_count": null,
   "metadata": {},
   "outputs": [],
   "source": []
  },
  {
   "cell_type": "code",
   "execution_count": null,
   "metadata": {},
   "outputs": [],
   "source": []
  }
 ],
 "metadata": {
  "@webio": {
   "lastCommId": null,
   "lastKernelId": null
  },
  "kernelspec": {
   "display_name": "Julia 1.2.0",
   "language": "julia",
   "name": "julia-1.2"
  },
  "language_info": {
   "file_extension": ".jl",
   "mimetype": "application/julia",
   "name": "julia",
   "version": "1.2.0"
  }
 },
 "nbformat": 4,
 "nbformat_minor": 2
}

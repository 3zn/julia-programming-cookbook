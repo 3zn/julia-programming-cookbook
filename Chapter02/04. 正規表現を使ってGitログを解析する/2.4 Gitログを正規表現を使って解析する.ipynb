{
 "cells": [
  {
   "cell_type": "code",
   "execution_count": 1,
   "metadata": {},
   "outputs": [
    {
     "name": "stdout",
     "output_type": "stream",
     "text": [
      "\u001b[32m\u001b[1m  Updating\u001b[22m\u001b[39m registry at `~/.julia/registries/General`\n",
      "\u001b[32m\u001b[1m  Updating\u001b[22m\u001b[39m git-repo `https://github.com/JuliaRegistries/General.git`\n",
      "\u001b[?25l\u001b[2K\u001b[?25h\u001b[32m\u001b[1m Resolving\u001b[22m\u001b[39m package versions...\n",
      "\u001b[32m\u001b[1m Installed\u001b[22m\u001b[39m Reexport ──────────────────── v0.2.0\n",
      "\u001b[32m\u001b[1m Installed\u001b[22m\u001b[39m DataValueInterfaces ───────── v1.0.0\n",
      "\u001b[32m\u001b[1m Installed\u001b[22m\u001b[39m PooledArrays ──────────────── v0.5.2\n",
      "\u001b[32m\u001b[1m Installed\u001b[22m\u001b[39m InvertedIndices ───────────── v1.0.0\n",
      "\u001b[32m\u001b[1m Installed\u001b[22m\u001b[39m Tables ────────────────────── v0.2.11\n",
      "\u001b[32m\u001b[1m Installed\u001b[22m\u001b[39m TableTraits ───────────────── v1.0.0\n",
      "\u001b[32m\u001b[1m Installed\u001b[22m\u001b[39m IteratorInterfaceExtensions ─ v1.0.0\n",
      "\u001b[32m\u001b[1m Installed\u001b[22m\u001b[39m CategoricalArrays ─────────── v0.5.5\n",
      "\u001b[32m\u001b[1m Installed\u001b[22m\u001b[39m DataFrames ────────────────── v0.19.3\n",
      "\u001b[32m\u001b[1m  Updating\u001b[22m\u001b[39m `~/.julia/environments/v1.2/Project.toml`\n",
      " \u001b[90m [a93c6f00]\u001b[39m\u001b[92m + DataFrames v0.19.3\u001b[39m\n",
      "\u001b[32m\u001b[1m  Updating\u001b[22m\u001b[39m `~/.julia/environments/v1.2/Manifest.toml`\n",
      " \u001b[90m [324d7699]\u001b[39m\u001b[92m + CategoricalArrays v0.5.5\u001b[39m\n",
      " \u001b[90m [a93c6f00]\u001b[39m\u001b[92m + DataFrames v0.19.3\u001b[39m\n",
      " \u001b[90m [e2d170a0]\u001b[39m\u001b[92m + DataValueInterfaces v1.0.0\u001b[39m\n",
      " \u001b[90m [41ab1584]\u001b[39m\u001b[92m + InvertedIndices v1.0.0\u001b[39m\n",
      " \u001b[90m [82899510]\u001b[39m\u001b[92m + IteratorInterfaceExtensions v1.0.0\u001b[39m\n",
      " \u001b[90m [2dfb63ee]\u001b[39m\u001b[92m + PooledArrays v0.5.2\u001b[39m\n",
      " \u001b[90m [189a3867]\u001b[39m\u001b[92m + Reexport v0.2.0\u001b[39m\n",
      " \u001b[90m [3783bdb8]\u001b[39m\u001b[92m + TableTraits v1.0.0\u001b[39m\n",
      " \u001b[90m [bd369af6]\u001b[39m\u001b[92m + Tables v0.2.11\u001b[39m\n",
      " \u001b[90m [9fa8497b]\u001b[39m\u001b[92m + Future \u001b[39m\n",
      "\u001b[32m\u001b[1m Resolving\u001b[22m\u001b[39m package versions...\n",
      "\u001b[32m\u001b[1m Installed\u001b[22m\u001b[39m DataFramesMeta ─ v0.5.0\n",
      "\u001b[32m\u001b[1m  Updating\u001b[22m\u001b[39m `~/.julia/environments/v1.2/Project.toml`\n",
      " \u001b[90m [1313f7d8]\u001b[39m\u001b[92m + DataFramesMeta v0.5.0\u001b[39m\n",
      "\u001b[32m\u001b[1m  Updating\u001b[22m\u001b[39m `~/.julia/environments/v1.2/Manifest.toml`\n",
      " \u001b[90m [1313f7d8]\u001b[39m\u001b[92m + DataFramesMeta v0.5.0\u001b[39m\n"
     ]
    }
   ],
   "source": [
    "#using Pkg; Pkg.add(\"DataFrames\"); Pkg.add(\"DataFramesMeta\")"
   ]
  },
  {
   "cell_type": "code",
   "execution_count": 2,
   "metadata": {},
   "outputs": [
    {
     "name": "stderr",
     "output_type": "stream",
     "text": [
      "┌ Info: Precompiling DataFrames [a93c6f00-e57d-5684-b7b6-d8193f3e46c0]\n",
      "└ @ Base loading.jl:1242\n",
      "┌ Info: Precompiling DataFramesMeta [1313f7d8-7da2-5740-9ea0-a2ca25f37964]\n",
      "└ @ Base loading.jl:1242\n"
     ]
    },
    {
     "data": {
      "text/plain": [
       "gitstats (generic function with 1 method)"
      ]
     },
     "execution_count": 2,
     "metadata": {},
     "output_type": "execute_result"
    }
   ],
   "source": [
    "using DataFrames, DataFramesMeta\n",
    "\n",
    "function parselog(lines)\n",
    "    author = r\"^Author: ([^<]*) <\"\n",
    "    insc = r\"^.+changed, ([0-9]+) insertion\"\n",
    "    delc = r\"^.+changed.*, ([0-9]+) deletion\"\n",
    "    authordata = DataFrame(author=String[], action=String[], count=Int[])\n",
    "    curauthor = \"\"\n",
    "    for line in lines\n",
    "        m = match(author, line) \n",
    "        m === nothing || (curauthor = m[1])\n",
    "        m = match(insc, line)\n",
    "        m === nothing || push!(authordata, (curauthor, \"insertion\", parse(Int, m[1])))\n",
    "        m = match(delc, line)\n",
    "        m === nothing || push!(authordata, (curauthor, \"deletion\", parse(Int, m[1])))\n",
    "    end\n",
    "    authorstats = @by(authordata, [:author, :action], count=sum(:count))\n",
    "    unstack(authorstats, :action, :count)\n",
    "end\n",
    "\n",
    "function gitstats(dir)\n",
    "    if isdir(dir)\n",
    "        println(\"\\nAnalyzing\")\n",
    "        cd(dir) do\n",
    "            try\n",
    "                res = read(`git log --stat`, String)\n",
    "                lines = split(res, ['\\r', '\\n'], keepempty=false)\n",
    "                df = parselog(lines)\n",
    "                df.all = coalesce.(df.deletion, 0) .+ coalesce.(df.insertion, 0)\n",
    "                display(sort!(df, :all, rev=true))\n",
    "            catch\n",
    "                error(\"Running git log failed\")\n",
    "            end\n",
    "        end\n",
    "    else\n",
    "        error(\"$dir is not a directory\")\n",
    "    end\n",
    "end\n"
   ]
  },
  {
   "cell_type": "code",
   "execution_count": 3,
   "metadata": {},
   "outputs": [
    {
     "name": "stdout",
     "output_type": "stream",
     "text": [
      "\u001b[32m\u001b[1m   Cloning\u001b[22m\u001b[39m git-repo `https://github.com/JuliaData/DataFrames.jl.git`\n",
      "\u001b[2K\u001b[?25h\u001b[32m\u001b[1m  Updating\u001b[22m\u001b[39m git-repo `https://github.com/JuliaData/DataFrames.jl.git`mFetching:\u001b[22m\u001b[39m [=====>                                   ]  11.9 %\u001b[36m\u001b[1mFetching:\u001b[22m\u001b[39m [=======>                                 ]  16.8 %\u001b[36m\u001b[1mFetching:\u001b[22m\u001b[39m [========>                                ]  18.6 %\u001b[36m\u001b[1mFetching:\u001b[22m\u001b[39m [==============>                          ]  32.7 %\u001b[36m\u001b[1mFetching:\u001b[22m\u001b[39m [==============>                          ]  33.3 %\u001b[36m\u001b[1mFetching:\u001b[22m\u001b[39m [==============>                          ]  33.5 %\u001b[36m\u001b[1mFetching:\u001b[22m\u001b[39m [===============>                         ]  37.5 % %\u001b[36m\u001b[1mFetching:\u001b[22m\u001b[39m [======================>                  ]  54.4 % [===========================>             ]  66.3 %78.5 % %   ]  92.3 %======================================>  ]  93.2 %\n",
      "\u001b[2K\u001b[?25h[1mFetching:\u001b[22m\u001b[39m [========================================>]  100.0 %.0 %\u001b[36m\u001b[1mFetching:\u001b[22m\u001b[39m [=====>                                   ]  10.4 %\u001b[36m\u001b[1mFetching:\u001b[22m\u001b[39m [=====>                                   ]  11.2 %\u001b[36m\u001b[1mFetching:\u001b[22m\u001b[39m [=====>                                   ]  12.1 %\u001b[36m\u001b[1mFetching:\u001b[22m\u001b[39m [======>                                  ]  13.1 %\u001b[36m\u001b[1mFetching:\u001b[22m\u001b[39m [======>                                  ]  14.4 %\u001b[36m\u001b[1mFetching:\u001b[22m\u001b[39m [=======>                                 ]  15.6 %\u001b[36m\u001b[1mFetching:\u001b[22m\u001b[39m [=======>                                 ]  17.0 %\u001b[36m\u001b[1mFetching:\u001b[22m\u001b[39m [========>                                ]  18.8 %\u001b[36m\u001b[1mFetching:\u001b[22m\u001b[39m [=============>                           ]  30.4 %\u001b[36m\u001b[1mFetching:\u001b[22m\u001b[39m [==============>                          ]  34.4 %\u001b[36m\u001b[1mFetching:\u001b[22m\u001b[39m [===============>                         ]  37.3 %\u001b[36m\u001b[1mFetching:\u001b[22m\u001b[39m [===============>                         ]  37.4 %\u001b[36m\u001b[1mFetching:\u001b[22m\u001b[39m [================>                        ]  37.5 %\u001b[36m\u001b[1mFetching:\u001b[22m\u001b[39m [================>                        ]  38.3 %\u001b[36m\u001b[1mFetching:\u001b[22m\u001b[39m [================>                        ]  38.4 %\u001b[36m\u001b[1mFetching:\u001b[22m\u001b[39m [================>                        ]  38.5 %\u001b[36m\u001b[1mFetching:\u001b[22m\u001b[39m [================>                        ]  38.6 %\u001b[36m\u001b[1mFetching:\u001b[22m\u001b[39m [=================>                       ]  40.0 %                   ]  52.2 %                  ]  53.6 % [===========================>             ]  65.8 %6 %\u001b[36m\u001b[1mFetching:\u001b[22m\u001b[39m [===============================>         ]  77.0 %\u001b[36m\u001b[1mFetching:\u001b[22m\u001b[39m [======================================>  ]  92.8 %\u001b[32m\u001b[1m Resolving\u001b[22m\u001b[39m package versions...\n",
      "\u001b[32m\u001b[1m  Updating\u001b[22m\u001b[39m `~/.julia/environments/v1.2/Project.toml`\n",
      " \u001b[90m [a93c6f00]\u001b[39m\u001b[93m ~ DataFrames v0.19.3 ⇒ v0.19.3 [`~/.julia/dev/DataFrames`]\u001b[39m\n",
      "\u001b[32m\u001b[1m  Updating\u001b[22m\u001b[39m `~/.julia/environments/v1.2/Manifest.toml`\n",
      " \u001b[90m [a93c6f00]\u001b[39m\u001b[93m ~ DataFrames v0.19.3 ⇒ v0.19.3 [`~/.julia/dev/DataFrames`]\u001b[39m\n"
     ]
    }
   ],
   "source": [
    "# pkg> dev DataFrameｓ に相当\n",
    "using Pkg; Pkg.develop(\"DataFrames\")"
   ]
  },
  {
   "cell_type": "code",
   "execution_count": 4,
   "metadata": {},
   "outputs": [
    {
     "name": "stdout",
     "output_type": "stream",
     "text": [
      "\n",
      "Analyzing\n"
     ]
    },
    {
     "ename": "ErrorException",
     "evalue": "Running git log failed",
     "output_type": "error",
     "traceback": [
      "Running git log failed",
      "",
      "Stacktrace:",
      " [1] error(::String) at ./error.jl:33",
      " [2] (::getfield(Main, Symbol(\"##6#7\")))() at ./In[2]:32",
      " [3] cd(::getfield(Main, Symbol(\"##6#7\")), ::String) at ./file.jl:96",
      " [4] gitstats(::String) at ./In[2]:24",
      " [5] top-level scope at In[4]:1"
     ]
    }
   ],
   "source": [
    "gitstats(joinpath(DEPOT_PATH[1], \"dev/DataFrames\"))"
   ]
  },
  {
   "cell_type": "code",
   "execution_count": 5,
   "metadata": {},
   "outputs": [
    {
     "name": "stdout",
     "output_type": "stream",
     "text": [
      "\u001b[32m\u001b[1m Resolving\u001b[22m\u001b[39m package versions...\n",
      "\u001b[32m\u001b[1m  Updating\u001b[22m\u001b[39m `~/.julia/environments/v1.2/Project.toml`\n",
      " \u001b[90m [a93c6f00]\u001b[39m\u001b[93m ~ DataFrames v0.19.3 [`~/.julia/dev/DataFrames`] ⇒ v0.19.3\u001b[39m\n",
      "\u001b[32m\u001b[1m  Updating\u001b[22m\u001b[39m `~/.julia/environments/v1.2/Manifest.toml`\n",
      " \u001b[90m [a93c6f00]\u001b[39m\u001b[93m ~ DataFrames v0.19.3 [`~/.julia/dev/DataFrames`] ⇒ v0.19.3\u001b[39m\n"
     ]
    }
   ],
   "source": [
    "# pkg> free DataFrames に相当\n",
    "Pkg.free(\"DataFrames\")"
   ]
  },
  {
   "cell_type": "code",
   "execution_count": 6,
   "metadata": {},
   "outputs": [
    {
     "data": {
      "text/plain": [
       "f (generic function with 1 method)"
      ]
     },
     "execution_count": 6,
     "metadata": {},
     "output_type": "execute_result"
    }
   ],
   "source": [
    "function f()\n",
    "    for i in 1:2\n",
    "        if i == 1\n",
    "            j = 1\n",
    "        else\n",
    "            println(j)\n",
    "        end\n",
    "    end\n",
    "end"
   ]
  },
  {
   "cell_type": "code",
   "execution_count": 7,
   "metadata": {},
   "outputs": [
    {
     "ename": "UndefVarError",
     "evalue": "UndefVarError: j not defined",
     "output_type": "error",
     "traceback": [
      "UndefVarError: j not defined",
      "",
      "Stacktrace:",
      " [1] f() at ./In[6]:6",
      " [2] top-level scope at In[7]:1"
     ]
    }
   ],
   "source": [
    "f()"
   ]
  },
  {
   "cell_type": "code",
   "execution_count": null,
   "metadata": {},
   "outputs": [],
   "source": []
  }
 ],
 "metadata": {
  "@webio": {
   "lastCommId": null,
   "lastKernelId": null
  },
  "kernelspec": {
   "display_name": "Julia 1.2.0",
   "language": "julia",
   "name": "julia-1.2"
  },
  "language_info": {
   "file_extension": ".jl",
   "mimetype": "application/julia",
   "name": "julia",
   "version": "1.2.0"
  }
 },
 "nbformat": 4,
 "nbformat_minor": 2
}

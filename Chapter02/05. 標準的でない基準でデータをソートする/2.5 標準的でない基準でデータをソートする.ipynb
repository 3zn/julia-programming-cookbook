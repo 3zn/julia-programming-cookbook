{
 "cells": [
  {
   "cell_type": "code",
   "execution_count": 1,
   "metadata": {},
   "outputs": [],
   "source": [
    "using Random, LinearAlgebra"
   ]
  },
  {
   "cell_type": "code",
   "execution_count": 2,
   "metadata": {},
   "outputs": [],
   "source": [
    "Random.seed!(1);\n",
    "x = rand(1000, 1000);"
   ]
  },
  {
   "cell_type": "code",
   "execution_count": 3,
   "metadata": {},
   "outputs": [],
   "source": [
    "x1 = sortslices(x, by=norm, dims=1);\n",
    "x2 = sortslices(x, lt=(x,y) -> norm(x) < norm(y), dims=1);\n",
    "x3 = x[sortperm([norm(view(x, i, :)) for i in 1:size(x,1)]), :];"
   ]
  },
  {
   "cell_type": "code",
   "execution_count": 4,
   "metadata": {},
   "outputs": [
    {
     "data": {
      "text/plain": [
       "true"
      ]
     },
     "execution_count": 4,
     "metadata": {},
     "output_type": "execute_result"
    }
   ],
   "source": [
    "issorted(sum(x1.^2, dims=2))\n",
    "x1 == x2 == x3"
   ]
  },
  {
   "cell_type": "code",
   "execution_count": 5,
   "metadata": {},
   "outputs": [
    {
     "name": "stdout",
     "output_type": "stream",
     "text": [
      "  0.191367 seconds (1.04 k allocations: 7.707 MiB, 2.10% gc time)\n"
     ]
    }
   ],
   "source": [
    "@time x1 = sortslices(x, by=norm, dims=1);"
   ]
  },
  {
   "cell_type": "code",
   "execution_count": 6,
   "metadata": {},
   "outputs": [
    {
     "name": "stdout",
     "output_type": "stream",
     "text": [
      "  0.314299 seconds (215.99 k allocations: 18.713 MiB, 1.45% gc time)\n"
     ]
    }
   ],
   "source": [
    "@time x2 = sortslices(x, lt=(x,y) -> norm(x) < norm(y), dims=1);"
   ]
  },
  {
   "cell_type": "code",
   "execution_count": 7,
   "metadata": {},
   "outputs": [
    {
     "name": "stdout",
     "output_type": "stream",
     "text": [
      "  0.048002 seconds (59.11 k allocations: 10.586 MiB)\n"
     ]
    }
   ],
   "source": [
    "@time x3 = x[sortperm([norm(view(x, i, :)) for i in 1:size(x, 1)]), :];"
   ]
  },
  {
   "cell_type": "code",
   "execution_count": null,
   "metadata": {},
   "outputs": [],
   "source": []
  }
 ],
 "metadata": {
  "@webio": {
   "lastCommId": null,
   "lastKernelId": null
  },
  "kernelspec": {
   "display_name": "Julia 1.2.0",
   "language": "julia",
   "name": "julia-1.2"
  },
  "language_info": {
   "file_extension": ".jl",
   "mimetype": "application/julia",
   "name": "julia",
   "version": "1.2.0"
  }
 },
 "nbformat": 4,
 "nbformat_minor": 2
}

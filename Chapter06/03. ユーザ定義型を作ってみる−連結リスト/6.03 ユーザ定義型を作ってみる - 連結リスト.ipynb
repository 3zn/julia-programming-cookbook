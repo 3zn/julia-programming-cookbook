{
 "cells": [
  {
   "cell_type": "markdown",
   "metadata": {},
   "source": [
    "### やってみよう"
   ]
  },
  {
   "cell_type": "code",
   "execution_count": 1,
   "metadata": {},
   "outputs": [
    {
     "data": {
      "text/plain": [
       "LinkedList"
      ]
     },
     "execution_count": 1,
     "metadata": {},
     "output_type": "execute_result"
    }
   ],
   "source": [
    "struct ListNode{T}\n",
    "    value::T\n",
    "    next::Union{ListNode{T}, Nothing}\n",
    "end\n",
    "\n",
    "mutable struct LinkedList{T}\n",
    "    head::Union{ListNode{T}, Nothing}\n",
    "end\n",
    "\n",
    "LinkedList(T::Type) = LinkedList{T}(nothing)"
   ]
  },
  {
   "cell_type": "code",
   "execution_count": 2,
   "metadata": {},
   "outputs": [],
   "source": [
    "Base.iterate(ll::LinkedList) = ll.head === nothing ? nothing :\n",
    "    (ll.head.value, ll.head)\n",
    "Base.iterate(ll::LinkedList{T}, state::ListNode{T}) where T =\n",
    "    state.next === nothing ? nothing : (state.next.value, state.next) \n"
   ]
  },
  {
   "cell_type": "code",
   "execution_count": 3,
   "metadata": {},
   "outputs": [],
   "source": [
    "function Base.getindex(ll::LinkedList, idx::Integer)\n",
    "    idx < 1 && throw(BoundsError(\"$idx is less than 1\"))\n",
    "    for v in ll\n",
    "        idx -= 1\n",
    "        idx == 0 && return v\n",
    "    end\n",
    "    throw(BoundsError(\"index beyond end of linked list\"))\n",
    "end\n",
    "\n",
    "function Base.pushfirst!(ll::LinkedList{T}, items::T...) where T\n",
    "    for item in reverse(items)\n",
    "        ll.head = ListNode{T}(item, ll.head)\n",
    "    end\n",
    "    ll \n",
    "end\n",
    "\n",
    "Base.show(io::IO, ll::LinkedList{T}) where T =\n",
    "    print(io, \"LinkedList{$T}[\" * join(ll, \", \") * \"]\")\n",
    "\n",
    "Base.eltype(ll::LinkedList{T}) where T = T\n",
    "\n",
    "Base.length(ll::LinkedList) = count(v -> true, ll)\n",
    "\n",
    "Base.firstindex(ll::LinkedList) = 1\n",
    "Base.lastindex(ll::LinkedList) = length(ll)"
   ]
  },
  {
   "cell_type": "code",
   "execution_count": 4,
   "metadata": {},
   "outputs": [
    {
     "data": {
      "text/plain": [
       "LinkedList{Char}[]"
      ]
     },
     "execution_count": 4,
     "metadata": {},
     "output_type": "execute_result"
    }
   ],
   "source": [
    "charlist = LinkedList(Char)"
   ]
  },
  {
   "cell_type": "code",
   "execution_count": 5,
   "metadata": {},
   "outputs": [
    {
     "data": {
      "text/plain": [
       "LinkedList{Char}[1, 2, 3, 4, 5]"
      ]
     },
     "execution_count": 5,
     "metadata": {},
     "output_type": "execute_result"
    }
   ],
   "source": [
    "pushfirst!(charlist, collect(\"12345\")...)"
   ]
  },
  {
   "cell_type": "code",
   "execution_count": 6,
   "metadata": {},
   "outputs": [
    {
     "data": {
      "text/plain": [
       "5-element Array{Char,1}:\n",
       " '1'\n",
       " '2'\n",
       " '3'\n",
       " '4'\n",
       " '5'"
      ]
     },
     "execution_count": 6,
     "metadata": {},
     "output_type": "execute_result"
    }
   ],
   "source": [
    "collect(charlist)"
   ]
  },
  {
   "cell_type": "code",
   "execution_count": 7,
   "metadata": {},
   "outputs": [
    {
     "data": {
      "text/plain": [
       "('1', '5')"
      ]
     },
     "execution_count": 7,
     "metadata": {},
     "output_type": "execute_result"
    }
   ],
   "source": [
    "charlist[1], charlist[5]"
   ]
  },
  {
   "cell_type": "code",
   "execution_count": 8,
   "metadata": {},
   "outputs": [
    {
     "ename": "BoundsError",
     "evalue": "BoundsError: attempt to access \"0 is less than 1\"",
     "output_type": "error",
     "traceback": [
      "BoundsError: attempt to access \"0 is less than 1\"",
      "",
      "Stacktrace:",
      " [1] getindex(::LinkedList{Char}, ::Int64) at ./In[3]:2",
      " [2] top-level scope at In[8]:1"
     ]
    }
   ],
   "source": [
    "charlist[0]"
   ]
  },
  {
   "cell_type": "code",
   "execution_count": 9,
   "metadata": {},
   "outputs": [
    {
     "ename": "BoundsError",
     "evalue": "BoundsError: attempt to access \"index beyond end of linked list\"",
     "output_type": "error",
     "traceback": [
      "BoundsError: attempt to access \"index beyond end of linked list\"",
      "",
      "Stacktrace:",
      " [1] getindex(::LinkedList{Char}, ::Int64) at ./In[3]:7",
      " [2] top-level scope at In[9]:1"
     ]
    }
   ],
   "source": [
    "charlist[6]"
   ]
  },
  {
   "cell_type": "code",
   "execution_count": 10,
   "metadata": {},
   "outputs": [
    {
     "data": {
      "text/plain": [
       "'5': ASCII/Unicode U+0035 (category Nd: Number, decimal digit)"
      ]
     },
     "execution_count": 10,
     "metadata": {},
     "output_type": "execute_result"
    }
   ],
   "source": [
    "charlist[end]"
   ]
  },
  {
   "cell_type": "code",
   "execution_count": 11,
   "metadata": {},
   "outputs": [],
   "source": [
    "Base.size(ll::LinkedList) = (length(ll),)\n",
    "Base.size(ll::LinkedList, dim::Int) =\n",
    "    if dim == 1\n",
    "        length(ll)\n",
    "    elseif dim > 1\n",
    "        1\n",
    "    else\n",
    "        throw(ArgumentError(\"negative dimension\"))\n",
    "    end \n"
   ]
  },
  {
   "cell_type": "code",
   "execution_count": 12,
   "metadata": {},
   "outputs": [
    {
     "data": {
      "text/plain": [
       "(5,)"
      ]
     },
     "execution_count": 12,
     "metadata": {},
     "output_type": "execute_result"
    }
   ],
   "source": [
    "size(charlist)"
   ]
  },
  {
   "cell_type": "code",
   "execution_count": null,
   "metadata": {
    "collapsed": true
   },
   "outputs": [],
   "source": []
  }
 ],
 "metadata": {
  "@webio": {
   "lastCommId": null,
   "lastKernelId": null
  },
  "kernelspec": {
   "display_name": "Julia 1.2.0",
   "language": "julia",
   "name": "julia-1.2"
  },
  "language_info": {
   "file_extension": ".jl",
   "mimetype": "application/julia",
   "name": "julia",
   "version": "1.2.0"
  }
 },
 "nbformat": 4,
 "nbformat_minor": 1
}

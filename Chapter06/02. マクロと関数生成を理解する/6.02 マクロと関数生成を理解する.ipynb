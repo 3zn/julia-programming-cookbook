{
 "cells": [
  {
   "cell_type": "code",
   "execution_count": 1,
   "metadata": {},
   "outputs": [],
   "source": [
    "# using Pkg; Pkg.add(\"BenchmarkTools\")"
   ]
  },
  {
   "cell_type": "code",
   "execution_count": 2,
   "metadata": {},
   "outputs": [
    {
     "data": {
      "text/plain": [
       "fib (generic function with 1 method)"
      ]
     },
     "execution_count": 2,
     "metadata": {},
     "output_type": "execute_result"
    }
   ],
   "source": [
    "function fib(n)\n",
    "    n <= 2 ? 1 : fib(n-1) + fib(n-2)\n",
    "end"
   ]
  },
  {
   "cell_type": "code",
   "execution_count": 3,
   "metadata": {},
   "outputs": [
    {
     "data": {
      "text/plain": [
       "3"
      ]
     },
     "execution_count": 3,
     "metadata": {},
     "output_type": "execute_result"
    }
   ],
   "source": [
    "fib(4)"
   ]
  },
  {
   "cell_type": "code",
   "execution_count": 4,
   "metadata": {},
   "outputs": [
    {
     "name": "stdout",
     "output_type": "stream",
     "text": [
      "  0.298376 seconds (5 allocations: 176 bytes)\n"
     ]
    },
    {
     "data": {
      "text/plain": [
       "102334155"
      ]
     },
     "execution_count": 4,
     "metadata": {},
     "output_type": "execute_result"
    }
   ],
   "source": [
    "@time fib(40)"
   ]
  },
  {
   "cell_type": "code",
   "execution_count": 5,
   "metadata": {},
   "outputs": [
    {
     "data": {
      "text/plain": [
       "memoit (generic function with 1 method)"
      ]
     },
     "execution_count": 5,
     "metadata": {},
     "output_type": "execute_result"
    }
   ],
   "source": [
    "function memoit(f::Function, p)\n",
    "    if !isdefined(Main, :memoit_cache)\n",
    "        global memoit_cache = Dict{Function,Dict{Any,Any}}()\n",
    "    end\n",
    "    c = haskey(memoit_cache, f) ? memoit_cache[f] : memoit_cache[f]=Dict()\n",
    "    haskey(c, p) ? c[p] : c[p] = f(p)\n",
    "end"
   ]
  },
  {
   "cell_type": "code",
   "execution_count": 6,
   "metadata": {},
   "outputs": [
    {
     "data": {
      "text/plain": [
       "fib2 (generic function with 1 method)"
      ]
     },
     "execution_count": 6,
     "metadata": {},
     "output_type": "execute_result"
    }
   ],
   "source": [
    "function fib2(n)\n",
    "    n <= 2 ? 1 : memoit(fib2, n-1) + memoit(fib2, n-2)\n",
    "end"
   ]
  },
  {
   "cell_type": "code",
   "execution_count": 7,
   "metadata": {},
   "outputs": [
    {
     "data": {
      "text/plain": [
       "3"
      ]
     },
     "execution_count": 7,
     "metadata": {},
     "output_type": "execute_result"
    }
   ],
   "source": [
    "fib2(4)"
   ]
  },
  {
   "cell_type": "code",
   "execution_count": 8,
   "metadata": {},
   "outputs": [
    {
     "name": "stdout",
     "output_type": "stream",
     "text": [
      "  0.000092 seconds (65 allocations: 2.703 KiB)\n"
     ]
    },
    {
     "data": {
      "text/plain": [
       "102334155"
      ]
     },
     "execution_count": 8,
     "metadata": {},
     "output_type": "execute_result"
    }
   ],
   "source": [
    "@time fib2(40)"
   ]
  },
  {
   "cell_type": "code",
   "execution_count": 10,
   "metadata": {},
   "outputs": [
    {
     "data": {
      "text/plain": [
       "@memo (macro with 1 method)"
      ]
     },
     "execution_count": 10,
     "metadata": {},
     "output_type": "execute_result"
    }
   ],
   "source": [
    "macro memo(e)\n",
    "    println(\"macro @memo is run: \", e, \" \", e.args)\n",
    "    (!(typeof(e) <: Expr) || !(e.head == :call)) &&\n",
    "        error(\"wrong @memo params\")\n",
    "    return quote                     # 1 引数の関数だけを扱う\n",
    "        memoit($(esc(e.args[1])), $(esc(e.args[2])))\n",
    "    end\n",
    "end"
   ]
  },
  {
   "cell_type": "code",
   "execution_count": 11,
   "metadata": {},
   "outputs": [
    {
     "name": "stdout",
     "output_type": "stream",
     "text": [
      "macro @memo is run: fib3(n - 1) Any[:fib3, :(n - 1)]\n",
      "macro @memo is run: fib3(n - 2) Any[:fib3, :(n - 2)]\n"
     ]
    },
    {
     "data": {
      "text/plain": [
       "fib3 (generic function with 1 method)"
      ]
     },
     "execution_count": 11,
     "metadata": {},
     "output_type": "execute_result"
    }
   ],
   "source": [
    "function fib3(n)\n",
    "    n <= 2 ? 1 : (@memo fib3(n-1)) + (@memo fib3(n-2))\n",
    "end"
   ]
  },
  {
   "cell_type": "code",
   "execution_count": 12,
   "metadata": {},
   "outputs": [
    {
     "data": {
      "text/plain": [
       "3"
      ]
     },
     "execution_count": 12,
     "metadata": {},
     "output_type": "execute_result"
    }
   ],
   "source": [
    "fib3(4)"
   ]
  },
  {
   "cell_type": "code",
   "execution_count": 13,
   "metadata": {},
   "outputs": [
    {
     "name": "stdout",
     "output_type": "stream",
     "text": [
      "  0.000045 seconds (58 allocations: 2.328 KiB)\n"
     ]
    },
    {
     "data": {
      "text/plain": [
       "102334155"
      ]
     },
     "execution_count": 13,
     "metadata": {},
     "output_type": "execute_result"
    }
   ],
   "source": [
    "@time fib3(40)"
   ]
  },
  {
   "cell_type": "markdown",
   "metadata": {},
   "source": [
    "#### @generatedマクロを用いてループアンローリングする\n"
   ]
  },
  {
   "cell_type": "code",
   "execution_count": 14,
   "metadata": {},
   "outputs": [
    {
     "data": {
      "text/plain": [
       "sumx1 (generic function with 1 method)"
      ]
     },
     "execution_count": 14,
     "metadata": {},
     "output_type": "execute_result"
    }
   ],
   "source": [
    "function sumx1(objs...)\n",
    "    isempty(objs) && return 0\n",
    "    total = objs[1].x\n",
    "    for i in 2:length(objs)\n",
    "        total += objs[i].x\n",
    "    end\n",
    "    total\n",
    "end"
   ]
  },
  {
   "cell_type": "code",
   "execution_count": 15,
   "metadata": {},
   "outputs": [],
   "source": [
    "struct A x::Int end\n",
    "struct B x::Float64 end"
   ]
  },
  {
   "cell_type": "code",
   "execution_count": 16,
   "metadata": {},
   "outputs": [
    {
     "data": {
      "text/plain": [
       "12.0"
      ]
     },
     "execution_count": 16,
     "metadata": {},
     "output_type": "execute_result"
    }
   ],
   "source": [
    "sumx1(A(5), B(7))"
   ]
  },
  {
   "cell_type": "code",
   "execution_count": 17,
   "metadata": {},
   "outputs": [
    {
     "data": {
      "text/plain": [
       "22"
      ]
     },
     "execution_count": 17,
     "metadata": {},
     "output_type": "execute_result"
    }
   ],
   "source": [
    "sumx1(A(5), A(17))"
   ]
  },
  {
   "cell_type": "code",
   "execution_count": 19,
   "metadata": {},
   "outputs": [
    {
     "data": {
      "text/plain": [
       "sumx2 (generic function with 1 method)"
      ]
     },
     "execution_count": 19,
     "metadata": {},
     "output_type": "execute_result"
    }
   ],
   "source": [
    "@generated function sumx2(objs...)\n",
    "    isempty(objs) && return 0    #  引数がなかった場合のデフォルト返り値\n",
    "    total = :(objs[1].x)\n",
    "    for i in 2:length(objs)\n",
    "        total = :($total + objs[$i].x)\n",
    "    end\n",
    "    total \n",
    "end"
   ]
  },
  {
   "cell_type": "code",
   "execution_count": 20,
   "metadata": {},
   "outputs": [
    {
     "data": {
      "text/plain": [
       "true"
      ]
     },
     "execution_count": 20,
     "metadata": {},
     "output_type": "execute_result"
    }
   ],
   "source": [
    "sumx2(A(5), B(7)) == sumx1(A(5), B(7))"
   ]
  },
  {
   "cell_type": "code",
   "execution_count": 21,
   "metadata": {},
   "outputs": [
    {
     "data": {
      "text/plain": [
       "true"
      ]
     },
     "execution_count": 21,
     "metadata": {},
     "output_type": "execute_result"
    }
   ],
   "source": [
    "sumx2(A(5), A(17)) == sumx1(A(5), A(17))"
   ]
  },
  {
   "cell_type": "code",
   "execution_count": 22,
   "metadata": {},
   "outputs": [
    {
     "data": {
      "text/plain": [
       "Tuple{A,A,A,A,A,A,A,A,A,A,B,B,B,B,B,B,B,B,B,B}"
      ]
     },
     "execution_count": 22,
     "metadata": {},
     "output_type": "execute_result"
    }
   ],
   "source": [
    "using BenchmarkTools\n",
    "const valsx = ([A(i) for i=1:10]..., [B(i) for i=1:10]...)\n",
    "typeof(valsx)"
   ]
  },
  {
   "cell_type": "code",
   "execution_count": 23,
   "metadata": {},
   "outputs": [
    {
     "name": "stdout",
     "output_type": "stream",
     "text": [
      "  532.419 ns (38 allocations: 3.56 KiB)\n"
     ]
    },
    {
     "data": {
      "text/plain": [
       "110.0"
      ]
     },
     "execution_count": 23,
     "metadata": {},
     "output_type": "execute_result"
    }
   ],
   "source": [
    "@btime sumx1(valsx...)"
   ]
  },
  {
   "cell_type": "code",
   "execution_count": 24,
   "metadata": {},
   "outputs": [
    {
     "name": "stdout",
     "output_type": "stream",
     "text": [
      "  0.026 ns (0 allocations: 0 bytes)\n"
     ]
    },
    {
     "data": {
      "text/plain": [
       "110.0"
      ]
     },
     "execution_count": 24,
     "metadata": {},
     "output_type": "execute_result"
    }
   ],
   "source": [
    "@btime sumx2(valsx...)"
   ]
  },
  {
   "cell_type": "markdown",
   "metadata": {},
   "source": [
    "### How it works..."
   ]
  },
  {
   "cell_type": "code",
   "execution_count": 23,
   "metadata": {},
   "outputs": [
    {
     "data": {
      "text/plain": [
       "@example (macro with 1 method)"
      ]
     },
     "execution_count": 23,
     "metadata": {},
     "output_type": "execute_result"
    }
   ],
   "source": [
    "macro example(v)\n",
    "    :(($v, $(esc(v))))\n",
    "end"
   ]
  },
  {
   "cell_type": "code",
   "execution_count": 24,
   "metadata": {},
   "outputs": [
    {
     "data": {
      "text/plain": [
       "f (generic function with 1 method)"
      ]
     },
     "execution_count": 24,
     "metadata": {},
     "output_type": "execute_result"
    }
   ],
   "source": [
    "function f() \n",
    "    x = 1\n",
    "    @example x\n",
    "end"
   ]
  },
  {
   "cell_type": "code",
   "execution_count": 25,
   "metadata": {},
   "outputs": [
    {
     "data": {
      "text/plain": [
       "10"
      ]
     },
     "execution_count": 25,
     "metadata": {},
     "output_type": "execute_result"
    }
   ],
   "source": [
    "x = 10"
   ]
  },
  {
   "cell_type": "code",
   "execution_count": 26,
   "metadata": {},
   "outputs": [
    {
     "data": {
      "text/plain": [
       "(10, 1)"
      ]
     },
     "execution_count": 26,
     "metadata": {},
     "output_type": "execute_result"
    }
   ],
   "source": [
    "f()"
   ]
  },
  {
   "cell_type": "code",
   "execution_count": 27,
   "metadata": {},
   "outputs": [
    {
     "data": {
      "text/plain": [
       ":((Main.x, x))"
      ]
     },
     "execution_count": 27,
     "metadata": {},
     "output_type": "execute_result"
    }
   ],
   "source": [
    "@macroexpand @example x"
   ]
  },
  {
   "cell_type": "code",
   "execution_count": 28,
   "metadata": {},
   "outputs": [
    {
     "data": {
      "text/plain": [
       "5"
      ]
     },
     "execution_count": 28,
     "metadata": {},
     "output_type": "execute_result"
    }
   ],
   "source": [
    "n=5"
   ]
  },
  {
   "cell_type": "code",
   "execution_count": 29,
   "metadata": {},
   "outputs": [
    {
     "name": "stdout",
     "output_type": "stream",
     "text": [
      "macro @memo is run: fib3(n - 1) Any[:fib3, :(n - 1)]\n"
     ]
    },
    {
     "data": {
      "text/plain": [
       "quote\n",
       "    #= In[9]:6 =#\n",
       "    Main.memoit(fib3, n - 1)\n",
       "end"
      ]
     },
     "execution_count": 29,
     "metadata": {},
     "output_type": "execute_result"
    }
   ],
   "source": [
    "macroexpand(Main, :(@memo fib3(n-1)))"
   ]
  },
  {
   "cell_type": "markdown",
   "metadata": {},
   "source": [
    "### 説明しよう"
   ]
  },
  {
   "cell_type": "code",
   "execution_count": 25,
   "metadata": {},
   "outputs": [
    {
     "data": {
      "text/plain": [
       "CodeInfo(\n",
       "   \u001b[33m @ In[19]:2 within `sumx2'\u001b[39m\n",
       "   \u001b[33m┌ @ In[19]:2 within `macro expansion'\u001b[39m\n",
       "\u001b[90m1 ─\u001b[39m\u001b[33m│\u001b[39m %1 = Base.getindex(objs, 1)\n",
       "\u001b[90m│  \u001b[39m\u001b[33m│\u001b[39m %2 = Base.getproperty(%1, :x)\n",
       "\u001b[90m│  \u001b[39m\u001b[33m│\u001b[39m %3 = Base.getindex(objs, 2)\n",
       "\u001b[90m│  \u001b[39m\u001b[33m│\u001b[39m %4 = Base.getproperty(%3, :x)\n",
       "\u001b[90m│  \u001b[39m\u001b[33m│\u001b[39m %5 = %2 + %4\n",
       "\u001b[90m└──\u001b[39m\u001b[33m│\u001b[39m      return %5\n",
       "   \u001b[33m└\u001b[39m\n",
       ")"
      ]
     },
     "execution_count": 25,
     "metadata": {},
     "output_type": "execute_result"
    }
   ],
   "source": [
    "@code_lowered sumx2(A(1), B(2))"
   ]
  },
  {
   "cell_type": "code",
   "execution_count": 26,
   "metadata": {},
   "outputs": [
    {
     "data": {
      "text/plain": [
       "CodeInfo(\n",
       "\u001b[90m1 ─\u001b[39m       Core.NewvarNode(:(total))\n",
       "\u001b[90m│  \u001b[39m       Core.NewvarNode(:(@_4))\n",
       "\u001b[90m│  \u001b[39m %3  = Main.isempty(objs)\n",
       "\u001b[90m└──\u001b[39m       goto #4 if not %3\n",
       "\u001b[90m2 ─\u001b[39m       return 0\n",
       "\u001b[90m3 ─\u001b[39m       goto #5\n",
       "\u001b[90m4 ─\u001b[39m       false\n",
       "\u001b[90m5 ┄\u001b[39m %8  = Base.getindex(objs, 1)\n",
       "\u001b[90m│  \u001b[39m       total = Base.getproperty(%8, :x)\n",
       "\u001b[90m│  \u001b[39m %10 = Main.length(objs)\n",
       "\u001b[90m│  \u001b[39m %11 = 2:%10\n",
       "\u001b[90m│  \u001b[39m       @_4 = Base.iterate(%11)\n",
       "\u001b[90m│  \u001b[39m %13 = @_4 === nothing\n",
       "\u001b[90m│  \u001b[39m %14 = Base.not_int(%13)\n",
       "\u001b[90m└──\u001b[39m       goto #8 if not %14\n",
       "\u001b[90m6 ┄\u001b[39m %16 = @_4\n",
       "\u001b[90m│  \u001b[39m       i = Core.getfield(%16, 1)\n",
       "\u001b[90m│  \u001b[39m %18 = Core.getfield(%16, 2)\n",
       "\u001b[90m│  \u001b[39m %19 = total\n",
       "\u001b[90m│  \u001b[39m %20 = Base.getindex(objs, i)\n",
       "\u001b[90m│  \u001b[39m %21 = Base.getproperty(%20, :x)\n",
       "\u001b[90m│  \u001b[39m       total = %19 + %21\n",
       "\u001b[90m│  \u001b[39m       @_4 = Base.iterate(%11, %18)\n",
       "\u001b[90m│  \u001b[39m %24 = @_4 === nothing\n",
       "\u001b[90m│  \u001b[39m %25 = Base.not_int(%24)\n",
       "\u001b[90m└──\u001b[39m       goto #8 if not %25\n",
       "\u001b[90m7 ─\u001b[39m       goto #6\n",
       "\u001b[90m8 ┄\u001b[39m       return total\n",
       ")"
      ]
     },
     "execution_count": 26,
     "metadata": {},
     "output_type": "execute_result"
    }
   ],
   "source": [
    "@code_lowered sumx1(A(1), B(2))"
   ]
  },
  {
   "cell_type": "code",
   "execution_count": 27,
   "metadata": {
    "scrolled": true
   },
   "outputs": [
    {
     "name": "stdout",
     "output_type": "stream",
     "text": [
      "Variables\n",
      "  #self#\u001b[36m::Core.Compiler.Const(sumx2, false)\u001b[39m\n",
      "  objs\u001b[36m::Tuple{A,B}\u001b[39m\n",
      "\n",
      "Body\u001b[36m::Float64\u001b[39m\n",
      "\u001b[90m1 ─\u001b[39m %1 = Base.getindex(objs, 1)\u001b[36m::A\u001b[39m\n",
      "\u001b[90m│  \u001b[39m %2 = Base.getproperty(%1, :x)\u001b[36m::Int64\u001b[39m\n",
      "\u001b[90m│  \u001b[39m %3 = Base.getindex(objs, 2)\u001b[36m::B\u001b[39m\n",
      "\u001b[90m│  \u001b[39m %4 = Base.getproperty(%3, :x)\u001b[36m::Float64\u001b[39m\n",
      "\u001b[90m│  \u001b[39m %5 = (%2 + %4)\u001b[36m::Float64\u001b[39m\n",
      "\u001b[90m└──\u001b[39m      return %5\n"
     ]
    }
   ],
   "source": [
    "@code_warntype sumx2(A(1), B(2))"
   ]
  },
  {
   "cell_type": "code",
   "execution_count": 28,
   "metadata": {
    "scrolled": true
   },
   "outputs": [
    {
     "name": "stdout",
     "output_type": "stream",
     "text": [
      "Variables\n",
      "  #self#\u001b[36m::Core.Compiler.Const(sumx1, false)\u001b[39m\n",
      "  objs\u001b[36m::Tuple{A,B}\u001b[39m\n",
      "  total\u001b[91m\u001b[1m::Union{Float64, Int64}\u001b[22m\u001b[39m\n",
      "  @_4\u001b[33m\u001b[1m::Union{Nothing, Tuple{Int64,Int64}}\u001b[22m\u001b[39m\n",
      "  i\u001b[36m::Int64\u001b[39m\n",
      "\n",
      "Body\u001b[36m::Float64\u001b[39m\n",
      "\u001b[90m1 ─\u001b[39m       Core.NewvarNode(:(total))\n",
      "\u001b[90m│  \u001b[39m       Core.NewvarNode(:(@_4))\n",
      "\u001b[90m│  \u001b[39m %3  = Main.isempty(objs)\u001b[36m::Core.Compiler.Const(false, false)\u001b[39m\n",
      "\u001b[90m└──\u001b[39m       goto #3 if not %3\n",
      "\u001b[90m2 ─\u001b[39m       Core.Compiler.Const(:(return 0), false)\n",
      "\u001b[90m└──\u001b[39m       Core.Compiler.Const(:(goto %8), false)\n",
      "\u001b[90m3 ┄\u001b[39m       false\n",
      "\u001b[90m│  \u001b[39m %8  = Base.getindex(objs, 1)\u001b[36m::A\u001b[39m\n",
      "\u001b[90m│  \u001b[39m       (total = Base.getproperty(%8, :x))\n",
      "\u001b[90m│  \u001b[39m %10 = Main.length(objs)\u001b[36m::Core.Compiler.Const(2, false)\u001b[39m\n",
      "\u001b[90m│  \u001b[39m %11 = (2:%10)\u001b[36m::Core.Compiler.Const(2:2, false)\u001b[39m\n",
      "\u001b[90m│  \u001b[39m       (@_4 = Base.iterate(%11))\n",
      "\u001b[90m│  \u001b[39m %13 = (@_4::Core.Compiler.Const((2, 2), false) === nothing)\u001b[36m::Core.Compiler.Const(false, false)\u001b[39m\n",
      "\u001b[90m│  \u001b[39m %14 = Base.not_int(%13)\u001b[36m::Core.Compiler.Const(true, false)\u001b[39m\n",
      "\u001b[90m└──\u001b[39m       goto #6 if not %14\n",
      "\u001b[90m4 ─\u001b[39m %16 = @_4::Core.Compiler.Const((2, 2), false)\u001b[36m::Core.Compiler.Const((2, 2), false)\u001b[39m\n",
      "\u001b[90m│  \u001b[39m       (i = Core.getfield(%16, 1))\n",
      "\u001b[90m│  \u001b[39m %18 = Core.getfield(%16, 2)\u001b[36m::Core.Compiler.Const(2, false)\u001b[39m\n",
      "\u001b[90m│  \u001b[39m %19 = total::Int64\u001b[36m::Int64\u001b[39m\n",
      "\u001b[90m│  \u001b[39m %20 = Base.getindex(objs, i::Core.Compiler.Const(2, false))\u001b[36m::B\u001b[39m\n",
      "\u001b[90m│  \u001b[39m %21 = Base.getproperty(%20, :x)\u001b[36m::Float64\u001b[39m\n",
      "\u001b[90m│  \u001b[39m       (total = %19 + %21)\n",
      "\u001b[90m│  \u001b[39m       (@_4 = Base.iterate(%11, %18))\n",
      "\u001b[90m│  \u001b[39m %24 = (@_4::Core.Compiler.Const(nothing, false) === nothing)\u001b[36m::Core.Compiler.Const(true, false)\u001b[39m\n",
      "\u001b[90m│  \u001b[39m %25 = Base.not_int(%24)\u001b[36m::Core.Compiler.Const(false, false)\u001b[39m\n",
      "\u001b[90m└──\u001b[39m       goto #6 if not %25\n",
      "\u001b[90m5 ─\u001b[39m       Core.Compiler.Const(:(goto %16), false)\n",
      "\u001b[90m6 ┄\u001b[39m       return total::Float64\n"
     ]
    }
   ],
   "source": [
    "@code_warntype sumx1(A(1), B(2))"
   ]
  },
  {
   "cell_type": "code",
   "execution_count": 29,
   "metadata": {
    "scrolled": true
   },
   "outputs": [
    {
     "name": "stdout",
     "output_type": "stream",
     "text": [
      "Variables\n",
      "  #self#\u001b[36m::Core.Compiler.Const(sumx2, false)\u001b[39m\n",
      "  objs\u001b[36m::Tuple{A,B,B}\u001b[39m\n",
      "\n",
      "Body\u001b[36m::Float64\u001b[39m\n",
      "\u001b[90m1 ─\u001b[39m %1 = Base.getindex(objs, 1)\u001b[36m::A\u001b[39m\n",
      "\u001b[90m│  \u001b[39m %2 = Base.getproperty(%1, :x)\u001b[36m::Int64\u001b[39m\n",
      "\u001b[90m│  \u001b[39m %3 = Base.getindex(objs, 2)\u001b[36m::B\u001b[39m\n",
      "\u001b[90m│  \u001b[39m %4 = Base.getproperty(%3, :x)\u001b[36m::Float64\u001b[39m\n",
      "\u001b[90m│  \u001b[39m %5 = (%2 + %4)\u001b[36m::Float64\u001b[39m\n",
      "\u001b[90m│  \u001b[39m %6 = Base.getindex(objs, 3)\u001b[36m::B\u001b[39m\n",
      "\u001b[90m│  \u001b[39m %7 = Base.getproperty(%6, :x)\u001b[36m::Float64\u001b[39m\n",
      "\u001b[90m│  \u001b[39m %8 = (%5 + %7)\u001b[36m::Float64\u001b[39m\n",
      "\u001b[90m└──\u001b[39m      return %8\n"
     ]
    }
   ],
   "source": [
    "@code_warntype sumx2(A(1), B(1), B(2))"
   ]
  },
  {
   "cell_type": "code",
   "execution_count": null,
   "metadata": {},
   "outputs": [],
   "source": []
  }
 ],
 "metadata": {
  "kernelspec": {
   "display_name": "Julia 1.2.0",
   "language": "julia",
   "name": "julia-1.2"
  },
  "language_info": {
   "file_extension": ".jl",
   "mimetype": "application/julia",
   "name": "julia",
   "version": "1.2.0"
  }
 },
 "nbformat": 4,
 "nbformat_minor": 1
}

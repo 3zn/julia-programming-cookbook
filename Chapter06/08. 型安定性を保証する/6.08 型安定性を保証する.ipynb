{
 "cells": [
  {
   "cell_type": "code",
   "execution_count": 1,
   "metadata": {},
   "outputs": [],
   "source": [
    "#using Pkg; Pkg.add(\"BenchmarkTools\")\n"
   ]
  },
  {
   "cell_type": "code",
   "execution_count": 2,
   "metadata": {},
   "outputs": [
    {
     "data": {
      "text/plain": [
       "quadratic2 (generic function with 1 method)"
      ]
     },
     "execution_count": 2,
     "metadata": {},
     "output_type": "execute_result"
    }
   ],
   "source": [
    "function quadratic1(a, b, c)\n",
    "    t(s) = (-b + s*sqrt(Δ))/(2a)\n",
    "    a == 0 && error(\"a must be different than zero\") \n",
    "    Δ = Complex(b^2-4*a*c)\n",
    "    t(1), t(-1)\n",
    "end\n",
    "\n",
    "function quadratic2(a, b, c)\n",
    "    Δ = Complex(b^2-4*a*c)\n",
    "    t(s) = (-b + s*sqrt(Δ))/(2a)\n",
    "    a == 0 && error(\"a must be different than zero\") \n",
    "    t(1), t(-1)\n",
    "end"
   ]
  },
  {
   "cell_type": "code",
   "execution_count": 3,
   "metadata": {},
   "outputs": [],
   "source": [
    "using BenchmarkTools"
   ]
  },
  {
   "cell_type": "code",
   "execution_count": 4,
   "metadata": {},
   "outputs": [
    {
     "data": {
      "text/plain": [
       "BenchmarkTools.Trial: \n",
       "  memory estimate:  352 bytes\n",
       "  allocs estimate:  11\n",
       "  --------------\n",
       "  minimum time:     364.282 ns (0.00% GC)\n",
       "  median time:      429.599 ns (0.00% GC)\n",
       "  mean time:        474.615 ns (9.62% GC)\n",
       "  maximum time:     199.232 μs (99.66% GC)\n",
       "  --------------\n",
       "  samples:          10000\n",
       "  evals/sample:     202"
      ]
     },
     "execution_count": 4,
     "metadata": {},
     "output_type": "execute_result"
    }
   ],
   "source": [
    "@benchmark quadratic1(1,2,3)"
   ]
  },
  {
   "cell_type": "code",
   "execution_count": 5,
   "metadata": {},
   "outputs": [
    {
     "data": {
      "text/plain": [
       "BenchmarkTools.Trial: \n",
       "  memory estimate:  0 bytes\n",
       "  allocs estimate:  0\n",
       "  --------------\n",
       "  minimum time:     44.970 ns (0.00% GC)\n",
       "  median time:      47.056 ns (0.00% GC)\n",
       "  mean time:        49.710 ns (0.00% GC)\n",
       "  maximum time:     177.547 ns (0.00% GC)\n",
       "  --------------\n",
       "  samples:          10000\n",
       "  evals/sample:     983"
      ]
     },
     "execution_count": 5,
     "metadata": {},
     "output_type": "execute_result"
    }
   ],
   "source": [
    "@benchmark quadratic2(1,2,3)"
   ]
  },
  {
   "cell_type": "code",
   "execution_count": 6,
   "metadata": {},
   "outputs": [],
   "source": [
    "using Test"
   ]
  },
  {
   "cell_type": "code",
   "execution_count": 7,
   "metadata": {},
   "outputs": [
    {
     "ename": "ErrorException",
     "evalue": "return type Tuple{Complex{Float64},Complex{Float64}} does not match inferred return type Tuple{Any,Any}",
     "output_type": "error",
     "traceback": [
      "return type Tuple{Complex{Float64},Complex{Float64}} does not match inferred return type Tuple{Any,Any}",
      "",
      "Stacktrace:",
      " [1] error(::String) at ./error.jl:33",
      " [2] top-level scope at In[7]:1"
     ]
    }
   ],
   "source": [
    "@inferred quadratic1(1,2,3)"
   ]
  },
  {
   "cell_type": "code",
   "execution_count": 8,
   "metadata": {},
   "outputs": [
    {
     "data": {
      "text/plain": [
       "(-1.0 + 1.4142135623730951im, -1.0 - 1.4142135623730951im)"
      ]
     },
     "execution_count": 8,
     "metadata": {},
     "output_type": "execute_result"
    }
   ],
   "source": [
    "@inferred quadratic2(1,2,3)"
   ]
  },
  {
   "cell_type": "code",
   "execution_count": 9,
   "metadata": {},
   "outputs": [
    {
     "name": "stdout",
     "output_type": "stream",
     "text": [
      "Variables\n",
      "  #self#\u001b[36m::Core.Compiler.Const(quadratic1, false)\u001b[39m\n",
      "  a\u001b[36m::Int64\u001b[39m\n",
      "  b\u001b[36m::Int64\u001b[39m\n",
      "  c\u001b[36m::Int64\u001b[39m\n",
      "  t\u001b[36m::getfield(Main, Symbol(\"#t#3\")){Int64,Int64}\u001b[39m\n",
      "  Δ\u001b[91m\u001b[1m::Core.Box\u001b[22m\u001b[39m\n",
      "\n",
      "Body\u001b[91m\u001b[1m::Tuple{Any,Any}\u001b[22m\u001b[39m\n",
      "\u001b[90m1 ─\u001b[39m       (Δ = Core.Box())\n",
      "\u001b[90m│  \u001b[39m %2  = Main.:(#t#3)\u001b[36m::Core.Compiler.Const(getfield(Main, Symbol(\"#t#3\")), false)\u001b[39m\n",
      "\u001b[90m│  \u001b[39m %3  = Core.typeof(a)\u001b[36m::Core.Compiler.Const(Int64, false)\u001b[39m\n",
      "\u001b[90m│  \u001b[39m %4  = Core.typeof(b)\u001b[36m::Core.Compiler.Const(Int64, false)\u001b[39m\n",
      "\u001b[90m│  \u001b[39m %5  = Core.apply_type(%2, %3, %4)\u001b[36m::Core.Compiler.Const(getfield(Main, Symbol(\"#t#3\")){Int64,Int64}, false)\u001b[39m\n",
      "\u001b[90m│  \u001b[39m       (t = %new(%5, a, b, Δ))\n",
      "\u001b[90m│  \u001b[39m %7  = (a == 0)\u001b[36m::Bool\u001b[39m\n",
      "\u001b[90m└──\u001b[39m       goto #3 if not %7\n",
      "\u001b[90m2 ─\u001b[39m       Main.error(\"a must be different than zero\")\n",
      "\u001b[90m└──\u001b[39m       Core.Compiler.Const(:(goto %12), false)\n",
      "\u001b[90m3 ┄\u001b[39m       false\n",
      "\u001b[90m│  \u001b[39m %12 = Core.apply_type(Base.Val, 2)\u001b[36m::Core.Compiler.Const(Val{2}, false)\u001b[39m\n",
      "\u001b[90m│  \u001b[39m %13 = (%12)()\u001b[36m::Core.Compiler.Const(Val{2}(), false)\u001b[39m\n",
      "\u001b[90m│  \u001b[39m %14 = Base.literal_pow(Main.:^, b, %13)\u001b[36m::Int64\u001b[39m\n",
      "\u001b[90m│  \u001b[39m %15 = (4 * a * c)\u001b[36m::Int64\u001b[39m\n",
      "\u001b[90m│  \u001b[39m %16 = (%14 - %15)\u001b[36m::Int64\u001b[39m\n",
      "\u001b[90m│  \u001b[39m %17 = Main.Complex(%16)\u001b[36m::Core.Compiler.PartialStruct(Complex{Int64}, Any[Int64, Core.Compiler.Const(0, false)])\u001b[39m\n",
      "\u001b[90m│  \u001b[39m       Core.setfield!(Δ, :contents, %17)\n",
      "\u001b[90m│  \u001b[39m %19 = (t)(1)\u001b[91m\u001b[1m::Any\u001b[22m\u001b[39m\n",
      "\u001b[90m│  \u001b[39m %20 = (t)(-1)\u001b[91m\u001b[1m::Any\u001b[22m\u001b[39m\n",
      "\u001b[90m│  \u001b[39m %21 = Core.tuple(%19, %20)\u001b[91m\u001b[1m::Tuple{Any,Any}\u001b[22m\u001b[39m\n",
      "\u001b[90m└──\u001b[39m       return %21\n"
     ]
    }
   ],
   "source": [
    "@code_warntype quadratic1(1,2,3)"
   ]
  },
  {
   "cell_type": "code",
   "execution_count": 10,
   "metadata": {},
   "outputs": [
    {
     "name": "stdout",
     "output_type": "stream",
     "text": [
      "Variables\n",
      "  #self#\u001b[36m::Core.Compiler.Const(quadratic2, false)\u001b[39m\n",
      "  a\u001b[36m::Int64\u001b[39m\n",
      "  b\u001b[36m::Int64\u001b[39m\n",
      "  c\u001b[36m::Int64\u001b[39m\n",
      "  Δ\u001b[36m::Complex{Int64}\u001b[39m\n",
      "  t\u001b[36m::getfield(Main, Symbol(\"#t#4\")){Int64,Int64,Complex{Int64}}\u001b[39m\n",
      "\n",
      "Body\u001b[36m::Tuple{Complex{Float64},Complex{Float64}}\u001b[39m\n",
      "\u001b[90m1 ─\u001b[39m %1  = Core.apply_type(Base.Val, 2)\u001b[36m::Core.Compiler.Const(Val{2}, false)\u001b[39m\n",
      "\u001b[90m│  \u001b[39m %2  = (%1)()\u001b[36m::Core.Compiler.Const(Val{2}(), false)\u001b[39m\n",
      "\u001b[90m│  \u001b[39m %3  = Base.literal_pow(Main.:^, b, %2)\u001b[36m::Int64\u001b[39m\n",
      "\u001b[90m│  \u001b[39m %4  = (4 * a * c)\u001b[36m::Int64\u001b[39m\n",
      "\u001b[90m│  \u001b[39m %5  = (%3 - %4)\u001b[36m::Int64\u001b[39m\n",
      "\u001b[90m│  \u001b[39m       (Δ = Main.Complex(%5))\n",
      "\u001b[90m│  \u001b[39m %7  = Main.:(#t#4)\u001b[36m::Core.Compiler.Const(getfield(Main, Symbol(\"#t#4\")), false)\u001b[39m\n",
      "\u001b[90m│  \u001b[39m %8  = Core.typeof(a)\u001b[36m::Core.Compiler.Const(Int64, false)\u001b[39m\n",
      "\u001b[90m│  \u001b[39m %9  = Core.typeof(b)\u001b[36m::Core.Compiler.Const(Int64, false)\u001b[39m\n",
      "\u001b[90m│  \u001b[39m %10 = Core.typeof(Δ::Core.Compiler.PartialStruct(Complex{Int64}, Any[Int64, Core.Compiler.Const(0, false)]))\u001b[36m::Core.Compiler.Const(Complex{Int64}, false)\u001b[39m\n",
      "\u001b[90m│  \u001b[39m %11 = Core.apply_type(%7, %8, %9, %10)\u001b[36m::Core.Compiler.Const(getfield(Main, Symbol(\"#t#4\")){Int64,Int64,Complex{Int64}}, false)\u001b[39m\n",
      "\u001b[90m│  \u001b[39m       (t = %new(%11, a, b, Δ::Core.Compiler.PartialStruct(Complex{Int64}, Any[Int64, Core.Compiler.Const(0, false)])))\n",
      "\u001b[90m│  \u001b[39m %13 = (a == 0)\u001b[36m::Bool\u001b[39m\n",
      "\u001b[90m└──\u001b[39m       goto #3 if not %13\n",
      "\u001b[90m2 ─\u001b[39m       Main.error(\"a must be different than zero\")\n",
      "\u001b[90m└──\u001b[39m       Core.Compiler.Const(:(goto %18), false)\n",
      "\u001b[90m3 ┄\u001b[39m       false\n",
      "\u001b[90m│  \u001b[39m %18 = (t::Core.Compiler.PartialStruct(getfield(Main, Symbol(\"#t#4\")){Int64,Int64,Complex{Int64}}, Any[Int64, Int64, Core.Compiler.PartialStruct(Complex{Int64}, Any[Int64, Core.Compiler.Const(0, false)])]))(1)\u001b[36m::Complex{Float64}\u001b[39m\n",
      "\u001b[90m│  \u001b[39m %19 = (t::Core.Compiler.PartialStruct(getfield(Main, Symbol(\"#t#4\")){Int64,Int64,Complex{Int64}}, Any[Int64, Int64, Core.Compiler.PartialStruct(Complex{Int64}, Any[Int64, Core.Compiler.Const(0, false)])]))(-1)\u001b[36m::Complex{Float64}\u001b[39m\n",
      "\u001b[90m│  \u001b[39m %20 = Core.tuple(%18, %19)\u001b[36m::Tuple{Complex{Float64},Complex{Float64}}\u001b[39m\n",
      "\u001b[90m└──\u001b[39m       return %20\n"
     ]
    }
   ],
   "source": [
    "@code_warntype quadratic2(1,2,3)"
   ]
  },
  {
   "cell_type": "markdown",
   "metadata": {},
   "source": [
    "### -------"
   ]
  },
  {
   "cell_type": "code",
   "execution_count": 11,
   "metadata": {},
   "outputs": [
    {
     "data": {
      "text/plain": [
       "quadratic3 (generic function with 1 method)"
      ]
     },
     "execution_count": 11,
     "metadata": {},
     "output_type": "execute_result"
    }
   ],
   "source": [
    "function quadratic3(a, b, c) \n",
    "    t(s,Δ) = (-b + s*sqrt(Δ))/(2a)\n",
    "    a == 0 && error(\"a must be different than zero\") \n",
    "    Δ = Complex(b^2-4*a*c)\n",
    "    t(1,Δ), t(-1,Δ)\n",
    "end"
   ]
  },
  {
   "cell_type": "code",
   "execution_count": 12,
   "metadata": {},
   "outputs": [
    {
     "data": {
      "text/plain": [
       "BenchmarkTools.Trial: \n",
       "  memory estimate:  0 bytes\n",
       "  allocs estimate:  0\n",
       "  --------------\n",
       "  minimum time:     44.986 ns (0.00% GC)\n",
       "  median time:      46.182 ns (0.00% GC)\n",
       "  mean time:        50.048 ns (0.00% GC)\n",
       "  maximum time:     158.236 ns (0.00% GC)\n",
       "  --------------\n",
       "  samples:          10000\n",
       "  evals/sample:     982"
      ]
     },
     "execution_count": 12,
     "metadata": {},
     "output_type": "execute_result"
    }
   ],
   "source": [
    "@benchmark quadratic3(1,2,3)"
   ]
  },
  {
   "cell_type": "code",
   "execution_count": null,
   "metadata": {
    "collapsed": true
   },
   "outputs": [],
   "source": []
  }
 ],
 "metadata": {
  "@webio": {
   "lastCommId": null,
   "lastKernelId": null
  },
  "kernelspec": {
   "display_name": "Julia 1.2.0",
   "language": "julia",
   "name": "julia-1.2"
  },
  "language_info": {
   "file_extension": ".jl",
   "mimetype": "application/julia",
   "name": "julia",
   "version": "1.2.0"
  }
 },
 "nbformat": 4,
 "nbformat_minor": 1
}

{
 "cells": [
  {
   "cell_type": "code",
   "execution_count": 1,
   "metadata": {},
   "outputs": [
    {
     "name": "stdout",
     "output_type": "stream",
     "text": [
      "\u001b[32m\u001b[1m  Updating\u001b[22m\u001b[39m registry at `~/.julia/registries/General`\n",
      "\u001b[32m\u001b[1m  Updating\u001b[22m\u001b[39m git-repo `https://github.com/JuliaRegistries/General.git`\n",
      "\u001b[?25l\u001b[2K\u001b[?25h\u001b[32m\u001b[1m Resolving\u001b[22m\u001b[39m package versions...\n",
      "\u001b[32m\u001b[1m  Updating\u001b[22m\u001b[39m `~/.julia/environments/v1.2/Project.toml`\n",
      " \u001b[90m [90137ffa]\u001b[39m\u001b[92m + StaticArrays v0.11.0\u001b[39m\n",
      "\u001b[32m\u001b[1m  Updating\u001b[22m\u001b[39m `~/.julia/environments/v1.2/Manifest.toml`\n",
      "\u001b[90m [no changes]\u001b[39m\n"
     ]
    }
   ],
   "source": [
    "# using Pkg; Pkg.add(\"StaticArrays\"); Pkg.add(\"BenchmarkTools\")"
   ]
  },
  {
   "cell_type": "code",
   "execution_count": 2,
   "metadata": {},
   "outputs": [],
   "source": [
    "using StaticArrays\n",
    "using BenchmarkTools\n",
    "using Random"
   ]
  },
  {
   "cell_type": "code",
   "execution_count": 3,
   "metadata": {},
   "outputs": [
    {
     "data": {
      "text/plain": [
       "profit (generic function with 1 method)"
      ]
     },
     "execution_count": 3,
     "metadata": {},
     "output_type": "execute_result"
    }
   ],
   "source": [
    "function profit(demand, prices_sale, purchases, prices_purchase)\n",
    "    sales = min.(purchases,demand)\n",
    "    sum(sales .* prices_sale .- purchases .* prices_purchase)\n",
    "end"
   ]
  },
  {
   "cell_type": "code",
   "execution_count": 4,
   "metadata": {},
   "outputs": [],
   "source": [
    "Random.seed!(0);\n",
    "demand, prices_sale, purchases, prices_purchase =\n",
    "    (rand(10).*100, 300:10:390, rand(10).*100, 100:10:190);\n"
   ]
  },
  {
   "cell_type": "code",
   "execution_count": 5,
   "metadata": {},
   "outputs": [
    {
     "data": {
      "text/plain": [
       "([82.36475079774124, 91.03565379264364, 16.45657981336852, 17.732884646626456, 27.8880109331201, 20.347655804192264, 4.230166593202966, 6.826925550564478, 36.18283907762174, 97.32164043865109], [300, 310, 320, 330, 340, 350, 360, 370, 380, 390], [58.58115517433242, 53.928928414261826, 26.003585026904787, 91.0046541351011, 16.70361944421497, 65.54484126999125, 57.58873948500367, 86.82787096942046, 96.77995536192002, 76.76903325581188], [100, 110, 120, 130, 140, 150, 160, 170, 180, 190])"
      ]
     },
     "execution_count": 5,
     "metadata": {},
     "output_type": "execute_result"
    }
   ],
   "source": [
    "Random.seed!(0);\n",
    "demand_s, prices_sale_s, purchases_s, prices_purchase_s =\n",
    "    ((@SVector rand(10)).*100, SVector{10}(300:10:390),\n",
    "    (@SVector rand(10)).*100, SVector{10}(100:10:190))"
   ]
  },
  {
   "cell_type": "code",
   "execution_count": 6,
   "metadata": {},
   "outputs": [
    {
     "name": "stdout",
     "output_type": "stream",
     "text": [
      "  104.553 ns (2 allocations: 320 bytes)\n"
     ]
    },
    {
     "data": {
      "text/plain": [
       "11056.395760776286"
      ]
     },
     "execution_count": 6,
     "metadata": {},
     "output_type": "execute_result"
    }
   ],
   "source": [
    "@btime profit($demand, $prices_sale,\n",
    "                     $purchases, $prices_purchase)"
   ]
  },
  {
   "cell_type": "code",
   "execution_count": 7,
   "metadata": {},
   "outputs": [
    {
     "name": "stdout",
     "output_type": "stream",
     "text": [
      "  21.284 ns (0 allocations: 0 bytes)\n"
     ]
    },
    {
     "data": {
      "text/plain": [
       "11056.395760776286"
      ]
     },
     "execution_count": 7,
     "metadata": {},
     "output_type": "execute_result"
    }
   ],
   "source": [
    "@btime profit($demand_s, $prices_sale_s,\n",
    "                     $purchases_s, $prices_purchase_s)"
   ]
  },
  {
   "cell_type": "markdown",
   "metadata": {},
   "source": [
    "### -----------------------------------------"
   ]
  },
  {
   "cell_type": "code",
   "execution_count": 8,
   "metadata": {},
   "outputs": [
    {
     "data": {
      "text/plain": [
       "5×5 Array{Float64,2}:\n",
       " 0.776674  0.196407  0.735004  0.0491219  0.938857\n",
       " 0.104823  0.873581  0.548342  0.482761   0.783726\n",
       " 0.838075  0.654922  0.476883  0.665252   0.505805\n",
       " 0.184115  0.586712  0.602375  0.842256   0.622156\n",
       " 0.312145  0.632696  0.791346  0.169107   0.306804"
      ]
     },
     "execution_count": 8,
     "metadata": {},
     "output_type": "execute_result"
    }
   ],
   "source": [
    "a = rand(5, 5)\n",
    "b = rand(5, 5)"
   ]
  },
  {
   "cell_type": "code",
   "execution_count": 9,
   "metadata": {},
   "outputs": [
    {
     "name": "stdout",
     "output_type": "stream",
     "text": [
      "  192.511 ns (1 allocation: 288 bytes)\n"
     ]
    },
    {
     "data": {
      "text/plain": [
       "5×5 Array{Float64,2}:\n",
       " 1.53329   1.92736   2.10675   1.51699   1.84378 \n",
       " 1.21975   1.64707   1.63573   1.45475   1.31832 \n",
       " 0.587485  0.502113  0.608215  0.343383  0.666209\n",
       " 1.39033   1.5096    1.62319   1.23833   1.89727 \n",
       " 0.338402  0.783325  0.767813  0.918059  0.79126 "
      ]
     },
     "execution_count": 9,
     "metadata": {},
     "output_type": "execute_result"
    }
   ],
   "source": [
    "@btime $a * $b"
   ]
  },
  {
   "cell_type": "code",
   "execution_count": 10,
   "metadata": {},
   "outputs": [
    {
     "data": {
      "text/plain": [
       "5×5 SArray{Tuple{5,5},Float64,2,25} with indices SOneTo(5)×SOneTo(5):\n",
       " 0.216105   0.714589  0.0736272  0.849703  0.716269  \n",
       " 0.86319    0.439458  0.113218   0.697406  0.528576  \n",
       " 0.0653417  0.279899  0.885166   0.228231  0.00130281\n",
       " 0.69999    0.340184  0.514669   0.257625  0.362053  \n",
       " 0.850205   0.2368    0.692971   0.800216  0.697106  "
      ]
     },
     "execution_count": 10,
     "metadata": {},
     "output_type": "execute_result"
    }
   ],
   "source": [
    "as = rand(SMatrix{5,5})\n",
    "bs = rand(SMatrix{5,5})"
   ]
  },
  {
   "cell_type": "code",
   "execution_count": 11,
   "metadata": {},
   "outputs": [
    {
     "name": "stdout",
     "output_type": "stream",
     "text": [
      "  0.027 ns (0 allocations: 0 bytes)\n"
     ]
    },
    {
     "data": {
      "text/plain": [
       "5×5 SArray{Tuple{5,5},Float64,2,25} with indices SOneTo(5)×SOneTo(5):\n",
       " 1.47758  1.15208   0.880097  1.59229  1.40531 \n",
       " 1.27995  1.16405   1.45233   1.2631   0.991722\n",
       " 1.60725  1.13846   1.59323   1.45291  1.20139 \n",
       " 1.45266  0.987592  0.865745  1.37104  1.18668 \n",
       " 1.84552  0.799446  1.13537   1.47812  1.29947 "
      ]
     },
     "execution_count": 11,
     "metadata": {},
     "output_type": "execute_result"
    }
   ],
   "source": [
    "@btime $as * $bs"
   ]
  },
  {
   "cell_type": "code",
   "execution_count": 12,
   "metadata": {},
   "outputs": [
    {
     "name": "stdout",
     "output_type": "stream",
     "text": [
      "  0.052262 seconds (113.42 k allocations: 4.835 MiB)\n"
     ]
    },
    {
     "data": {
      "text/plain": [
       "1×10 SArray{Tuple{1,10},Float64,2,10} with indices SOneTo(1)×SOneTo(10):\n",
       " 0.435091  0.986474  0.997141  0.507595  …  0.435142  0.0658965  0.135717"
      ]
     },
     "execution_count": 12,
     "metadata": {},
     "output_type": "execute_result"
    }
   ],
   "source": [
    "@time m1 = rand(SMatrix{1,10})"
   ]
  },
  {
   "cell_type": "code",
   "execution_count": 13,
   "metadata": {},
   "outputs": [
    {
     "name": "stdout",
     "output_type": "stream",
     "text": [
      "  1.418473 seconds (1.08 M allocations: 38.502 MiB, 0.89% gc time)\n"
     ]
    },
    {
     "data": {
      "text/plain": [
       "1×100 SArray{Tuple{1,100},Float64,2,100} with indices SOneTo(1)×SOneTo(100):\n",
       " 0.922015  0.244881  0.0645035  0.425455  …  0.649583  0.238476  0.823485"
      ]
     },
     "execution_count": 13,
     "metadata": {},
     "output_type": "execute_result"
    }
   ],
   "source": [
    "@time m1 = rand(SMatrix{1,100})"
   ]
  },
  {
   "cell_type": "code",
   "execution_count": 14,
   "metadata": {},
   "outputs": [
    {
     "name": "stdout",
     "output_type": "stream",
     "text": [
      "  3.058601 seconds (2.21 M allocations: 76.746 MiB, 0.88% gc time)\n"
     ]
    },
    {
     "data": {
      "text/plain": [
       "1×200 SArray{Tuple{1,200},Float64,2,200} with indices SOneTo(1)×SOneTo(200):\n",
       " 0.369335  0.916117  0.502476  0.557537  …  0.685943  0.477536  0.59297"
      ]
     },
     "execution_count": 14,
     "metadata": {},
     "output_type": "execute_result"
    }
   ],
   "source": [
    "@time m1 = rand(SMatrix{1,200})"
   ]
  },
  {
   "cell_type": "code",
   "execution_count": 15,
   "metadata": {},
   "outputs": [
    {
     "name": "stdout",
     "output_type": "stream",
     "text": [
      "  9.648814 seconds (5.60 M allocations: 191.706 MiB, 1.40% gc time)\n"
     ]
    },
    {
     "data": {
      "text/plain": [
       "1×500 SArray{Tuple{1,500},Float64,2,500} with indices SOneTo(1)×SOneTo(500):\n",
       " 0.796305  0.721111  0.0302126  0.923831  …  0.328806  0.137077  0.735619"
      ]
     },
     "execution_count": 15,
     "metadata": {},
     "output_type": "execute_result"
    }
   ],
   "source": [
    "@time m1 = rand(SMatrix{1,500})"
   ]
  },
  {
   "cell_type": "code",
   "execution_count": 16,
   "metadata": {},
   "outputs": [
    {
     "name": "stdout",
     "output_type": "stream",
     "text": [
      "  0.000028 seconds (28 allocations: 5.563 KiB)\n"
     ]
    },
    {
     "data": {
      "text/plain": [
       "1×500 SArray{Tuple{1,500},Float64,2,500} with indices SOneTo(1)×SOneTo(500):\n",
       " 0.165585  0.1023  0.324369  0.388579  …  0.418366  0.0404695  0.677994"
      ]
     },
     "execution_count": 16,
     "metadata": {},
     "output_type": "execute_result"
    }
   ],
   "source": [
    "@time m1 = rand(SMatrix{1,500})"
   ]
  },
  {
   "cell_type": "code",
   "execution_count": null,
   "metadata": {
    "collapsed": true
   },
   "outputs": [],
   "source": []
  }
 ],
 "metadata": {
  "@webio": {
   "lastCommId": null,
   "lastKernelId": null
  },
  "kernelspec": {
   "display_name": "Julia 1.2.0",
   "language": "julia",
   "name": "julia-1.2"
  },
  "language_info": {
   "file_extension": ".jl",
   "mimetype": "application/julia",
   "name": "julia",
   "version": "1.2.0"
  }
 },
 "nbformat": 4,
 "nbformat_minor": 1
}

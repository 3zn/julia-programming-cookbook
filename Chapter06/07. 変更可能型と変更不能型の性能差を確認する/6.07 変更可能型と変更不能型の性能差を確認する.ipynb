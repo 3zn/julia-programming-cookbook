{
 "cells": [
  {
   "cell_type": "code",
   "execution_count": 1,
   "metadata": {},
   "outputs": [
    {
     "data": {
      "text/plain": [
       "PointM"
      ]
     },
     "execution_count": 1,
     "metadata": {},
     "output_type": "execute_result"
    }
   ],
   "source": [
    "abstract type AbstractPoint end\n",
    "\n",
    "struct PointI <: AbstractPoint\n",
    "    x::Int\n",
    "    y::Int\n",
    "end\n",
    "   \n",
    "mutable struct PointM <: AbstractPoint\n",
    "    x::Int\n",
    "    y::Int\n",
    "end\n",
    "\n",
    "PointM(p::PointM) = PointM(p.x, p.y)"
   ]
  },
  {
   "cell_type": "code",
   "execution_count": 2,
   "metadata": {},
   "outputs": [
    {
     "data": {
      "text/plain": [
       "move (generic function with 2 methods)"
      ]
     },
     "execution_count": 2,
     "metadata": {},
     "output_type": "execute_result"
    }
   ],
   "source": [
    "d(p::AbstractPoint) = abs(p.x) + abs(p.y)\n",
    "move(p::PointI, d::PointI) = PointI(p.x+d.x, p.y+d.y)\n",
    "move(p::PointM, d::PointM) = (p.x += d.x; p.y += d.y; p)"
   ]
  },
  {
   "cell_type": "code",
   "execution_count": 3,
   "metadata": {},
   "outputs": [
    {
     "data": {
      "text/plain": [
       "simM (generic function with 1 method)"
      ]
     },
     "execution_count": 3,
     "metadata": {},
     "output_type": "execute_result"
    }
   ],
   "source": [
    "function simI()\n",
    "    maxd = 0\n",
    "    x = PointI(0, 0)\n",
    "    @inbounds for i in 1:10^6\n",
    "        x = move(x, PointI(2rand(Bool)-1, 2rand(Bool)-1))\n",
    "        curd = d(x)\n",
    "        maxd = max(maxd, curd)\n",
    "    end\n",
    "    maxd\n",
    "end\n",
    "\n",
    "function simM()\n",
    "    maxd = 0\n",
    "    x = PointM(0, 0)\n",
    "    m = PointM(0, 0)\n",
    "    @inbounds for i in 1:10^6\n",
    "        m.x, m.y = 2rand(Bool)-1, 2rand(Bool)-1\n",
    "        move(x, m)\n",
    "        curd = d(x)\n",
    "        maxd = max(maxd, curd)\n",
    "    end\n",
    "    maxd\n",
    "end"
   ]
  },
  {
   "cell_type": "code",
   "execution_count": 4,
   "metadata": {},
   "outputs": [],
   "source": [
    "using BenchmarkTools"
   ]
  },
  {
   "cell_type": "code",
   "execution_count": 5,
   "metadata": {},
   "outputs": [
    {
     "data": {
      "text/plain": [
       "BenchmarkTools.Trial: \n",
       "  memory estimate:  0 bytes\n",
       "  allocs estimate:  0\n",
       "  --------------\n",
       "  minimum time:     3.034 ms (0.00% GC)\n",
       "  median time:      3.181 ms (0.00% GC)\n",
       "  mean time:        3.285 ms (0.00% GC)\n",
       "  maximum time:     6.015 ms (0.00% GC)\n",
       "  --------------\n",
       "  samples:          1520\n",
       "  evals/sample:     1"
      ]
     },
     "execution_count": 5,
     "metadata": {},
     "output_type": "execute_result"
    }
   ],
   "source": [
    "@benchmark simI()"
   ]
  },
  {
   "cell_type": "code",
   "execution_count": 6,
   "metadata": {},
   "outputs": [
    {
     "data": {
      "text/plain": [
       "BenchmarkTools.Trial: \n",
       "  memory estimate:  0 bytes\n",
       "  allocs estimate:  0\n",
       "  --------------\n",
       "  minimum time:     3.034 ms (0.00% GC)\n",
       "  median time:      3.213 ms (0.00% GC)\n",
       "  mean time:        3.362 ms (0.00% GC)\n",
       "  maximum time:     4.556 ms (0.00% GC)\n",
       "  --------------\n",
       "  samples:          1485\n",
       "  evals/sample:     1"
      ]
     },
     "execution_count": 6,
     "metadata": {},
     "output_type": "execute_result"
    }
   ],
   "source": [
    "@benchmark simM()"
   ]
  },
  {
   "cell_type": "code",
   "execution_count": 7,
   "metadata": {},
   "outputs": [
    {
     "data": {
      "text/plain": [
       "simM2 (generic function with 1 method)"
      ]
     },
     "execution_count": 7,
     "metadata": {},
     "output_type": "execute_result"
    }
   ],
   "source": [
    "function simI2()\n",
    "    path = PointI[]\n",
    "    x = PointI(0, 0)\n",
    "    @inbounds for i in 1:10^6\n",
    "        push!(path, x)\n",
    "        x = move(x, PointI(2rand(Bool)-1, 2rand(Bool)-1))\n",
    "    end\n",
    "    path\n",
    "end\n",
    "\n",
    "function simM2()\n",
    "    path = PointM[]\n",
    "    x = PointM(0, 0)\n",
    "    m = PointM(0, 0)\n",
    "    @inbounds for i in 1:10^6\n",
    "        push!(path, PointM(x))\n",
    "        m.x, m.y = 2rand(Bool)-1, 2rand(Bool)-1\n",
    "        move(x, m)\n",
    "    end\n",
    "    path\n",
    "end"
   ]
  },
  {
   "cell_type": "code",
   "execution_count": 8,
   "metadata": {},
   "outputs": [
    {
     "data": {
      "text/plain": [
       "BenchmarkTools.Trial: \n",
       "  memory estimate:  17.00 MiB\n",
       "  allocs estimate:  20\n",
       "  --------------\n",
       "  minimum time:     11.275 ms (0.00% GC)\n",
       "  median time:      15.660 ms (0.00% GC)\n",
       "  mean time:        15.891 ms (8.13% GC)\n",
       "  maximum time:     25.279 ms (33.32% GC)\n",
       "  --------------\n",
       "  samples:          294\n",
       "  evals/sample:     1"
      ]
     },
     "execution_count": 8,
     "metadata": {},
     "output_type": "execute_result"
    }
   ],
   "source": [
    "@benchmark simI2()"
   ]
  },
  {
   "cell_type": "code",
   "execution_count": 9,
   "metadata": {},
   "outputs": [
    {
     "data": {
      "text/plain": [
       "BenchmarkTools.Trial: \n",
       "  memory estimate:  39.52 MiB\n",
       "  allocs estimate:  1000020\n",
       "  --------------\n",
       "  minimum time:     19.824 ms (0.00% GC)\n",
       "  median time:      37.589 ms (49.03% GC)\n",
       "  mean time:        39.181 ms (51.67% GC)\n",
       "  maximum time:     121.914 ms (82.95% GC)\n",
       "  --------------\n",
       "  samples:          128\n",
       "  evals/sample:     1"
      ]
     },
     "execution_count": 9,
     "metadata": {},
     "output_type": "execute_result"
    }
   ],
   "source": [
    "@benchmark simM2()"
   ]
  },
  {
   "cell_type": "markdown",
   "metadata": {
    "collapsed": true
   },
   "source": [
    "### ーーーーーーーー"
   ]
  },
  {
   "cell_type": "code",
   "execution_count": 11,
   "metadata": {},
   "outputs": [
    {
     "data": {
      "text/plain": [
       "worker2 (generic function with 1 method)"
      ]
     },
     "execution_count": 11,
     "metadata": {},
     "output_type": "execute_result"
    }
   ],
   "source": [
    "struct T1\n",
    "    x::NTuple{1000, Int}\n",
    "    y::Int\n",
    "end\n",
    "\n",
    "mutable struct T2\n",
    "    x::NTuple{1000, Int}\n",
    "    y::Int\n",
    "end\n",
    "\n",
    "function worker1()\n",
    "    p = T1(ntuple(x->1, 1000), 0)\n",
    "    for i in 1:10^6\n",
    "        p = T1(p.x, p.y+1)\n",
    "    end\n",
    "    p\n",
    "end\n",
    "\n",
    "function worker2()\n",
    "    p = T2(ntuple(x->1, 1000), 0)\n",
    "    for i in 1:10^6\n",
    "        p.y += 1\n",
    "    end\n",
    "    p \n",
    "end"
   ]
  },
  {
   "cell_type": "code",
   "execution_count": 12,
   "metadata": {},
   "outputs": [
    {
     "data": {
      "text/plain": [
       "BenchmarkTools.Trial: \n",
       "  memory estimate:  31.75 KiB\n",
       "  allocs estimate:  6\n",
       "  --------------\n",
       "  minimum time:     268.387 μs (0.00% GC)\n",
       "  median time:      276.055 μs (0.00% GC)\n",
       "  mean time:        296.886 μs (1.93% GC)\n",
       "  maximum time:     38.758 ms (99.19% GC)\n",
       "  --------------\n",
       "  samples:          10000\n",
       "  evals/sample:     1"
      ]
     },
     "execution_count": 12,
     "metadata": {},
     "output_type": "execute_result"
    }
   ],
   "source": [
    "@benchmark worker1()"
   ]
  },
  {
   "cell_type": "code",
   "execution_count": 13,
   "metadata": {},
   "outputs": [
    {
     "data": {
      "text/plain": [
       "BenchmarkTools.Trial: \n",
       "  memory estimate:  39.69 KiB\n",
       "  allocs estimate:  7\n",
       "  --------------\n",
       "  minimum time:     24.520 μs (0.00% GC)\n",
       "  median time:      30.552 μs (0.00% GC)\n",
       "  mean time:        38.356 μs (17.06% GC)\n",
       "  maximum time:     47.323 ms (99.86% GC)\n",
       "  --------------\n",
       "  samples:          10000\n",
       "  evals/sample:     1"
      ]
     },
     "execution_count": 13,
     "metadata": {},
     "output_type": "execute_result"
    }
   ],
   "source": [
    "@benchmark worker2()"
   ]
  },
  {
   "cell_type": "code",
   "execution_count": null,
   "metadata": {
    "collapsed": true
   },
   "outputs": [],
   "source": []
  }
 ],
 "metadata": {
  "kernelspec": {
   "display_name": "Julia 1.2.0",
   "language": "julia",
   "name": "julia-1.2"
  },
  "language_info": {
   "file_extension": ".jl",
   "mimetype": "application/julia",
   "name": "julia",
   "version": "1.2.0"
  }
 },
 "nbformat": 4,
 "nbformat_minor": 1
}

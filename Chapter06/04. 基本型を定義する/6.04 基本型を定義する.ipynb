{
 "cells": [
  {
   "cell_type": "code",
   "execution_count": 1,
   "metadata": {},
   "outputs": [
    {
     "data": {
      "text/plain": [
       "ARGB"
      ]
     },
     "execution_count": 1,
     "metadata": {},
     "output_type": "execute_result"
    }
   ],
   "source": [
    "primitive type ARGB 32 end\n",
    "\n",
    "ARGB(c::UInt32) = reinterpret(ARGB, c)\n",
    "ARGB(c) = ARGB(UInt32(c))\n",
    "ARGB(α::UInt8, red::UInt8, green::UInt8, blue::UInt8) =\n",
    "    ARGB(UInt32(α) << 24 + UInt32(red) << 16 + UInt32(green) << 8 + UInt32(blue))\n",
    "ARGB(α, red, green, blue) = ARGB(UInt8(α), UInt8(red), UInt8(green), UInt8(blue))"
   ]
  },
  {
   "cell_type": "code",
   "execution_count": 2,
   "metadata": {},
   "outputs": [
    {
     "data": {
      "text/plain": [
       "@ARGB_str (macro with 1 method)"
      ]
     },
     "execution_count": 2,
     "metadata": {},
     "output_type": "execute_result"
    }
   ],
   "source": [
    "function ARGB(c::AbstractString)\n",
    "    if !occursin(r\"^#[0-9a-fA-F]{8}$\", c)\n",
    "        throw(DomainError(\"wrong color string: $c\"))\n",
    "    end\n",
    "    ARGB(parse(UInt32, c[2:end], base=16))\n",
    "end\n",
    "\n",
    "macro ARGB_str(s) ARGB(s) end"
   ]
  },
  {
   "cell_type": "code",
   "execution_count": 3,
   "metadata": {},
   "outputs": [
    {
     "data": {
      "text/plain": [
       "blue (generic function with 1 method)"
      ]
     },
     "execution_count": 3,
     "metadata": {},
     "output_type": "execute_result"
    }
   ],
   "source": [
    "α(c::ARGB)::UInt8 = (UInt32(c) >> 24) & 0x000000FF \n",
    "red(c::ARGB)::UInt8 = (UInt32(c) >> 16) & 0x000000FF \n",
    "green(c::ARGB)::UInt8 = (UInt32(c) >> 8) & 0x000000FF \n",
    "blue(c::ARGB)::UInt8 = UInt32(c) & 0x000000FF"
   ]
  },
  {
   "cell_type": "code",
   "execution_count": 4,
   "metadata": {},
   "outputs": [
    {
     "data": {
      "text/plain": [
       "convert (generic function with 3 methods)"
      ]
     },
     "execution_count": 4,
     "metadata": {},
     "output_type": "execute_result"
    }
   ],
   "source": [
    "Base.UInt32(c::ARGB) = reinterpret(UInt32, c)\n",
    "convert(UInt32, c::ARGB) = UInt32(c)\n",
    "convert(ARGB, c::UInt32) = ARGB(c)\n",
    "Base.String(c::ARGB) = \"#\" * lpad(string(UInt32(c), base=16), 8, \"0\")\n",
    "convert(String, c::ARGB) = String(c)\n",
    "convert(ARGB, c::AbstractString) = ARGB(c)"
   ]
  },
  {
   "cell_type": "code",
   "execution_count": 5,
   "metadata": {},
   "outputs": [
    {
     "data": {
      "text/plain": [
       "ARGB(0x0a0b0c0d)"
      ]
     },
     "execution_count": 5,
     "metadata": {},
     "output_type": "execute_result"
    }
   ],
   "source": [
    "ARGB(10,11,12,13)"
   ]
  },
  {
   "cell_type": "code",
   "execution_count": 6,
   "metadata": {},
   "outputs": [
    {
     "data": {
      "text/plain": [
       "ARGB(0x12345678)"
      ]
     },
     "execution_count": 6,
     "metadata": {},
     "output_type": "execute_result"
    }
   ],
   "source": [
    "c = ARGB\"#12345678\""
   ]
  },
  {
   "cell_type": "code",
   "execution_count": 7,
   "metadata": {},
   "outputs": [
    {
     "data": {
      "text/plain": [
       "4-element Array{UInt8,1}:\n",
       " 0x12\n",
       " 0x34\n",
       " 0x56\n",
       " 0x78"
      ]
     },
     "execution_count": 7,
     "metadata": {},
     "output_type": "execute_result"
    }
   ],
   "source": [
    "[f(c) for f in [α, red, green, blue]] "
   ]
  },
  {
   "cell_type": "code",
   "execution_count": 8,
   "metadata": {},
   "outputs": [
    {
     "data": {
      "text/plain": [
       "0x12345678"
      ]
     },
     "execution_count": 8,
     "metadata": {},
     "output_type": "execute_result"
    }
   ],
   "source": [
    "UInt32(c)"
   ]
  },
  {
   "cell_type": "code",
   "execution_count": 9,
   "metadata": {},
   "outputs": [
    {
     "data": {
      "text/plain": [
       "\"#12345678\""
      ]
     },
     "execution_count": 9,
     "metadata": {},
     "output_type": "execute_result"
    }
   ],
   "source": [
    "String(c)"
   ]
  },
  {
   "cell_type": "code",
   "execution_count": 10,
   "metadata": {},
   "outputs": [
    {
     "data": {
      "text/plain": [
       "zeroalpha (generic function with 1 method)"
      ]
     },
     "execution_count": 10,
     "metadata": {},
     "output_type": "execute_result"
    }
   ],
   "source": [
    "zeroalpha(c::ARGB) = ARGB(UInt32(c) & 0x00FFFFFF)"
   ]
  },
  {
   "cell_type": "code",
   "execution_count": 11,
   "metadata": {},
   "outputs": [
    {
     "data": {
      "text/plain": [
       "ARGB(0x12345678)"
      ]
     },
     "execution_count": 11,
     "metadata": {},
     "output_type": "execute_result"
    }
   ],
   "source": [
    "c = ARGB\"#12345678\""
   ]
  },
  {
   "cell_type": "code",
   "execution_count": 12,
   "metadata": {},
   "outputs": [
    {
     "data": {
      "text/plain": [
       "ARGB(0x00345678)"
      ]
     },
     "execution_count": 12,
     "metadata": {},
     "output_type": "execute_result"
    }
   ],
   "source": [
    "zeroalpha(c)"
   ]
  },
  {
   "cell_type": "code",
   "execution_count": 13,
   "metadata": {},
   "outputs": [
    {
     "name": "stdout",
     "output_type": "stream",
     "text": [
      "\t.section\t__TEXT,__text,regular,pure_instructions\n",
      "; ┌ @ In[10]:1 within `zeroalpha'\n",
      "; │┌ @ In[10]:1 within `&'\n",
      "\tandl\t$16777215, %edi         ## imm = 0xFFFFFF\n",
      "; │└\n",
      "\tmovl\t%edi, %eax\n",
      "\tretq\n",
      "\tnopl\t(%rax)\n",
      "; └\n"
     ]
    }
   ],
   "source": [
    "@code_native zeroalpha(c)"
   ]
  },
  {
   "cell_type": "code",
   "execution_count": null,
   "metadata": {
    "collapsed": true
   },
   "outputs": [],
   "source": []
  }
 ],
 "metadata": {
  "@webio": {
   "lastCommId": null,
   "lastKernelId": null
  },
  "kernelspec": {
   "display_name": "Julia 1.2.0",
   "language": "julia",
   "name": "julia-1.2"
  },
  "language_info": {
   "file_extension": ".jl",
   "mimetype": "application/julia",
   "name": "julia",
   "version": "1.2.0"
  }
 },
 "nbformat": 4,
 "nbformat_minor": 1
}

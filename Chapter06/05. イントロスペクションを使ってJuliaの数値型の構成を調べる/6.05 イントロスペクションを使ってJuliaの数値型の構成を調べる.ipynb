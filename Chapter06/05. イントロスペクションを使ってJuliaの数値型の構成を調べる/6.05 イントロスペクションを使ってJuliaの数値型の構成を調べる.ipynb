{
 "cells": [
  {
   "cell_type": "code",
   "execution_count": 1,
   "metadata": {},
   "outputs": [
    {
     "data": {
      "text/plain": [
       "supertypes (generic function with 1 method)"
      ]
     },
     "execution_count": 1,
     "metadata": {},
     "output_type": "execute_result"
    }
   ],
   "source": [
    "function printsubtypes(T, indent=0)\n",
    "    sT = subtypes(T)\n",
    "    println(\" \"^indent, T, isempty(sT) ? \"\" : \":\")\n",
    "    for S in sT\n",
    "        printsubtypes(S, indent + 1)\n",
    "    end\n",
    "end\n",
    "\n",
    "function supertypes(T)\n",
    "    print(T)\n",
    "    if T != Any\n",
    "        print(\" <: \")\n",
    "        S = supertype(T)\n",
    "        supertypes(S)\n",
    "    end\n",
    "end"
   ]
  },
  {
   "cell_type": "code",
   "execution_count": 2,
   "metadata": {},
   "outputs": [
    {
     "name": "stdout",
     "output_type": "stream",
     "text": [
      "Number:\n",
      " Complex\n",
      " Real:\n",
      "  AbstractFloat:\n",
      "   BigFloat\n",
      "   Float16\n",
      "   Float32\n",
      "   Float64\n",
      "  AbstractIrrational:\n",
      "   Irrational\n",
      "  Integer:\n",
      "   Bool\n",
      "   Signed:\n",
      "    BigInt\n",
      "    Int128\n",
      "    Int16\n",
      "    Int32\n",
      "    Int64\n",
      "    Int8\n",
      "   Unsigned:\n",
      "    UInt128\n",
      "    UInt16\n",
      "    UInt32\n",
      "    UInt64\n",
      "    UInt8\n",
      "  Rational\n"
     ]
    }
   ],
   "source": [
    "printsubtypes(Number)"
   ]
  },
  {
   "cell_type": "code",
   "execution_count": 3,
   "metadata": {},
   "outputs": [
    {
     "name": "stdout",
     "output_type": "stream",
     "text": [
      "Bool <: Integer <: Real <: Number <: Any"
     ]
    }
   ],
   "source": [
    "supertypes(Bool)"
   ]
  },
  {
   "cell_type": "code",
   "execution_count": 4,
   "metadata": {},
   "outputs": [
    {
     "data": {
      "text/plain": [
       "Complex{Int64}"
      ]
     },
     "execution_count": 4,
     "metadata": {},
     "output_type": "execute_result"
    }
   ],
   "source": [
    "typeof(1 + 1im)"
   ]
  },
  {
   "cell_type": "code",
   "execution_count": 5,
   "metadata": {},
   "outputs": [
    {
     "data": {
      "text/plain": [
       "Complex{Float64}"
      ]
     },
     "execution_count": 5,
     "metadata": {},
     "output_type": "execute_result"
    }
   ],
   "source": [
    "typeof(1.0 + 1.0im)"
   ]
  },
  {
   "cell_type": "code",
   "execution_count": null,
   "metadata": {
    "collapsed": true
   },
   "outputs": [],
   "source": []
  }
 ],
 "metadata": {
  "@webio": {
   "lastCommId": null,
   "lastKernelId": null
  },
  "kernelspec": {
   "display_name": "Julia 1.2.0",
   "language": "julia",
   "name": "julia-1.2"
  },
  "language_info": {
   "file_extension": ".jl",
   "mimetype": "application/julia",
   "name": "julia",
   "version": "1.2.0"
  }
 },
 "nbformat": 4,
 "nbformat_minor": 1
}

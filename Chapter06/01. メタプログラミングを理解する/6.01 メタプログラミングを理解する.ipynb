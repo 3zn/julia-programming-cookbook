{
 "cells": [
  {
   "cell_type": "markdown",
   "metadata": {},
   "source": [
    "#### eval関数によるメタプログラミング"
   ]
  },
  {
   "cell_type": "code",
   "execution_count": 1,
   "metadata": {},
   "outputs": [
    {
     "data": {
      "text/plain": [
       "\"id,val,class\\n1,4,A\\n2,39,B\\n3,44,C\\n\""
      ]
     },
     "execution_count": 1,
     "metadata": {},
     "output_type": "execute_result"
    }
   ],
   "source": [
    "data=\"\"\"\n",
    "id,val,class\n",
    "1,4,A\n",
    "2,39,B\n",
    "3,44,C\n",
    "\"\"\""
   ]
  },
  {
   "cell_type": "code",
   "execution_count": 2,
   "metadata": {},
   "outputs": [
    {
     "data": {
      "text/plain": [
       "new_struct (generic function with 1 method)"
      ]
     },
     "execution_count": 2,
     "metadata": {},
     "output_type": "execute_result"
    }
   ],
   "source": [
    "function new_struct(fields::Vector{Tuple{String,DataType}})\n",
    "    name =  \"A\" * string(hash(fields), base=16)\n",
    "    code = \"begin\\nstruct $name\\n\"\n",
    "    for field in fields\n",
    "        code *= field[1]*\"::\"*string(field[2])*\"\\n\"\n",
    "    end\n",
    "    eval(Meta.parse(code * \"end\\n$name\\nend\"))\n",
    "end"
   ]
  },
  {
   "cell_type": "code",
   "execution_count": 3,
   "metadata": {},
   "outputs": [
    {
     "name": "stdout",
     "output_type": "stream",
     "text": [
      "A5cc33285fde10b33 <: Any\n",
      "  a::Int64\n",
      "  b::String\n",
      "  c::Int64\n"
     ]
    }
   ],
   "source": [
    "MyS = new_struct([(\"a\", Int), (\"b\", String), (\"c\", Int)])\n",
    "dump(MyS)"
   ]
  },
  {
   "cell_type": "code",
   "execution_count": 4,
   "metadata": {},
   "outputs": [
    {
     "data": {
      "text/plain": [
       "parse_data (generic function with 1 method)"
      ]
     },
     "execution_count": 4,
     "metadata": {},
     "output_type": "execute_result"
    }
   ],
   "source": [
    "function parse_data(data::AbstractString)\n",
    "    lines = filter(x->length(x)>0, strip.(split(data, ('\\n', '\\r'))))\n",
    "    colnames = string.(split(lines[1], ','))\n",
    "    row1=split(lines[2], ',')\n",
    "    coltypes = [occursin(r\"^-?\\d+$\", val) ? Int64 : String for val in row1]\n",
    "            \n",
    "    (lines[2:end], new_struct(collect(zip(colnames, coltypes))))\n",
    "end"
   ]
  },
  {
   "cell_type": "code",
   "execution_count": 5,
   "metadata": {},
   "outputs": [
    {
     "name": "stdout",
     "output_type": "stream",
     "text": [
      "A39a03927131d3fa0 <: Any\n",
      "  col1::String\n",
      "  col2::Int64\n",
      "  col3::String\n"
     ]
    }
   ],
   "source": [
    "dump(parse_data(\"col1,col2,col3\\nabc,123,123.5\")[2])"
   ]
  },
  {
   "cell_type": "code",
   "execution_count": 6,
   "metadata": {},
   "outputs": [
    {
     "data": {
      "text/plain": [
       "parse_text (generic function with 1 method)"
      ]
     },
     "execution_count": 6,
     "metadata": {},
     "output_type": "execute_result"
    }
   ],
   "source": [
    "function parse_text(data::AbstractString)\n",
    "    lines, MyStruct = parse_data(data)\n",
    "    res = MyStruct[]\n",
    "    for line in lines\n",
    "        colvals = split(line, ',')\n",
    "        f = (t, v)->t<:Int ? parse(Int, v) : string(v)\n",
    "        vals = f.(MyStruct.types, colvals)\n",
    "        push!(res, Base.invokelatest(MyStruct, vals...))\n",
    "    end\n",
    "    return res\n",
    "end"
   ]
  },
  {
   "cell_type": "code",
   "execution_count": 7,
   "metadata": {},
   "outputs": [
    {
     "data": {
      "text/plain": [
       "3-element Array{A56d02402a5387976,1}:\n",
       " A56d02402a5387976(1, 4, \"A\") \n",
       " A56d02402a5387976(2, 39, \"B\")\n",
       " A56d02402a5387976(3, 44, \"C\")"
      ]
     },
     "execution_count": 7,
     "metadata": {},
     "output_type": "execute_result"
    }
   ],
   "source": [
    "parse_text(data)"
   ]
  },
  {
   "cell_type": "markdown",
   "metadata": {},
   "source": [
    "#### ASTによるメタプログラミング"
   ]
  },
  {
   "cell_type": "code",
   "execution_count": 8,
   "metadata": {},
   "outputs": [
    {
     "data": {
      "text/plain": [
       "new_struct2 (generic function with 1 method)"
      ]
     },
     "execution_count": 8,
     "metadata": {},
     "output_type": "execute_result"
    }
   ],
   "source": [
    "function new_struct2(fields::Vector{Tuple{String,DataType}})\n",
    "    name =  \"A\" * string(hash(fields), base=16)\n",
    "    c = Expr(:block,\n",
    "            Expr(:struct,false,Symbol(name),\n",
    "                Expr(:block, [Expr(:(::), Symbol(f[1]),\n",
    "                                f[2]) for f in fields]...)),\n",
    "            Symbol(name))\n",
    "    println(c)\n",
    "    eval(c)\n",
    "end"
   ]
  },
  {
   "cell_type": "code",
   "execution_count": 9,
   "metadata": {},
   "outputs": [
    {
     "name": "stdout",
     "output_type": "stream",
     "text": [
      "begin\n",
      "    struct A5cc33285fde10b33\n",
      "        a::Int64\n",
      "        b::String\n",
      "        c::Int64\n",
      "    end\n",
      "    A5cc33285fde10b33\n",
      "end\n",
      "A5cc33285fde10b33 <: Any\n",
      "  a::Int64\n",
      "  b::String\n",
      "  c::Int64\n"
     ]
    }
   ],
   "source": [
    "MyS2 = new_struct2([(\"a\", Int), (\"b\", String), (\"c\", Int)])\n",
    "dump(MyS2)"
   ]
  },
  {
   "cell_type": "code",
   "execution_count": 10,
   "metadata": {},
   "outputs": [
    {
     "data": {
      "text/plain": [
       "true"
      ]
     },
     "execution_count": 10,
     "metadata": {},
     "output_type": "execute_result"
    }
   ],
   "source": [
    "MyS == MyS2"
   ]
  },
  {
   "cell_type": "code",
   "execution_count": 11,
   "metadata": {},
   "outputs": [
    {
     "data": {
      "text/plain": [
       "new_struct3 (generic function with 1 method)"
      ]
     },
     "execution_count": 11,
     "metadata": {},
     "output_type": "execute_result"
    }
   ],
   "source": [
    "function new_struct3(fields::Vector{Tuple{String,DataType}})\n",
    "    name =  \"A\" * string(hash(fields), base=16)\n",
    "    c = :(begin\n",
    "            struct $(Symbol(name))\n",
    "               $([:($(Symbol(f[1]))::$(f[2])) for f in fields]...)\n",
    "            end\n",
    "            $(Symbol(name))\n",
    "        end)\n",
    "    println(c)\n",
    "    eval(c)\n",
    "end"
   ]
  },
  {
   "cell_type": "code",
   "execution_count": 12,
   "metadata": {},
   "outputs": [
    {
     "name": "stdout",
     "output_type": "stream",
     "text": [
      "begin\n",
      "    #= In[11]:4 =#\n",
      "    struct A5cc33285fde10b33\n",
      "        #= In[11]:5 =#\n",
      "        a::Int64\n",
      "        b::String\n",
      "        c::Int64\n",
      "    end\n",
      "    #= In[11]:7 =#\n",
      "    A5cc33285fde10b33\n",
      "end\n",
      "A5cc33285fde10b33 <: Any\n",
      "  a::Int64\n",
      "  b::String\n",
      "  c::Int64\n"
     ]
    }
   ],
   "source": [
    "MyS3 = new_struct3([(\"a\", Int), (\"b\", String), (\"c\", Int)])\n",
    "dump(MyS3)"
   ]
  },
  {
   "cell_type": "code",
   "execution_count": 13,
   "metadata": {},
   "outputs": [
    {
     "data": {
      "text/plain": [
       ":((:struct, false, Symbol(\"tmp\"), (:block, Expr[:(a::Int64), :(b::String), :(c::Int64)])))"
      ]
     },
     "execution_count": 13,
     "metadata": {},
     "output_type": "execute_result"
    }
   ],
   "source": [
    "fields = [(\"a\", Int), (\"b\", String), (\"c\", Int)]\n",
    "#t = [((Symbol(f[1]))::(f[2])) for f in $fields]\n",
    "    :(:struct, false, Symbol(\"tmp\"),\n",
    "        (:block, $[:($(Symbol(f[1]))::$(f[2])) for f in fields]))\n"
   ]
  },
  {
   "cell_type": "code",
   "execution_count": 14,
   "metadata": {},
   "outputs": [
    {
     "data": {
      "text/plain": [
       ":(:a::Int64)"
      ]
     },
     "execution_count": 14,
     "metadata": {},
     "output_type": "execute_result"
    }
   ],
   "source": [
    "c1 = :($(:((:a) :: (Int64))))"
   ]
  },
  {
   "cell_type": "code",
   "execution_count": 15,
   "metadata": {},
   "outputs": [
    {
     "data": {
      "text/plain": [
       "Tuple{Int64,DataType}"
      ]
     },
     "execution_count": 15,
     "metadata": {},
     "output_type": "execute_result"
    }
   ],
   "source": [
    "fs = [[1, Int]]\n",
    "c0 = :($((fs[1][1]) :: (fs[1][2])))\n",
    "c0 = :($((fs[1][1]) , (fs[1][2])))\n",
    "typeof(c0)"
   ]
  },
  {
   "cell_type": "markdown",
   "metadata": {},
   "source": [
    "### 説明しよう\n"
   ]
  },
  {
   "cell_type": "code",
   "execution_count": 16,
   "metadata": {},
   "outputs": [
    {
     "name": "stdout",
     "output_type": "stream",
     "text": [
      "VersionNumber\n",
      "  major: UInt32 0x00000001\n",
      "  minor: UInt32 0x00000002\n",
      "  patch: UInt32 0x00000000\n",
      "  prerelease: Tuple{} ()\n",
      "  build: Tuple{} ()\n"
     ]
    }
   ],
   "source": [
    "dump(VERSION)"
   ]
  },
  {
   "cell_type": "code",
   "execution_count": 17,
   "metadata": {},
   "outputs": [
    {
     "data": {
      "text/plain": [
       "f1 (generic function with 1 method)"
      ]
     },
     "execution_count": 17,
     "metadata": {},
     "output_type": "execute_result"
    }
   ],
   "source": [
    "function f1()\n",
    "    eval(:(g1() = 10))\n",
    "    g1() \n",
    "end"
   ]
  },
  {
   "cell_type": "code",
   "execution_count": 18,
   "metadata": {},
   "outputs": [
    {
     "data": {
      "text/plain": [
       "f2 (generic function with 1 method)"
      ]
     },
     "execution_count": 18,
     "metadata": {},
     "output_type": "execute_result"
    }
   ],
   "source": [
    "function f2()\n",
    "    eval(:(g2() = 10))\n",
    "    Base.invokelatest(g2)\n",
    "end"
   ]
  },
  {
   "cell_type": "code",
   "execution_count": 19,
   "metadata": {},
   "outputs": [
    {
     "ename": "MethodError",
     "evalue": "MethodError: no method matching g1()\nThe applicable method may be too new: running in world age 26084, while current world is 26085.\nClosest candidates are:\n  g1() at In[17]:2 (method too new to be called from this world context.)",
     "output_type": "error",
     "traceback": [
      "MethodError: no method matching g1()\nThe applicable method may be too new: running in world age 26084, while current world is 26085.\nClosest candidates are:\n  g1() at In[17]:2 (method too new to be called from this world context.)",
      "",
      "Stacktrace:",
      " [1] f1() at ./In[17]:3",
      " [2] top-level scope at In[19]:1"
     ]
    }
   ],
   "source": [
    "f1()"
   ]
  },
  {
   "cell_type": "code",
   "execution_count": 20,
   "metadata": {},
   "outputs": [
    {
     "data": {
      "text/plain": [
       "10"
      ]
     },
     "execution_count": 20,
     "metadata": {},
     "output_type": "execute_result"
    }
   ],
   "source": [
    "f2()"
   ]
  },
  {
   "cell_type": "code",
   "execution_count": null,
   "metadata": {
    "collapsed": true
   },
   "outputs": [],
   "source": []
  }
 ],
 "metadata": {
  "kernelspec": {
   "display_name": "Julia 1.2.0",
   "language": "julia",
   "name": "julia-1.2"
  },
  "language_info": {
   "file_extension": ".jl",
   "mimetype": "application/julia",
   "name": "julia",
   "version": "1.2.0"
  }
 },
 "nbformat": 4,
 "nbformat_minor": 1
}

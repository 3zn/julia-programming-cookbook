{
 "cells": [
  {
   "cell_type": "code",
   "execution_count": 1,
   "metadata": {},
   "outputs": [
    {
     "data": {
      "text/plain": [
       "our_pi (generic function with 1 method)"
      ]
     },
     "execution_count": 1,
     "metadata": {},
     "output_type": "execute_result"
    }
   ],
   "source": [
    "function our_pi(n, T)\n",
    "    s = one(T)\n",
    "    f = one(T)\n",
    "    for i::T in 1:n\n",
    "        f *= i / (2i+1)\n",
    "        s += f \n",
    "    end\n",
    "    2s \n",
    "end"
   ]
  },
  {
   "cell_type": "code",
   "execution_count": 2,
   "metadata": {},
   "outputs": [
    {
     "data": {
      "text/plain": [
       "10-element Array{BigFloat,1}:\n",
       " -0.207998903589793238462643383279502884197169399375105820974944592307816406286198    \n",
       " -0.04393640358979323846264338327950288419716939937510582097494459230781640628619803  \n",
       " -0.002920778589793238462643383279502884197169399375105820974944592307816406286198029 \n",
       " -0.0009676535897932384626433832795028841971693993751058209749445923078164062861980295\n",
       " -0.0009676535897932384626433832795028841971693993751058209749445923078164062861980295\n",
       " -0.0009676535897932384626433832795028841971693993751058209749445923078164062861980295\n",
       " -0.0009676535897932384626433832795028841971693993751058209749445923078164062861980295\n",
       " -0.0009676535897932384626433832795028841971693993751058209749445923078164062861980295\n",
       " -0.0009676535897932384626433832795028841971693993751058209749445923078164062861980295\n",
       " -0.0009676535897932384626433832795028841971693993751058209749445923078164062861980295"
      ]
     },
     "metadata": {},
     "output_type": "display_data"
    },
    {
     "data": {
      "text/plain": [
       "10-element Array{BigFloat,1}:\n",
       " -0.208259320256460112370941313308723763275080776328230820974944592307816406286198    \n",
       " -0.04317995517709517539637050332880069379799947750010582097494459230781640628619803  \n",
       " -0.002122972943642620687196138639994458007746791953230820974944592307816406286198029 \n",
       " -6.257552732991451957385031566516208582973593855820974944592307816406286198029454e-06\n",
       " -7.004720171274999130895783071511373531260582097494459230781640628619802945362503e-11\n",
       " -1.010643099614860550061511927700156355820974944592307816406286198029453625031821e-15\n",
       " -1.010643099614860550061511927700156355820974944592307816406286198029453625031821e-15\n",
       " -1.010643099614860550061511927700156355820974944592307816406286198029453625031821e-15\n",
       " -1.010643099614860550061511927700156355820974944592307816406286198029453625031821e-15\n",
       " -1.010643099614860550061511927700156355820974944592307816406286198029453625031821e-15"
      ]
     },
     "metadata": {},
     "output_type": "display_data"
    },
    {
     "data": {
      "text/plain": [
       "10-element Array{BigFloat,1}:\n",
       " -0.2082593202564599051293100499461695508638360660417724876416112589744830729528555   \n",
       " -0.04317995517709482576423068486680447149875670096240740827653189389511799358779893  \n",
       " -0.002122972943642004076114879103939885104758542258366351294298441073429877782059472 \n",
       " -6.257552731792070508295743788487240468397453131043771934107556099005139032410049e-06\n",
       " -7.004625201779280778523170847860187316653933480300725911129361546127247477203004e-11\n",
       " -1.176247251749589002199551915966763734093321056007856229508136919374480975152605e-20\n",
       " -4.555467456395812571863354028257417095625126183776878405020450217779608346301807e-40\n",
       "  1.036340226611333355046362223536047948533920043732353766202844416420231016379491e-76\n",
       "  1.036340226611333355046362223536047948533920043732353766202844416420231016379491e-76\n",
       "  1.036340226611333355046362223536047948533920043732353766202844416420231016379491e-76"
      ]
     },
     "metadata": {},
     "output_type": "display_data"
    }
   ],
   "source": [
    "for T in [Float16, Float64, BigFloat] \n",
    "    display([our_pi(2^n, T) for n in 1:10] .- big(π))\n",
    "end"
   ]
  },
  {
   "cell_type": "code",
   "execution_count": 3,
   "metadata": {},
   "outputs": [
    {
     "data": {
      "text/plain": [
       "1.036340226611333355046362223536047948533920043732353766202844416420231016379491e-76"
      ]
     },
     "execution_count": 3,
     "metadata": {},
     "output_type": "execute_result"
    }
   ],
   "source": [
    "our_pi(1000, BigFloat) - pi"
   ]
  },
  {
   "cell_type": "code",
   "execution_count": 4,
   "metadata": {},
   "outputs": [
    {
     "data": {
      "text/plain": [
       "3.73305447401287551596035817889526867846836578548683209848685735918386764390310253781776130839152440943837995972129697049686195008541612957936608326881572302493764266455330060109598030394360732604440196318506045247296205005918373516322071308450166041524279351541770592447787925691464383688807065164177119e-301"
      ]
     },
     "execution_count": 4,
     "metadata": {},
     "output_type": "execute_result"
    }
   ],
   "source": [
    "setprecision(1000) do\n",
    "    our_pi(1000, BigFloat)-pi\n",
    "end"
   ]
  },
  {
   "cell_type": "code",
   "execution_count": 5,
   "metadata": {},
   "outputs": [
    {
     "data": {
      "text/plain": [
       "10-element Array{Rational{Int64},1}:\n",
       "        8//3       \n",
       "       44//15      \n",
       "       64//21      \n",
       "      976//315     \n",
       "    10816//3465    \n",
       "   141088//45045   \n",
       "    47104//15015   \n",
       "  2404096//765765  \n",
       " 45693952//14549535\n",
       " 45701632//14549535"
      ]
     },
     "execution_count": 5,
     "metadata": {},
     "output_type": "execute_result"
    }
   ],
   "source": [
    "[our_pi(n, Rational) for n in 1:10]"
   ]
  },
  {
   "cell_type": "code",
   "execution_count": 6,
   "metadata": {},
   "outputs": [
    {
     "ename": "OverflowError",
     "evalue": "OverflowError: 462382939977023488 * 47 overflowed for type Int64",
     "output_type": "error",
     "traceback": [
      "OverflowError: 462382939977023488 * 47 overflowed for type Int64",
      "",
      "Stacktrace:",
      " [1] throw_overflowerr_binaryop(::Symbol, ::Int64, ::Int64) at ./checked.jl:154",
      " [2] checked_mul at ./checked.jl:288 [inlined]",
      " [3] +(::Rational{Int64}, ::Rational{Int64}) at ./rational.jl:255",
      " [4] our_pi(::Int64, ::Type) at ./In[1]:6",
      " [5] top-level scope at In[6]:1"
     ]
    }
   ],
   "source": [
    "our_pi(23, Rational)"
   ]
  },
  {
   "cell_type": "code",
   "execution_count": 7,
   "metadata": {},
   "outputs": [
    {
     "data": {
      "text/plain": [
       "67386041794822144//21449643578668305"
      ]
     },
     "execution_count": 7,
     "metadata": {},
     "output_type": "execute_result"
    }
   ],
   "source": [
    "our_pi(23, Rational{BigInt})"
   ]
  },
  {
   "cell_type": "code",
   "execution_count": 8,
   "metadata": {},
   "outputs": [
    {
     "data": {
      "text/plain": [
       "1.096917440979352076742130626395698021050758236508687951179005716992142688513354e-77"
      ]
     },
     "execution_count": 8,
     "metadata": {},
     "output_type": "execute_result"
    }
   ],
   "source": [
    "setprecision(() -> our_pi(1000, BigFloat), 1000) - pi"
   ]
  },
  {
   "cell_type": "code",
   "execution_count": 9,
   "metadata": {},
   "outputs": [
    {
     "data": {
      "text/plain": [
       "our_pi (generic function with 2 methods)"
      ]
     },
     "execution_count": 9,
     "metadata": {},
     "output_type": "execute_result"
    }
   ],
   "source": [
    "function our_pi(n::Integer, T::Type{<:Union{AbstractFloat, Rational}})\n",
    "    s = one(T)\n",
    "    f = one(T)\n",
    "    for i::T in 1:n\n",
    "        f *= i / (2i+1)\n",
    "        s += f \n",
    "    end\n",
    "    2s \n",
    "end"
   ]
  },
  {
   "cell_type": "code",
   "execution_count": 10,
   "metadata": {},
   "outputs": [
    {
     "data": {
      "text/plain": [
       "2-element Array{DataType,1}:\n",
       " Float64        \n",
       " Rational{Int64}"
      ]
     },
     "execution_count": 10,
     "metadata": {},
     "output_type": "execute_result"
    }
   ],
   "source": [
    "(typeof∘one).([AbstractFloat, Rational]) "
   ]
  },
  {
   "cell_type": "code",
   "execution_count": 11,
   "metadata": {},
   "outputs": [
    {
     "data": {
      "text/plain": [
       "Rational{Int64}"
      ]
     },
     "execution_count": 11,
     "metadata": {},
     "output_type": "execute_result"
    }
   ],
   "source": [
    "typeof(2*one(Rational{Integer}))"
   ]
  },
  {
   "cell_type": "code",
   "execution_count": 12,
   "metadata": {},
   "outputs": [
    {
     "data": {
      "text/plain": [
       "Rational{Int64}"
      ]
     },
     "execution_count": 12,
     "metadata": {},
     "output_type": "execute_result"
    }
   ],
   "source": [
    "typeof(2*one(Rational{Signed}))"
   ]
  },
  {
   "cell_type": "code",
   "execution_count": 13,
   "metadata": {},
   "outputs": [
    {
     "data": {
      "text/plain": [
       "Rational{UInt64}"
      ]
     },
     "execution_count": 13,
     "metadata": {},
     "output_type": "execute_result"
    }
   ],
   "source": [
    "typeof(2*one(Rational{Unsigned}))"
   ]
  },
  {
   "cell_type": "code",
   "execution_count": null,
   "metadata": {
    "collapsed": true
   },
   "outputs": [],
   "source": []
  }
 ],
 "metadata": {
  "kernelspec": {
   "display_name": "Julia 1.2.0",
   "language": "julia",
   "name": "julia-1.2"
  },
  "language_info": {
   "file_extension": ".jl",
   "mimetype": "application/julia",
   "name": "julia",
   "version": "1.2.0"
  }
 },
 "nbformat": 4,
 "nbformat_minor": 1
}

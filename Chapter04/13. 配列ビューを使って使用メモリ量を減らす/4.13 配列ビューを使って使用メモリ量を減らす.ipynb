{
 "cells": [
  {
   "cell_type": "code",
   "execution_count": 1,
   "metadata": {},
   "outputs": [
    {
     "data": {
      "text/plain": [
       "main (generic function with 1 method)"
      ]
     },
     "execution_count": 1,
     "metadata": {},
     "output_type": "execute_result"
    }
   ],
   "source": [
    "blockvalid(x, v) = count(isequal(v), x) ≤ 1\n",
    "function backtrack!(x)\n",
    "    pos = findfirst(isequal(0), x)\n",
    "    isa(pos, Nothing) && return true\n",
    "    iloc = 3div(pos[1]-1, 3) .+ (1:3)\n",
    "    jloc = 3div(pos[2]-1, 3) .+ (1:3)\n",
    "    for k in 1:9\n",
    "        x[pos] = k\n",
    "        blockvalid(view(x, pos[1], :), k) || continue\n",
    "        blockvalid(view(x, :, pos[2]), k) || continue\n",
    "        blockvalid(view(x, iloc, jloc), k) || continue\n",
    "        backtrack!(x) && return true\n",
    "    end\n",
    "    x[pos] = 0\n",
    "    return false\n",
    "end\n",
    "\n",
    "function ssolve(lines, i)\n",
    "    t = [lines[10i-j][k] - '0' for j in 8:-1:0, k in 1:9]\n",
    "    backtrack!(t)\n",
    "    sum([100, 10, 1] .* t[1, 1:3])\n",
    "end\n",
    "\n",
    "function main() \n",
    "    lines = readlines(\"p096_sudoku.txt\")\n",
    "    @time sum(ssolve(lines, i) for i in 1:50)\n",
    "    @time sum(ssolve(lines, i) for i in 1:50)\n",
    "end"
   ]
  },
  {
   "cell_type": "code",
   "execution_count": 2,
   "metadata": {},
   "outputs": [
    {
     "name": "stdout",
     "output_type": "stream",
     "text": [
      "  0.126539 seconds (402 allocations: 60.984 KiB)\n",
      "  0.131216 seconds (402 allocations: 60.984 KiB)\n"
     ]
    },
    {
     "data": {
      "text/plain": [
       "24702"
      ]
     },
     "execution_count": 2,
     "metadata": {},
     "output_type": "execute_result"
    }
   ],
   "source": [
    "main()"
   ]
  },
  {
   "cell_type": "code",
   "execution_count": 3,
   "metadata": {},
   "outputs": [
    {
     "data": {
      "text/plain": [
       "backtrack! (generic function with 1 method)"
      ]
     },
     "execution_count": 3,
     "metadata": {},
     "output_type": "execute_result"
    }
   ],
   "source": [
    "function backtrack!(x)\n",
    "    pos = findfirst(isequal(0), x)\n",
    "    isa(pos, Nothing) && return true\n",
    "    iloc = 3div(pos[1]-1, 3) .+ (1:3)\n",
    "    jloc = 3div(pos[2]-1, 3) .+ (1:3)\n",
    "    for k in 1:9\n",
    "        x[pos] = k\n",
    "        #blockvalid(view(x, pos[1], :), k) || continue\n",
    "        #blockvalid(view(x, :, pos[2]), k) || continue\n",
    "        #blockvalid(view(x, iloc, jloc), k) || continue\n",
    "        blockvalid(x[pos[1], :], k) || continue\n",
    "        blockvalid(x[:, pos[2]], k) || continue\n",
    "        blockvalid(x[iloc, jloc], k) || continue\n",
    "        backtrack!(x) && return true\n",
    "    end\n",
    "    x[pos] = 0\n",
    "    return false\n",
    "end"
   ]
  },
  {
   "cell_type": "code",
   "execution_count": 4,
   "metadata": {},
   "outputs": [
    {
     "name": "stdout",
     "output_type": "stream",
     "text": [
      "  0.580746 seconds (10.03 M allocations: 1.494 GiB, 7.08% gc time)\n",
      "  0.558670 seconds (10.03 M allocations: 1.494 GiB, 6.61% gc time)\n"
     ]
    },
    {
     "data": {
      "text/plain": [
       "24702"
      ]
     },
     "execution_count": 4,
     "metadata": {},
     "output_type": "execute_result"
    }
   ],
   "source": [
    "main()"
   ]
  },
  {
   "cell_type": "code",
   "execution_count": 5,
   "metadata": {},
   "outputs": [
    {
     "data": {
      "text/plain": [
       "ssolve (generic function with 1 method)"
      ]
     },
     "execution_count": 5,
     "metadata": {},
     "output_type": "execute_result"
    }
   ],
   "source": [
    "function backtrack!(x, z, idx)\n",
    "    idx > length(z) && return true\n",
    "    pos = z[idx]\n",
    "    iloc = 3div(pos[1]-1, 3)\n",
    "    jloc = 3div(pos[2]-1, 3)\n",
    "    filled = 0\n",
    "    @inbounds for k in 1:9\n",
    "        filled |= x[pos[1], k] | x[k, pos[2]]\n",
    "    end\n",
    "    @inbounds for k1 in 1:3, k2 in 1:3\n",
    "        filled |= x[iloc+k1, jloc+k2]\n",
    "    end\n",
    "    @inbounds for i in 1:9\n",
    "        k = 1<<i\n",
    "        if k & filled == 0\n",
    "            x[pos] = k\n",
    "            backtrack!(x, z, idx+1) && return true\n",
    "        end\n",
    "    end\n",
    "    x[pos] = 1\n",
    "    return false\n",
    "end\n",
    "\n",
    "function ssolve(lines, i)\n",
    "    t = [1 << (lines[10i-j][k] - '0') for j in 8:-1:0, k in 1:9]\n",
    "    z = findall(isequal(1), t)\n",
    "    backtrack!(t, z, 1)\n",
    "    sum([100, 10, 1] .* trailing_zeros.(t[1, 1:3]))\n",
    "end"
   ]
  },
  {
   "cell_type": "code",
   "execution_count": 6,
   "metadata": {},
   "outputs": [
    {
     "name": "stdout",
     "output_type": "stream",
     "text": [
      "  0.018956 seconds (902 allocations: 176.609 KiB)\n",
      "  0.017140 seconds (902 allocations: 176.609 KiB)\n"
     ]
    },
    {
     "data": {
      "text/plain": [
       "24702"
      ]
     },
     "execution_count": 6,
     "metadata": {},
     "output_type": "execute_result"
    }
   ],
   "source": [
    "main()"
   ]
  },
  {
   "cell_type": "code",
   "execution_count": null,
   "metadata": {
    "collapsed": true
   },
   "outputs": [],
   "source": []
  }
 ],
 "metadata": {
  "kernelspec": {
   "display_name": "Julia 1.2.0",
   "language": "julia",
   "name": "julia-1.2"
  },
  "language_info": {
   "file_extension": ".jl",
   "mimetype": "application/julia",
   "name": "julia",
   "version": "1.2.0"
  }
 },
 "nbformat": 4,
 "nbformat_minor": 1
}

{
 "cells": [
  {
   "cell_type": "code",
   "execution_count": 1,
   "metadata": {},
   "outputs": [
    {
     "name": "stdout",
     "output_type": "stream",
     "text": [
      "\u001b[32m\u001b[1m  Updating\u001b[22m\u001b[39m registry at `~/.julia/registries/General`\n",
      "\u001b[32m\u001b[1m  Updating\u001b[22m\u001b[39m git-repo `https://github.com/JuliaRegistries/General.git`\n",
      "\u001b[?25l\u001b[2K\u001b[?25h\u001b[32m\u001b[1m Resolving\u001b[22m\u001b[39m package versions...\n",
      "\u001b[32m\u001b[1m Installed\u001b[22m\u001b[39m LearnBase ──────── v0.2.2\n",
      "\u001b[32m\u001b[1m Installed\u001b[22m\u001b[39m SweepOperator ──── v0.3.0\n",
      "\u001b[32m\u001b[1m Installed\u001b[22m\u001b[39m PenaltyFunctions ─ v0.1.2\n",
      "\u001b[32m\u001b[1m Installed\u001b[22m\u001b[39m OnlineStatsBase ── v0.13.0\n",
      "\u001b[32m\u001b[1m Installed\u001b[22m\u001b[39m LossFunctions ──── v0.5.1\n",
      "\u001b[32m\u001b[1m Installed\u001b[22m\u001b[39m OnlineStats ────── v0.27.0\n",
      "\u001b[32m\u001b[1m  Updating\u001b[22m\u001b[39m `~/.julia/environments/v1.2/Project.toml`\n",
      " \u001b[90m [a15396b6]\u001b[39m\u001b[92m + OnlineStats v0.27.0\u001b[39m\n",
      "\u001b[32m\u001b[1m  Updating\u001b[22m\u001b[39m `~/.julia/environments/v1.2/Manifest.toml`\n",
      " \u001b[90m [7f8f8fb0]\u001b[39m\u001b[92m + LearnBase v0.2.2\u001b[39m\n",
      " \u001b[90m [30fc2ffe]\u001b[39m\u001b[92m + LossFunctions v0.5.1\u001b[39m\n",
      " \u001b[90m [a15396b6]\u001b[39m\u001b[92m + OnlineStats v0.27.0\u001b[39m\n",
      " \u001b[90m [925886fa]\u001b[39m\u001b[92m + OnlineStatsBase v0.13.0\u001b[39m\n",
      " \u001b[90m [06bb1623]\u001b[39m\u001b[92m + PenaltyFunctions v0.1.2\u001b[39m\n",
      " \u001b[90m [7522ee7d]\u001b[39m\u001b[92m + SweepOperator v0.3.0\u001b[39m\n"
     ]
    }
   ],
   "source": [
    "# using Pkg; Pkg.add(\"OnlineStats\")"
   ]
  },
  {
   "cell_type": "code",
   "execution_count": 2,
   "metadata": {},
   "outputs": [
    {
     "name": "stderr",
     "output_type": "stream",
     "text": [
      "┌ Info: Precompiling OnlineStats [a15396b6-48d5-5d58-9928-6d29437db91e]\n",
      "└ @ Base loading.jl:1242\n"
     ]
    },
    {
     "data": {
      "text/plain": [
       "incremental (generic function with 1 method)"
      ]
     },
     "execution_count": 2,
     "metadata": {},
     "output_type": "execute_result"
    }
   ],
   "source": [
    "using OnlineStats, Random\n",
    "\n",
    "function simwalk()\n",
    "    jumps = 0\n",
    "    distance = 0.0\n",
    "    while true\n",
    "        jumps += 1\n",
    "        distance += rand()\n",
    "        distance ≥ 1.0 && return jumps\n",
    "    end \n",
    "end\n",
    "\n",
    "function incremental(n)\n",
    "    s = Mean()\n",
    "    for i in 1:n\n",
    "        fit!(s, simwalk())\n",
    "    end\n",
    "    value(s) \n",
    "end"
   ]
  },
  {
   "cell_type": "code",
   "execution_count": 3,
   "metadata": {},
   "outputs": [
    {
     "data": {
      "text/plain": [
       "1000000"
      ]
     },
     "execution_count": 3,
     "metadata": {},
     "output_type": "execute_result"
    }
   ],
   "source": [
    "n = 10^6"
   ]
  },
  {
   "cell_type": "code",
   "execution_count": 4,
   "metadata": {},
   "outputs": [
    {
     "data": {
      "text/plain": [
       "MersenneTwister(UInt32[0x00000001], Random.DSFMT.DSFMT_state(Int32[1749029653, 1072851681, 1610647787, 1072862326, 1841712345, 1073426746, -198061126, 1073322060, -156153802, 1073567984  …  1977574422, 1073209915, 278919868, 1072835605, 1290372147, 18858467, 1815133874, -1716870370, 382, 0]), [0.0, 0.0, 0.0, 0.0, 0.0, 0.0, 0.0, 0.0, 0.0, 0.0  …  0.0, 0.0, 0.0, 0.0, 0.0, 0.0, 0.0, 0.0, 0.0, 0.0], UInt128[0x00000000000000000000000000000000, 0x00000000000000000000000000000000, 0x00000000000000000000000000000000, 0x00000000000000000000000000000000, 0x00000000000000000000000000000000, 0x00000000000000000000000000000000, 0x00000000000000000000000000000000, 0x00000000000000000000000000000000, 0x00000000000000000000000000000000, 0x00000000000000000000000000000000  …  0x00000000000000000000000000000000, 0x00000000000000000000000000000000, 0x00000000000000000000000000000000, 0x00000000000000000000000000000000, 0x00000000000000000000000000000000, 0x00000000000000000000000000000000, 0x00000000000000000000000000000000, 0x00000000000000000000000000000000, 0x00000000000000000000000000000000, 0x00000000000000000000000000000000], 1002, 0)"
      ]
     },
     "execution_count": 4,
     "metadata": {},
     "output_type": "execute_result"
    }
   ],
   "source": [
    "Random.seed!(1)\n"
   ]
  },
  {
   "cell_type": "code",
   "execution_count": 5,
   "metadata": {},
   "outputs": [
    {
     "data": {
      "text/plain": [
       "2.718453"
      ]
     },
     "execution_count": 5,
     "metadata": {},
     "output_type": "execute_result"
    }
   ],
   "source": [
    "res1 = mean([simwalk() for i in 1:n])"
   ]
  },
  {
   "cell_type": "code",
   "execution_count": 6,
   "metadata": {},
   "outputs": [
    {
     "data": {
      "text/plain": [
       "2.717532"
      ]
     },
     "execution_count": 6,
     "metadata": {},
     "output_type": "execute_result"
    }
   ],
   "source": [
    "res2 = mean(map(x -> simwalk(), 1:n))"
   ]
  },
  {
   "cell_type": "code",
   "execution_count": 7,
   "metadata": {},
   "outputs": [
    {
     "data": {
      "text/plain": [
       "2.718537"
      ]
     },
     "execution_count": 7,
     "metadata": {},
     "output_type": "execute_result"
    }
   ],
   "source": [
    "res3 = mean(simwalk() for i in 1:n)"
   ]
  },
  {
   "cell_type": "code",
   "execution_count": 8,
   "metadata": {},
   "outputs": [
    {
     "data": {
      "text/plain": [
       "2.717549999999901"
      ]
     },
     "execution_count": 8,
     "metadata": {},
     "output_type": "execute_result"
    }
   ],
   "source": [
    "res4 = incremental(n)"
   ]
  },
  {
   "cell_type": "code",
   "execution_count": 9,
   "metadata": {},
   "outputs": [
    {
     "data": {
      "text/plain": [
       "100000000"
      ]
     },
     "execution_count": 9,
     "metadata": {},
     "output_type": "execute_result"
    }
   ],
   "source": [
    "n = 10^8"
   ]
  },
  {
   "cell_type": "code",
   "execution_count": 10,
   "metadata": {},
   "outputs": [
    {
     "name": "stdout",
     "output_type": "stream",
     "text": [
      "  2.864271 seconds (47.87 k allocations: 765.351 MiB, 0.54% gc time)\n"
     ]
    },
    {
     "data": {
      "text/plain": [
       "2.71833111"
      ]
     },
     "execution_count": 10,
     "metadata": {},
     "output_type": "execute_result"
    }
   ],
   "source": [
    "@time mean([simwalk() for i in 1:n])"
   ]
  },
  {
   "cell_type": "code",
   "execution_count": 11,
   "metadata": {},
   "outputs": [
    {
     "name": "stdout",
     "output_type": "stream",
     "text": [
      "  2.109981 seconds (56.11 k allocations: 765.773 MiB, 6.72% gc time)\n"
     ]
    },
    {
     "data": {
      "text/plain": [
       "2.71832178"
      ]
     },
     "execution_count": 11,
     "metadata": {},
     "output_type": "execute_result"
    }
   ],
   "source": [
    "@time mean(map(x -> simwalk(), 1:n))"
   ]
  },
  {
   "cell_type": "code",
   "execution_count": 12,
   "metadata": {},
   "outputs": [
    {
     "name": "stdout",
     "output_type": "stream",
     "text": [
      "  1.608646 seconds (31.30 k allocations: 1.668 MiB)\n"
     ]
    },
    {
     "data": {
      "text/plain": [
       "2.71824234"
      ]
     },
     "execution_count": 12,
     "metadata": {},
     "output_type": "execute_result"
    }
   ],
   "source": [
    "@time mean(simwalk() for i in 1:n)"
   ]
  },
  {
   "cell_type": "code",
   "execution_count": 13,
   "metadata": {},
   "outputs": [
    {
     "name": "stdout",
     "output_type": "stream",
     "text": [
      "  1.674704 seconds (5 allocations: 176 bytes)\n"
     ]
    }
   ],
   "source": [
    "@time incremental(n);"
   ]
  },
  {
   "cell_type": "code",
   "execution_count": 14,
   "metadata": {},
   "outputs": [
    {
     "data": {
      "text/plain": [
       "1.213445688597048e-5"
      ]
     },
     "execution_count": 14,
     "metadata": {},
     "output_type": "execute_result"
    }
   ],
   "source": [
    "MathConstants.e - incremental(10^9)"
   ]
  },
  {
   "cell_type": "code",
   "execution_count": 15,
   "metadata": {},
   "outputs": [
    {
     "data": {
      "text/plain": [
       "simwalk (generic function with 2 methods)"
      ]
     },
     "execution_count": 15,
     "metadata": {},
     "output_type": "execute_result"
    }
   ],
   "source": [
    "function simwalk(n)\n",
    "    jumps = 0\n",
    "    for i in 1:n\n",
    "        distance = 0.0\n",
    "        while true\n",
    "            jumps += 1\n",
    "            distance += rand()\n",
    "            distance ≥ 1.0 && break \n",
    "        end\n",
    "    end\n",
    "    jumps / n \n",
    "end"
   ]
  },
  {
   "cell_type": "code",
   "execution_count": 16,
   "metadata": {},
   "outputs": [
    {
     "data": {
      "text/plain": [
       "2.717247"
      ]
     },
     "execution_count": 16,
     "metadata": {},
     "output_type": "execute_result"
    }
   ],
   "source": [
    "simwalk(10^6)"
   ]
  },
  {
   "cell_type": "code",
   "execution_count": 17,
   "metadata": {},
   "outputs": [
    {
     "name": "stdout",
     "output_type": "stream",
     "text": [
      "  1.440905 seconds (6 allocations: 192 bytes)\n"
     ]
    },
    {
     "data": {
      "text/plain": [
       "2.7181838"
      ]
     },
     "execution_count": 17,
     "metadata": {},
     "output_type": "execute_result"
    }
   ],
   "source": [
    "@time simwalk(10^8)"
   ]
  },
  {
   "cell_type": "code",
   "execution_count": 18,
   "metadata": {},
   "outputs": [
    {
     "data": {
      "text/plain": [
       "simwalk (generic function with 2 methods)"
      ]
     },
     "execution_count": 18,
     "metadata": {},
     "output_type": "execute_result"
    }
   ],
   "source": [
    "function simwalk(n)\n",
    "    jumps = Int32(0)\n",
    "    for i in 1:n\n",
    "        distance = 0.0\n",
    "        while true\n",
    "            jumps += Int32(1) \n",
    "            distance += rand() \n",
    "            distance ≥ 1.0 && break\n",
    "        end \n",
    "    end\n",
    "    jumps / n \n",
    "end"
   ]
  },
  {
   "cell_type": "code",
   "execution_count": 19,
   "metadata": {},
   "outputs": [
    {
     "name": "stdout",
     "output_type": "stream",
     "text": [
      " 14.060317 seconds (32.53 k allocations: 1.776 MiB, 1.03% gc time)\n"
     ]
    },
    {
     "data": {
      "text/plain": [
       "-1.576686181"
      ]
     },
     "execution_count": 19,
     "metadata": {},
     "output_type": "execute_result"
    }
   ],
   "source": [
    "@time simwalk(10^9)"
   ]
  },
  {
   "cell_type": "code",
   "execution_count": null,
   "metadata": {},
   "outputs": [],
   "source": []
  }
 ],
 "metadata": {
  "kernelspec": {
   "display_name": "Julia 1.2.0",
   "language": "julia",
   "name": "julia-1.2"
  },
  "language_info": {
   "file_extension": ".jl",
   "mimetype": "application/julia",
   "name": "julia",
   "version": "1.2.0"
  }
 },
 "nbformat": 4,
 "nbformat_minor": 1
}

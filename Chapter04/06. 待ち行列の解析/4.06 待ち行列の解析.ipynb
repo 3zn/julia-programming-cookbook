{
 "cells": [
  {
   "cell_type": "code",
   "execution_count": 1,
   "metadata": {},
   "outputs": [
    {
     "name": "stdout",
     "output_type": "stream",
     "text": [
      "\u001b[32m\u001b[1m  Updating\u001b[22m\u001b[39m registry at `~/.julia/registries/General`\n",
      "\u001b[32m\u001b[1m  Updating\u001b[22m\u001b[39m git-repo `https://github.com/JuliaRegistries/General.git`\n",
      "\u001b[?25l\u001b[2K\u001b[?25h\u001b[32m\u001b[1m Resolving\u001b[22m\u001b[39m package versions...\n",
      "\u001b[32m\u001b[1m Installed\u001b[22m\u001b[39m URIParser ──────── v0.4.0\n",
      "\u001b[32m\u001b[1m Installed\u001b[22m\u001b[39m Rmath ──────────── v0.5.0\n",
      "\u001b[32m\u001b[1m Installed\u001b[22m\u001b[39m StatsFuns ──────── v0.8.0\n",
      "\u001b[32m\u001b[1m Installed\u001b[22m\u001b[39m PDMats ─────────── v0.9.9\n",
      "\u001b[32m\u001b[1m Installed\u001b[22m\u001b[39m QuadGK ─────────── v2.0.3\n",
      "\u001b[32m\u001b[1m Installed\u001b[22m\u001b[39m SpecialFunctions ─ v0.7.2\n",
      "\u001b[32m\u001b[1m Installed\u001b[22m\u001b[39m BinDeps ────────── v0.8.10\n",
      "\u001b[32m\u001b[1m Installed\u001b[22m\u001b[39m Distributions ──── v0.21.1\n",
      "\u001b[32m\u001b[1m Installed\u001b[22m\u001b[39m Arpack ─────────── v0.3.1\n",
      "\u001b[32m\u001b[1m  Updating\u001b[22m\u001b[39m `~/.julia/environments/v1.2/Project.toml`\n",
      " \u001b[90m [31c24e10]\u001b[39m\u001b[92m + Distributions v0.21.1\u001b[39m\n",
      "\u001b[32m\u001b[1m  Updating\u001b[22m\u001b[39m `~/.julia/environments/v1.2/Manifest.toml`\n",
      " \u001b[90m [7d9fca2a]\u001b[39m\u001b[92m + Arpack v0.3.1\u001b[39m\n",
      " \u001b[90m [9e28174c]\u001b[39m\u001b[92m + BinDeps v0.8.10\u001b[39m\n",
      " \u001b[90m [31c24e10]\u001b[39m\u001b[92m + Distributions v0.21.1\u001b[39m\n",
      " \u001b[90m [90014a1f]\u001b[39m\u001b[92m + PDMats v0.9.9\u001b[39m\n",
      " \u001b[90m [1fd47b50]\u001b[39m\u001b[92m + QuadGK v2.0.3\u001b[39m\n",
      " \u001b[90m [79098fc4]\u001b[39m\u001b[92m + Rmath v0.5.0\u001b[39m\n",
      " \u001b[90m [276daf66]\u001b[39m\u001b[92m + SpecialFunctions v0.7.2\u001b[39m\n",
      " \u001b[90m [4c63d2b9]\u001b[39m\u001b[92m + StatsFuns v0.8.0\u001b[39m\n",
      " \u001b[90m [30578b45]\u001b[39m\u001b[92m + URIParser v0.4.0\u001b[39m\n",
      " \u001b[90m [4607b0f0]\u001b[39m\u001b[92m + SuiteSparse \u001b[39m\n",
      "\u001b[32m\u001b[1m  Building\u001b[22m\u001b[39m Rmath ───────────→ `~/.julia/packages/Rmath/Py9gH/deps/build.log`\n",
      "\u001b[32m\u001b[1m  Building\u001b[22m\u001b[39m SpecialFunctions → `~/.julia/packages/SpecialFunctions/fvheQ/deps/build.log`\n",
      "\u001b[32m\u001b[1m  Building\u001b[22m\u001b[39m Arpack ──────────→ `~/.julia/packages/Arpack/cu5By/deps/build.log`\n",
      "\u001b[32m\u001b[1m Resolving\u001b[22m\u001b[39m package versions...\n",
      "\u001b[32m\u001b[1m  Updating\u001b[22m\u001b[39m `~/.julia/environments/v1.2/Project.toml`\n",
      "\u001b[90m [no changes]\u001b[39m\n",
      "\u001b[32m\u001b[1m  Updating\u001b[22m\u001b[39m `~/.julia/environments/v1.2/Manifest.toml`\n",
      "\u001b[90m [no changes]\u001b[39m\n"
     ]
    }
   ],
   "source": [
    "# using Pkg; Pkg.add(\"Distributions\"); Pkg.add(\"OnlineStats\")"
   ]
  },
  {
   "cell_type": "code",
   "execution_count": 2,
   "metadata": {},
   "outputs": [
    {
     "name": "stderr",
     "output_type": "stream",
     "text": [
      "┌ Info: Precompiling Distributions [31c24e10-a181-5473-b8eb-7969acd0382f]\n",
      "└ @ Base loading.jl:1242\n"
     ]
    },
    {
     "data": {
      "text/plain": [
       "bootCI (generic function with 1 method)"
      ]
     },
     "execution_count": 2,
     "metadata": {},
     "output_type": "execute_result"
    }
   ],
   "source": [
    "using Distributions, OnlineStats\n",
    "\n",
    "function queue1(until::Real, burnin::Real,\n",
    "                ad::Distribution, sd::Distribution)\n",
    "    now, nextArrival, nextDeparture = 0.0, rand(ad), Inf\n",
    "    queue, waits = Float64[], Mean()\n",
    "    while now < until\n",
    "        if nextArrival < nextDeparture\n",
    "            now = nextArrival\n",
    "            if isempty(queue)\n",
    "                nextDeparture = nextArrival + rand(sd)\n",
    "            end\n",
    "            push!(queue, nextArrival)\n",
    "            nextArrival += rand(ad)\n",
    "        else\n",
    "            now = nextDeparture\n",
    "            insystem = nextDeparture - popfirst!(queue)\n",
    "            burnin < now < until && fit!(waits, insystem)\n",
    "            nextDeparture += isempty(queue) ? Inf : rand(sd)\n",
    "        end \n",
    "    end\n",
    "    value(waits)\n",
    "end\n",
    "\n",
    "mm1_exact(ad::Exponential, sd::Exponential) =\n",
    "    1/(1/mean(sd)-1/mean(ad))\n",
    "\n",
    "function bootCI(data, stat::Function, CI::Float64, reps::Integer)\n",
    "    boot = [stat(rand(data, length(data))) for i in 1:reps]\n",
    "    low, high = quantile(boot, [(1-CI)/2, (1+CI)/2])\n",
    "    (value=stat(data), low=low, high=high)\n",
    "end"
   ]
  },
  {
   "cell_type": "code",
   "execution_count": 3,
   "metadata": {},
   "outputs": [
    {
     "data": {
      "text/plain": [
       "Exponential{Float64}(θ=0.95)"
      ]
     },
     "execution_count": 3,
     "metadata": {},
     "output_type": "execute_result"
    }
   ],
   "source": [
    "ad = Exponential(1.3)\n",
    "sd = Exponential(0.95)"
   ]
  },
  {
   "cell_type": "code",
   "execution_count": 4,
   "metadata": {},
   "outputs": [
    {
     "name": "stdout",
     "output_type": "stream",
     "text": [
      "  2.045617 seconds (487.40 k allocations: 29.459 MiB, 0.47% gc time)\n"
     ]
    }
   ],
   "source": [
    "@time res = [queue1(2^14, 2^12, ad, sd) for i in 1:2^12];"
   ]
  },
  {
   "cell_type": "code",
   "execution_count": 5,
   "metadata": {},
   "outputs": [
    {
     "data": {
      "text/plain": [
       "3.5285714285714285"
      ]
     },
     "execution_count": 5,
     "metadata": {},
     "output_type": "execute_result"
    }
   ],
   "source": [
    "exact = mm1_exact(ad, sd)"
   ]
  },
  {
   "cell_type": "code",
   "execution_count": 6,
   "metadata": {},
   "outputs": [
    {
     "name": "stdout",
     "output_type": "stream",
     "text": [
      "(value = -0.0017247093297056342, low = -0.011037472009682005, high = 0.007887692853284327)\n",
      "  0.928032 seconds (1.18 M allocations: 572.150 MiB, 4.27% gc time)\n"
     ]
    }
   ],
   "source": [
    "@time println(bootCI(res .- exact, mean, 0.99, 2^14))"
   ]
  },
  {
   "cell_type": "code",
   "execution_count": 7,
   "metadata": {},
   "outputs": [
    {
     "data": {
      "text/plain": [
       "bootCI (generic function with 1 method)"
      ]
     },
     "execution_count": 7,
     "metadata": {},
     "output_type": "execute_result"
    }
   ],
   "source": [
    "function bootCI(data, stat::Function, CI::Float64, reps::Integer)\n",
    "    tmp = similar(data)\n",
    "    boot = [stat(rand!(tmp, data)) for i in 1:reps]\n",
    "    low, high = quantile(boot, [(1-CI)/2, (1+CI)/2])\n",
    "    (value=stat(data), low=low, high=high)\n",
    "end"
   ]
  },
  {
   "cell_type": "code",
   "execution_count": 8,
   "metadata": {},
   "outputs": [
    {
     "name": "stdout",
     "output_type": "stream",
     "text": [
      "\u001b[32m\u001b[1m Resolving\u001b[22m\u001b[39m package versions...\n",
      "\u001b[32m\u001b[1m  Updating\u001b[22m\u001b[39m `~/.julia/environments/v1.2/Project.toml`\n",
      "\u001b[90m [no changes]\u001b[39m\n",
      "\u001b[32m\u001b[1m  Updating\u001b[22m\u001b[39m `~/.julia/environments/v1.2/Manifest.toml`\n",
      "\u001b[90m [no changes]\u001b[39m\n"
     ]
    }
   ],
   "source": [
    "Pkg.add(\"StatsBase\")"
   ]
  },
  {
   "cell_type": "code",
   "execution_count": 9,
   "metadata": {},
   "outputs": [
    {
     "data": {
      "text/plain": [
       "bayesbootCI (generic function with 1 method)"
      ]
     },
     "execution_count": 9,
     "metadata": {},
     "output_type": "execute_result"
    }
   ],
   "source": [
    "using StatsBase, Distributions\n",
    "function bayesbootCI(data, stat, CI::Float64, reps::Integer)\n",
    "    d = Dirichlet(length(data), 1)\n",
    "    boot = [stat(data, weights(rand(d))) for i in 1:reps]\n",
    "    low, high = quantile(boot, [(1-CI)/2, (1+CI)/2])\n",
    "    (value=stat(data), low=low, high=high)\n",
    "end"
   ]
  },
  {
   "cell_type": "code",
   "execution_count": 10,
   "metadata": {},
   "outputs": [
    {
     "name": "stdout",
     "output_type": "stream",
     "text": [
      "(value = -0.0017247093297056342, low = -0.01140267598516432, high = 0.0077771160478110005)\n",
      "  1.007242 seconds (495.10 k allocations: 537.832 MiB, 3.23% gc time)\n"
     ]
    }
   ],
   "source": [
    "@time println(bayesbootCI(res .- exact, mean, 0.99, 2^14))"
   ]
  },
  {
   "cell_type": "code",
   "execution_count": null,
   "metadata": {},
   "outputs": [],
   "source": []
  },
  {
   "cell_type": "code",
   "execution_count": null,
   "metadata": {},
   "outputs": [],
   "source": []
  }
 ],
 "metadata": {
  "kernelspec": {
   "display_name": "Julia 1.2.0",
   "language": "julia",
   "name": "julia-1.2"
  },
  "language_info": {
   "file_extension": ".jl",
   "mimetype": "application/julia",
   "name": "julia",
   "version": "1.2.0"
  }
 },
 "nbformat": 4,
 "nbformat_minor": 1
}

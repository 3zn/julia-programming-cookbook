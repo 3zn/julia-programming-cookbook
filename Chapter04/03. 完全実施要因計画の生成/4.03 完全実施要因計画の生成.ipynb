{
 "cells": [
  {
   "cell_type": "code",
   "execution_count": 1,
   "metadata": {},
   "outputs": [
    {
     "data": {
      "text/plain": [
       "expandgrid (generic function with 1 method)"
      ]
     },
     "execution_count": 1,
     "metadata": {},
     "output_type": "execute_result"
    }
   ],
   "source": [
    "function expandgrid(levels...)\n",
    "    lengths = length.(levels)\n",
    "    inner = 1\n",
    "    outer = prod(lengths)\n",
    "    grid = []\n",
    "    for i in 1:length(levels)\n",
    "        outer = div(outer, lengths[i])\n",
    "        push!(grid, repeat(levels[i], inner=inner, outer=outer))\n",
    "        inner *= lengths[i]\n",
    "    end\n",
    "    Tuple(grid)\n",
    "end"
   ]
  },
  {
   "cell_type": "code",
   "execution_count": 2,
   "metadata": {},
   "outputs": [
    {
     "data": {
      "text/plain": [
       "([1, 2, 1, 2], ['a', 'a', 'b', 'b'])"
      ]
     },
     "execution_count": 2,
     "metadata": {},
     "output_type": "execute_result"
    }
   ],
   "source": [
    "expandgrid(1:2, 'a':'b')"
   ]
  },
  {
   "cell_type": "code",
   "execution_count": 3,
   "metadata": {},
   "outputs": [
    {
     "data": {
      "text/plain": [
       "12×3 Array{Any,2}:\n",
       " 1   true  'a'\n",
       " 2   true  'a'\n",
       " 3   true  'a'\n",
       " 1  false  'a'\n",
       " 2  false  'a'\n",
       " 3  false  'a'\n",
       " 1   true  'b'\n",
       " 2   true  'b'\n",
       " 3   true  'b'\n",
       " 1  false  'b'\n",
       " 2  false  'b'\n",
       " 3  false  'b'"
      ]
     },
     "execution_count": 3,
     "metadata": {},
     "output_type": "execute_result"
    }
   ],
   "source": [
    "hcat(expandgrid(1:3, [true, false], 'a':'b')...)"
   ]
  },
  {
   "cell_type": "code",
   "execution_count": 4,
   "metadata": {},
   "outputs": [
    {
     "data": {
      "text/plain": [
       "12×3 Array{Any,2}:\n",
       " 1  1  'a'\n",
       " 2  1  'a'\n",
       " 3  1  'a'\n",
       " 1  0  'a'\n",
       " 2  0  'a'\n",
       " 3  0  'a'\n",
       " 1  1  'b'\n",
       " 2  1  'b'\n",
       " 3  1  'b'\n",
       " 1  0  'b'\n",
       " 2  0  'b'\n",
       " 3  0  'b'"
      ]
     },
     "execution_count": 4,
     "metadata": {},
     "output_type": "execute_result"
    }
   ],
   "source": [
    "reduce(hcat, expandgrid(1:3, [true, false], 'a':'b'))"
   ]
  },
  {
   "cell_type": "code",
   "execution_count": 5,
   "metadata": {},
   "outputs": [
    {
     "data": {
      "text/plain": [
       "12-element Array{Int64,1}:\n",
       " 1\n",
       " 1\n",
       " 2\n",
       " 2\n",
       " 1\n",
       " 1\n",
       " 2\n",
       " 2\n",
       " 1\n",
       " 1\n",
       " 2\n",
       " 2"
      ]
     },
     "execution_count": 5,
     "metadata": {},
     "output_type": "execute_result"
    }
   ],
   "source": [
    "repeat([1,2], inner=2, outer=3)"
   ]
  },
  {
   "cell_type": "code",
   "execution_count": null,
   "metadata": {
    "collapsed": true
   },
   "outputs": [],
   "source": []
  }
 ],
 "metadata": {
  "kernelspec": {
   "display_name": "Julia 1.2.0",
   "language": "julia",
   "name": "julia-1.2"
  },
  "language_info": {
   "file_extension": ".jl",
   "mimetype": "application/julia",
   "name": "julia",
   "version": "1.2.0"
  }
 },
 "nbformat": 4,
 "nbformat_minor": 1
}

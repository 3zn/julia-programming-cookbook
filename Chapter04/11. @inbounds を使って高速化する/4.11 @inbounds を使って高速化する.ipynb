{
 "cells": [
  {
   "cell_type": "code",
   "execution_count": 1,
   "metadata": {},
   "outputs": [
    {
     "name": "stdout",
     "output_type": "stream",
     "text": [
      "\n",
      "normal\n",
      "  7.005 ms (0 allocations: 0 bytes)\n",
      "\n",
      "@inbounds\n",
      "  3.627 ms (0 allocations: 0 bytes)\n"
     ]
    }
   ],
   "source": [
    "using BenchmarkTools\n",
    "mode = [\"normal\", \"@inbounds\"] \n",
    "i= 0\n",
    "for inbounds in [\"\", \"@inbounds\"]\n",
    "       global i += 1\n",
    "       eval(Meta.parse(\"\"\"function f$i(x::AbstractArray{<:Real})\n",
    "                              y= 0\n",
    "                              $inbounds for i in eachindex(x)\n",
    "                                  y += x[i] > 0.5\n",
    "                              end\n",
    "                              y \n",
    "                          end\"\"\"))\n",
    "end\n",
    "\n",
    "x = rand(10^7)\n",
    "for (idx, f) in enumerate([f1, f2])\n",
    "    println(\"\\n\", mode[idx])\n",
    "    @btime $f($x)\n",
    "end"
   ]
  },
  {
   "cell_type": "code",
   "execution_count": 2,
   "metadata": {},
   "outputs": [
    {
     "name": "stdout",
     "output_type": "stream",
     "text": [
      "\n",
      "normal\n",
      "  6.994 ms (0 allocations: 0 bytes)\n",
      "\n",
      "@inbounds\n",
      "  3.629 ms (0 allocations: 0 bytes)\n"
     ]
    },
    {
     "data": {
      "text/plain": [
       "Process(`\u001b[4mjulia\u001b[24m \u001b[4minbounds.jl\u001b[24m`, ProcessExited(0))"
      ]
     },
     "execution_count": 2,
     "metadata": {},
     "output_type": "execute_result"
    }
   ],
   "source": [
    "run(`julia inbounds.jl`)"
   ]
  },
  {
   "cell_type": "code",
   "execution_count": 3,
   "metadata": {},
   "outputs": [
    {
     "name": "stdout",
     "output_type": "stream",
     "text": [
      "\n",
      "normal\n",
      "  6.998 ms (0 allocations: 0 bytes)\n",
      "\n",
      "@inbounds\n",
      "  7.003 ms (0 allocations: 0 bytes)\n"
     ]
    },
    {
     "data": {
      "text/plain": [
       "Process(`\u001b[4mjulia\u001b[24m \u001b[4m--check-bounds=yes\u001b[24m \u001b[4minbounds.jl\u001b[24m`, ProcessExited(0))"
      ]
     },
     "execution_count": 3,
     "metadata": {},
     "output_type": "execute_result"
    }
   ],
   "source": [
    "run(`julia --check-bounds=yes inbounds.jl`)"
   ]
  },
  {
   "cell_type": "code",
   "execution_count": 4,
   "metadata": {},
   "outputs": [
    {
     "name": "stdout",
     "output_type": "stream",
     "text": [
      "\n",
      "normal\n",
      "  3.756 ms (0 allocations: 0 bytes)\n",
      "\n",
      "@inbounds\n",
      "  3.592 ms (0 allocations: 0 bytes)\n"
     ]
    },
    {
     "data": {
      "text/plain": [
       "Process(`\u001b[4mjulia\u001b[24m \u001b[4m--check-bounds=no\u001b[24m \u001b[4minbounds.jl\u001b[24m`, ProcessExited(0))"
      ]
     },
     "execution_count": 4,
     "metadata": {},
     "output_type": "execute_result"
    }
   ],
   "source": [
    "run(`julia --check-bounds=no inbounds.jl`)"
   ]
  },
  {
   "cell_type": "code",
   "execution_count": 5,
   "metadata": {},
   "outputs": [
    {
     "data": {
      "text/plain": [
       "3-element Array{Int64,1}:\n",
       " 1\n",
       " 2\n",
       " 3"
      ]
     },
     "execution_count": 5,
     "metadata": {},
     "output_type": "execute_result"
    }
   ],
   "source": [
    "x = [1,2,3]"
   ]
  },
  {
   "cell_type": "code",
   "execution_count": 6,
   "metadata": {},
   "outputs": [
    {
     "ename": "BoundsError",
     "evalue": "BoundsError: attempt to access 3-element Array{Int64,1} at index [4]",
     "output_type": "error",
     "traceback": [
      "BoundsError: attempt to access 3-element Array{Int64,1} at index [4]",
      "",
      "Stacktrace:",
      " [1] getindex(::Array{Int64,1}, ::Int64) at ./array.jl:728",
      " [2] top-level scope at In[6]:1"
     ]
    }
   ],
   "source": [
    "x[4]"
   ]
  },
  {
   "cell_type": "code",
   "execution_count": 7,
   "metadata": {},
   "outputs": [
    {
     "data": {
      "text/plain": [
       "f (generic function with 1 method)"
      ]
     },
     "execution_count": 7,
     "metadata": {},
     "output_type": "execute_result"
    }
   ],
   "source": [
    "f(x) = @inbounds x[1]"
   ]
  },
  {
   "cell_type": "code",
   "execution_count": 8,
   "metadata": {},
   "outputs": [
    {
     "data": {
      "text/plain": [
       "g (generic function with 1 method)"
      ]
     },
     "execution_count": 8,
     "metadata": {},
     "output_type": "execute_result"
    }
   ],
   "source": [
    "g(x) = x[1]"
   ]
  },
  {
   "cell_type": "code",
   "execution_count": 9,
   "metadata": {},
   "outputs": [
    {
     "name": "stdout",
     "output_type": "stream",
     "text": [
      "\t.text\n",
      "; ┌ @ In[7]:1 within `f'\n",
      "; │┌ @ In[7]:1 within `getindex'\n",
      "\tmovq\t(%rdi), %rax\n",
      "\tmovq\t(%rax), %rax\n",
      "; │└\n",
      "\tretq\n",
      "\tnopw\t(%rax,%rax)\n",
      "; └\n"
     ]
    }
   ],
   "source": [
    "@code_native f([1])"
   ]
  },
  {
   "cell_type": "code",
   "execution_count": 10,
   "metadata": {},
   "outputs": [
    {
     "name": "stdout",
     "output_type": "stream",
     "text": [
      "\t.text\n",
      "; ┌ @ In[8]:1 within `g'\n",
      "; │┌ @ In[8]:1 within `getindex'\n",
      "\tcmpq\t$0, 8(%rdi)\n",
      "\tje\tL14\n",
      "\tmovq\t(%rdi), %rax\n",
      "\tmovq\t(%rax), %rax\n",
      "; │└\n",
      "\tretq\n",
      "L14:\n",
      "\tpushq\t%rbp\n",
      "\tmovq\t%rsp, %rbp\n",
      "; │ @ In[8]:1 within `g'\n",
      "; │┌ @ array.jl:728 within `getindex'\n",
      "\tmovq\t%rsp, %rax\n",
      "\tleaq\t-16(%rax), %rsi\n",
      "\tmovq\t%rsi, %rsp\n",
      "\tmovq\t$1, -16(%rax)\n",
      "\tmovabsq\t$jl_bounds_error_ints, %rax\n",
      "\tmovl\t$1, %edx\n",
      "\tcallq\t*%rax\n",
      "\tnopw\t%cs:(%rax,%rax)\n",
      "; └└\n"
     ]
    }
   ],
   "source": [
    "@code_native g([1])"
   ]
  },
  {
   "cell_type": "code",
   "execution_count": 11,
   "metadata": {},
   "outputs": [
    {
     "data": {
      "text/plain": [
       "getindex (generic function with 1 method)"
      ]
     },
     "execution_count": 11,
     "metadata": {},
     "output_type": "execute_result"
    }
   ],
   "source": [
    "@inline function getindex(B::BitArray, i::Int)\n",
    "    @boundscheck checkbounds(B, i)\n",
    "    unsafe_bitgetindex(B.chunks, i)\n",
    "end"
   ]
  },
  {
   "cell_type": "code",
   "execution_count": null,
   "metadata": {
    "collapsed": true
   },
   "outputs": [],
   "source": []
  },
  {
   "cell_type": "code",
   "execution_count": null,
   "metadata": {
    "collapsed": true
   },
   "outputs": [],
   "source": []
  }
 ],
 "metadata": {
  "kernelspec": {
   "display_name": "Julia 1.2.0",
   "language": "julia",
   "name": "julia-1.2"
  },
  "language_info": {
   "file_extension": ".jl",
   "mimetype": "application/julia",
   "name": "julia",
   "version": "1.2.0"
  }
 },
 "nbformat": 4,
 "nbformat_minor": 1
}

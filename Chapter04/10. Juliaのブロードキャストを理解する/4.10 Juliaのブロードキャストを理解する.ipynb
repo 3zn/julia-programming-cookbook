{
 "cells": [
  {
   "cell_type": "code",
   "execution_count": 1,
   "metadata": {},
   "outputs": [
    {
     "data": {
      "text/plain": [
       "10-element Array{Int64,1}:\n",
       "  1\n",
       "  2\n",
       "  3\n",
       "  4\n",
       "  5\n",
       "  6\n",
       "  7\n",
       "  8\n",
       "  9\n",
       " 10"
      ]
     },
     "execution_count": 1,
     "metadata": {},
     "output_type": "execute_result"
    }
   ],
   "source": [
    "x = [1:10;]"
   ]
  },
  {
   "cell_type": "code",
   "execution_count": 2,
   "metadata": {},
   "outputs": [
    {
     "data": {
      "text/plain": [
       "10-element BitArray{1}:\n",
       " 1\n",
       " 0\n",
       " 0\n",
       " 0\n",
       " 0\n",
       " 0\n",
       " 1\n",
       " 0\n",
       " 0\n",
       " 0"
      ]
     },
     "execution_count": 2,
     "metadata": {},
     "output_type": "execute_result"
    }
   ],
   "source": [
    "s = isodd.(x) .& (rand(length(x)) .< 0.5)"
   ]
  },
  {
   "cell_type": "code",
   "execution_count": 3,
   "metadata": {},
   "outputs": [
    {
     "data": {
      "text/plain": [
       "10-element BitArray{1}:\n",
       " 0\n",
       " 0\n",
       " 0\n",
       " 0\n",
       " 1\n",
       " 0\n",
       " 1\n",
       " 0\n",
       " 1\n",
       " 0"
      ]
     },
     "execution_count": 3,
     "metadata": {},
     "output_type": "execute_result"
    }
   ],
   "source": [
    "s = @. isodd(x) & ($rand($length(x)) < 0.5)"
   ]
  },
  {
   "cell_type": "code",
   "execution_count": 4,
   "metadata": {},
   "outputs": [
    {
     "data": {
      "text/plain": [
       "10-element Array{Float64,1}:\n",
       " 0.09261298602405033\n",
       " 0.6003322473216401 \n",
       " 0.9091881918586016 \n",
       " 0.2079142848074096 \n",
       " 0.35317220242577174\n",
       " 0.15598808230195438\n",
       " 0.6394565358119497 \n",
       " 0.8874510466893035 \n",
       " 0.2725008879953301 \n",
       " 0.47840850147357417"
      ]
     },
     "execution_count": 4,
     "metadata": {},
     "output_type": "execute_result"
    }
   ],
   "source": [
    "rand(length(x))"
   ]
  },
  {
   "cell_type": "code",
   "execution_count": 5,
   "metadata": {},
   "outputs": [
    {
     "data": {
      "text/plain": [
       "10-element Array{Float64,1}:\n",
       " 0.5679506920752826 \n",
       " 0.829025124739001  \n",
       " 0.7112414366003088 \n",
       " 0.8620497951865287 \n",
       " 0.9446871146648481 \n",
       " 0.5590104361303736 \n",
       " 0.6108497571498674 \n",
       " 0.8564860037131832 \n",
       " 0.6068991687024983 \n",
       " 0.04502362650234226"
      ]
     },
     "execution_count": 5,
     "metadata": {},
     "output_type": "execute_result"
    }
   ],
   "source": [
    "rand.(length(x))"
   ]
  },
  {
   "cell_type": "code",
   "execution_count": 6,
   "metadata": {},
   "outputs": [
    {
     "data": {
      "text/plain": [
       "1"
      ]
     },
     "execution_count": 6,
     "metadata": {},
     "output_type": "execute_result"
    }
   ],
   "source": [
    "rand(length.(x))"
   ]
  },
  {
   "cell_type": "code",
   "execution_count": 7,
   "metadata": {},
   "outputs": [
    {
     "data": {
      "text/plain": [
       "10-element Array{Array{Float64,1},1}:\n",
       " [0.48409756187412856]\n",
       " [0.6236445270168385] \n",
       " [0.3696328465808596] \n",
       " [0.7114560552758515] \n",
       " [0.6666612523214714] \n",
       " [0.9030194694173581] \n",
       " [0.17028031604495397]\n",
       " [0.585469150328338]  \n",
       " [0.9735473919385429] \n",
       " [0.05791643631035148]"
      ]
     },
     "execution_count": 7,
     "metadata": {},
     "output_type": "execute_result"
    }
   ],
   "source": [
    "rand.(length.(x))"
   ]
  },
  {
   "cell_type": "code",
   "execution_count": 8,
   "metadata": {},
   "outputs": [
    {
     "data": {
      "text/plain": [
       "100-element Array{Float64,1}:\n",
       " 2.319776824715853 \n",
       " 2.004888876886087 \n",
       " 1.55163898134934  \n",
       " 1.2001296824794991\n",
       " 0.9621139719196717\n",
       " 0.8045927612290296\n",
       " 0.6989077024404848\n",
       " 0.6262711575314166\n",
       " 0.575080526948785 \n",
       " 0.5381729574647953\n",
       " 0.5110403518896931\n",
       " 0.4907730790663273\n",
       " 0.4754442361790721\n",
       " ⋮                 \n",
       " 0.8024594831253455\n",
       " 0.8110544583493605\n",
       " 0.8196858994518436\n",
       " 0.8283518699250454\n",
       " 0.8370504528559819\n",
       " 0.845779751409842 \n",
       " 0.8545378893013192\n",
       " 0.8633230112525262\n",
       " 0.8721332834362931\n",
       " 0.8809668939037781\n",
       " 0.889822052995444 \n",
       " 0.8986969937345798"
      ]
     },
     "execution_count": 8,
     "metadata": {},
     "output_type": "execute_result"
    }
   ],
   "source": [
    "exp.(sin.(cos.(log.(1:100))))"
   ]
  },
  {
   "cell_type": "code",
   "execution_count": 9,
   "metadata": {},
   "outputs": [
    {
     "data": {
      "text/plain": [
       "100-element Array{Float64,1}:\n",
       " 2.319776824715853 \n",
       " 2.004888876886087 \n",
       " 1.55163898134934  \n",
       " 1.2001296824794991\n",
       " 0.9621139719196717\n",
       " 0.8045927612290296\n",
       " 0.6989077024404848\n",
       " 0.6262711575314166\n",
       " 0.575080526948785 \n",
       " 0.5381729574647953\n",
       " 0.5110403518896931\n",
       " 0.4907730790663273\n",
       " 0.4754442361790721\n",
       " ⋮                 \n",
       " 0.8024594831253455\n",
       " 0.8110544583493605\n",
       " 0.8196858994518436\n",
       " 0.8283518699250454\n",
       " 0.8370504528559819\n",
       " 0.845779751409842 \n",
       " 0.8545378893013192\n",
       " 0.8633230112525262\n",
       " 0.8721332834362931\n",
       " 0.8809668939037781\n",
       " 0.889822052995444 \n",
       " 0.8986969937345798"
      ]
     },
     "execution_count": 9,
     "metadata": {},
     "output_type": "execute_result"
    }
   ],
   "source": [
    "broadcast(v -> exp(sin(cos(log(v)))), 1:100)"
   ]
  },
  {
   "cell_type": "code",
   "execution_count": null,
   "metadata": {},
   "outputs": [],
   "source": []
  },
  {
   "cell_type": "code",
   "execution_count": null,
   "metadata": {
    "collapsed": true
   },
   "outputs": [],
   "source": []
  }
 ],
 "metadata": {
  "kernelspec": {
   "display_name": "Julia 1.2.0",
   "language": "julia",
   "name": "julia-1.2"
  },
  "language_info": {
   "file_extension": ".jl",
   "mimetype": "application/julia",
   "name": "julia",
   "version": "1.2.0"
  }
 },
 "nbformat": 4,
 "nbformat_minor": 1
}

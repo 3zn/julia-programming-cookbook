{
 "cells": [
  {
   "cell_type": "code",
   "execution_count": 3,
   "metadata": {},
   "outputs": [
    {
     "name": "stdout",
     "output_type": "stream",
     "text": [
      "\u001b[32m\u001b[1m  Updating\u001b[22m\u001b[39m registry at `~/.julia/registries/General`\n",
      "\u001b[32m\u001b[1m  Updating\u001b[22m\u001b[39m git-repo `https://github.com/JuliaRegistries/General.git`\n",
      "\u001b[?25l\u001b[2K\u001b[?25h\u001b[32m\u001b[1m Resolving\u001b[22m\u001b[39m package versions...\n",
      "\u001b[32m\u001b[1m  Updating\u001b[22m\u001b[39m `~/.julia/environments/v1.2/Project.toml`\n",
      "\u001b[90m [no changes]\u001b[39m\n",
      "\u001b[32m\u001b[1m  Updating\u001b[22m\u001b[39m `~/.julia/environments/v1.2/Manifest.toml`\n",
      "\u001b[90m [no changes]\u001b[39m\n",
      "\u001b[32m\u001b[1m Resolving\u001b[22m\u001b[39m package versions...\n",
      "\u001b[32m\u001b[1m Installed\u001b[22m\u001b[39m WeakRefStrings ─ v0.6.1\n",
      "\u001b[32m\u001b[1m Installed\u001b[22m\u001b[39m CSV ──────────── v0.5.11\n",
      "\u001b[32m\u001b[1m  Updating\u001b[22m\u001b[39m `~/.julia/environments/v1.2/Project.toml`\n",
      " \u001b[90m [336ed68f]\u001b[39m\u001b[92m + CSV v0.5.11\u001b[39m\n",
      "\u001b[32m\u001b[1m  Updating\u001b[22m\u001b[39m `~/.julia/environments/v1.2/Manifest.toml`\n",
      " \u001b[90m [336ed68f]\u001b[39m\u001b[92m + CSV v0.5.11\u001b[39m\n",
      " \u001b[90m [ea10d353]\u001b[39m\u001b[92m + WeakRefStrings v0.6.1\u001b[39m\n"
     ]
    }
   ],
   "source": [
    "# using Pkg; Pkg.add(\"DataFrames\"); Pkg.add(\"CSV\")"
   ]
  },
  {
   "cell_type": "code",
   "execution_count": 1,
   "metadata": {},
   "outputs": [
    {
     "data": {
      "text/plain": [
       "lm (generic function with 1 method)"
      ]
     },
     "execution_count": 1,
     "metadata": {},
     "output_type": "execute_result"
    }
   ],
   "source": [
    "using DataFrames\n",
    "\n",
    "function df2mm(df::DataFrame)\n",
    "    n = size(df, 1)\n",
    "    mm_raw = [fill(1.0, n, 1)]\n",
    "    mm_name = [\"const\"]\n",
    "    for (name, value) in eachcol(df, true)\n",
    "        if eltype(value) <: Real\n",
    "            push!(mm_raw, hcat(Float64.(value)))\n",
    "            push!(mm_name, string(name))\n",
    "        else\n",
    "            uvalue = unique(value)\n",
    "            length(uvalue) == 1 && continue\n",
    "            dvalue = Dict(v=>i for (i, v) in enumerate(uvalue))\n",
    "            mvalue = zeros(n, length(uvalue))\n",
    "            for i in 1:n\n",
    "                mvalue[i, dvalue[value[i]]] = 1.0\n",
    "            end\n",
    "            push!(mm_raw, mvalue[:, 2:end])\n",
    "            append!(mm_name, string.(name, \"_\", uvalue[2:end]))\n",
    "        end\n",
    "    end\n",
    "    (data=hcat(mm_raw...), names=mm_name)\n",
    "end\n",
    "\n",
    "function lm(df, y, xs)\n",
    "    yv = Float64.(df[!, y])\n",
    "    xv, xn = df2mm(df[:, [xs;]])\n",
    "    params = (transpose(xv)*xv)\\(transpose(xv)*yv)\n",
    "    DataFrame(name = xn, estimate=params)\n",
    "end"
   ]
  },
  {
   "cell_type": "code",
   "execution_count": 4,
   "metadata": {},
   "outputs": [
    {
     "name": "stderr",
     "output_type": "stream",
     "text": [
      "┌ Info: Precompiling CSV [336ed68f-0bac-5ca0-87d4-7b16caf5d00b]\n",
      "└ @ Base loading.jl:1242\n"
     ]
    }
   ],
   "source": [
    "using CSV"
   ]
  },
  {
   "cell_type": "code",
   "execution_count": 5,
   "metadata": {},
   "outputs": [],
   "source": [
    "wages = CSV.read(\"wages.csv\", categorical=true);"
   ]
  },
  {
   "cell_type": "code",
   "execution_count": 6,
   "metadata": {},
   "outputs": [
    {
     "data": {
      "text/html": [
       "<table class=\"data-frame\"><thead><tr><th></th><th>name</th><th>estimate</th></tr><tr><th></th><th>String</th><th>Float64</th></tr></thead><tbody><p>12 rows × 2 columns</p><tr><th>1</th><td>const</td><td>5.45403</td></tr><tr><th>2</th><td>Exp</td><td>0.0103709</td></tr><tr><th>3</th><td>Wks</td><td>0.00494447</td></tr><tr><th>4</th><td>BlueCol_yes</td><td>-0.148634</td></tr><tr><th>5</th><td>Ind</td><td>0.0530578</td></tr><tr><th>6</th><td>South_no</td><td>0.0532101</td></tr><tr><th>7</th><td>SMSA_yes</td><td>0.145304</td></tr><tr><th>8</th><td>Married_no</td><td>-0.0660799</td></tr><tr><th>9</th><td>Sex_female</td><td>-0.353302</td></tr><tr><th>10</th><td>Union_yes</td><td>0.102076</td></tr><tr><th>11</th><td>Ed</td><td>0.0571539</td></tr><tr><th>12</th><td>Black_yes</td><td>-0.167123</td></tr></tbody></table>"
      ],
      "text/latex": [
       "\\begin{tabular}{r|cc}\n",
       "\t& name & estimate\\\\\n",
       "\t\\hline\n",
       "\t& String & Float64\\\\\n",
       "\t\\hline\n",
       "\t1 & const & 5.45403 \\\\\n",
       "\t2 & Exp & 0.0103709 \\\\\n",
       "\t3 & Wks & 0.00494447 \\\\\n",
       "\t4 & BlueCol\\_yes & -0.148634 \\\\\n",
       "\t5 & Ind & 0.0530578 \\\\\n",
       "\t6 & South\\_no & 0.0532101 \\\\\n",
       "\t7 & SMSA\\_yes & 0.145304 \\\\\n",
       "\t8 & Married\\_no & -0.0660799 \\\\\n",
       "\t9 & Sex\\_female & -0.353302 \\\\\n",
       "\t10 & Union\\_yes & 0.102076 \\\\\n",
       "\t11 & Ed & 0.0571539 \\\\\n",
       "\t12 & Black\\_yes & -0.167123 \\\\\n",
       "\\end{tabular}\n"
      ],
      "text/plain": [
       "12×2 DataFrame\n",
       "│ Row │ name        │ estimate   │\n",
       "│     │ \u001b[90mString\u001b[39m      │ \u001b[90mFloat64\u001b[39m    │\n",
       "├─────┼─────────────┼────────────┤\n",
       "│ 1   │ const       │ 5.45403    │\n",
       "│ 2   │ Exp         │ 0.0103709  │\n",
       "│ 3   │ Wks         │ 0.00494447 │\n",
       "│ 4   │ BlueCol_yes │ -0.148634  │\n",
       "│ 5   │ Ind         │ 0.0530578  │\n",
       "│ 6   │ South_no    │ 0.0532101  │\n",
       "│ 7   │ SMSA_yes    │ 0.145304   │\n",
       "│ 8   │ Married_no  │ -0.0660799 │\n",
       "│ 9   │ Sex_female  │ -0.353302  │\n",
       "│ 10  │ Union_yes   │ 0.102076   │\n",
       "│ 11  │ Ed          │ 0.0571539  │\n",
       "│ 12  │ Black_yes   │ -0.167123  │"
      ]
     },
     "execution_count": 6,
     "metadata": {},
     "output_type": "execute_result"
    }
   ],
   "source": [
    "lm(wages, :LWage, setdiff(names(wages), [:LWage]))"
   ]
  },
  {
   "cell_type": "code",
   "execution_count": 7,
   "metadata": {},
   "outputs": [
    {
     "data": {
      "text/plain": [
       "lm (generic function with 1 method)"
      ]
     },
     "execution_count": 7,
     "metadata": {},
     "output_type": "execute_result"
    }
   ],
   "source": [
    "function lm(df, y, xs)\n",
    "    df = disallowmissing!(dropmissing!(df[:, [y; xs]]))\n",
    "    yv = Float64.(df[!, y])\n",
    "    xv, xn = df2mm(df[:, [xs;]])\n",
    "    params = (transpose(xv)*xv)\\(transpose(xv)*yv)\n",
    "    DataFrame(name = xn, estimate=params)\n",
    "end"
   ]
  },
  {
   "cell_type": "code",
   "execution_count": 8,
   "metadata": {},
   "outputs": [
    {
     "data": {
      "text/html": [
       "<table class=\"data-frame\"><thead><tr><th></th><th>name</th><th>estimate</th></tr><tr><th></th><th>String</th><th>Float64</th></tr></thead><tbody><p>12 rows × 2 columns</p><tr><th>1</th><td>const</td><td>5.45403</td></tr><tr><th>2</th><td>Exp</td><td>0.0103709</td></tr><tr><th>3</th><td>Wks</td><td>0.00494447</td></tr><tr><th>4</th><td>BlueCol_yes</td><td>-0.148634</td></tr><tr><th>5</th><td>Ind</td><td>0.0530578</td></tr><tr><th>6</th><td>South_no</td><td>0.0532101</td></tr><tr><th>7</th><td>SMSA_yes</td><td>0.145304</td></tr><tr><th>8</th><td>Married_no</td><td>-0.0660799</td></tr><tr><th>9</th><td>Sex_female</td><td>-0.353302</td></tr><tr><th>10</th><td>Union_yes</td><td>0.102076</td></tr><tr><th>11</th><td>Ed</td><td>0.0571539</td></tr><tr><th>12</th><td>Black_yes</td><td>-0.167123</td></tr></tbody></table>"
      ],
      "text/latex": [
       "\\begin{tabular}{r|cc}\n",
       "\t& name & estimate\\\\\n",
       "\t\\hline\n",
       "\t& String & Float64\\\\\n",
       "\t\\hline\n",
       "\t1 & const & 5.45403 \\\\\n",
       "\t2 & Exp & 0.0103709 \\\\\n",
       "\t3 & Wks & 0.00494447 \\\\\n",
       "\t4 & BlueCol\\_yes & -0.148634 \\\\\n",
       "\t5 & Ind & 0.0530578 \\\\\n",
       "\t6 & South\\_no & 0.0532101 \\\\\n",
       "\t7 & SMSA\\_yes & 0.145304 \\\\\n",
       "\t8 & Married\\_no & -0.0660799 \\\\\n",
       "\t9 & Sex\\_female & -0.353302 \\\\\n",
       "\t10 & Union\\_yes & 0.102076 \\\\\n",
       "\t11 & Ed & 0.0571539 \\\\\n",
       "\t12 & Black\\_yes & -0.167123 \\\\\n",
       "\\end{tabular}\n"
      ],
      "text/plain": [
       "12×2 DataFrame\n",
       "│ Row │ name        │ estimate   │\n",
       "│     │ \u001b[90mString\u001b[39m      │ \u001b[90mFloat64\u001b[39m    │\n",
       "├─────┼─────────────┼────────────┤\n",
       "│ 1   │ const       │ 5.45403    │\n",
       "│ 2   │ Exp         │ 0.0103709  │\n",
       "│ 3   │ Wks         │ 0.00494447 │\n",
       "│ 4   │ BlueCol_yes │ -0.148634  │\n",
       "│ 5   │ Ind         │ 0.0530578  │\n",
       "│ 6   │ South_no    │ 0.0532101  │\n",
       "│ 7   │ SMSA_yes    │ 0.145304   │\n",
       "│ 8   │ Married_no  │ -0.0660799 │\n",
       "│ 9   │ Sex_female  │ -0.353302  │\n",
       "│ 10  │ Union_yes   │ 0.102076   │\n",
       "│ 11  │ Ed          │ 0.0571539  │\n",
       "│ 12  │ Black_yes   │ -0.167123  │"
      ]
     },
     "execution_count": 8,
     "metadata": {},
     "output_type": "execute_result"
    }
   ],
   "source": [
    "lm(wages, :LWage, setdiff(names(wages), [:LWage]))"
   ]
  },
  {
   "cell_type": "code",
   "execution_count": null,
   "metadata": {},
   "outputs": [],
   "source": []
  }
 ],
 "metadata": {
  "@webio": {
   "lastCommId": null,
   "lastKernelId": null
  },
  "kernelspec": {
   "display_name": "Julia 1.2.0",
   "language": "julia",
   "name": "julia-1.2"
  },
  "language_info": {
   "file_extension": ".jl",
   "mimetype": "application/julia",
   "name": "julia",
   "version": "1.2.0"
  }
 },
 "nbformat": 4,
 "nbformat_minor": 1
}

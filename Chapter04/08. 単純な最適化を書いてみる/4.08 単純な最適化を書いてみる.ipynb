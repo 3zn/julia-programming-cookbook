{
 "cells": [
  {
   "cell_type": "code",
   "execution_count": 1,
   "metadata": {},
   "outputs": [
    {
     "name": "stdout",
     "output_type": "stream",
     "text": [
      "\u001b[32m\u001b[1m  Updating\u001b[22m\u001b[39m registry at `~/.julia/registries/General`\n",
      "\u001b[32m\u001b[1m  Updating\u001b[22m\u001b[39m git-repo `https://github.com/JuliaRegistries/General.git`\n",
      "\u001b[?25l\u001b[2K\u001b[?25h\u001b[32m\u001b[1m Resolving\u001b[22m\u001b[39m package versions...\n",
      "\u001b[32m\u001b[1m Installed\u001b[22m\u001b[39m CommonSubexpressions ─ v0.2.0\n",
      "\u001b[32m\u001b[1m Installed\u001b[22m\u001b[39m ForwardDiff ────────── v0.10.3\n",
      "\u001b[32m\u001b[1m Installed\u001b[22m\u001b[39m DiffResults ────────── v0.0.4\n",
      "\u001b[32m\u001b[1m Installed\u001b[22m\u001b[39m DiffRules ──────────── v0.0.10\n",
      "\u001b[32m\u001b[1m Installed\u001b[22m\u001b[39m NaNMath ────────────── v0.3.2\n",
      "\u001b[32m\u001b[1m  Updating\u001b[22m\u001b[39m `~/.julia/environments/v1.2/Project.toml`\n",
      " \u001b[90m [f6369f11]\u001b[39m\u001b[92m + ForwardDiff v0.10.3\u001b[39m\n",
      "\u001b[32m\u001b[1m  Updating\u001b[22m\u001b[39m `~/.julia/environments/v1.2/Manifest.toml`\n",
      " \u001b[90m [bbf7d656]\u001b[39m\u001b[92m + CommonSubexpressions v0.2.0\u001b[39m\n",
      " \u001b[90m [163ba53b]\u001b[39m\u001b[92m + DiffResults v0.0.4\u001b[39m\n",
      " \u001b[90m [b552c78f]\u001b[39m\u001b[92m + DiffRules v0.0.10\u001b[39m\n",
      " \u001b[90m [f6369f11]\u001b[39m\u001b[92m + ForwardDiff v0.10.3\u001b[39m\n",
      " \u001b[90m [77ba4419]\u001b[39m\u001b[92m + NaNMath v0.3.2\u001b[39m\n"
     ]
    }
   ],
   "source": [
    "# using Pkg; Pkg.add(\"ForwardDiff\")"
   ]
  },
  {
   "cell_type": "code",
   "execution_count": 2,
   "metadata": {},
   "outputs": [
    {
     "name": "stderr",
     "output_type": "stream",
     "text": [
      "┌ Info: Precompiling ForwardDiff [f6369f11-7733-5829-9624-2563aa707210]\n",
      "└ @ Base loading.jl:1242\n"
     ]
    },
    {
     "data": {
      "text/plain": [
       "marquardt (generic function with 1 method)"
      ]
     },
     "execution_count": 2,
     "metadata": {},
     "output_type": "execute_result"
    }
   ],
   "source": [
    "using ForwardDiff\n",
    "using LinearAlgebra\n",
    "\n",
    "function marquardt(f, x₀; ε=1e-6, maxiter=1000, λ=10.0^4, α=2) \n",
    "    x = x₀\n",
    "    fx = f(x)\n",
    "    for i in 1:maxiter\n",
    "        g = ForwardDiff.gradient(f, x)\n",
    "        norm(g) ≤ ε && return (x=x, converged=true, iters=i) \n",
    "        x′ = x .- (ForwardDiff.hessian(f, x) + λ*I) \\ g\n",
    "        fx′ = f(x′)\n",
    "        if fx′ < fx \n",
    "            λ *= 0.5\n",
    "            fx = fx′\n",
    "            x = x′ \n",
    "        else\n",
    "            λ *= 2.0 \n",
    "        end\n",
    "    end\n",
    "    (x=x, converged=false, iters=maxiter)\n",
    "end"
   ]
  },
  {
   "cell_type": "code",
   "execution_count": 3,
   "metadata": {},
   "outputs": [
    {
     "data": {
      "text/plain": [
       "rosenbrock (generic function with 1 method)"
      ]
     },
     "execution_count": 3,
     "metadata": {},
     "output_type": "execute_result"
    }
   ],
   "source": [
    "rosenbrock(x) =\n",
    "       sum([(1-x[i])^2 + 100(x[i+1]-x[i]^2)^2 for i in 1:length(x)-1])"
   ]
  },
  {
   "cell_type": "code",
   "execution_count": 4,
   "metadata": {},
   "outputs": [
    {
     "data": {
      "text/plain": [
       "(x = [0.9999999999997925, 0.9999999999995842, 0.9999999999991666, 0.9999999999983291, 0.9999999999966498, 0.9999999999932827, 0.9999999999865317, 0.9999999999729957, 0.9999999999458558, 0.9999999998914395, 0.9999999997823334, 0.999999999563573, 0.9999999991249516, 0.9999999982454998, 0.9999999964821542, 0.9999999929465089, 0.9999999858570697, 0.9999999716410184, 0.9999999431312296, 0.9999998859432229], converged = true, iters = 71)"
      ]
     },
     "execution_count": 4,
     "metadata": {},
     "output_type": "execute_result"
    }
   ],
   "source": [
    "marquardt(rosenbrock, rand(20))"
   ]
  },
  {
   "cell_type": "code",
   "execution_count": 5,
   "metadata": {},
   "outputs": [
    {
     "data": {
      "text/plain": [
       "marquardt (generic function with 2 methods)"
      ]
     },
     "execution_count": 5,
     "metadata": {},
     "output_type": "execute_result"
    }
   ],
   "source": [
    "function marquardt(f::Function, x₀::AbstractVector{<:Real}; \n",
    "                   ε::Real=1e-6, maxiter::Real=1000, λ::Real=10.0^4,\n",
    "                   α::Real=2)\n",
    "    x = x₀\n",
    "    fx = f(x)\n",
    "    for i in 1:maxiter\n",
    "        g = ForwardDiff.gradient(f, x)\n",
    "        norm(g) ≤ ε && return (x=x, converged=true, iters=i) \n",
    "        x′ = x .- (ForwardDiff.hessian(f, x) + λ*I) \\ g\n",
    "        fx′ = f(x′)\n",
    "        if fx′ < fx \n",
    "            λ *= 0.5\n",
    "            fx = fx′\n",
    "            x = x′ \n",
    "        else\n",
    "            λ *= 2.0 \n",
    "        end\n",
    "    end\n",
    "    (x=x, converged=false, iters=maxiter)\n",
    "end"
   ]
  },
  {
   "cell_type": "code",
   "execution_count": 6,
   "metadata": {},
   "outputs": [
    {
     "data": {
      "text/plain": [
       "(x = [0.999999999999484, 0.999999999998966, 0.9999999999979271, 0.999999999995844, 0.999999999991667, 0.9999999999832919, 0.9999999999664992, 0.999999999932829, 0.9999999998653178, 0.999999999729954, 0.9999999994585409, 0.999999998914339, 0.9999999978231728, 0.9999999956352839, 0.9999999912482933, 0.9999999824515426, 0.9999999648112318, 0.9999999294321106, 0.9999998584577244, 0.9999997160008175], converged = true, iters = 49)"
      ]
     },
     "execution_count": 6,
     "metadata": {},
     "output_type": "execute_result"
    }
   ],
   "source": [
    "marquardt(rosenbrock, rand(20))"
   ]
  },
  {
   "cell_type": "code",
   "execution_count": null,
   "metadata": {},
   "outputs": [],
   "source": []
  }
 ],
 "metadata": {
  "kernelspec": {
   "display_name": "Julia 1.2.0",
   "language": "julia",
   "name": "julia-1.2"
  },
  "language_info": {
   "file_extension": ".jl",
   "mimetype": "application/julia",
   "name": "julia",
   "version": "1.2.0"
  }
 },
 "nbformat": 4,
 "nbformat_minor": 1
}

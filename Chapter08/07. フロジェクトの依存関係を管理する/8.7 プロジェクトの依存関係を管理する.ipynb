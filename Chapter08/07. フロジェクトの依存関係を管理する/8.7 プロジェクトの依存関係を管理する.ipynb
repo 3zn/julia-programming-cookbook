{
 "cells": [
  {
   "cell_type": "code",
   "execution_count": 1,
   "metadata": {},
   "outputs": [],
   "source": [
    "using Pkg"
   ]
  },
  {
   "cell_type": "code",
   "execution_count": 2,
   "metadata": {},
   "outputs": [
    {
     "name": "stdout",
     "output_type": "stream",
     "text": [
      "\u001b[32m\u001b[1m  Updating\u001b[22m\u001b[39m `~/.julia/environments/v1.2/Project.toml`\n",
      " \u001b[90m [90137ffa]\u001b[39m\u001b[91m - StaticArrays v0.11.0\u001b[39m\n",
      "\u001b[32m\u001b[1m  Updating\u001b[22m\u001b[39m `~/.julia/environments/v1.2/Manifest.toml`\n",
      "\u001b[90m [no changes]\u001b[39m\n"
     ]
    }
   ],
   "source": [
    "Pkg.rm(\"StaticArrays\")"
   ]
  },
  {
   "cell_type": "code",
   "execution_count": 3,
   "metadata": {},
   "outputs": [
    {
     "ename": "ArgumentError",
     "evalue": "ArgumentError: Package StaticArrays not found in current path:\n- Run `import Pkg; Pkg.add(\"StaticArrays\")` to install the StaticArrays package.\n",
     "output_type": "error",
     "traceback": [
      "ArgumentError: Package StaticArrays not found in current path:\n- Run `import Pkg; Pkg.add(\"StaticArrays\")` to install the StaticArrays package.\n",
      "",
      "Stacktrace:",
      " [1] require(::Module, ::Symbol) at ./loading.jl:876",
      " [2] top-level scope at In[3]:1"
     ]
    }
   ],
   "source": [
    "using StaticArrays"
   ]
  },
  {
   "cell_type": "code",
   "execution_count": 4,
   "metadata": {},
   "outputs": [
    {
     "ename": "Pkg.Types.PkgError",
     "evalue": "/mnt/home/Google Drive/working/JuliaCookBook/notebooks/chap8/Project already exists",
     "output_type": "error",
     "traceback": [
      "/mnt/home/Google Drive/working/JuliaCookBook/notebooks/chap8/Project already exists",
      "",
      "Stacktrace:",
      " [1] pkgerror(::String) at /buildworker/worker/package_linux64/build/usr/share/julia/stdlib/v1.2/Pkg/src/Types.jl:112",
      " [2] #generate#2(::Base.Iterators.Pairs{Union{},Union{},Tuple{},NamedTuple{(),Tuple{}}}, ::typeof(Pkg.API.generate), ::Pkg.Types.Context, ::String) at /buildworker/worker/package_linux64/build/usr/share/julia/stdlib/v1.2/Pkg/src/generate.jl:9",
      " [3] generate at /buildworker/worker/package_linux64/build/usr/share/julia/stdlib/v1.2/Pkg/src/generate.jl:5 [inlined]",
      " [4] #generate#1 at /buildworker/worker/package_linux64/build/usr/share/julia/stdlib/v1.2/Pkg/src/generate.jl:3 [inlined]",
      " [5] generate(::String) at /buildworker/worker/package_linux64/build/usr/share/julia/stdlib/v1.2/Pkg/src/generate.jl:3",
      " [6] top-level scope at In[4]:1"
     ]
    }
   ],
   "source": [
    "Pkg.generate(\"Project\")"
   ]
  },
  {
   "cell_type": "code",
   "execution_count": 5,
   "metadata": {},
   "outputs": [
    {
     "name": "stdout",
     "output_type": "stream",
     "text": [
      "\u001b[32m\u001b[1mActivating\u001b[22m\u001b[39m environment at `/mnt/home/Google Drive/working/JuliaCookBook/notebooks/chap8/Project/Project.toml`\n"
     ]
    }
   ],
   "source": [
    "Pkg.activate(\"Project\")"
   ]
  },
  {
   "cell_type": "code",
   "execution_count": 6,
   "metadata": {},
   "outputs": [
    {
     "name": "stdout",
     "output_type": "stream",
     "text": [
      "\u001b[32m\u001b[1m  Updating\u001b[22m\u001b[39m registry at `~/.julia/registries/General`\n",
      "\u001b[32m\u001b[1m  Updating\u001b[22m\u001b[39m git-repo `https://github.com/JuliaRegistries/General.git`\n",
      "\u001b[?25l\u001b[2K\u001b[?25h\u001b[32m\u001b[1m Resolving\u001b[22m\u001b[39m package versions...\n",
      "\u001b[32m\u001b[1m  Updating\u001b[22m\u001b[39m `/mnt/home/Google Drive/working/JuliaCookBook/notebooks/chap8/Project/Project.toml`\n",
      "\u001b[90m [no changes]\u001b[39m\n",
      "\u001b[32m\u001b[1m  Updating\u001b[22m\u001b[39m `/mnt/home/Google Drive/working/JuliaCookBook/notebooks/chap8/Project/Manifest.toml`\n",
      "\u001b[90m [no changes]\u001b[39m\n"
     ]
    }
   ],
   "source": [
    "Pkg.add(\"StaticArrays\")"
   ]
  },
  {
   "cell_type": "code",
   "execution_count": 7,
   "metadata": {},
   "outputs": [],
   "source": [
    "using StaticArrays"
   ]
  },
  {
   "cell_type": "code",
   "execution_count": 8,
   "metadata": {},
   "outputs": [
    {
     "name": "stdout",
     "output_type": "stream",
     "text": [
      "name = \"Project\"\n",
      "uuid = \"10f4644f-ff3a-4378-a54a-9b16473fc836\"\n",
      "authors = [\"Hidemoto Nakada <hide-nakada@aist.go.jp>\"]\n",
      "version = \"0.1.0\"\n",
      "\n",
      "[deps]\n",
      "StaticArrays = \"90137ffa-7385-5640-81b9-e52037218182\"\n"
     ]
    }
   ],
   "source": [
    "print(read(\"Project/Project.toml\", String))"
   ]
  },
  {
   "cell_type": "code",
   "execution_count": 9,
   "metadata": {},
   "outputs": [
    {
     "name": "stdout",
     "output_type": "stream",
     "text": [
      "\u001b[32m\u001b[1mActivating\u001b[22m\u001b[39m environment at `~/.julia/environments/v1.2/Project.toml`\n"
     ]
    }
   ],
   "source": [
    "Pkg.activate()"
   ]
  },
  {
   "cell_type": "code",
   "execution_count": 10,
   "metadata": {},
   "outputs": [
    {
     "ename": "ArgumentError",
     "evalue": "ArgumentError: Package StaticArrays not found in current path:\n- Run `import Pkg; Pkg.add(\"StaticArrays\")` to install the StaticArrays package.\n",
     "output_type": "error",
     "traceback": [
      "ArgumentError: Package StaticArrays not found in current path:\n- Run `import Pkg; Pkg.add(\"StaticArrays\")` to install the StaticArrays package.\n",
      "",
      "Stacktrace:",
      " [1] require(::Module, ::Symbol) at ./loading.jl:876",
      " [2] top-level scope at In[10]:1"
     ]
    }
   ],
   "source": [
    "using StaticArrays"
   ]
  },
  {
   "cell_type": "code",
   "execution_count": 11,
   "metadata": {},
   "outputs": [
    {
     "name": "stdout",
     "output_type": "stream",
     "text": [
      "\u001b[32m\u001b[1mActivating\u001b[22m\u001b[39m environment at `/mnt/home/Google Drive/working/JuliaCookBook/notebooks/chap8/Project/Project.toml`\n"
     ]
    }
   ],
   "source": [
    "Pkg.activate(\"Project\")"
   ]
  },
  {
   "cell_type": "code",
   "execution_count": 12,
   "metadata": {},
   "outputs": [],
   "source": [
    "using StaticArrays"
   ]
  },
  {
   "cell_type": "markdown",
   "metadata": {},
   "source": [
    "#--------"
   ]
  },
  {
   "cell_type": "code",
   "execution_count": 13,
   "metadata": {},
   "outputs": [
    {
     "data": {
      "text/plain": [
       "3-element Array{String,1}:\n",
       " \"@\"      \n",
       " \"@v#.#\"  \n",
       " \"@stdlib\""
      ]
     },
     "execution_count": 13,
     "metadata": {},
     "output_type": "execute_result"
    }
   ],
   "source": [
    "LOAD_PATH"
   ]
  },
  {
   "cell_type": "code",
   "execution_count": 14,
   "metadata": {},
   "outputs": [],
   "source": [
    "using Pkg"
   ]
  },
  {
   "cell_type": "code",
   "execution_count": 15,
   "metadata": {},
   "outputs": [
    {
     "data": {
      "text/plain": [
       "\"@stdlib\""
      ]
     },
     "execution_count": 15,
     "metadata": {},
     "output_type": "execute_result"
    }
   ],
   "source": [
    "pop!(LOAD_PATH)"
   ]
  },
  {
   "cell_type": "code",
   "execution_count": 16,
   "metadata": {},
   "outputs": [
    {
     "data": {
      "text/plain": [
       "2-element Array{String,1}:\n",
       " \"@\"    \n",
       " \"@v#.#\""
      ]
     },
     "execution_count": 16,
     "metadata": {},
     "output_type": "execute_result"
    }
   ],
   "source": [
    "LOAD_PATH"
   ]
  },
  {
   "cell_type": "code",
   "execution_count": 17,
   "metadata": {},
   "outputs": [
    {
     "ename": "ArgumentError",
     "evalue": "ArgumentError: Package Statistics not found in current path:\n- Run `import Pkg; Pkg.add(\"Statistics\")` to install the Statistics package.\n",
     "output_type": "error",
     "traceback": [
      "ArgumentError: Package Statistics not found in current path:\n- Run `import Pkg; Pkg.add(\"Statistics\")` to install the Statistics package.\n",
      "",
      "Stacktrace:",
      " [1] require(::Module, ::Symbol) at ./loading.jl:876",
      " [2] top-level scope at In[17]:1"
     ]
    }
   ],
   "source": [
    "using Statistics"
   ]
  },
  {
   "cell_type": "code",
   "execution_count": null,
   "metadata": {},
   "outputs": [],
   "source": []
  },
  {
   "cell_type": "code",
   "execution_count": null,
   "metadata": {},
   "outputs": [],
   "source": []
  }
 ],
 "metadata": {
  "kernelspec": {
   "display_name": "Julia 1.2.0",
   "language": "julia",
   "name": "julia-1.2"
  },
  "language_info": {
   "file_extension": ".jl",
   "mimetype": "application/julia",
   "name": "julia",
   "version": "1.2.0"
  }
 },
 "nbformat": 4,
 "nbformat_minor": 2
}

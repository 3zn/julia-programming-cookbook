{
 "cells": [
  {
   "cell_type": "code",
   "execution_count": 11,
   "metadata": {},
   "outputs": [],
   "source": [
    "#using Pkg; Pkg.add(\"Revise\")\n",
    "push!(LOAD_PATH, \".\")\n",
    "using Revise\n",
    "using Module1"
   ]
  },
  {
   "cell_type": "code",
   "execution_count": 7,
   "metadata": {},
   "outputs": [
    {
     "data": {
      "text/plain": [
       "Dict{String,Any} with 3 entries:\n",
       "  \"2018-06-22\" => 6053.9\n",
       "  \"2018-06-20\" => 6758.38\n",
       "  \"2018-06-21\" => 6717.2"
      ]
     },
     "execution_count": 7,
     "metadata": {},
     "output_type": "execute_result"
    }
   ],
   "source": [
    "getcoinprices(\"2018-06-20\", \"2018-06-22\")"
   ]
  },
  {
   "cell_type": "code",
   "execution_count": 8,
   "metadata": {},
   "outputs": [
    {
     "ename": "HTTP.ExceptionRequest.StatusError",
     "evalue": "HTTP.ExceptionRequest.StatusError(404, \"GET\", \"/v1/bpi/historical/close.json?currency=USD&start=2018-06-23&end=2018-06-22\", HTTP.Messages.Response:\n\"\"\"\nHTTP/1.1 404 Not Found\r\nContent-Type: text/html; charset=UTF-8\r\nContent-Length: 90\r\nConnection: keep-alive\r\nCache-Control: no-cache, no-store, must-revalidate\r\nDate: Sun, 25 Aug 2019 13:43:55 GMT\r\nServer: nginx/1.14.1\r\nX-Powered-By: Fat-Free Framework\r\nX-Cache: Error from cloudfront\r\nVia: 1.1 497e68f1c2171c15557d721da06055d1.cloudfront.net (CloudFront)\r\nX-Amz-Cf-Pop: NRT57-C2\r\nX-Amz-Cf-Id: B9XUVL8z17xo6bEj_uxd-WGHHXPReVcDJrhMmsseyFmwJITDEtCASA==\r\n\r\nSorry, but your specified end date is before your start date.  Please check and try again.\"\"\")",
     "output_type": "error",
     "traceback": [
      "HTTP.ExceptionRequest.StatusError(404, \"GET\", \"/v1/bpi/historical/close.json?currency=USD&start=2018-06-23&end=2018-06-22\", HTTP.Messages.Response:\n\"\"\"\nHTTP/1.1 404 Not Found\r\nContent-Type: text/html; charset=UTF-8\r\nContent-Length: 90\r\nConnection: keep-alive\r\nCache-Control: no-cache, no-store, must-revalidate\r\nDate: Sun, 25 Aug 2019 13:43:55 GMT\r\nServer: nginx/1.14.1\r\nX-Powered-By: Fat-Free Framework\r\nX-Cache: Error from cloudfront\r\nVia: 1.1 497e68f1c2171c15557d721da06055d1.cloudfront.net (CloudFront)\r\nX-Amz-Cf-Pop: NRT57-C2\r\nX-Amz-Cf-Id: B9XUVL8z17xo6bEj_uxd-WGHHXPReVcDJrhMmsseyFmwJITDEtCASA==\r\n\r\nSorry, but your specified end date is before your start date.  Please check and try again.\"\"\")",
      "",
      "Stacktrace:",
      " [1] #request#1(::Base.Iterators.Pairs{Symbol,Union{Nothing, Int64},Tuple{Symbol,Symbol},NamedTuple{(:iofunction, :verbose),Tuple{Nothing,Int64}}}, ::typeof(HTTP.request), ::Type{HTTP.ExceptionRequest.ExceptionLayer{HTTP.ConnectionRequest.ConnectionPoolLayer{HTTP.StreamRequest.StreamLayer}}}, ::HTTP.URIs.URI, ::Vararg{Any,N} where N) at /Users/nakada/.julia/packages/HTTP/ceBZF/src/ExceptionRequest.jl:22",
      " [2] (::getfield(HTTP, Symbol(\"#kw##request\")))(::NamedTuple{(:iofunction, :verbose),Tuple{Nothing,Int64}}, ::typeof(HTTP.request), ::Type{HTTP.ExceptionRequest.ExceptionLayer{HTTP.ConnectionRequest.ConnectionPoolLayer{HTTP.StreamRequest.StreamLayer}}}, ::HTTP.URIs.URI, ::HTTP.Messages.Request, ::Array{UInt8,1}) at ./none:0",
      " [3] (::getfield(Base, Symbol(\"###50#51#53\")){ExponentialBackOff,getfield(HTTP.RetryRequest, Symbol(\"##2#3\")){Bool,HTTP.Messages.Request},typeof(HTTP.request)})(::Base.Iterators.Pairs{Symbol,Union{Nothing, Int64},Tuple{Symbol,Symbol},NamedTuple{(:iofunction, :verbose),Tuple{Nothing,Int64}}}, ::getfield(Base, Symbol(\"##50#52\")){getfield(Base, Symbol(\"###50#51#53\")){ExponentialBackOff,getfield(HTTP.RetryRequest, Symbol(\"##2#3\")){Bool,HTTP.Messages.Request},typeof(HTTP.request)}}, ::Type, ::Vararg{Any,N} where N) at ./error.jl:249",
      " [4] ##50#52 at ./none:0 [inlined]",
      " [5] #request#1 at /Users/nakada/.julia/packages/HTTP/ceBZF/src/RetryRequest.jl:44 [inlined]",
      " [6] #request at ./none:0 [inlined]",
      " [7] #request#1(::VersionNumber, ::String, ::Nothing, ::Nothing, ::Base.Iterators.Pairs{Symbol,Int64,Tuple{Symbol},NamedTuple{(:verbose,),Tuple{Int64}}}, ::typeof(HTTP.request), ::Type{HTTP.MessageRequest.MessageLayer{HTTP.RetryRequest.RetryLayer{HTTP.ExceptionRequest.ExceptionLayer{HTTP.ConnectionRequest.ConnectionPoolLayer{HTTP.StreamRequest.StreamLayer}}}}}, ::String, ::HTTP.URIs.URI, ::Array{Pair{SubString{String},SubString{String}},1}, ::Array{UInt8,1}) at /Users/nakada/.julia/packages/HTTP/ceBZF/src/MessageRequest.jl:47",
      " [8] (::getfield(HTTP, Symbol(\"#kw##request\")))(::NamedTuple{(:verbose,),Tuple{Int64}}, ::typeof(HTTP.request), ::Type{HTTP.MessageRequest.MessageLayer{HTTP.RetryRequest.RetryLayer{HTTP.ExceptionRequest.ExceptionLayer{HTTP.ConnectionRequest.ConnectionPoolLayer{HTTP.StreamRequest.StreamLayer}}}}}, ::String, ::HTTP.URIs.URI, ::Array{Pair{SubString{String},SubString{String}},1}, ::Array{UInt8,1}) at ./none:0",
      " [9] #request#1(::Int64, ::Bool, ::Base.Iterators.Pairs{Symbol,Int64,Tuple{Symbol},NamedTuple{(:verbose,),Tuple{Int64}}}, ::typeof(HTTP.request), ::Type{HTTP.RedirectRequest.RedirectLayer{HTTP.MessageRequest.MessageLayer{HTTP.RetryRequest.RetryLayer{HTTP.ExceptionRequest.ExceptionLayer{HTTP.ConnectionRequest.ConnectionPoolLayer{HTTP.StreamRequest.StreamLayer}}}}}}, ::String, ::HTTP.URIs.URI, ::Array{Pair{SubString{String},SubString{String}},1}, ::Array{UInt8,1}) at /Users/nakada/.julia/packages/HTTP/ceBZF/src/RedirectRequest.jl:24",
      " [10] (::getfield(HTTP, Symbol(\"#kw##request\")))(::NamedTuple{(:verbose,),Tuple{Int64}}, ::typeof(HTTP.request), ::Type{HTTP.RedirectRequest.RedirectLayer{HTTP.MessageRequest.MessageLayer{HTTP.RetryRequest.RetryLayer{HTTP.ExceptionRequest.ExceptionLayer{HTTP.ConnectionRequest.ConnectionPoolLayer{HTTP.StreamRequest.StreamLayer}}}}}}, ::String, ::HTTP.URIs.URI, ::Array{Pair{SubString{String},SubString{String}},1}, ::Array{UInt8,1}) at ./none:0",
      " [11] #request#5(::Base.Iterators.Pairs{Symbol,Int64,Tuple{Symbol},NamedTuple{(:verbose,),Tuple{Int64}}}, ::typeof(HTTP.request), ::String, ::HTTP.URIs.URI, ::Array{Pair{SubString{String},SubString{String}},1}, ::Array{UInt8,1}) at /Users/nakada/.julia/packages/HTTP/ceBZF/src/HTTP.jl:300",
      " [12] #request at ./none:0 [inlined]",
      " [13] #request#6 at /Users/nakada/.julia/packages/HTTP/ceBZF/src/HTTP.jl:314 [inlined]",
      " [14] #request at ./none:0 [inlined] (repeats 2 times)",
      " [15] getcoinprices(::String, ::String) at /Users/nakada/Google Drive/working/JuliaCookBook/notebooks/chap8/Module1.jl:13",
      " [16] top-level scope at In[8]:1"
     ]
    }
   ],
   "source": [
    "getcoinprices(\"2018-06-23\", \"2018-06-22\")"
   ]
  },
  {
   "cell_type": "markdown",
   "metadata": {},
   "source": [
    "ここで Module1.jl を編集"
   ]
  },
  {
   "cell_type": "code",
   "execution_count": 10,
   "metadata": {},
   "outputs": [
    {
     "data": {
      "text/plain": [
       "Dict{Any,Any} with 0 entries"
      ]
     },
     "execution_count": 10,
     "metadata": {},
     "output_type": "execute_result"
    }
   ],
   "source": [
    "getcoinprices(\"2018-06-23\", \"2018-06-22\")"
   ]
  },
  {
   "cell_type": "code",
   "execution_count": null,
   "metadata": {},
   "outputs": [],
   "source": []
  }
 ],
 "metadata": {
  "@webio": {
   "lastCommId": null,
   "lastKernelId": null
  },
  "kernelspec": {
   "display_name": "Julia 1.2.0",
   "language": "julia",
   "name": "julia-1.2"
  },
  "language_info": {
   "file_extension": ".jl",
   "mimetype": "application/julia",
   "name": "julia",
   "version": "1.2.0"
  }
 },
 "nbformat": 4,
 "nbformat_minor": 2
}

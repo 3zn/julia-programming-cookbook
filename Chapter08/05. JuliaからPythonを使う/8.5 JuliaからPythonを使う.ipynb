{
 "cells": [
  {
   "cell_type": "code",
   "execution_count": 1,
   "metadata": {},
   "outputs": [],
   "source": [
    "#using Pkg; Pkg.add(\"Conda\"); Pkg.add(\"PyCall\")\n"
   ]
  },
  {
   "cell_type": "code",
   "execution_count": 1,
   "metadata": {},
   "outputs": [
    {
     "name": "stderr",
     "output_type": "stream",
     "text": [
      "┌ Info: Running `conda install -y scrapy` in root environment\n",
      "└ @ Conda /home/nakada/.julia/packages/Conda/kLXeC/src/Conda.jl:112\n"
     ]
    },
    {
     "name": "stdout",
     "output_type": "stream",
     "text": [
      "Collecting package metadata (current_repodata.json): ...working... failed\n"
     ]
    },
    {
     "name": "stderr",
     "output_type": "stream",
     "text": [
      "\n",
      "CondaHTTPError: HTTP 000 CONNECTION FAILED for url <https://repo.anaconda.com/pkgs/main/linux-64/current_repodata.json>\n",
      "Elapsed: -\n",
      "\n",
      "An HTTP error occurred when trying to retrieve this URL.\n",
      "HTTP errors are often intermittent, and a simple retry will get you on your way.\n",
      "\n",
      "If your current network has https://www.anaconda.com blocked, please file\n",
      "a support request with your network engineering team.\n",
      "\n",
      "ConnectionError(MaxRetryError(\"HTTPSConnectionPool(host='repo.anaconda.com', port=443): Max retries exceeded with url: /pkgs/main/linux-64/current_repodata.json (Caused by NewConnectionError('<urllib3.connection.VerifiedHTTPSConnection object at 0x7ff73568dac8>: Failed to establish a new connection: [Errno -2] Name or service not known'))\"))\n",
      "\n",
      "\n"
     ]
    },
    {
     "ename": "ProcessFailedException",
     "evalue": "failed process: Process(setenv(`/home/nakada/.julia/conda/3/bin/conda install -y scrapy`,[\"_CE_M=\", \"PATH=/home/nakada/julia-1.2.0/bin:/home/nakada/anaconda3/bin:/home/nakada/anaconda3/condabin:/usr/local/sbin:/usr/local/bin:/usr/sbin:/usr/bin:/sbin:/bin:/usr/games:/usr/local/games\", \"PWD=/home/nakada/Google Drive/working/JuliaCookBook\", \"COLUMNS=80\", \"KERNEL_LAUNCH_TIMEOUT=40\", \"SHELL=/bin/bash\", \"LC_CTYPE=C.UTF-8\", \"JPY_PARENT_PID=31703\", \"CONDARC=/home/nakada/.julia/conda/3/condarc-julia.yml\", \"MAIL=/var/mail/nakada\", \"SHLVL=2\", \"CONDA_PREFIX=/home/nakada/.julia/conda/3\", \"LOGNAME=nakada\", \"OLDPWD=/home/nakada\", \"_=/home/nakada/anaconda3/bin/jupyter\", \"_CE_CONDA=\", \"USER=nakada\", \"LINES=30\", \"HOME=/home/nakada\", \"TERM=xterm\", \"LS_COLORS=rs=0:di=01;34:ln=01;36:mh=00:pi=40;33:so=01;35:do=01;35:bd=40;33;01:cd=40;33;01:or=40;31;01:mi=00:su=37;41:sg=30;43:ca=30;41:tw=30;42:ow=34;42:st=37;44:ex=01;32:*.tar=01;31:*.tgz=01;31:*.arc=01;31:*.arj=01;31:*.taz=01;31:*.lha=01;31:*.lz4=01;31:*.lzh=01;31:*.lzma=01;31:*.tlz=01;31:*.txz=01;31:*.tzo=01;31:*.t7z=01;31:*.zip=01;31:*.z=01;31:*.Z=01;31:*.dz=01;31:*.gz=01;31:*.lrz=01;31:*.lz=01;31:*.lzo=01;31:*.xz=01;31:*.zst=01;31:*.tzst=01;31:*.bz2=01;31:*.bz=01;31:*.tbz=01;31:*.tbz2=01;31:*.tz=01;31:*.deb=01;31:*.rpm=01;31:*.jar=01;31:*.war=01;31:*.ear=01;31:*.sar=01;31:*.rar=01;31:*.alz=01;31:*.ace=01;31:*.zoo=01;31:*.cpio=01;31:*.7z=01;31:*.rz=01;31:*.cab=01;31:*.wim=01;31:*.swm=01;31:*.dwm=01;31:*.esd=01;31:*.jpg=01;35:*.jpeg=01;35:*.mjpg=01;35:*.mjpeg=01;35:*.gif=01;35:*.bmp=01;35:*.pbm=01;35:*.pgm=01;35:*.ppm=01;35:*.tga=01;35:*.xbm=01;35:*.xpm=01;35:*.tif=01;35:*.tiff=01;35:*.png=01;35:*.svg=01;35:*.svgz=01;35:*.mng=01;35:*.pcx=01;35:*.mov=01;35:*.mpg=01;35:*.mpeg=01;35:*.m2v=01;35:*.mkv=01;35:*.webm=01;35:*.ogm=01;35:*.mp4=01;35:*.m4v=01;35:*.mp4v=01;35:*.vob=01;35:*.qt=01;35:*.nuv=01;35:*.wmv=01;35:*.asf=01;35:*.rm=01;35:*.rmvb=01;35:*.flc=01;35:*.avi=01;35:*.fli=01;35:*.flv=01;35:*.gl=01;35:*.dl=01;35:*.xcf=01;35:*.xwd=01;35:*.yuv=01;35:*.cgm=01;35:*.emf=01;35:*.ogv=01;35:*.ogx=01;35:*.aac=00;36:*.au=00;36:*.flac=00;36:*.m4a=00;36:*.mid=00;36:*.midi=00;36:*.mka=00;36:*.mp3=00;36:*.mpc=00;36:*.ogg=00;36:*.ra=00;36:*.wav=00;36:*.oga=00;36:*.opus=00;36:*.spx=00;36:*.xspf=00;36:\", \"HOSTNAME=33b9be95c912\", \"OPENBLAS_MAIN_FREE=1\", \"PYTHONIOENCODING=UTF-8\"]), ProcessExited(1)) [1]\n",
     "output_type": "error",
     "traceback": [
      "failed process: Process(setenv(`/home/nakada/.julia/conda/3/bin/conda install -y scrapy`,[\"_CE_M=\", \"PATH=/home/nakada/julia-1.2.0/bin:/home/nakada/anaconda3/bin:/home/nakada/anaconda3/condabin:/usr/local/sbin:/usr/local/bin:/usr/sbin:/usr/bin:/sbin:/bin:/usr/games:/usr/local/games\", \"PWD=/home/nakada/Google Drive/working/JuliaCookBook\", \"COLUMNS=80\", \"KERNEL_LAUNCH_TIMEOUT=40\", \"SHELL=/bin/bash\", \"LC_CTYPE=C.UTF-8\", \"JPY_PARENT_PID=31703\", \"CONDARC=/home/nakada/.julia/conda/3/condarc-julia.yml\", \"MAIL=/var/mail/nakada\", \"SHLVL=2\", \"CONDA_PREFIX=/home/nakada/.julia/conda/3\", \"LOGNAME=nakada\", \"OLDPWD=/home/nakada\", \"_=/home/nakada/anaconda3/bin/jupyter\", \"_CE_CONDA=\", \"USER=nakada\", \"LINES=30\", \"HOME=/home/nakada\", \"TERM=xterm\", \"LS_COLORS=rs=0:di=01;34:ln=01;36:mh=00:pi=40;33:so=01;35:do=01;35:bd=40;33;01:cd=40;33;01:or=40;31;01:mi=00:su=37;41:sg=30;43:ca=30;41:tw=30;42:ow=34;42:st=37;44:ex=01;32:*.tar=01;31:*.tgz=01;31:*.arc=01;31:*.arj=01;31:*.taz=01;31:*.lha=01;31:*.lz4=01;31:*.lzh=01;31:*.lzma=01;31:*.tlz=01;31:*.txz=01;31:*.tzo=01;31:*.t7z=01;31:*.zip=01;31:*.z=01;31:*.Z=01;31:*.dz=01;31:*.gz=01;31:*.lrz=01;31:*.lz=01;31:*.lzo=01;31:*.xz=01;31:*.zst=01;31:*.tzst=01;31:*.bz2=01;31:*.bz=01;31:*.tbz=01;31:*.tbz2=01;31:*.tz=01;31:*.deb=01;31:*.rpm=01;31:*.jar=01;31:*.war=01;31:*.ear=01;31:*.sar=01;31:*.rar=01;31:*.alz=01;31:*.ace=01;31:*.zoo=01;31:*.cpio=01;31:*.7z=01;31:*.rz=01;31:*.cab=01;31:*.wim=01;31:*.swm=01;31:*.dwm=01;31:*.esd=01;31:*.jpg=01;35:*.jpeg=01;35:*.mjpg=01;35:*.mjpeg=01;35:*.gif=01;35:*.bmp=01;35:*.pbm=01;35:*.pgm=01;35:*.ppm=01;35:*.tga=01;35:*.xbm=01;35:*.xpm=01;35:*.tif=01;35:*.tiff=01;35:*.png=01;35:*.svg=01;35:*.svgz=01;35:*.mng=01;35:*.pcx=01;35:*.mov=01;35:*.mpg=01;35:*.mpeg=01;35:*.m2v=01;35:*.mkv=01;35:*.webm=01;35:*.ogm=01;35:*.mp4=01;35:*.m4v=01;35:*.mp4v=01;35:*.vob=01;35:*.qt=01;35:*.nuv=01;35:*.wmv=01;35:*.asf=01;35:*.rm=01;35:*.rmvb=01;35:*.flc=01;35:*.avi=01;35:*.fli=01;35:*.flv=01;35:*.gl=01;35:*.dl=01;35:*.xcf=01;35:*.xwd=01;35:*.yuv=01;35:*.cgm=01;35:*.emf=01;35:*.ogv=01;35:*.ogx=01;35:*.aac=00;36:*.au=00;36:*.flac=00;36:*.m4a=00;36:*.mid=00;36:*.midi=00;36:*.mka=00;36:*.mp3=00;36:*.mpc=00;36:*.ogg=00;36:*.ra=00;36:*.wav=00;36:*.oga=00;36:*.opus=00;36:*.spx=00;36:*.xspf=00;36:\", \"HOSTNAME=33b9be95c912\", \"OPENBLAS_MAIN_FREE=1\", \"PYTHONIOENCODING=UTF-8\"]), ProcessExited(1)) [1]\n",
      "",
      "Stacktrace:",
      " [1] pipeline_error at ./process.jl:813 [inlined]",
      " [2] #run#536(::Bool, ::typeof(run), ::Cmd) at ./process.jl:728",
      " [3] run at ./process.jl:726 [inlined]",
      " [4] runconda(::Cmd, ::String) at /home/nakada/.julia/packages/Conda/kLXeC/src/Conda.jl:113",
      " [5] #add#1(::String, ::typeof(Conda.add), ::String, ::String) at /home/nakada/.julia/packages/Conda/kLXeC/src/Conda.jl:184",
      " [6] add at /home/nakada/.julia/packages/Conda/kLXeC/src/Conda.jl:183 [inlined] (repeats 2 times)",
      " [7] top-level scope at In[1]:2"
     ]
    }
   ],
   "source": [
    "using Conda\n",
    "Conda.add(\"scrapy\")"
   ]
  },
  {
   "cell_type": "code",
   "execution_count": 2,
   "metadata": {},
   "outputs": [
    {
     "data": {
      "text/plain": [
       "\"<html>\\n    <body>\\n        My favorite languages\\n        <ul>\\n            <li>Julia\\n            <li>Python\\n            <li>R\\n        </ul>\\n    </body>\\n</html>\""
      ]
     },
     "execution_count": 2,
     "metadata": {},
     "output_type": "execute_result"
    }
   ],
   "source": [
    "using PyCall\n",
    "ssel = pyimport(\"scrapy.selector\")\n",
    "\n",
    "txt=\"\"\"<html>\n",
    "    <body>\n",
    "        My favorite languages\n",
    "        <ul>\n",
    "            <li>Julia\n",
    "            <li>Python\n",
    "            <li>R\n",
    "        </ul>\n",
    "    </body>\n",
    "</html>\"\"\""
   ]
  },
  {
   "cell_type": "code",
   "execution_count": 3,
   "metadata": {},
   "outputs": [
    {
     "data": {
      "text/plain": [
       "PyObject <Selector xpath=None data='<html>\\n    <body>\\n        My favorite la'>"
      ]
     },
     "execution_count": 3,
     "metadata": {},
     "output_type": "execute_result"
    }
   ],
   "source": [
    "s = ssel.Selector(text=txt)"
   ]
  },
  {
   "cell_type": "code",
   "execution_count": 4,
   "metadata": {},
   "outputs": [
    {
     "data": {
      "text/plain": [
       "3-element Array{SubString{String},1}:\n",
       " \"Julia\" \n",
       " \"Python\"\n",
       " \"R\"     "
      ]
     },
     "execution_count": 4,
     "metadata": {},
     "output_type": "execute_result"
    }
   ],
   "source": [
    "[strip(e.extract()) for e in s.xpath(\"//li/text()\")]"
   ]
  },
  {
   "cell_type": "code",
   "execution_count": 5,
   "metadata": {},
   "outputs": [
    {
     "data": {
      "text/plain": [
       "3-element Array{Int64,1}:\n",
       " 1\n",
       " 2\n",
       " 3"
      ]
     },
     "execution_count": 5,
     "metadata": {},
     "output_type": "execute_result"
    }
   ],
   "source": [
    "pybuiltin(\"sorted\")([3,2,1])"
   ]
  },
  {
   "cell_type": "code",
   "execution_count": null,
   "metadata": {},
   "outputs": [],
   "source": []
  },
  {
   "cell_type": "code",
   "execution_count": null,
   "metadata": {},
   "outputs": [],
   "source": []
  }
 ],
 "metadata": {
  "@webio": {
   "lastCommId": null,
   "lastKernelId": null
  },
  "kernelspec": {
   "display_name": "Julia 1.2.0",
   "language": "julia",
   "name": "julia-1.2"
  },
  "language_info": {
   "file_extension": ".jl",
   "mimetype": "application/julia",
   "name": "julia",
   "version": "1.2.0"
  }
 },
 "nbformat": 4,
 "nbformat_minor": 1
}

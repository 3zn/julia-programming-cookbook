{
 "cells": [
  {
   "cell_type": "code",
   "execution_count": 1,
   "metadata": {},
   "outputs": [],
   "source": [
    "# using Pkg; Pkg.add(\"DataFrames\"); Pkg.add(\"CSV\")"
   ]
  },
  {
   "cell_type": "code",
   "execution_count": 1,
   "metadata": {},
   "outputs": [],
   "source": [
    "using CSV, DataFrames"
   ]
  },
  {
   "cell_type": "code",
   "execution_count": 2,
   "metadata": {},
   "outputs": [
    {
     "name": "stdout",
     "output_type": "stream",
     "text": [
      "warning: parsed expected 6 columns, but didn't reach end of line on data row: 21. Ignoring any extra columns on this row\n",
      "warning: parsed expected 6 columns, but didn't reach end of line on data row: 39. Ignoring any extra columns on this row\n",
      "warning: parsed expected 6 columns, but didn't reach end of line on data row: 61. Ignoring any extra columns on this row\n"
     ]
    },
    {
     "data": {
      "text/html": [
       "<table class=\"data-frame\"><thead><tr><th></th><th>Prefix</th><th>Assignment</th><th>Tutorial</th><th>Midterm</th><th>TakeHome</th><th>Final</th></tr><tr><th></th><th>Int64</th><th>Float64</th><th>Float64</th><th>Float64</th><th>Float64⍰</th><th>Float64⍰</th></tr></thead><tbody><p>99 rows × 6 columns</p><tr><th>1</th><td>5</td><td>57.14</td><td>34.09</td><td>64.38</td><td>51.48</td><td>52.5</td></tr><tr><th>2</th><td>8</td><td>95.05</td><td>105.49</td><td>67.5</td><td>99.07</td><td>68.33</td></tr><tr><th>3</th><td>8</td><td>83.7</td><td>83.17</td><td>30.0</td><td>63.15</td><td>48.89</td></tr><tr><th>4</th><td>7</td><td>81.22</td><td>96.06</td><td>49.38</td><td>105.93</td><td>80.56</td></tr><tr><th>5</th><td>8</td><td>91.32</td><td>93.64</td><td>95.0</td><td>107.41</td><td>73.89</td></tr><tr><th>6</th><td>7</td><td>95.0</td><td>92.58</td><td>93.12</td><td>97.78</td><td>68.06</td></tr><tr><th>7</th><td>8</td><td>95.05</td><td>102.99</td><td>56.25</td><td>99.07</td><td>50.0</td></tr><tr><th>8</th><td>7</td><td>72.85</td><td>86.85</td><td>60.0</td><td>missing</td><td>56.11</td></tr><tr><th>9</th><td>8</td><td>84.26</td><td>93.1</td><td>47.5</td><td>18.52</td><td>50.83</td></tr><tr><th>10</th><td>7</td><td>90.1</td><td>97.55</td><td>51.25</td><td>88.89</td><td>63.61</td></tr><tr><th>11</th><td>7</td><td>80.44</td><td>90.2</td><td>75.0</td><td>91.48</td><td>39.72</td></tr><tr><th>12</th><td>6</td><td>86.26</td><td>80.6</td><td>74.38</td><td>87.59</td><td>77.5</td></tr><tr><th>13</th><td>8</td><td>97.16</td><td>103.71</td><td>72.5</td><td>93.52</td><td>63.33</td></tr><tr><th>14</th><td>7</td><td>91.28</td><td>83.53</td><td>81.25</td><td>99.81</td><td>92.22</td></tr><tr><th>15</th><td>8</td><td>84.8</td><td>89.08</td><td>44.38</td><td>16.91</td><td>35.83</td></tr><tr><th>16</th><td>7</td><td>93.83</td><td>95.43</td><td>88.12</td><td>80.93</td><td>90.0</td></tr><tr><th>17</th><td>8</td><td>84.8</td><td>89.08</td><td>47.5</td><td>16.91</td><td>53.33</td></tr><tr><th>18</th><td>4</td><td>92.01</td><td>102.52</td><td>38.75</td><td>86.11</td><td>49.17</td></tr><tr><th>19</th><td>8</td><td>55.14</td><td>81.85</td><td>75.0</td><td>56.11</td><td>62.5</td></tr><tr><th>20</th><td>8</td><td>93.04</td><td>82.93</td><td>79.38</td><td>83.33</td><td>91.11</td></tr><tr><th>21</th><td>8</td><td>63.4</td><td>86.21</td><td>63.12</td><td>72.78</td><td>missing</td></tr><tr><th>22</th><td>8</td><td>75.27</td><td>97.52</td><td>63.12</td><td>61.11</td><td>66.11</td></tr><tr><th>23</th><td>8</td><td>63.78</td><td>76.21</td><td>39.38</td><td>42.22</td><td>34.44</td></tr><tr><th>24</th><td>7</td><td>80.44</td><td>90.2</td><td>46.25</td><td>91.48</td><td>72.22</td></tr><tr><th>25</th><td>7</td><td>53.36</td><td>82.01</td><td>74.38</td><td>102.59</td><td>56.39</td></tr><tr><th>26</th><td>6</td><td>91.28</td><td>95.24</td><td>82.5</td><td>97.59</td><td>92.78</td></tr><tr><th>27</th><td>8</td><td>82.45</td><td>86.65</td><td>93.12</td><td>85.56</td><td>89.17</td></tr><tr><th>28</th><td>8</td><td>75.27</td><td>86.67</td><td>69.38</td><td>61.11</td><td>88.89</td></tr><tr><th>29</th><td>8</td><td>91.32</td><td>94.89</td><td>76.25</td><td>107.41</td><td>85.56</td></tr><tr><th>30</th><td>7</td><td>91.62</td><td>65.18</td><td>71.88</td><td>90.0</td><td>45.56</td></tr><tr><th>&vellip;</th><td>&vellip;</td><td>&vellip;</td><td>&vellip;</td><td>&vellip;</td><td>&vellip;</td><td>&vellip;</td></tr></tbody></table>"
      ],
      "text/latex": [
       "\\begin{tabular}{r|cccccc}\n",
       "\t& Prefix & Assignment & Tutorial & Midterm & TakeHome & Final\\\\\n",
       "\t\\hline\n",
       "\t& Int64 & Float64 & Float64 & Float64 & Float64⍰ & Float64⍰\\\\\n",
       "\t\\hline\n",
       "\t1 & 5 & 57.14 & 34.09 & 64.38 & 51.48 & 52.5 \\\\\n",
       "\t2 & 8 & 95.05 & 105.49 & 67.5 & 99.07 & 68.33 \\\\\n",
       "\t3 & 8 & 83.7 & 83.17 & 30.0 & 63.15 & 48.89 \\\\\n",
       "\t4 & 7 & 81.22 & 96.06 & 49.38 & 105.93 & 80.56 \\\\\n",
       "\t5 & 8 & 91.32 & 93.64 & 95.0 & 107.41 & 73.89 \\\\\n",
       "\t6 & 7 & 95.0 & 92.58 & 93.12 & 97.78 & 68.06 \\\\\n",
       "\t7 & 8 & 95.05 & 102.99 & 56.25 & 99.07 & 50.0 \\\\\n",
       "\t8 & 7 & 72.85 & 86.85 & 60.0 &  & 56.11 \\\\\n",
       "\t9 & 8 & 84.26 & 93.1 & 47.5 & 18.52 & 50.83 \\\\\n",
       "\t10 & 7 & 90.1 & 97.55 & 51.25 & 88.89 & 63.61 \\\\\n",
       "\t11 & 7 & 80.44 & 90.2 & 75.0 & 91.48 & 39.72 \\\\\n",
       "\t12 & 6 & 86.26 & 80.6 & 74.38 & 87.59 & 77.5 \\\\\n",
       "\t13 & 8 & 97.16 & 103.71 & 72.5 & 93.52 & 63.33 \\\\\n",
       "\t14 & 7 & 91.28 & 83.53 & 81.25 & 99.81 & 92.22 \\\\\n",
       "\t15 & 8 & 84.8 & 89.08 & 44.38 & 16.91 & 35.83 \\\\\n",
       "\t16 & 7 & 93.83 & 95.43 & 88.12 & 80.93 & 90.0 \\\\\n",
       "\t17 & 8 & 84.8 & 89.08 & 47.5 & 16.91 & 53.33 \\\\\n",
       "\t18 & 4 & 92.01 & 102.52 & 38.75 & 86.11 & 49.17 \\\\\n",
       "\t19 & 8 & 55.14 & 81.85 & 75.0 & 56.11 & 62.5 \\\\\n",
       "\t20 & 8 & 93.04 & 82.93 & 79.38 & 83.33 & 91.11 \\\\\n",
       "\t21 & 8 & 63.4 & 86.21 & 63.12 & 72.78 &  \\\\\n",
       "\t22 & 8 & 75.27 & 97.52 & 63.12 & 61.11 & 66.11 \\\\\n",
       "\t23 & 8 & 63.78 & 76.21 & 39.38 & 42.22 & 34.44 \\\\\n",
       "\t24 & 7 & 80.44 & 90.2 & 46.25 & 91.48 & 72.22 \\\\\n",
       "\t25 & 7 & 53.36 & 82.01 & 74.38 & 102.59 & 56.39 \\\\\n",
       "\t26 & 6 & 91.28 & 95.24 & 82.5 & 97.59 & 92.78 \\\\\n",
       "\t27 & 8 & 82.45 & 86.65 & 93.12 & 85.56 & 89.17 \\\\\n",
       "\t28 & 8 & 75.27 & 86.67 & 69.38 & 61.11 & 88.89 \\\\\n",
       "\t29 & 8 & 91.32 & 94.89 & 76.25 & 107.41 & 85.56 \\\\\n",
       "\t30 & 7 & 91.62 & 65.18 & 71.88 & 90.0 & 45.56 \\\\\n",
       "\t$\\dots$ & $\\dots$ & $\\dots$ & $\\dots$ & $\\dots$ & $\\dots$ & $\\dots$ \\\\\n",
       "\\end{tabular}\n"
      ],
      "text/plain": [
       "99×6 DataFrame\n",
       "│ Row │ Prefix │ Assignment │ Tutorial │ Midterm │ TakeHome │ Final    │\n",
       "│     │ \u001b[90mInt64\u001b[39m  │ \u001b[90mFloat64\u001b[39m    │ \u001b[90mFloat64\u001b[39m  │ \u001b[90mFloat64\u001b[39m │ \u001b[90mFloat64⍰\u001b[39m │ \u001b[90mFloat64⍰\u001b[39m │\n",
       "├─────┼────────┼────────────┼──────────┼─────────┼──────────┼──────────┤\n",
       "│ 1   │ 5      │ 57.14      │ 34.09    │ 64.38   │ 51.48    │ 52.5     │\n",
       "│ 2   │ 8      │ 95.05      │ 105.49   │ 67.5    │ 99.07    │ 68.33    │\n",
       "│ 3   │ 8      │ 83.7       │ 83.17    │ 30.0    │ 63.15    │ 48.89    │\n",
       "│ 4   │ 7      │ 81.22      │ 96.06    │ 49.38   │ 105.93   │ 80.56    │\n",
       "│ 5   │ 8      │ 91.32      │ 93.64    │ 95.0    │ 107.41   │ 73.89    │\n",
       "│ 6   │ 7      │ 95.0       │ 92.58    │ 93.12   │ 97.78    │ 68.06    │\n",
       "│ 7   │ 8      │ 95.05      │ 102.99   │ 56.25   │ 99.07    │ 50.0     │\n",
       "│ 8   │ 7      │ 72.85      │ 86.85    │ 60.0    │ \u001b[90mmissing\u001b[39m  │ 56.11    │\n",
       "│ 9   │ 8      │ 84.26      │ 93.1     │ 47.5    │ 18.52    │ 50.83    │\n",
       "│ 10  │ 7      │ 90.1       │ 97.55    │ 51.25   │ 88.89    │ 63.61    │\n",
       "⋮\n",
       "│ 89  │ 7      │ 86.29      │ 88.81    │ 83.12   │ 77.96    │ 75.83    │\n",
       "│ 90  │ 8      │ 97.0       │ 100.52   │ 64.38   │ 90.74    │ 58.61    │\n",
       "│ 91  │ 8      │ 97.33      │ 106.74   │ 81.25   │ 108.89   │ 71.11    │\n",
       "│ 92  │ 8      │ 96.41      │ 103.71   │ 56.25   │ 95.93    │ 66.39    │\n",
       "│ 93  │ 7      │ 95.6       │ 82.28    │ 76.88   │ 108.33   │ 78.33    │\n",
       "│ 94  │ 8      │ 87.52      │ 91.58    │ 56.25   │ 71.85    │ 85.0     │\n",
       "│ 95  │ 8      │ 96.73      │ 103.71   │ 45.0    │ 93.52    │ 61.94    │\n",
       "│ 96  │ 7      │ 85.34      │ 80.54    │ 41.25   │ 93.7     │ 39.72    │\n",
       "│ 97  │ 8      │ 89.94      │ 102.77   │ 87.5    │ 90.74    │ 87.78    │\n",
       "│ 98  │ 7      │ 95.6       │ 76.13    │ 66.25   │ 99.81    │ 85.56    │\n",
       "│ 99  │ 8      │ 63.4       │ 97.37    │ 73.12   │ 72.78    │ 77.22    │"
      ]
     },
     "execution_count": 2,
     "metadata": {},
     "output_type": "execute_result"
    }
   ],
   "source": [
    "df1 = CSV.read(\"grades.csv\")"
   ]
  },
  {
   "cell_type": "code",
   "execution_count": 3,
   "metadata": {},
   "outputs": [
    {
     "data": {
      "text/html": [
       "<table class=\"data-frame\"><thead><tr><th></th><th>Tutorial</th><th>TakeHome</th><th>Prefix</th><th>Assignment</th><th>Final</th><th>Midterm</th></tr><tr><th></th><th>Float64</th><th>Float64⍰</th><th>Int64</th><th>Float64</th><th>Float64⍰</th><th>Float64</th></tr></thead><tbody><p>99 rows × 6 columns</p><tr><th>1</th><td>70.24</td><td>52.41</td><td>6</td><td>95.05</td><td>47.78</td><td>52.5</td></tr><tr><th>2</th><td>58.51</td><td>53.7</td><td>6</td><td>28.14</td><td>68.33</td><td>72.5</td></tr><tr><th>3</th><td>65.7</td><td>103.52</td><td>7</td><td>74.29</td><td>55.0</td><td>78.75</td></tr><tr><th>4</th><td>76.13</td><td>99.81</td><td>7</td><td>95.6</td><td>85.56</td><td>66.25</td></tr><tr><th>5</th><td>82.28</td><td>108.33</td><td>7</td><td>95.6</td><td>78.33</td><td>76.88</td></tr><tr><th>6</th><td>86.67</td><td>71.85</td><td>8</td><td>75.27</td><td>80.0</td><td>70.0</td></tr><tr><th>7</th><td>102.87</td><td>24.77</td><td>8</td><td>71.79</td><td>missing</td><td>41.88</td></tr><tr><th>8</th><td>88.81</td><td>77.96</td><td>7</td><td>86.29</td><td>75.83</td><td>83.12</td></tr><tr><th>9</th><td>95.43</td><td>80.93</td><td>7</td><td>93.83</td><td>90.0</td><td>88.12</td></tr><tr><th>10</th><td>102.87</td><td>21.53</td><td>8</td><td>71.79</td><td>36.11</td><td>54.37</td></tr><tr><th>11</th><td>92.93</td><td>78.7</td><td>7</td><td>74.35</td><td>73.89</td><td>86.25</td></tr><tr><th>12</th><td>82.01</td><td>102.59</td><td>7</td><td>53.36</td><td>56.39</td><td>74.38</td></tr><tr><th>13</th><td>57.97</td><td>85.19</td><td>7</td><td>89.89</td><td>51.67</td><td>32.5</td></tr><tr><th>14</th><td>91.58</td><td>71.85</td><td>8</td><td>87.52</td><td>85.0</td><td>56.25</td></tr><tr><th>15</th><td>100.42</td><td>102.59</td><td>8</td><td>97.33</td><td>83.06</td><td>69.38</td></tr><tr><th>16</th><td>101.68</td><td>21.53</td><td>8</td><td>71.79</td><td>49.44</td><td>75.0</td></tr><tr><th>17</th><td>102.99</td><td>99.07</td><td>8</td><td>95.05</td><td>50.0</td><td>56.25</td></tr><tr><th>18</th><td>89.08</td><td>16.91</td><td>8</td><td>84.8</td><td>35.83</td><td>44.38</td></tr><tr><th>19</th><td>95.64</td><td>72.22</td><td>8</td><td>67.29</td><td>43.33</td><td>48.12</td></tr><tr><th>20</th><td>105.57</td><td>104.44</td><td>7</td><td>100.83</td><td>108.89</td><td>101.25</td></tr><tr><th>21</th><td>98.47</td><td>83.33</td><td>8</td><td>85.01</td><td>72.22</td><td>91.25</td></tr><tr><th>22</th><td>63.39</td><td>93.7</td><td>5</td><td>88.09</td><td>50.83</td><td>74.38</td></tr><tr><th>23</th><td>95.67</td><td>103.52</td><td>8</td><td>85.42</td><td>64.72</td><td>56.25</td></tr><tr><th>24</th><td>88.11</td><td>97.41</td><td>8</td><td>96.73</td><td>65.56</td><td>71.88</td></tr><tr><th>25</th><td>94.01</td><td>100.0</td><td>7</td><td>95.14</td><td>95.0</td><td>99.38</td></tr><tr><th>26</th><td>105.49</td><td>99.07</td><td>8</td><td>95.05</td><td>68.33</td><td>67.5</td></tr><tr><th>27</th><td>62.64</td><td>85.19</td><td>4</td><td>86.86</td><td>62.78</td><td>92.5</td></tr><tr><th>28</th><td>92.8</td><td>72.78</td><td>8</td><td>80.53</td><td>66.67</td><td>51.25</td></tr><tr><th>29</th><td>97.52</td><td>61.11</td><td>8</td><td>75.27</td><td>66.11</td><td>63.12</td></tr><tr><th>30</th><td>86.85</td><td>missing</td><td>7</td><td>72.85</td><td>56.11</td><td>60.0</td></tr><tr><th>&vellip;</th><td>&vellip;</td><td>&vellip;</td><td>&vellip;</td><td>&vellip;</td><td>&vellip;</td><td>&vellip;</td></tr></tbody></table>"
      ],
      "text/latex": [
       "\\begin{tabular}{r|cccccc}\n",
       "\t& Tutorial & TakeHome & Prefix & Assignment & Final & Midterm\\\\\n",
       "\t\\hline\n",
       "\t& Float64 & Float64⍰ & Int64 & Float64 & Float64⍰ & Float64\\\\\n",
       "\t\\hline\n",
       "\t1 & 70.24 & 52.41 & 6 & 95.05 & 47.78 & 52.5 \\\\\n",
       "\t2 & 58.51 & 53.7 & 6 & 28.14 & 68.33 & 72.5 \\\\\n",
       "\t3 & 65.7 & 103.52 & 7 & 74.29 & 55.0 & 78.75 \\\\\n",
       "\t4 & 76.13 & 99.81 & 7 & 95.6 & 85.56 & 66.25 \\\\\n",
       "\t5 & 82.28 & 108.33 & 7 & 95.6 & 78.33 & 76.88 \\\\\n",
       "\t6 & 86.67 & 71.85 & 8 & 75.27 & 80.0 & 70.0 \\\\\n",
       "\t7 & 102.87 & 24.77 & 8 & 71.79 &  & 41.88 \\\\\n",
       "\t8 & 88.81 & 77.96 & 7 & 86.29 & 75.83 & 83.12 \\\\\n",
       "\t9 & 95.43 & 80.93 & 7 & 93.83 & 90.0 & 88.12 \\\\\n",
       "\t10 & 102.87 & 21.53 & 8 & 71.79 & 36.11 & 54.37 \\\\\n",
       "\t11 & 92.93 & 78.7 & 7 & 74.35 & 73.89 & 86.25 \\\\\n",
       "\t12 & 82.01 & 102.59 & 7 & 53.36 & 56.39 & 74.38 \\\\\n",
       "\t13 & 57.97 & 85.19 & 7 & 89.89 & 51.67 & 32.5 \\\\\n",
       "\t14 & 91.58 & 71.85 & 8 & 87.52 & 85.0 & 56.25 \\\\\n",
       "\t15 & 100.42 & 102.59 & 8 & 97.33 & 83.06 & 69.38 \\\\\n",
       "\t16 & 101.68 & 21.53 & 8 & 71.79 & 49.44 & 75.0 \\\\\n",
       "\t17 & 102.99 & 99.07 & 8 & 95.05 & 50.0 & 56.25 \\\\\n",
       "\t18 & 89.08 & 16.91 & 8 & 84.8 & 35.83 & 44.38 \\\\\n",
       "\t19 & 95.64 & 72.22 & 8 & 67.29 & 43.33 & 48.12 \\\\\n",
       "\t20 & 105.57 & 104.44 & 7 & 100.83 & 108.89 & 101.25 \\\\\n",
       "\t21 & 98.47 & 83.33 & 8 & 85.01 & 72.22 & 91.25 \\\\\n",
       "\t22 & 63.39 & 93.7 & 5 & 88.09 & 50.83 & 74.38 \\\\\n",
       "\t23 & 95.67 & 103.52 & 8 & 85.42 & 64.72 & 56.25 \\\\\n",
       "\t24 & 88.11 & 97.41 & 8 & 96.73 & 65.56 & 71.88 \\\\\n",
       "\t25 & 94.01 & 100.0 & 7 & 95.14 & 95.0 & 99.38 \\\\\n",
       "\t26 & 105.49 & 99.07 & 8 & 95.05 & 68.33 & 67.5 \\\\\n",
       "\t27 & 62.64 & 85.19 & 4 & 86.86 & 62.78 & 92.5 \\\\\n",
       "\t28 & 92.8 & 72.78 & 8 & 80.53 & 66.67 & 51.25 \\\\\n",
       "\t29 & 97.52 & 61.11 & 8 & 75.27 & 66.11 & 63.12 \\\\\n",
       "\t30 & 86.85 &  & 7 & 72.85 & 56.11 & 60.0 \\\\\n",
       "\t$\\dots$ & $\\dots$ & $\\dots$ & $\\dots$ & $\\dots$ & $\\dots$ & $\\dots$ \\\\\n",
       "\\end{tabular}\n"
      ],
      "text/plain": [
       "99×6 DataFrame\n",
       "│ Row │ Tutorial │ TakeHome │ Prefix │ Assignment │ Final    │ Midterm │\n",
       "│     │ \u001b[90mFloat64\u001b[39m  │ \u001b[90mFloat64⍰\u001b[39m │ \u001b[90mInt64\u001b[39m  │ \u001b[90mFloat64\u001b[39m    │ \u001b[90mFloat64⍰\u001b[39m │ \u001b[90mFloat64\u001b[39m │\n",
       "├─────┼──────────┼──────────┼────────┼────────────┼──────────┼─────────┤\n",
       "│ 1   │ 70.24    │ 52.41    │ 6      │ 95.05      │ 47.78    │ 52.5    │\n",
       "│ 2   │ 58.51    │ 53.7     │ 6      │ 28.14      │ 68.33    │ 72.5    │\n",
       "│ 3   │ 65.7     │ 103.52   │ 7      │ 74.29      │ 55.0     │ 78.75   │\n",
       "│ 4   │ 76.13    │ 99.81    │ 7      │ 95.6       │ 85.56    │ 66.25   │\n",
       "│ 5   │ 82.28    │ 108.33   │ 7      │ 95.6       │ 78.33    │ 76.88   │\n",
       "│ 6   │ 86.67    │ 71.85    │ 8      │ 75.27      │ 80.0     │ 70.0    │\n",
       "│ 7   │ 102.87   │ 24.77    │ 8      │ 71.79      │ \u001b[90mmissing\u001b[39m  │ 41.88   │\n",
       "│ 8   │ 88.81    │ 77.96    │ 7      │ 86.29      │ 75.83    │ 83.12   │\n",
       "│ 9   │ 95.43    │ 80.93    │ 7      │ 93.83      │ 90.0     │ 88.12   │\n",
       "│ 10  │ 102.87   │ 21.53    │ 8      │ 71.79      │ 36.11    │ 54.37   │\n",
       "⋮\n",
       "│ 89  │ 94.89    │ 107.41   │ 8      │ 91.32      │ 85.56    │ 76.25   │\n",
       "│ 90  │ 112.58   │ 86.11    │ 7      │ 92.01      │ 83.33    │ 86.25   │\n",
       "│ 91  │ 91.95    │ 105.93   │ 8      │ 81.22      │ 90.0     │ 79.38   │\n",
       "│ 92  │ 83.17    │ 63.15    │ 8      │ 83.7       │ 57.78    │ 60.62   │\n",
       "│ 93  │ 106.74   │ 108.89   │ 8      │ 97.33      │ 83.89    │ 76.88   │\n",
       "│ 94  │ 86.85    │ 60.37    │ 7      │ 72.85      │ 46.67    │ 41.25   │\n",
       "│ 95  │ 104.18   │ 96.85    │ 8      │ 93.01      │ 67.22    │ 55.0    │\n",
       "│ 96  │ 88.3     │ 100.93   │ 7      │ 98.58      │ 99.17    │ 90.62   │\n",
       "│ 97  │ 103.02   │ 106.48   │ 8      │ 97.0       │ 94.44    │ 93.12   │\n",
       "│ 98  │ 83.17    │ 63.15    │ 8      │ 83.7       │ 48.89    │ 30.0    │\n",
       "│ 99  │ 65.11    │ 57.41    │ 8      │ 68.95      │ 65.28    │ 44.38   │"
      ]
     },
     "execution_count": 3,
     "metadata": {},
     "output_type": "execute_result"
    }
   ],
   "source": [
    "using Random\n",
    "Random.seed!(1)\n",
    "df2 = df1[shuffle(axes(df1, 1)), shuffle(axes(df1, 2))]"
   ]
  },
  {
   "cell_type": "code",
   "execution_count": 4,
   "metadata": {},
   "outputs": [
    {
     "data": {
      "text/plain": [
       "1-element Array{String,1}:\n",
       " \"both\""
      ]
     },
     "execution_count": 4,
     "metadata": {},
     "output_type": "execute_result"
    }
   ],
   "source": [
    "res = join(df1, df2, kind=:outer,\n",
    "            on=union(names(df1), names(df2)),\n",
    "            indicator=:check, validate=(true, true))\n",
    "unique(res.check)"
   ]
  },
  {
   "cell_type": "code",
   "execution_count": 5,
   "metadata": {},
   "outputs": [
    {
     "data": {
      "text/html": [
       "<table class=\"data-frame\"><thead><tr><th></th><th>check</th><th>x1</th></tr><tr><th></th><th>Categorical…</th><th>Int64</th></tr></thead><tbody><p>3 rows × 2 columns</p><tr><th>1</th><td>left_only</td><td>1</td></tr><tr><th>2</th><td>right_only</td><td>1</td></tr><tr><th>3</th><td>both</td><td>97</td></tr></tbody></table>"
      ],
      "text/latex": [
       "\\begin{tabular}{r|cc}\n",
       "\t& check & x1\\\\\n",
       "\t\\hline\n",
       "\t& Categorical… & Int64\\\\\n",
       "\t\\hline\n",
       "\t1 & left\\_only & 1 \\\\\n",
       "\t2 & right\\_only & 1 \\\\\n",
       "\t3 & both & 97 \\\\\n",
       "\\end{tabular}\n"
      ],
      "text/plain": [
       "3×2 DataFrame\n",
       "│ Row │ check        │ x1    │\n",
       "│     │ \u001b[90mCategorical…\u001b[39m │ \u001b[90mInt64\u001b[39m │\n",
       "├─────┼──────────────┼───────┤\n",
       "│ 1   │ left_only    │ 1     │\n",
       "│ 2   │ right_only   │ 1     │\n",
       "│ 3   │ both         │ 97    │"
      ]
     },
     "execution_count": 5,
     "metadata": {},
     "output_type": "execute_result"
    }
   ],
   "source": [
    "res = join(df1[1:end-1,:], df2[2:end,:], kind=:outer,\n",
    "            on=union(names(df1), names(df2)),\n",
    "            indicator=:check, validate=(true, true))\n",
    "by(res, :check, nrow)"
   ]
  },
  {
   "cell_type": "code",
   "execution_count": 6,
   "metadata": {},
   "outputs": [
    {
     "data": {
      "text/plain": [
       "true"
      ]
     },
     "execution_count": 6,
     "metadata": {},
     "output_type": "execute_result"
    }
   ],
   "source": [
    "using StatsBase\n",
    "df_id(df) = countmap(collect(eachrow(df[:, sort(names(df))])))\n",
    "df_id(df1) == df_id(df2)"
   ]
  },
  {
   "cell_type": "code",
   "execution_count": null,
   "metadata": {
    "collapsed": true
   },
   "outputs": [],
   "source": []
  }
 ],
 "metadata": {
  "@webio": {
   "lastCommId": null,
   "lastKernelId": null
  },
  "kernelspec": {
   "display_name": "Julia 1.2.0",
   "language": "julia",
   "name": "julia-1.2"
  },
  "language_info": {
   "file_extension": ".jl",
   "mimetype": "application/julia",
   "name": "julia",
   "version": "1.2.0"
  }
 },
 "nbformat": 4,
 "nbformat_minor": 1
}

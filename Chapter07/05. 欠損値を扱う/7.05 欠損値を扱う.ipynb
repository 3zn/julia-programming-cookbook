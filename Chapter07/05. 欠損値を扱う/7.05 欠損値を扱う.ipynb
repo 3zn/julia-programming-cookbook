{
 "cells": [
  {
   "cell_type": "code",
   "execution_count": 1,
   "metadata": {},
   "outputs": [],
   "source": [
    "# using Pkg; Pkg.add(\"DataFrames\"); Pkg.add(\"CSV\")"
   ]
  },
  {
   "cell_type": "code",
   "execution_count": 2,
   "metadata": {},
   "outputs": [
    {
     "data": {
      "text/plain": [
       "\"grades.csv\""
      ]
     },
     "execution_count": 2,
     "metadata": {},
     "output_type": "execute_result"
    }
   ],
   "source": [
    "download(\"https://openmv.net/file/class-grades.csv\", \"grades.csv\")\n"
   ]
  },
  {
   "cell_type": "code",
   "execution_count": 3,
   "metadata": {},
   "outputs": [],
   "source": [
    "using CSV, DataFrames, Statistics"
   ]
  },
  {
   "cell_type": "code",
   "execution_count": 4,
   "metadata": {},
   "outputs": [
    {
     "name": "stdout",
     "output_type": "stream",
     "text": [
      "warning: parsed expected 6 columns, but didn't reach end of line on data row: 21. Ignoring any extra columns on this row\n",
      "warning: parsed expected 6 columns, but didn't reach end of line on data row: 39. Ignoring any extra columns on this row\n",
      "warning: parsed expected 6 columns, but didn't reach end of line on data row: 61. Ignoring any extra columns on this row\n"
     ]
    }
   ],
   "source": [
    "df = CSV.read(\"grades.csv\");"
   ]
  },
  {
   "cell_type": "code",
   "execution_count": 5,
   "metadata": {},
   "outputs": [
    {
     "data": {
      "text/plain": [
       "\"99×6 DataFrame\""
      ]
     },
     "execution_count": 5,
     "metadata": {},
     "output_type": "execute_result"
    }
   ],
   "source": [
    "summary(df)"
   ]
  },
  {
   "cell_type": "code",
   "execution_count": 6,
   "metadata": {},
   "outputs": [
    {
     "data": {
      "text/html": [
       "<table class=\"data-frame\"><thead><tr><th></th><th>variable</th><th>min</th><th>max</th><th>nmissing</th></tr><tr><th></th><th>Symbol</th><th>Real</th><th>Real</th><th>Union…</th></tr></thead><tbody><p>6 rows × 4 columns</p><tr><th>1</th><td>Prefix</td><td>4</td><td>8</td><td></td></tr><tr><th>2</th><td>Assignment</td><td>28.14</td><td>100.83</td><td></td></tr><tr><th>3</th><td>Tutorial</td><td>34.09</td><td>112.58</td><td></td></tr><tr><th>4</th><td>Midterm</td><td>28.12</td><td>110.0</td><td></td></tr><tr><th>5</th><td>TakeHome</td><td>16.91</td><td>108.89</td><td>1</td></tr><tr><th>6</th><td>Final</td><td>28.06</td><td>108.89</td><td>3</td></tr></tbody></table>"
      ],
      "text/latex": [
       "\\begin{tabular}{r|cccc}\n",
       "\t& variable & min & max & nmissing\\\\\n",
       "\t\\hline\n",
       "\t& Symbol & Real & Real & Union…\\\\\n",
       "\t\\hline\n",
       "\t1 & Prefix & 4 & 8 &  \\\\\n",
       "\t2 & Assignment & 28.14 & 100.83 &  \\\\\n",
       "\t3 & Tutorial & 34.09 & 112.58 &  \\\\\n",
       "\t4 & Midterm & 28.12 & 110.0 &  \\\\\n",
       "\t5 & TakeHome & 16.91 & 108.89 & 1 \\\\\n",
       "\t6 & Final & 28.06 & 108.89 & 3 \\\\\n",
       "\\end{tabular}\n"
      ],
      "text/plain": [
       "6×4 DataFrame\n",
       "│ Row │ variable   │ min   │ max    │ nmissing │\n",
       "│     │ \u001b[90mSymbol\u001b[39m     │ \u001b[90mReal\u001b[39m  │ \u001b[90mReal\u001b[39m   │ \u001b[90mUnion…\u001b[39m   │\n",
       "├─────┼────────────┼───────┼────────┼──────────┤\n",
       "│ 1   │ Prefix     │ 4     │ 8      │          │\n",
       "│ 2   │ Assignment │ 28.14 │ 100.83 │          │\n",
       "│ 3   │ Tutorial   │ 34.09 │ 112.58 │          │\n",
       "│ 4   │ Midterm    │ 28.12 │ 110.0  │          │\n",
       "│ 5   │ TakeHome   │ 16.91 │ 108.89 │ 1        │\n",
       "│ 6   │ Final      │ 28.06 │ 108.89 │ 3        │"
      ]
     },
     "execution_count": 6,
     "metadata": {},
     "output_type": "execute_result"
    }
   ],
   "source": [
    "describe(df, :min, :max, :nmissing)"
   ]
  },
  {
   "cell_type": "code",
   "execution_count": 7,
   "metadata": {},
   "outputs": [
    {
     "name": "stdout",
     "output_type": "stream",
     "text": [
      "warning: parsed expected 6 columns, but didn't reach end of line on data row: 21. Ignoring any extra columns on this row\n",
      "warning: parsed expected 6 columns, but didn't reach end of line on data row: 39. Ignoring any extra columns on this row\n",
      "warning: parsed expected 6 columns, but didn't reach end of line on data row: 61. Ignoring any extra columns on this row\n"
     ]
    },
    {
     "name": "stderr",
     "output_type": "stream",
     "text": [
      "┌ Warning: `CSV.validate` is deprecated. `CSV.read` now prints warnings on misshapen files.\n",
      "│   caller = top-level scope at In[7]:1\n",
      "└ @ Core In[7]:1\n"
     ]
    }
   ],
   "source": [
    "CSV.validate(\"grades.csv\")"
   ]
  },
  {
   "cell_type": "code",
   "execution_count": 8,
   "metadata": {},
   "outputs": [
    {
     "data": {
      "text/plain": [
       "6×6 Array{Union{Missing, Float64},2}:\n",
       "  1.0        0.0224759  0.431078  -0.0625435  missing  missing\n",
       "  0.0224759  1.0        0.440115   0.215868   missing  missing\n",
       "  0.431078   0.440115   1.0        0.135597   missing  missing\n",
       " -0.0625435  0.215868   0.135597   1.0        missing  missing\n",
       "   missing    missing    missing    missing   missing  missing\n",
       "   missing    missing    missing    missing   missing  missing"
      ]
     },
     "execution_count": 8,
     "metadata": {},
     "output_type": "execute_result"
    }
   ],
   "source": [
    "[cor(df[!, i], df[!, j]) for i in axes(df, 2), j in axes(df, 2)]"
   ]
  },
  {
   "cell_type": "code",
   "execution_count": 9,
   "metadata": {},
   "outputs": [],
   "source": [
    "df2 = dropmissing(df);"
   ]
  },
  {
   "cell_type": "code",
   "execution_count": 10,
   "metadata": {},
   "outputs": [
    {
     "data": {
      "text/html": [
       "<table class=\"data-frame\"><thead><tr><th></th><th>variable</th><th>nmissing</th></tr><tr><th></th><th>Symbol</th><th>Nothing</th></tr></thead><tbody><p>6 rows × 2 columns</p><tr><th>1</th><td>Prefix</td><td></td></tr><tr><th>2</th><td>Assignment</td><td></td></tr><tr><th>3</th><td>Tutorial</td><td></td></tr><tr><th>4</th><td>Midterm</td><td></td></tr><tr><th>5</th><td>TakeHome</td><td></td></tr><tr><th>6</th><td>Final</td><td></td></tr></tbody></table>"
      ],
      "text/latex": [
       "\\begin{tabular}{r|cc}\n",
       "\t& variable & nmissing\\\\\n",
       "\t\\hline\n",
       "\t& Symbol & Nothing\\\\\n",
       "\t\\hline\n",
       "\t1 & Prefix &  \\\\\n",
       "\t2 & Assignment &  \\\\\n",
       "\t3 & Tutorial &  \\\\\n",
       "\t4 & Midterm &  \\\\\n",
       "\t5 & TakeHome &  \\\\\n",
       "\t6 & Final &  \\\\\n",
       "\\end{tabular}\n"
      ],
      "text/plain": [
       "6×2 DataFrame\n",
       "│ Row │ variable   │ nmissing │\n",
       "│     │ \u001b[90mSymbol\u001b[39m     │ \u001b[90mNothing\u001b[39m  │\n",
       "├─────┼────────────┼──────────┤\n",
       "│ 1   │ Prefix     │          │\n",
       "│ 2   │ Assignment │          │\n",
       "│ 3   │ Tutorial   │          │\n",
       "│ 4   │ Midterm    │          │\n",
       "│ 5   │ TakeHome   │          │\n",
       "│ 6   │ Final      │          │"
      ]
     },
     "execution_count": 10,
     "metadata": {},
     "output_type": "execute_result"
    }
   ],
   "source": [
    "describe(df2, :nmissing)"
   ]
  },
  {
   "cell_type": "code",
   "execution_count": 11,
   "metadata": {},
   "outputs": [
    {
     "data": {
      "text/plain": [
       "6×6 Array{Float64,2}:\n",
       "  1.0        0.0484327  0.434525  -0.0586403  -0.0689997  0.0881758\n",
       "  0.0484327  1.0        0.459001   0.200715    0.483206   0.286304 \n",
       "  0.434525   0.459001   1.0        0.148637    0.238167   0.23987  \n",
       " -0.0586403  0.200715   0.148637   1.0         0.42719    0.724478 \n",
       " -0.0689997  0.483206   0.238167   0.42719     1.0        0.474231 \n",
       "  0.0881758  0.286304   0.23987    0.724478    0.474231   1.0      "
      ]
     },
     "execution_count": 11,
     "metadata": {},
     "output_type": "execute_result"
    }
   ],
   "source": [
    "[cor(df2[!, i], df2[!, j]) for i in axes(df2, 2), j in axes(df2, 2)]"
   ]
  },
  {
   "cell_type": "code",
   "execution_count": 12,
   "metadata": {},
   "outputs": [
    {
     "data": {
      "text/plain": [
       "cor2 (generic function with 1 method)"
      ]
     },
     "execution_count": 12,
     "metadata": {},
     "output_type": "execute_result"
    }
   ],
   "source": [
    "function cor2(x, y)\n",
    "    df = dropmissing(DataFrame([x, y]))\n",
    "    cor(df[!, 1], df[!, 2])\n",
    "end"
   ]
  },
  {
   "cell_type": "code",
   "execution_count": 13,
   "metadata": {},
   "outputs": [
    {
     "data": {
      "text/plain": [
       "6×6 Array{Float64,2}:\n",
       "  1.0        0.0224759  0.431078  -0.0625435  -0.0916684  0.0902548\n",
       "  0.0224759  1.0        0.440115   0.215868    0.492297   0.291232 \n",
       "  0.431078   0.440115   1.0        0.135597    0.209513   0.240551 \n",
       " -0.0625435  0.215868   0.135597   1.0         0.442408   0.725121 \n",
       " -0.0916684  0.492297   0.209513   0.442408    1.0        0.474231 \n",
       "  0.0902548  0.291232   0.240551   0.725121    0.474231   1.0      "
      ]
     },
     "execution_count": 13,
     "metadata": {},
     "output_type": "execute_result"
    }
   ],
   "source": [
    "[cor2(df[!, i], df[!, j]) for i in axes(df, 2), j in axes(df, 2)]"
   ]
  },
  {
   "cell_type": "code",
   "execution_count": 14,
   "metadata": {},
   "outputs": [
    {
     "data": {
      "text/plain": [
       "4-element Array{Int64,1}:\n",
       " 0\n",
       " 2\n",
       " 0\n",
       " 5"
      ]
     },
     "execution_count": 14,
     "metadata": {},
     "output_type": "execute_result"
    }
   ],
   "source": [
    "coalesce.([missing,2,missing,5],0)"
   ]
  },
  {
   "cell_type": "code",
   "execution_count": 15,
   "metadata": {},
   "outputs": [
    {
     "data": {
      "text/plain": [
       "2"
      ]
     },
     "execution_count": 15,
     "metadata": {},
     "output_type": "execute_result"
    }
   ],
   "source": [
    "coalesce(missing, missing, 2, 1)"
   ]
  },
  {
   "cell_type": "code",
   "execution_count": 16,
   "metadata": {},
   "outputs": [
    {
     "data": {
      "text/plain": [
       "99-element BitArray{1}:\n",
       " 1\n",
       " 1\n",
       " 1\n",
       " 1\n",
       " 1\n",
       " 1\n",
       " 1\n",
       " 0\n",
       " 1\n",
       " 1\n",
       " 1\n",
       " 1\n",
       " 1\n",
       " ⋮\n",
       " 1\n",
       " 1\n",
       " 1\n",
       " 1\n",
       " 1\n",
       " 1\n",
       " 1\n",
       " 1\n",
       " 1\n",
       " 1\n",
       " 1\n",
       " 1"
      ]
     },
     "execution_count": 16,
     "metadata": {},
     "output_type": "execute_result"
    }
   ],
   "source": [
    "completecases(df)"
   ]
  },
  {
   "cell_type": "code",
   "execution_count": null,
   "metadata": {},
   "outputs": [],
   "source": []
  },
  {
   "cell_type": "code",
   "execution_count": null,
   "metadata": {},
   "outputs": [],
   "source": []
  },
  {
   "cell_type": "code",
   "execution_count": 17,
   "metadata": {},
   "outputs": [
    {
     "data": {
      "text/plain": [
       "missing"
      ]
     },
     "execution_count": 17,
     "metadata": {},
     "output_type": "execute_result"
    }
   ],
   "source": [
    "sin(missing)"
   ]
  },
  {
   "cell_type": "code",
   "execution_count": 18,
   "metadata": {},
   "outputs": [
    {
     "data": {
      "text/plain": [
       "missing"
      ]
     },
     "execution_count": 18,
     "metadata": {},
     "output_type": "execute_result"
    }
   ],
   "source": [
    "1 + missing"
   ]
  },
  {
   "cell_type": "code",
   "execution_count": 19,
   "metadata": {},
   "outputs": [
    {
     "data": {
      "text/plain": [
       "4-element Array{Union{Missing, String},1}:\n",
       " \"a\"    \n",
       " \"bb\"   \n",
       " missing\n",
       " \"dddd\" "
      ]
     },
     "execution_count": 19,
     "metadata": {},
     "output_type": "execute_result"
    }
   ],
   "source": [
    "s = [\"a\", \"bb\", missing, \"dddd\"]"
   ]
  },
  {
   "cell_type": "code",
   "execution_count": 20,
   "metadata": {},
   "outputs": [
    {
     "data": {
      "text/plain": [
       "4-element Array{Union{Missing, Int64},1}:\n",
       " 1       \n",
       " 2       \n",
       "  missing\n",
       " 4       "
      ]
     },
     "execution_count": 20,
     "metadata": {},
     "output_type": "execute_result"
    }
   ],
   "source": [
    "(x -> isequal(x, missing) ? missing : length(x)).(s)"
   ]
  },
  {
   "cell_type": "code",
   "execution_count": 21,
   "metadata": {},
   "outputs": [
    {
     "data": {
      "text/plain": [
       "missing"
      ]
     },
     "execution_count": 21,
     "metadata": {},
     "output_type": "execute_result"
    }
   ],
   "source": [
    "1 == missing"
   ]
  },
  {
   "cell_type": "code",
   "execution_count": 22,
   "metadata": {},
   "outputs": [
    {
     "data": {
      "text/plain": [
       "missing"
      ]
     },
     "execution_count": 22,
     "metadata": {},
     "output_type": "execute_result"
    }
   ],
   "source": [
    "missing == missing"
   ]
  },
  {
   "cell_type": "code",
   "execution_count": 23,
   "metadata": {},
   "outputs": [
    {
     "data": {
      "text/plain": [
       "missing"
      ]
     },
     "execution_count": 23,
     "metadata": {},
     "output_type": "execute_result"
    }
   ],
   "source": [
    "1 < missing"
   ]
  },
  {
   "cell_type": "code",
   "execution_count": 24,
   "metadata": {},
   "outputs": [
    {
     "data": {
      "text/plain": [
       "false"
      ]
     },
     "execution_count": 24,
     "metadata": {},
     "output_type": "execute_result"
    }
   ],
   "source": [
    "isequal(1, missing)"
   ]
  },
  {
   "cell_type": "code",
   "execution_count": 25,
   "metadata": {},
   "outputs": [
    {
     "data": {
      "text/plain": [
       "true"
      ]
     },
     "execution_count": 25,
     "metadata": {},
     "output_type": "execute_result"
    }
   ],
   "source": [
    "isequal(missing, missing)"
   ]
  },
  {
   "cell_type": "code",
   "execution_count": 26,
   "metadata": {},
   "outputs": [
    {
     "data": {
      "text/plain": [
       "true"
      ]
     },
     "execution_count": 26,
     "metadata": {},
     "output_type": "execute_result"
    }
   ],
   "source": [
    "isless(1, missing)"
   ]
  },
  {
   "cell_type": "code",
   "execution_count": 27,
   "metadata": {},
   "outputs": [
    {
     "data": {
      "text/plain": [
       "true"
      ]
     },
     "execution_count": 27,
     "metadata": {},
     "output_type": "execute_result"
    }
   ],
   "source": [
    "isless(Inf, missing)"
   ]
  },
  {
   "cell_type": "code",
   "execution_count": 28,
   "metadata": {},
   "outputs": [],
   "source": [
    "using Statistics\n",
    "\n",
    "abstract type CorMethod end\n",
    "struct CorAll <: CorMethod end\n",
    "struct CorComplete <: CorMethod end\n",
    "struct CorPairwise <: CorMethod end\n",
    "\n",
    "function Statistics.cor(df::DataFrame; method::CorMethod=CorAll())\n",
    "    cor1(i, j) = nrow(df) == 0 ? missing : cor(df2[!, i], df2[!, j])\n",
    "\n",
    "    function cor2(i, j)\n",
    "        x = dropmissing(DataFrame([df2[!, i], df2[!, j]]))\n",
    "        nrow(x) == 0 ? missing : cor(x[!, 1], x[!, 2])\n",
    "    end\n",
    "\n",
    "    use_cor = method == CorPairwise() ? cor2 : cor1\n",
    "    df2 = method == CorComplete() ? dropmissing(df) : df\n",
    "\n",
    "    m = Matrix{Union{Float64, Missing}}(undef, ncol(df), ncol(df))\n",
    "    for i in 1:ncol(df), j in i:ncol(df)\n",
    "        m[i, j] = use_cor(i, j)\n",
    "        m[j, i] = m[i, j]\n",
    "    end\n",
    "    m\n",
    "end"
   ]
  },
  {
   "cell_type": "code",
   "execution_count": 29,
   "metadata": {},
   "outputs": [
    {
     "data": {
      "text/plain": [
       "6×6 Array{Union{Missing, Float64},2}:\n",
       "  1.0        0.0224759  0.431078  -0.0625435  missing  missing\n",
       "  0.0224759  1.0        0.440115   0.215868   missing  missing\n",
       "  0.431078   0.440115   1.0        0.135597   missing  missing\n",
       " -0.0625435  0.215868   0.135597   1.0        missing  missing\n",
       "   missing    missing    missing    missing   missing  missing\n",
       "   missing    missing    missing    missing   missing  missing"
      ]
     },
     "execution_count": 29,
     "metadata": {},
     "output_type": "execute_result"
    }
   ],
   "source": [
    "cor(df)"
   ]
  },
  {
   "cell_type": "code",
   "execution_count": 30,
   "metadata": {},
   "outputs": [
    {
     "data": {
      "text/plain": [
       "6×6 Array{Union{Missing, Float64},2}:\n",
       "  1.0        0.0484327  0.434525  -0.0586403  -0.0689997  0.0881758\n",
       "  0.0484327  1.0        0.459001   0.200715    0.483206   0.286304 \n",
       "  0.434525   0.459001   1.0        0.148637    0.238167   0.23987  \n",
       " -0.0586403  0.200715   0.148637   1.0         0.42719    0.724478 \n",
       " -0.0689997  0.483206   0.238167   0.42719     1.0        0.474231 \n",
       "  0.0881758  0.286304   0.23987    0.724478    0.474231   1.0      "
      ]
     },
     "execution_count": 30,
     "metadata": {},
     "output_type": "execute_result"
    }
   ],
   "source": [
    "cor(df, method=CorComplete())"
   ]
  },
  {
   "cell_type": "code",
   "execution_count": 31,
   "metadata": {},
   "outputs": [
    {
     "data": {
      "text/plain": [
       "6×6 Array{Union{Missing, Float64},2}:\n",
       "  1.0        0.0224759  0.431078  -0.0625435  -0.0916684  0.0902548\n",
       "  0.0224759  1.0        0.440115   0.215868    0.492297   0.291232 \n",
       "  0.431078   0.440115   1.0        0.135597    0.209513   0.240551 \n",
       " -0.0625435  0.215868   0.135597   1.0         0.442408   0.725121 \n",
       " -0.0916684  0.492297   0.209513   0.442408    1.0        0.474231 \n",
       "  0.0902548  0.291232   0.240551   0.725121    0.474231   1.0      "
      ]
     },
     "execution_count": 31,
     "metadata": {},
     "output_type": "execute_result"
    }
   ],
   "source": [
    "cor(df, method=CorPairwise())"
   ]
  },
  {
   "cell_type": "code",
   "execution_count": null,
   "metadata": {},
   "outputs": [],
   "source": []
  },
  {
   "cell_type": "code",
   "execution_count": null,
   "metadata": {},
   "outputs": [],
   "source": []
  },
  {
   "cell_type": "code",
   "execution_count": null,
   "metadata": {},
   "outputs": [],
   "source": []
  }
 ],
 "metadata": {
  "@webio": {
   "lastCommId": null,
   "lastKernelId": null
  },
  "kernelspec": {
   "display_name": "Julia 1.2.0",
   "language": "julia",
   "name": "julia-1.2"
  },
  "language_info": {
   "file_extension": ".jl",
   "mimetype": "application/julia",
   "name": "julia",
   "version": "1.2.0"
  }
 },
 "nbformat": 4,
 "nbformat_minor": 1
}

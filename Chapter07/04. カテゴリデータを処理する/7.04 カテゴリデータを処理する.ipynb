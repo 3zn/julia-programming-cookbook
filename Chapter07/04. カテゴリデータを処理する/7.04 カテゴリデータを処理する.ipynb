{
 "cells": [
  {
   "cell_type": "code",
   "execution_count": 1,
   "metadata": {},
   "outputs": [
    {
     "data": {
      "text/plain": [
       "13-element Array{String,1}:\n",
       " \"F\" \n",
       " \"D-\"\n",
       " \"D\" \n",
       " \"D+\"\n",
       " \"C-\"\n",
       " \"C\" \n",
       " \"C+\"\n",
       " \"B-\"\n",
       " \"B\" \n",
       " \"B+\"\n",
       " \"A-\"\n",
       " \"A\" \n",
       " \"A+\""
      ]
     },
     "execution_count": 1,
     "metadata": {},
     "output_type": "execute_result"
    }
   ],
   "source": [
    "using DataFrames\n",
    "grade_levels = [\"F\"; [x*y for x in 'D':-1:'A' for y in [\"-\", \"\", \"+\"]]]"
   ]
  },
  {
   "cell_type": "code",
   "execution_count": 2,
   "metadata": {},
   "outputs": [],
   "source": [
    "using Random\n",
    "Random.seed!(1);\n",
    "grades = categorical(rand(grade_levels, 100), ordered=true);\n",
    "levels!(grades, grade_levels);\n",
    "df = DataFrame(id=eachindex(grades), grades = grades);"
   ]
  },
  {
   "cell_type": "code",
   "execution_count": 3,
   "metadata": {},
   "outputs": [
    {
     "data": {
      "text/plain": [
       "true"
      ]
     },
     "execution_count": 3,
     "metadata": {},
     "output_type": "execute_result"
    }
   ],
   "source": [
    "isordered(grades)\n"
   ]
  },
  {
   "cell_type": "code",
   "execution_count": 4,
   "metadata": {},
   "outputs": [
    {
     "data": {
      "text/plain": [
       "13-element Array{String,1}:\n",
       " \"F\" \n",
       " \"D-\"\n",
       " \"D\" \n",
       " \"D+\"\n",
       " \"C-\"\n",
       " \"C\" \n",
       " \"C+\"\n",
       " \"B-\"\n",
       " \"B\" \n",
       " \"B+\"\n",
       " \"A-\"\n",
       " \"A\" \n",
       " \"A+\""
      ]
     },
     "execution_count": 4,
     "metadata": {},
     "output_type": "execute_result"
    }
   ],
   "source": [
    "levels(grades)"
   ]
  },
  {
   "cell_type": "code",
   "execution_count": 5,
   "metadata": {},
   "outputs": [
    {
     "data": {
      "text/html": [
       "<table class=\"data-frame\"><thead><tr><th></th><th>variable</th><th>eltype</th></tr><tr><th></th><th>Symbol</th><th>DataType</th></tr></thead><tbody><p>2 rows × 2 columns</p><tr><th>1</th><td>id</td><td>Int64</td></tr><tr><th>2</th><td>grades</td><td>CategoricalString{UInt32}</td></tr></tbody></table>"
      ],
      "text/latex": [
       "\\begin{tabular}{r|cc}\n",
       "\t& variable & eltype\\\\\n",
       "\t\\hline\n",
       "\t& Symbol & DataType\\\\\n",
       "\t\\hline\n",
       "\t1 & id & Int64 \\\\\n",
       "\t2 & grades & CategoricalString\\{UInt32\\} \\\\\n",
       "\\end{tabular}\n"
      ],
      "text/plain": [
       "2×2 DataFrame\n",
       "│ Row │ variable │ eltype                    │\n",
       "│     │ \u001b[90mSymbol\u001b[39m   │ \u001b[90mDataType\u001b[39m                  │\n",
       "├─────┼──────────┼───────────────────────────┤\n",
       "│ 1   │ id       │ Int64                     │\n",
       "│ 2   │ grades   │ CategoricalString{UInt32} │"
      ]
     },
     "execution_count": 5,
     "metadata": {},
     "output_type": "execute_result"
    }
   ],
   "source": [
    "describe(df, :eltype)"
   ]
  },
  {
   "cell_type": "code",
   "execution_count": 6,
   "metadata": {},
   "outputs": [
    {
     "data": {
      "text/html": [
       "<table class=\"data-frame\"><thead><tr><th></th><th>id</th><th>grades</th></tr><tr><th></th><th>Int64</th><th>Categorical…</th></tr></thead><tbody><p>15 rows × 2 columns</p><tr><th>1</th><td>6</td><td>A</td></tr><tr><th>2</th><td>9</td><td>A+</td></tr><tr><th>3</th><td>13</td><td>A+</td></tr><tr><th>4</th><td>15</td><td>A</td></tr><tr><th>5</th><td>23</td><td>A+</td></tr><tr><th>6</th><td>26</td><td>A</td></tr><tr><th>7</th><td>40</td><td>A</td></tr><tr><th>8</th><td>44</td><td>A</td></tr><tr><th>9</th><td>47</td><td>A</td></tr><tr><th>10</th><td>48</td><td>A</td></tr><tr><th>11</th><td>49</td><td>A</td></tr><tr><th>12</th><td>63</td><td>A</td></tr><tr><th>13</th><td>70</td><td>A</td></tr><tr><th>14</th><td>75</td><td>A+</td></tr><tr><th>15</th><td>93</td><td>A</td></tr></tbody></table>"
      ],
      "text/latex": [
       "\\begin{tabular}{r|cc}\n",
       "\t& id & grades\\\\\n",
       "\t\\hline\n",
       "\t& Int64 & Categorical…\\\\\n",
       "\t\\hline\n",
       "\t1 & 6 & A \\\\\n",
       "\t2 & 9 & A+ \\\\\n",
       "\t3 & 13 & A+ \\\\\n",
       "\t4 & 15 & A \\\\\n",
       "\t5 & 23 & A+ \\\\\n",
       "\t6 & 26 & A \\\\\n",
       "\t7 & 40 & A \\\\\n",
       "\t8 & 44 & A \\\\\n",
       "\t9 & 47 & A \\\\\n",
       "\t10 & 48 & A \\\\\n",
       "\t11 & 49 & A \\\\\n",
       "\t12 & 63 & A \\\\\n",
       "\t13 & 70 & A \\\\\n",
       "\t14 & 75 & A+ \\\\\n",
       "\t15 & 93 & A \\\\\n",
       "\\end{tabular}\n"
      ],
      "text/plain": [
       "15×2 DataFrame\n",
       "│ Row │ id    │ grades       │\n",
       "│     │ \u001b[90mInt64\u001b[39m │ \u001b[90mCategorical…\u001b[39m │\n",
       "├─────┼───────┼──────────────┤\n",
       "│ 1   │ 6     │ A            │\n",
       "│ 2   │ 9     │ A+           │\n",
       "│ 3   │ 13    │ A+           │\n",
       "│ 4   │ 15    │ A            │\n",
       "│ 5   │ 23    │ A+           │\n",
       "│ 6   │ 26    │ A            │\n",
       "│ 7   │ 40    │ A            │\n",
       "│ 8   │ 44    │ A            │\n",
       "│ 9   │ 47    │ A            │\n",
       "│ 10  │ 48    │ A            │\n",
       "│ 11  │ 49    │ A            │\n",
       "│ 12  │ 63    │ A            │\n",
       "│ 13  │ 70    │ A            │\n",
       "│ 14  │ 75    │ A+           │\n",
       "│ 15  │ 93    │ A            │"
      ]
     },
     "execution_count": 6,
     "metadata": {},
     "output_type": "execute_result"
    }
   ],
   "source": [
    "filter(x -> x.grades > \"A-\", df)"
   ]
  },
  {
   "cell_type": "code",
   "execution_count": 7,
   "metadata": {},
   "outputs": [
    {
     "data": {
      "text/plain": [
       "10-element Array{String,1}:\n",
       " \"D grade\" \n",
       " \"B- grade\"\n",
       " \"D- grade\"\n",
       " \"C grade\" \n",
       " \"D grade\" \n",
       " \"A grade\" \n",
       " \"D grade\" \n",
       " \"D+ grade\"\n",
       " \"A+ grade\"\n",
       " \"C- grade\""
      ]
     },
     "execution_count": 7,
     "metadata": {},
     "output_type": "execute_result"
    }
   ],
   "source": [
    "grades[1:10] .* \" grade\"\n"
   ]
  },
  {
   "cell_type": "code",
   "execution_count": 8,
   "metadata": {},
   "outputs": [
    {
     "data": {
      "text/plain": [
       "72040"
      ]
     },
     "execution_count": 8,
     "metadata": {},
     "output_type": "execute_result"
    }
   ],
   "source": [
    "x = repeat([\"a\"^20, \"b\"^20], 1000);\n",
    "y = categorical(x);\n",
    "Base.summarysize(x)\n"
   ]
  },
  {
   "cell_type": "code",
   "execution_count": 9,
   "metadata": {},
   "outputs": [
    {
     "data": {
      "text/plain": [
       "8912"
      ]
     },
     "execution_count": 9,
     "metadata": {},
     "output_type": "execute_result"
    }
   ],
   "source": [
    "Base.summarysize(y)"
   ]
  },
  {
   "cell_type": "code",
   "execution_count": null,
   "metadata": {
    "collapsed": true
   },
   "outputs": [],
   "source": []
  }
 ],
 "metadata": {
  "@webio": {
   "lastCommId": null,
   "lastKernelId": null
  },
  "kernelspec": {
   "display_name": "Julia 1.2.0",
   "language": "julia",
   "name": "julia-1.2"
  },
  "language_info": {
   "file_extension": ".jl",
   "mimetype": "application/julia",
   "name": "julia",
   "version": "1.2.0"
  }
 },
 "nbformat": 4,
 "nbformat_minor": 1
}

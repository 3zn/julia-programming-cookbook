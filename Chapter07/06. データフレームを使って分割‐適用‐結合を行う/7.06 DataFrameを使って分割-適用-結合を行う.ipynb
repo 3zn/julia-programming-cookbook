{
 "cells": [
  {
   "cell_type": "code",
   "execution_count": 1,
   "metadata": {},
   "outputs": [],
   "source": [
    "#using Pkg; Pkg.add(\"DataFrames\"); Pkg.add(\"CVS\")"
   ]
  },
  {
   "cell_type": "code",
   "execution_count": 1,
   "metadata": {},
   "outputs": [
    {
     "name": "stdout",
     "output_type": "stream",
     "text": [
      "warning: only found 1 / 5 columns on data row: 151. Filling remaining columns with `missing`\n"
     ]
    },
    {
     "data": {
      "text/html": [
       "<table class=\"data-frame\"><thead><tr><th></th><th>variable</th><th>mean</th><th>nmissing</th></tr><tr><th></th><th>Symbol</th><th>Union…</th><th>Int64</th></tr></thead><tbody><p>5 rows × 3 columns</p><tr><th>1</th><td>PetalLength</td><td>5.84333</td><td>0</td></tr><tr><th>2</th><td>PetalWidth</td><td>3.054</td><td>0</td></tr><tr><th>3</th><td>SepalLength</td><td>3.75867</td><td>0</td></tr><tr><th>4</th><td>SepalWidth</td><td>1.19867</td><td>0</td></tr><tr><th>5</th><td>Class</td><td></td><td>0</td></tr></tbody></table>"
      ],
      "text/latex": [
       "\\begin{tabular}{r|ccc}\n",
       "\t& variable & mean & nmissing\\\\\n",
       "\t\\hline\n",
       "\t& Symbol & Union… & Int64\\\\\n",
       "\t\\hline\n",
       "\t1 & PetalLength & 5.84333 & 0 \\\\\n",
       "\t2 & PetalWidth & 3.054 & 0 \\\\\n",
       "\t3 & SepalLength & 3.75867 & 0 \\\\\n",
       "\t4 & SepalWidth & 1.19867 & 0 \\\\\n",
       "\t5 & Class &  & 0 \\\\\n",
       "\\end{tabular}\n"
      ],
      "text/plain": [
       "5×3 DataFrame\n",
       "│ Row │ variable    │ mean    │ nmissing │\n",
       "│     │ \u001b[90mSymbol\u001b[39m      │ \u001b[90mUnion…\u001b[39m  │ \u001b[90mInt64\u001b[39m    │\n",
       "├─────┼─────────────┼─────────┼──────────┤\n",
       "│ 1   │ PetalLength │ 5.84333 │ 0        │\n",
       "│ 2   │ PetalWidth  │ 3.054   │ 0        │\n",
       "│ 3   │ SepalLength │ 3.75867 │ 0        │\n",
       "│ 4   │ SepalWidth  │ 1.19867 │ 0        │\n",
       "│ 5   │ Class       │         │ 0        │"
      ]
     },
     "execution_count": 1,
     "metadata": {},
     "output_type": "execute_result"
    }
   ],
   "source": [
    "using CSV, DataFrames\n",
    "df = CSV.read(\"iris.csv\", footerskip=1,\n",
    "                         header=[\"PetalLength\", \"PetalWidth\",\n",
    "                                 \"SepalLength\", \"SepalWidth\", \"Class\"]);\n",
    "describe(df, :mean, :nmissing)"
   ]
  },
  {
   "cell_type": "code",
   "execution_count": 2,
   "metadata": {},
   "outputs": [
    {
     "data": {
      "text/html": [
       "<table class=\"data-frame\"><thead><tr><th></th><th>Class</th><th>n</th><th>mean</th><th>std</th></tr><tr><th></th><th>String⍰</th><th>Int64</th><th>Float64</th><th>Float64</th></tr></thead><tbody><p>3 rows × 4 columns</p><tr><th>1</th><td>Iris-setosa</td><td>50</td><td>0.244</td><td>0.10721</td></tr><tr><th>2</th><td>Iris-versicolor</td><td>50</td><td>1.326</td><td>0.197753</td></tr><tr><th>3</th><td>Iris-virginica</td><td>50</td><td>2.026</td><td>0.27465</td></tr></tbody></table>"
      ],
      "text/latex": [
       "\\begin{tabular}{r|cccc}\n",
       "\t& Class & n & mean & std\\\\\n",
       "\t\\hline\n",
       "\t& String⍰ & Int64 & Float64 & Float64\\\\\n",
       "\t\\hline\n",
       "\t1 & Iris-setosa & 50 & 0.244 & 0.10721 \\\\\n",
       "\t2 & Iris-versicolor & 50 & 1.326 & 0.197753 \\\\\n",
       "\t3 & Iris-virginica & 50 & 2.026 & 0.27465 \\\\\n",
       "\\end{tabular}\n"
      ],
      "text/plain": [
       "3×4 DataFrame\n",
       "│ Row │ Class           │ n     │ mean    │ std      │\n",
       "│     │ \u001b[90mString⍰\u001b[39m         │ \u001b[90mInt64\u001b[39m │ \u001b[90mFloat64\u001b[39m │ \u001b[90mFloat64\u001b[39m  │\n",
       "├─────┼─────────────────┼───────┼─────────┼──────────┤\n",
       "│ 1   │ Iris-setosa     │ 50    │ 0.244   │ 0.10721  │\n",
       "│ 2   │ Iris-versicolor │ 50    │ 1.326   │ 0.197753 │\n",
       "│ 3   │ Iris-virginica  │ 50    │ 2.026   │ 0.27465  │"
      ]
     },
     "execution_count": 2,
     "metadata": {},
     "output_type": "execute_result"
    }
   ],
   "source": [
    "using Statistics\n",
    "by(df, :Class) do x\n",
    "    DataFrame(n = nrow(x),\n",
    "            mean = mean(x.SepalWidth),\n",
    "            std = std(x.SepalWidth))\n",
    "end"
   ]
  },
  {
   "cell_type": "code",
   "execution_count": 3,
   "metadata": {},
   "outputs": [
    {
     "data": {
      "text/html": [
       "<table class=\"data-frame\"><thead><tr><th></th><th>Class</th><th>variable</th><th>mean</th><th>nunique</th></tr><tr><th></th><th>String⍰</th><th>Symbol</th><th>Union…</th><th>Union…</th></tr></thead><tbody><p>15 rows × 4 columns</p><tr><th>1</th><td>Iris-setosa</td><td>PetalLength</td><td>5.006</td><td></td></tr><tr><th>2</th><td>Iris-setosa</td><td>PetalWidth</td><td>3.418</td><td></td></tr><tr><th>3</th><td>Iris-setosa</td><td>SepalLength</td><td>1.464</td><td></td></tr><tr><th>4</th><td>Iris-setosa</td><td>SepalWidth</td><td>0.244</td><td></td></tr><tr><th>5</th><td>Iris-setosa</td><td>Class</td><td></td><td>1</td></tr><tr><th>6</th><td>Iris-versicolor</td><td>PetalLength</td><td>5.936</td><td></td></tr><tr><th>7</th><td>Iris-versicolor</td><td>PetalWidth</td><td>2.77</td><td></td></tr><tr><th>8</th><td>Iris-versicolor</td><td>SepalLength</td><td>4.26</td><td></td></tr><tr><th>9</th><td>Iris-versicolor</td><td>SepalWidth</td><td>1.326</td><td></td></tr><tr><th>10</th><td>Iris-versicolor</td><td>Class</td><td></td><td>1</td></tr><tr><th>11</th><td>Iris-virginica</td><td>PetalLength</td><td>6.588</td><td></td></tr><tr><th>12</th><td>Iris-virginica</td><td>PetalWidth</td><td>2.974</td><td></td></tr><tr><th>13</th><td>Iris-virginica</td><td>SepalLength</td><td>5.552</td><td></td></tr><tr><th>14</th><td>Iris-virginica</td><td>SepalWidth</td><td>2.026</td><td></td></tr><tr><th>15</th><td>Iris-virginica</td><td>Class</td><td></td><td>1</td></tr></tbody></table>"
      ],
      "text/latex": [
       "\\begin{tabular}{r|cccc}\n",
       "\t& Class & variable & mean & nunique\\\\\n",
       "\t\\hline\n",
       "\t& String⍰ & Symbol & Union… & Union…\\\\\n",
       "\t\\hline\n",
       "\t1 & Iris-setosa & PetalLength & 5.006 &  \\\\\n",
       "\t2 & Iris-setosa & PetalWidth & 3.418 &  \\\\\n",
       "\t3 & Iris-setosa & SepalLength & 1.464 &  \\\\\n",
       "\t4 & Iris-setosa & SepalWidth & 0.244 &  \\\\\n",
       "\t5 & Iris-setosa & Class &  & 1 \\\\\n",
       "\t6 & Iris-versicolor & PetalLength & 5.936 &  \\\\\n",
       "\t7 & Iris-versicolor & PetalWidth & 2.77 &  \\\\\n",
       "\t8 & Iris-versicolor & SepalLength & 4.26 &  \\\\\n",
       "\t9 & Iris-versicolor & SepalWidth & 1.326 &  \\\\\n",
       "\t10 & Iris-versicolor & Class &  & 1 \\\\\n",
       "\t11 & Iris-virginica & PetalLength & 6.588 &  \\\\\n",
       "\t12 & Iris-virginica & PetalWidth & 2.974 &  \\\\\n",
       "\t13 & Iris-virginica & SepalLength & 5.552 &  \\\\\n",
       "\t14 & Iris-virginica & SepalWidth & 2.026 &  \\\\\n",
       "\t15 & Iris-virginica & Class &  & 1 \\\\\n",
       "\\end{tabular}\n"
      ],
      "text/plain": [
       "15×4 DataFrame\n",
       "│ Row │ Class           │ variable    │ mean   │ nunique │\n",
       "│     │ \u001b[90mString⍰\u001b[39m         │ \u001b[90mSymbol\u001b[39m      │ \u001b[90mUnion…\u001b[39m │ \u001b[90mUnion…\u001b[39m  │\n",
       "├─────┼─────────────────┼─────────────┼────────┼─────────┤\n",
       "│ 1   │ Iris-setosa     │ PetalLength │ 5.006  │         │\n",
       "│ 2   │ Iris-setosa     │ PetalWidth  │ 3.418  │         │\n",
       "│ 3   │ Iris-setosa     │ SepalLength │ 1.464  │         │\n",
       "│ 4   │ Iris-setosa     │ SepalWidth  │ 0.244  │         │\n",
       "│ 5   │ Iris-setosa     │ Class       │        │ 1       │\n",
       "│ 6   │ Iris-versicolor │ PetalLength │ 5.936  │         │\n",
       "│ 7   │ Iris-versicolor │ PetalWidth  │ 2.77   │         │\n",
       "│ 8   │ Iris-versicolor │ SepalLength │ 4.26   │         │\n",
       "│ 9   │ Iris-versicolor │ SepalWidth  │ 1.326  │         │\n",
       "│ 10  │ Iris-versicolor │ Class       │        │ 1       │\n",
       "│ 11  │ Iris-virginica  │ PetalLength │ 6.588  │         │\n",
       "│ 12  │ Iris-virginica  │ PetalWidth  │ 2.974  │         │\n",
       "│ 13  │ Iris-virginica  │ SepalLength │ 5.552  │         │\n",
       "│ 14  │ Iris-virginica  │ SepalWidth  │ 2.026  │         │\n",
       "│ 15  │ Iris-virginica  │ Class       │        │ 1       │"
      ]
     },
     "execution_count": 3,
     "metadata": {},
     "output_type": "execute_result"
    }
   ],
   "source": [
    "by(df, :Class, x -> describe(x, :mean, :nunique))"
   ]
  },
  {
   "cell_type": "code",
   "execution_count": 4,
   "metadata": {},
   "outputs": [],
   "source": [
    "adf = aggregate(df, :Class, maximum);"
   ]
  },
  {
   "cell_type": "code",
   "execution_count": 5,
   "metadata": {},
   "outputs": [
    {
     "data": {
      "text/html": [
       "<table class=\"data-frame\"><thead><tr><th></th><th>variable</th><th>mean</th></tr><tr><th></th><th>Symbol</th><th>Union…</th></tr></thead><tbody><p>5 rows × 2 columns</p><tr><th>1</th><td>Class</td><td></td></tr><tr><th>2</th><td>PetalLength_maximum</td><td>6.9</td></tr><tr><th>3</th><td>PetalWidth_maximum</td><td>3.86667</td></tr><tr><th>4</th><td>SepalLength_maximum</td><td>4.63333</td></tr><tr><th>5</th><td>SepalWidth_maximum</td><td>1.63333</td></tr></tbody></table>"
      ],
      "text/latex": [
       "\\begin{tabular}{r|cc}\n",
       "\t& variable & mean\\\\\n",
       "\t\\hline\n",
       "\t& Symbol & Union…\\\\\n",
       "\t\\hline\n",
       "\t1 & Class &  \\\\\n",
       "\t2 & PetalLength\\_maximum & 6.9 \\\\\n",
       "\t3 & PetalWidth\\_maximum & 3.86667 \\\\\n",
       "\t4 & SepalLength\\_maximum & 4.63333 \\\\\n",
       "\t5 & SepalWidth\\_maximum & 1.63333 \\\\\n",
       "\\end{tabular}\n"
      ],
      "text/plain": [
       "5×2 DataFrame\n",
       "│ Row │ variable            │ mean    │\n",
       "│     │ \u001b[90mSymbol\u001b[39m              │ \u001b[90mUnion…\u001b[39m  │\n",
       "├─────┼─────────────────────┼─────────┤\n",
       "│ 1   │ Class               │         │\n",
       "│ 2   │ PetalLength_maximum │ 6.9     │\n",
       "│ 3   │ PetalWidth_maximum  │ 3.86667 │\n",
       "│ 4   │ SepalLength_maximum │ 4.63333 │\n",
       "│ 5   │ SepalWidth_maximum  │ 1.63333 │"
      ]
     },
     "execution_count": 5,
     "metadata": {},
     "output_type": "execute_result"
    }
   ],
   "source": [
    "describe(adf, :mean)"
   ]
  },
  {
   "cell_type": "code",
   "execution_count": 6,
   "metadata": {},
   "outputs": [
    {
     "data": {
      "text/plain": [
       "\"3×5 DataFrame\""
      ]
     },
     "execution_count": 6,
     "metadata": {},
     "output_type": "execute_result"
    }
   ],
   "source": [
    "summary(adf)"
   ]
  },
  {
   "cell_type": "code",
   "execution_count": null,
   "metadata": {},
   "outputs": [],
   "source": []
  }
 ],
 "metadata": {
  "@webio": {
   "lastCommId": null,
   "lastKernelId": null
  },
  "kernelspec": {
   "display_name": "Julia 1.2.0",
   "language": "julia",
   "name": "julia-1.2"
  },
  "language_info": {
   "file_extension": ".jl",
   "mimetype": "application/julia",
   "name": "julia",
   "version": "1.2.0"
  }
 },
 "nbformat": 4,
 "nbformat_minor": 1
}

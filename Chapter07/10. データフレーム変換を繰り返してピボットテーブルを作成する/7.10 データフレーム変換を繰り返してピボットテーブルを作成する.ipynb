{
 "cells": [
  {
   "cell_type": "code",
   "execution_count": 1,
   "metadata": {},
   "outputs": [],
   "source": [
    "# using Pkg; Pkg.add(\"DataFrames\"); Pkg.add(\"DataFramesMeta\"); Pkg.add(\"CSV\")"
   ]
  },
  {
   "cell_type": "code",
   "execution_count": 1,
   "metadata": {},
   "outputs": [
    {
     "name": "stdout",
     "output_type": "stream",
     "text": [
      "warning: only found 1 / 5 columns on data row: 151. Filling remaining columns with `missing`\n"
     ]
    }
   ],
   "source": [
    "using DataFrames, DataFramesMeta, CSV, Statistics\n",
    "df = CSV.read(\"iris.csv\", footerskip=1,\n",
    "                header=[\"PetalLength\", \"PetalWidth\",\n",
    "                        \"SepalLength\", \"SepalWidth\", \"Class\"]);"
   ]
  },
  {
   "cell_type": "code",
   "execution_count": 2,
   "metadata": {},
   "outputs": [
    {
     "data": {
      "text/html": [
       "<table class=\"data-frame\"><thead><tr><th></th><th>PetalLength</th><th>0.1</th><th>0.2</th><th>0.3</th><th>0.4</th><th>0.5</th><th>0.6</th></tr><tr><th></th><th>Float64⍰</th><th>Float64⍰</th><th>Float64⍰</th><th>Float64⍰</th><th>Float64⍰</th><th>Float64⍰</th><th>Float64⍰</th></tr></thead><tbody><p>15 rows × 7 columns</p><tr><th>1</th><td>4.3</td><td>1.1</td><td>missing</td><td>missing</td><td>missing</td><td>missing</td><td>missing</td></tr><tr><th>2</th><td>4.4</td><td>missing</td><td>1.33333</td><td>missing</td><td>missing</td><td>missing</td><td>missing</td></tr><tr><th>3</th><td>4.5</td><td>missing</td><td>missing</td><td>1.3</td><td>missing</td><td>missing</td><td>missing</td></tr><tr><th>4</th><td>4.6</td><td>missing</td><td>1.3</td><td>1.4</td><td>missing</td><td>missing</td><td>missing</td></tr><tr><th>5</th><td>4.7</td><td>missing</td><td>1.45</td><td>missing</td><td>missing</td><td>missing</td><td>missing</td></tr><tr><th>6</th><td>4.8</td><td>1.4</td><td>1.7</td><td>1.4</td><td>missing</td><td>missing</td><td>missing</td></tr><tr><th>7</th><td>4.9</td><td>1.5</td><td>1.4</td><td>missing</td><td>missing</td><td>missing</td><td>missing</td></tr><tr><th>8</th><td>5.0</td><td>missing</td><td>1.42</td><td>1.3</td><td>1.6</td><td>missing</td><td>1.6</td></tr><tr><th>9</th><td>5.1</td><td>missing</td><td>1.5</td><td>1.45</td><td>1.7</td><td>1.7</td><td>missing</td></tr><tr><th>10</th><td>5.2</td><td>1.5</td><td>1.45</td><td>missing</td><td>missing</td><td>missing</td><td>missing</td></tr><tr><th>11</th><td>5.3</td><td>missing</td><td>1.5</td><td>missing</td><td>missing</td><td>missing</td><td>missing</td></tr><tr><th>12</th><td>5.4</td><td>missing</td><td>1.6</td><td>missing</td><td>1.5</td><td>missing</td><td>missing</td></tr><tr><th>13</th><td>5.5</td><td>missing</td><td>1.35</td><td>missing</td><td>missing</td><td>missing</td><td>missing</td></tr><tr><th>14</th><td>5.7</td><td>missing</td><td>missing</td><td>1.7</td><td>1.5</td><td>missing</td><td>missing</td></tr><tr><th>15</th><td>5.8</td><td>missing</td><td>1.2</td><td>missing</td><td>missing</td><td>missing</td><td>missing</td></tr></tbody></table>"
      ],
      "text/latex": [
       "\\begin{tabular}{r|ccccccc}\n",
       "\t& PetalLength & 0.1 & 0.2 & 0.3 & 0.4 & 0.5 & 0.6\\\\\n",
       "\t\\hline\n",
       "\t& Float64⍰ & Float64⍰ & Float64⍰ & Float64⍰ & Float64⍰ & Float64⍰ & Float64⍰\\\\\n",
       "\t\\hline\n",
       "\t1 & 4.3 & 1.1 &  &  &  &  &  \\\\\n",
       "\t2 & 4.4 &  & 1.33333 &  &  &  &  \\\\\n",
       "\t3 & 4.5 &  &  & 1.3 &  &  &  \\\\\n",
       "\t4 & 4.6 &  & 1.3 & 1.4 &  &  &  \\\\\n",
       "\t5 & 4.7 &  & 1.45 &  &  &  &  \\\\\n",
       "\t6 & 4.8 & 1.4 & 1.7 & 1.4 &  &  &  \\\\\n",
       "\t7 & 4.9 & 1.5 & 1.4 &  &  &  &  \\\\\n",
       "\t8 & 5.0 &  & 1.42 & 1.3 & 1.6 &  & 1.6 \\\\\n",
       "\t9 & 5.1 &  & 1.5 & 1.45 & 1.7 & 1.7 &  \\\\\n",
       "\t10 & 5.2 & 1.5 & 1.45 &  &  &  &  \\\\\n",
       "\t11 & 5.3 &  & 1.5 &  &  &  &  \\\\\n",
       "\t12 & 5.4 &  & 1.6 &  & 1.5 &  &  \\\\\n",
       "\t13 & 5.5 &  & 1.35 &  &  &  &  \\\\\n",
       "\t14 & 5.7 &  &  & 1.7 & 1.5 &  &  \\\\\n",
       "\t15 & 5.8 &  & 1.2 &  &  &  &  \\\\\n",
       "\\end{tabular}\n"
      ],
      "text/plain": [
       "15×7 DataFrame. Omitted printing of 1 columns\n",
       "│ Row │ PetalLength │ 0.1      │ 0.2      │ 0.3      │ 0.4      │ 0.5      │\n",
       "│     │ \u001b[90mFloat64⍰\u001b[39m    │ \u001b[90mFloat64⍰\u001b[39m │ \u001b[90mFloat64⍰\u001b[39m │ \u001b[90mFloat64⍰\u001b[39m │ \u001b[90mFloat64⍰\u001b[39m │ \u001b[90mFloat64⍰\u001b[39m │\n",
       "├─────┼─────────────┼──────────┼──────────┼──────────┼──────────┼──────────┤\n",
       "│ 1   │ 4.3         │ 1.1      │ \u001b[90mmissing\u001b[39m  │ \u001b[90mmissing\u001b[39m  │ \u001b[90mmissing\u001b[39m  │ \u001b[90mmissing\u001b[39m  │\n",
       "│ 2   │ 4.4         │ \u001b[90mmissing\u001b[39m  │ 1.33333  │ \u001b[90mmissing\u001b[39m  │ \u001b[90mmissing\u001b[39m  │ \u001b[90mmissing\u001b[39m  │\n",
       "│ 3   │ 4.5         │ \u001b[90mmissing\u001b[39m  │ \u001b[90mmissing\u001b[39m  │ 1.3      │ \u001b[90mmissing\u001b[39m  │ \u001b[90mmissing\u001b[39m  │\n",
       "│ 4   │ 4.6         │ \u001b[90mmissing\u001b[39m  │ 1.3      │ 1.4      │ \u001b[90mmissing\u001b[39m  │ \u001b[90mmissing\u001b[39m  │\n",
       "│ 5   │ 4.7         │ \u001b[90mmissing\u001b[39m  │ 1.45     │ \u001b[90mmissing\u001b[39m  │ \u001b[90mmissing\u001b[39m  │ \u001b[90mmissing\u001b[39m  │\n",
       "│ 6   │ 4.8         │ 1.4      │ 1.7      │ 1.4      │ \u001b[90mmissing\u001b[39m  │ \u001b[90mmissing\u001b[39m  │\n",
       "│ 7   │ 4.9         │ 1.5      │ 1.4      │ \u001b[90mmissing\u001b[39m  │ \u001b[90mmissing\u001b[39m  │ \u001b[90mmissing\u001b[39m  │\n",
       "│ 8   │ 5.0         │ \u001b[90mmissing\u001b[39m  │ 1.42     │ 1.3      │ 1.6      │ \u001b[90mmissing\u001b[39m  │\n",
       "│ 9   │ 5.1         │ \u001b[90mmissing\u001b[39m  │ 1.5      │ 1.45     │ 1.7      │ 1.7      │\n",
       "│ 10  │ 5.2         │ 1.5      │ 1.45     │ \u001b[90mmissing\u001b[39m  │ \u001b[90mmissing\u001b[39m  │ \u001b[90mmissing\u001b[39m  │\n",
       "│ 11  │ 5.3         │ \u001b[90mmissing\u001b[39m  │ 1.5      │ \u001b[90mmissing\u001b[39m  │ \u001b[90mmissing\u001b[39m  │ \u001b[90mmissing\u001b[39m  │\n",
       "│ 12  │ 5.4         │ \u001b[90mmissing\u001b[39m  │ 1.6      │ \u001b[90mmissing\u001b[39m  │ 1.5      │ \u001b[90mmissing\u001b[39m  │\n",
       "│ 13  │ 5.5         │ \u001b[90mmissing\u001b[39m  │ 1.35     │ \u001b[90mmissing\u001b[39m  │ \u001b[90mmissing\u001b[39m  │ \u001b[90mmissing\u001b[39m  │\n",
       "│ 14  │ 5.7         │ \u001b[90mmissing\u001b[39m  │ \u001b[90mmissing\u001b[39m  │ 1.7      │ 1.5      │ \u001b[90mmissing\u001b[39m  │\n",
       "│ 15  │ 5.8         │ \u001b[90mmissing\u001b[39m  │ 1.2      │ \u001b[90mmissing\u001b[39m  │ \u001b[90mmissing\u001b[39m  │ \u001b[90mmissing\u001b[39m  │"
      ]
     },
     "execution_count": 2,
     "metadata": {},
     "output_type": "execute_result"
    }
   ],
   "source": [
    "@linq df |>\n",
    "           where(:Class .== \"Iris-setosa\") |>\n",
    "           by([:PetalLength, :SepalWidth], meanSL = mean(:SepalLength)) |>\n",
    "           unstack(:SepalWidth, :meanSL)"
   ]
  },
  {
   "cell_type": "code",
   "execution_count": null,
   "metadata": {},
   "outputs": [],
   "source": []
  }
 ],
 "metadata": {
  "kernelspec": {
   "display_name": "Julia 1.2.0",
   "language": "julia",
   "name": "julia-1.2"
  },
  "language_info": {
   "file_extension": ".jl",
   "mimetype": "application/julia",
   "name": "julia",
   "version": "1.2.0"
  }
 },
 "nbformat": 4,
 "nbformat_minor": 1
}

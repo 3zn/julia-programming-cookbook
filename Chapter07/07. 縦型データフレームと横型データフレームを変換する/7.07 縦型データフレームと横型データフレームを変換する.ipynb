{
 "cells": [
  {
   "cell_type": "code",
   "execution_count": 1,
   "metadata": {},
   "outputs": [],
   "source": [
    "# using Pkg; Pkg.add(\"DataFrames\"); Pkg.add(\"CSV\")"
   ]
  },
  {
   "cell_type": "code",
   "execution_count": 16,
   "metadata": {},
   "outputs": [
    {
     "name": "stdout",
     "output_type": "stream",
     "text": [
      "warning: only found 1 / 5 columns on data row: 151. Filling remaining columns with `missing`\n"
     ]
    }
   ],
   "source": [
    "using CSV, DataFrames\n",
    "df = CSV.read(\"iris.csv\", footerskip=1,\n",
    "            header=[\"PetalLength\", \"PetalWidth\",\n",
    "                    \"SepalLength\", \"SepalWidth\", \"Class\"]);\n"
   ]
  },
  {
   "cell_type": "code",
   "execution_count": 17,
   "metadata": {},
   "outputs": [],
   "source": [
    "df.id = axes(df, 1);"
   ]
  },
  {
   "cell_type": "code",
   "execution_count": 18,
   "metadata": {},
   "outputs": [
    {
     "data": {
      "text/html": [
       "<table class=\"data-frame\"><thead><tr><th></th><th>variable</th><th>value</th><th>Class</th><th>id</th></tr><tr><th></th><th>Symbol</th><th>Float64⍰</th><th>String⍰</th><th>Int64</th></tr></thead><tbody><p>600 rows × 4 columns</p><tr><th>1</th><td>PetalLength</td><td>5.1</td><td>Iris-setosa</td><td>1</td></tr><tr><th>2</th><td>PetalLength</td><td>4.9</td><td>Iris-setosa</td><td>2</td></tr><tr><th>3</th><td>PetalLength</td><td>4.7</td><td>Iris-setosa</td><td>3</td></tr><tr><th>4</th><td>PetalLength</td><td>4.6</td><td>Iris-setosa</td><td>4</td></tr><tr><th>5</th><td>PetalLength</td><td>5.0</td><td>Iris-setosa</td><td>5</td></tr><tr><th>6</th><td>PetalLength</td><td>5.4</td><td>Iris-setosa</td><td>6</td></tr><tr><th>7</th><td>PetalLength</td><td>4.6</td><td>Iris-setosa</td><td>7</td></tr><tr><th>8</th><td>PetalLength</td><td>5.0</td><td>Iris-setosa</td><td>8</td></tr><tr><th>9</th><td>PetalLength</td><td>4.4</td><td>Iris-setosa</td><td>9</td></tr><tr><th>10</th><td>PetalLength</td><td>4.9</td><td>Iris-setosa</td><td>10</td></tr><tr><th>11</th><td>PetalLength</td><td>5.4</td><td>Iris-setosa</td><td>11</td></tr><tr><th>12</th><td>PetalLength</td><td>4.8</td><td>Iris-setosa</td><td>12</td></tr><tr><th>13</th><td>PetalLength</td><td>4.8</td><td>Iris-setosa</td><td>13</td></tr><tr><th>14</th><td>PetalLength</td><td>4.3</td><td>Iris-setosa</td><td>14</td></tr><tr><th>15</th><td>PetalLength</td><td>5.8</td><td>Iris-setosa</td><td>15</td></tr><tr><th>16</th><td>PetalLength</td><td>5.7</td><td>Iris-setosa</td><td>16</td></tr><tr><th>17</th><td>PetalLength</td><td>5.4</td><td>Iris-setosa</td><td>17</td></tr><tr><th>18</th><td>PetalLength</td><td>5.1</td><td>Iris-setosa</td><td>18</td></tr><tr><th>19</th><td>PetalLength</td><td>5.7</td><td>Iris-setosa</td><td>19</td></tr><tr><th>20</th><td>PetalLength</td><td>5.1</td><td>Iris-setosa</td><td>20</td></tr><tr><th>21</th><td>PetalLength</td><td>5.4</td><td>Iris-setosa</td><td>21</td></tr><tr><th>22</th><td>PetalLength</td><td>5.1</td><td>Iris-setosa</td><td>22</td></tr><tr><th>23</th><td>PetalLength</td><td>4.6</td><td>Iris-setosa</td><td>23</td></tr><tr><th>24</th><td>PetalLength</td><td>5.1</td><td>Iris-setosa</td><td>24</td></tr><tr><th>25</th><td>PetalLength</td><td>4.8</td><td>Iris-setosa</td><td>25</td></tr><tr><th>26</th><td>PetalLength</td><td>5.0</td><td>Iris-setosa</td><td>26</td></tr><tr><th>27</th><td>PetalLength</td><td>5.0</td><td>Iris-setosa</td><td>27</td></tr><tr><th>28</th><td>PetalLength</td><td>5.2</td><td>Iris-setosa</td><td>28</td></tr><tr><th>29</th><td>PetalLength</td><td>5.2</td><td>Iris-setosa</td><td>29</td></tr><tr><th>30</th><td>PetalLength</td><td>4.7</td><td>Iris-setosa</td><td>30</td></tr><tr><th>&vellip;</th><td>&vellip;</td><td>&vellip;</td><td>&vellip;</td><td>&vellip;</td></tr></tbody></table>"
      ],
      "text/latex": [
       "\\begin{tabular}{r|cccc}\n",
       "\t& variable & value & Class & id\\\\\n",
       "\t\\hline\n",
       "\t& Symbol & Float64⍰ & String⍰ & Int64\\\\\n",
       "\t\\hline\n",
       "\t1 & PetalLength & 5.1 & Iris-setosa & 1 \\\\\n",
       "\t2 & PetalLength & 4.9 & Iris-setosa & 2 \\\\\n",
       "\t3 & PetalLength & 4.7 & Iris-setosa & 3 \\\\\n",
       "\t4 & PetalLength & 4.6 & Iris-setosa & 4 \\\\\n",
       "\t5 & PetalLength & 5.0 & Iris-setosa & 5 \\\\\n",
       "\t6 & PetalLength & 5.4 & Iris-setosa & 6 \\\\\n",
       "\t7 & PetalLength & 4.6 & Iris-setosa & 7 \\\\\n",
       "\t8 & PetalLength & 5.0 & Iris-setosa & 8 \\\\\n",
       "\t9 & PetalLength & 4.4 & Iris-setosa & 9 \\\\\n",
       "\t10 & PetalLength & 4.9 & Iris-setosa & 10 \\\\\n",
       "\t11 & PetalLength & 5.4 & Iris-setosa & 11 \\\\\n",
       "\t12 & PetalLength & 4.8 & Iris-setosa & 12 \\\\\n",
       "\t13 & PetalLength & 4.8 & Iris-setosa & 13 \\\\\n",
       "\t14 & PetalLength & 4.3 & Iris-setosa & 14 \\\\\n",
       "\t15 & PetalLength & 5.8 & Iris-setosa & 15 \\\\\n",
       "\t16 & PetalLength & 5.7 & Iris-setosa & 16 \\\\\n",
       "\t17 & PetalLength & 5.4 & Iris-setosa & 17 \\\\\n",
       "\t18 & PetalLength & 5.1 & Iris-setosa & 18 \\\\\n",
       "\t19 & PetalLength & 5.7 & Iris-setosa & 19 \\\\\n",
       "\t20 & PetalLength & 5.1 & Iris-setosa & 20 \\\\\n",
       "\t21 & PetalLength & 5.4 & Iris-setosa & 21 \\\\\n",
       "\t22 & PetalLength & 5.1 & Iris-setosa & 22 \\\\\n",
       "\t23 & PetalLength & 4.6 & Iris-setosa & 23 \\\\\n",
       "\t24 & PetalLength & 5.1 & Iris-setosa & 24 \\\\\n",
       "\t25 & PetalLength & 4.8 & Iris-setosa & 25 \\\\\n",
       "\t26 & PetalLength & 5.0 & Iris-setosa & 26 \\\\\n",
       "\t27 & PetalLength & 5.0 & Iris-setosa & 27 \\\\\n",
       "\t28 & PetalLength & 5.2 & Iris-setosa & 28 \\\\\n",
       "\t29 & PetalLength & 5.2 & Iris-setosa & 29 \\\\\n",
       "\t30 & PetalLength & 4.7 & Iris-setosa & 30 \\\\\n",
       "\t$\\dots$ & $\\dots$ & $\\dots$ & $\\dots$ & $\\dots$ \\\\\n",
       "\\end{tabular}\n"
      ],
      "text/plain": [
       "600×4 DataFrame\n",
       "│ Row │ variable    │ value    │ Class          │ id    │\n",
       "│     │ \u001b[90mSymbol\u001b[39m      │ \u001b[90mFloat64⍰\u001b[39m │ \u001b[90mString⍰\u001b[39m        │ \u001b[90mInt64\u001b[39m │\n",
       "├─────┼─────────────┼──────────┼────────────────┼───────┤\n",
       "│ 1   │ PetalLength │ 5.1      │ Iris-setosa    │ 1     │\n",
       "│ 2   │ PetalLength │ 4.9      │ Iris-setosa    │ 2     │\n",
       "│ 3   │ PetalLength │ 4.7      │ Iris-setosa    │ 3     │\n",
       "│ 4   │ PetalLength │ 4.6      │ Iris-setosa    │ 4     │\n",
       "│ 5   │ PetalLength │ 5.0      │ Iris-setosa    │ 5     │\n",
       "│ 6   │ PetalLength │ 5.4      │ Iris-setosa    │ 6     │\n",
       "│ 7   │ PetalLength │ 4.6      │ Iris-setosa    │ 7     │\n",
       "│ 8   │ PetalLength │ 5.0      │ Iris-setosa    │ 8     │\n",
       "│ 9   │ PetalLength │ 4.4      │ Iris-setosa    │ 9     │\n",
       "│ 10  │ PetalLength │ 4.9      │ Iris-setosa    │ 10    │\n",
       "⋮\n",
       "│ 590 │ SepalWidth  │ 2.1      │ Iris-virginica │ 140   │\n",
       "│ 591 │ SepalWidth  │ 2.4      │ Iris-virginica │ 141   │\n",
       "│ 592 │ SepalWidth  │ 2.3      │ Iris-virginica │ 142   │\n",
       "│ 593 │ SepalWidth  │ 1.9      │ Iris-virginica │ 143   │\n",
       "│ 594 │ SepalWidth  │ 2.3      │ Iris-virginica │ 144   │\n",
       "│ 595 │ SepalWidth  │ 2.5      │ Iris-virginica │ 145   │\n",
       "│ 596 │ SepalWidth  │ 2.3      │ Iris-virginica │ 146   │\n",
       "│ 597 │ SepalWidth  │ 1.9      │ Iris-virginica │ 147   │\n",
       "│ 598 │ SepalWidth  │ 2.0      │ Iris-virginica │ 148   │\n",
       "│ 599 │ SepalWidth  │ 2.3      │ Iris-virginica │ 149   │\n",
       "│ 600 │ SepalWidth  │ 1.8      │ Iris-virginica │ 150   │"
      ]
     },
     "execution_count": 18,
     "metadata": {},
     "output_type": "execute_result"
    }
   ],
   "source": [
    "sdf = stack(df)"
   ]
  },
  {
   "cell_type": "code",
   "execution_count": 19,
   "metadata": {},
   "outputs": [
    {
     "data": {
      "text/html": [
       "<table class=\"data-frame\"><thead><tr><th></th><th>variable</th><th>min</th><th>max</th></tr><tr><th></th><th>Symbol</th><th>Any</th><th>Any</th></tr></thead><tbody><p>4 rows × 3 columns</p><tr><th>1</th><td>variable</td><td>PetalLength</td><td>SepalWidth</td></tr><tr><th>2</th><td>value</td><td>0.1</td><td>7.9</td></tr><tr><th>3</th><td>Class</td><td>Iris-setosa</td><td>Iris-virginica</td></tr><tr><th>4</th><td>id</td><td>1</td><td>150</td></tr></tbody></table>"
      ],
      "text/latex": [
       "\\begin{tabular}{r|ccc}\n",
       "\t& variable & min & max\\\\\n",
       "\t\\hline\n",
       "\t& Symbol & Any & Any\\\\\n",
       "\t\\hline\n",
       "\t1 & variable & PetalLength & SepalWidth \\\\\n",
       "\t2 & value & 0.1 & 7.9 \\\\\n",
       "\t3 & Class & Iris-setosa & Iris-virginica \\\\\n",
       "\t4 & id & 1 & 150 \\\\\n",
       "\\end{tabular}\n"
      ],
      "text/plain": [
       "4×3 DataFrame\n",
       "│ Row │ variable │ min         │ max            │\n",
       "│     │ \u001b[90mSymbol\u001b[39m   │ \u001b[90mAny\u001b[39m         │ \u001b[90mAny\u001b[39m            │\n",
       "├─────┼──────────┼─────────────┼────────────────┤\n",
       "│ 1   │ variable │ PetalLength │ SepalWidth     │\n",
       "│ 2   │ value    │ 0.1         │ 7.9            │\n",
       "│ 3   │ Class    │ Iris-setosa │ Iris-virginica │\n",
       "│ 4   │ id       │ 1           │ 150            │"
      ]
     },
     "execution_count": 19,
     "metadata": {},
     "output_type": "execute_result"
    }
   ],
   "source": [
    "describe(sdf, :min, :max)"
   ]
  },
  {
   "cell_type": "code",
   "execution_count": 20,
   "metadata": {},
   "outputs": [],
   "source": [
    "udf = unstack(sdf, :variable, :value);"
   ]
  },
  {
   "cell_type": "code",
   "execution_count": 21,
   "metadata": {},
   "outputs": [
    {
     "data": {
      "text/plain": [
       "6-element Array{Symbol,1}:\n",
       " :Class      \n",
       " :id         \n",
       " :PetalLength\n",
       " :PetalWidth \n",
       " :SepalLength\n",
       " :SepalWidth "
      ]
     },
     "execution_count": 21,
     "metadata": {},
     "output_type": "execute_result"
    }
   ],
   "source": [
    "names(udf)"
   ]
  },
  {
   "cell_type": "code",
   "execution_count": 22,
   "metadata": {},
   "outputs": [],
   "source": [
    "permutecols!(udf, names(df));"
   ]
  },
  {
   "cell_type": "code",
   "execution_count": 23,
   "metadata": {},
   "outputs": [
    {
     "data": {
      "text/plain": [
       "true"
      ]
     },
     "execution_count": 23,
     "metadata": {},
     "output_type": "execute_result"
    }
   ],
   "source": [
    "df == udf"
   ]
  },
  {
   "cell_type": "code",
   "execution_count": 24,
   "metadata": {},
   "outputs": [],
   "source": [
    "using Statistics"
   ]
  },
  {
   "cell_type": "code",
   "execution_count": 25,
   "metadata": {},
   "outputs": [
    {
     "data": {
      "text/html": [
       "<table class=\"data-frame\"><thead><tr><th></th><th>Class</th><th>variable</th><th>value</th><th>n</th></tr><tr><th></th><th>String⍰</th><th>Symbol</th><th>Float64</th><th>Int64</th></tr></thead><tbody><p>12 rows × 4 columns</p><tr><th>1</th><td>Iris-setosa</td><td>PetalLength</td><td>5.006</td><td>50</td></tr><tr><th>2</th><td>Iris-versicolor</td><td>PetalLength</td><td>5.936</td><td>50</td></tr><tr><th>3</th><td>Iris-virginica</td><td>PetalLength</td><td>6.588</td><td>50</td></tr><tr><th>4</th><td>Iris-setosa</td><td>PetalWidth</td><td>3.418</td><td>50</td></tr><tr><th>5</th><td>Iris-versicolor</td><td>PetalWidth</td><td>2.77</td><td>50</td></tr><tr><th>6</th><td>Iris-virginica</td><td>PetalWidth</td><td>2.974</td><td>50</td></tr><tr><th>7</th><td>Iris-setosa</td><td>SepalLength</td><td>1.464</td><td>50</td></tr><tr><th>8</th><td>Iris-versicolor</td><td>SepalLength</td><td>4.26</td><td>50</td></tr><tr><th>9</th><td>Iris-virginica</td><td>SepalLength</td><td>5.552</td><td>50</td></tr><tr><th>10</th><td>Iris-setosa</td><td>SepalWidth</td><td>0.244</td><td>50</td></tr><tr><th>11</th><td>Iris-versicolor</td><td>SepalWidth</td><td>1.326</td><td>50</td></tr><tr><th>12</th><td>Iris-virginica</td><td>SepalWidth</td><td>2.026</td><td>50</td></tr></tbody></table>"
      ],
      "text/latex": [
       "\\begin{tabular}{r|cccc}\n",
       "\t& Class & variable & value & n\\\\\n",
       "\t\\hline\n",
       "\t& String⍰ & Symbol & Float64 & Int64\\\\\n",
       "\t\\hline\n",
       "\t1 & Iris-setosa & PetalLength & 5.006 & 50 \\\\\n",
       "\t2 & Iris-versicolor & PetalLength & 5.936 & 50 \\\\\n",
       "\t3 & Iris-virginica & PetalLength & 6.588 & 50 \\\\\n",
       "\t4 & Iris-setosa & PetalWidth & 3.418 & 50 \\\\\n",
       "\t5 & Iris-versicolor & PetalWidth & 2.77 & 50 \\\\\n",
       "\t6 & Iris-virginica & PetalWidth & 2.974 & 50 \\\\\n",
       "\t7 & Iris-setosa & SepalLength & 1.464 & 50 \\\\\n",
       "\t8 & Iris-versicolor & SepalLength & 4.26 & 50 \\\\\n",
       "\t9 & Iris-virginica & SepalLength & 5.552 & 50 \\\\\n",
       "\t10 & Iris-setosa & SepalWidth & 0.244 & 50 \\\\\n",
       "\t11 & Iris-versicolor & SepalWidth & 1.326 & 50 \\\\\n",
       "\t12 & Iris-virginica & SepalWidth & 2.026 & 50 \\\\\n",
       "\\end{tabular}\n"
      ],
      "text/plain": [
       "12×4 DataFrame\n",
       "│ Row │ Class           │ variable    │ value   │ n     │\n",
       "│     │ \u001b[90mString⍰\u001b[39m         │ \u001b[90mSymbol\u001b[39m      │ \u001b[90mFloat64\u001b[39m │ \u001b[90mInt64\u001b[39m │\n",
       "├─────┼─────────────────┼─────────────┼─────────┼───────┤\n",
       "│ 1   │ Iris-setosa     │ PetalLength │ 5.006   │ 50    │\n",
       "│ 2   │ Iris-versicolor │ PetalLength │ 5.936   │ 50    │\n",
       "│ 3   │ Iris-virginica  │ PetalLength │ 6.588   │ 50    │\n",
       "│ 4   │ Iris-setosa     │ PetalWidth  │ 3.418   │ 50    │\n",
       "│ 5   │ Iris-versicolor │ PetalWidth  │ 2.77    │ 50    │\n",
       "│ 6   │ Iris-virginica  │ PetalWidth  │ 2.974   │ 50    │\n",
       "│ 7   │ Iris-setosa     │ SepalLength │ 1.464   │ 50    │\n",
       "│ 8   │ Iris-versicolor │ SepalLength │ 4.26    │ 50    │\n",
       "│ 9   │ Iris-virginica  │ SepalLength │ 5.552   │ 50    │\n",
       "│ 10  │ Iris-setosa     │ SepalWidth  │ 0.244   │ 50    │\n",
       "│ 11  │ Iris-versicolor │ SepalWidth  │ 1.326   │ 50    │\n",
       "│ 12  │ Iris-virginica  │ SepalWidth  │ 2.026   │ 50    │"
      ]
     },
     "execution_count": 25,
     "metadata": {},
     "output_type": "execute_result"
    }
   ],
   "source": [
    "agg = by(sdf, [:Class, :variable],\n",
    "        x -> DataFrame(value=mean(x.value), n = nrow(x)))"
   ]
  },
  {
   "cell_type": "code",
   "execution_count": 26,
   "metadata": {},
   "outputs": [],
   "source": [
    "agg2 = unstack(agg, :Class, :variable, :value);"
   ]
  },
  {
   "cell_type": "code",
   "execution_count": 27,
   "metadata": {},
   "outputs": [],
   "source": [
    "agg3 = by(df, :Class) do x\n",
    "    DataFrame(PetalLength=mean(x.PetalLength),\n",
    "    PetalWidth=mean(x.PetalWidth),\n",
    "    SepalLength=mean(x.SepalLength),\n",
    "    SepalWidth=mean(x.SepalWidth));\n",
    "end;"
   ]
  },
  {
   "cell_type": "code",
   "execution_count": 28,
   "metadata": {},
   "outputs": [
    {
     "data": {
      "text/plain": [
       "true"
      ]
     },
     "execution_count": 28,
     "metadata": {},
     "output_type": "execute_result"
    }
   ],
   "source": [
    "agg2 == agg3"
   ]
  },
  {
   "cell_type": "code",
   "execution_count": 29,
   "metadata": {},
   "outputs": [
    {
     "data": {
      "text/html": [
       "<table class=\"data-frame\"><thead><tr><th></th><th>Class</th><th>PetalLength</th><th>PetalWidth</th><th>SepalLength</th><th>SepalWidth</th></tr><tr><th></th><th>String⍰</th><th>Float64⍰</th><th>Float64⍰</th><th>Float64⍰</th><th>Float64⍰</th></tr></thead><tbody><p>3 rows × 5 columns</p><tr><th>1</th><td>Iris-setosa</td><td>5.006</td><td>3.418</td><td>1.464</td><td>0.244</td></tr><tr><th>2</th><td>Iris-versicolor</td><td>5.936</td><td>2.77</td><td>4.26</td><td>1.326</td></tr><tr><th>3</th><td>Iris-virginica</td><td>6.588</td><td>2.974</td><td>5.552</td><td>2.026</td></tr></tbody></table>"
      ],
      "text/latex": [
       "\\begin{tabular}{r|ccccc}\n",
       "\t& Class & PetalLength & PetalWidth & SepalLength & SepalWidth\\\\\n",
       "\t\\hline\n",
       "\t& String⍰ & Float64⍰ & Float64⍰ & Float64⍰ & Float64⍰\\\\\n",
       "\t\\hline\n",
       "\t1 & Iris-setosa & 5.006 & 3.418 & 1.464 & 0.244 \\\\\n",
       "\t2 & Iris-versicolor & 5.936 & 2.77 & 4.26 & 1.326 \\\\\n",
       "\t3 & Iris-virginica & 6.588 & 2.974 & 5.552 & 2.026 \\\\\n",
       "\\end{tabular}\n"
      ],
      "text/plain": [
       "3×5 DataFrame\n",
       "│ Row │ Class           │ PetalLength │ PetalWidth │ SepalLength │ SepalWidth │\n",
       "│     │ \u001b[90mString⍰\u001b[39m         │ \u001b[90mFloat64⍰\u001b[39m    │ \u001b[90mFloat64⍰\u001b[39m   │ \u001b[90mFloat64⍰\u001b[39m    │ \u001b[90mFloat64⍰\u001b[39m   │\n",
       "├─────┼─────────────────┼─────────────┼────────────┼─────────────┼────────────┤\n",
       "│ 1   │ Iris-setosa     │ 5.006       │ 3.418      │ 1.464       │ 0.244      │\n",
       "│ 2   │ Iris-versicolor │ 5.936       │ 2.77       │ 4.26        │ 1.326      │\n",
       "│ 3   │ Iris-virginica  │ 6.588       │ 2.974      │ 5.552       │ 2.026      │"
      ]
     },
     "execution_count": 29,
     "metadata": {},
     "output_type": "execute_result"
    }
   ],
   "source": [
    "agg2"
   ]
  },
  {
   "cell_type": "code",
   "execution_count": 30,
   "metadata": {},
   "outputs": [
    {
     "data": {
      "text/html": [
       "<table class=\"data-frame\"><thead><tr><th></th><th>Class</th><th>PetalLength</th><th>PetalWidth</th><th>SepalLength</th><th>SepalWidth</th></tr><tr><th></th><th>String⍰</th><th>Float64</th><th>Float64</th><th>Float64</th><th>Float64</th></tr></thead><tbody><p>3 rows × 5 columns</p><tr><th>1</th><td>Iris-setosa</td><td>5.006</td><td>3.418</td><td>1.464</td><td>0.244</td></tr><tr><th>2</th><td>Iris-versicolor</td><td>5.936</td><td>2.77</td><td>4.26</td><td>1.326</td></tr><tr><th>3</th><td>Iris-virginica</td><td>6.588</td><td>2.974</td><td>5.552</td><td>2.026</td></tr></tbody></table>"
      ],
      "text/latex": [
       "\\begin{tabular}{r|ccccc}\n",
       "\t& Class & PetalLength & PetalWidth & SepalLength & SepalWidth\\\\\n",
       "\t\\hline\n",
       "\t& String⍰ & Float64 & Float64 & Float64 & Float64\\\\\n",
       "\t\\hline\n",
       "\t1 & Iris-setosa & 5.006 & 3.418 & 1.464 & 0.244 \\\\\n",
       "\t2 & Iris-versicolor & 5.936 & 2.77 & 4.26 & 1.326 \\\\\n",
       "\t3 & Iris-virginica & 6.588 & 2.974 & 5.552 & 2.026 \\\\\n",
       "\\end{tabular}\n"
      ],
      "text/plain": [
       "3×5 DataFrame\n",
       "│ Row │ Class           │ PetalLength │ PetalWidth │ SepalLength │ SepalWidth │\n",
       "│     │ \u001b[90mString⍰\u001b[39m         │ \u001b[90mFloat64\u001b[39m     │ \u001b[90mFloat64\u001b[39m    │ \u001b[90mFloat64\u001b[39m     │ \u001b[90mFloat64\u001b[39m    │\n",
       "├─────┼─────────────────┼─────────────┼────────────┼─────────────┼────────────┤\n",
       "│ 1   │ Iris-setosa     │ 5.006       │ 3.418      │ 1.464       │ 0.244      │\n",
       "│ 2   │ Iris-versicolor │ 5.936       │ 2.77       │ 4.26        │ 1.326      │\n",
       "│ 3   │ Iris-virginica  │ 6.588       │ 2.974      │ 5.552       │ 2.026      │"
      ]
     },
     "execution_count": 30,
     "metadata": {},
     "output_type": "execute_result"
    }
   ],
   "source": [
    "agg3"
   ]
  },
  {
   "cell_type": "code",
   "execution_count": null,
   "metadata": {},
   "outputs": [],
   "source": []
  },
  {
   "cell_type": "code",
   "execution_count": null,
   "metadata": {},
   "outputs": [],
   "source": []
  }
 ],
 "metadata": {
  "@webio": {
   "lastCommId": null,
   "lastKernelId": null
  },
  "kernelspec": {
   "display_name": "Julia 1.2.0",
   "language": "julia",
   "name": "julia-1.2"
  },
  "language_info": {
   "file_extension": ".jl",
   "mimetype": "application/julia",
   "name": "julia",
   "version": "1.2.0"
  }
 },
 "nbformat": 4,
 "nbformat_minor": 1
}

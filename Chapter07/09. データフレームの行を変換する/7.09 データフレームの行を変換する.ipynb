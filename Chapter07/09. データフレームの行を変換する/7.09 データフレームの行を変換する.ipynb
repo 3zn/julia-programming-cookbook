{
 "cells": [
  {
   "cell_type": "code",
   "execution_count": 2,
   "metadata": {},
   "outputs": [],
   "source": [
    "# using Pkg; Pkg.add(\"DataFrames\"); Pkg.add(\"CSV\")"
   ]
  },
  {
   "cell_type": "code",
   "execution_count": 1,
   "metadata": {},
   "outputs": [
    {
     "name": "stdout",
     "output_type": "stream",
     "text": [
      "warning: parsed expected 6 columns, but didn't reach end of line on data row: 21. Ignoring any extra columns on this row\n",
      "warning: parsed expected 6 columns, but didn't reach end of line on data row: 39. Ignoring any extra columns on this row\n",
      "warning: parsed expected 6 columns, but didn't reach end of line on data row: 61. Ignoring any extra columns on this row\n"
     ]
    }
   ],
   "source": [
    "using CSV, DataFrames\n",
    "df = CSV.read(\"grades.csv\");"
   ]
  },
  {
   "cell_type": "code",
   "execution_count": 2,
   "metadata": {},
   "outputs": [
    {
     "data": {
      "text/plain": [
       "get_grade (generic function with 1 method)"
      ]
     },
     "execution_count": 2,
     "metadata": {},
     "output_type": "execute_result"
    }
   ],
   "source": [
    "function get_grade(final, midterm, takehome)\n",
    "    (ismissing(final) || final < 50) && return \"fail\"\n",
    "    if final < 75 && coalesce(midterm, 0) < 50 && coalesce(takehome, 0) < 50\n",
    "        \"fail\"\n",
    "    else\n",
    "        \"pass\"\n",
    "    end\n",
    "end"
   ]
  },
  {
   "cell_type": "code",
   "execution_count": 3,
   "metadata": {},
   "outputs": [],
   "source": [
    "df.grade = get_grade.(df.Final, df.Midterm, df.TakeHome);"
   ]
  },
  {
   "cell_type": "code",
   "execution_count": 4,
   "metadata": {},
   "outputs": [],
   "source": [
    "df.grade2 = map(eachrow(df)) do r\n",
    "    coalesce(r.Final, 0) < 50 && return \"fail\"\n",
    "    if r.Final < 75 && coalesce(r.Midterm, 0) < 50 && coalesce(r.TakeHome < 50)\n",
    "        \"fail\"\n",
    "    else\n",
    "        \"pass\"\n",
    "    end\n",
    "end;"
   ]
  },
  {
   "cell_type": "code",
   "execution_count": 5,
   "metadata": {},
   "outputs": [
    {
     "data": {
      "text/plain": [
       "true"
      ]
     },
     "execution_count": 5,
     "metadata": {},
     "output_type": "execute_result"
    }
   ],
   "source": [
    "df.grade == df.grade2"
   ]
  },
  {
   "cell_type": "code",
   "execution_count": 6,
   "metadata": {},
   "outputs": [
    {
     "data": {
      "text/plain": [
       "99-element BitArray{1}:\n",
       " 0\n",
       " 0\n",
       " 1\n",
       " 0\n",
       " 0\n",
       " 0\n",
       " 0\n",
       " 0\n",
       " 0\n",
       " 0\n",
       " 1\n",
       " 0\n",
       " 0\n",
       " ⋮\n",
       " 0\n",
       " 0\n",
       " 0\n",
       " 0\n",
       " 0\n",
       " 0\n",
       " 0\n",
       " 0\n",
       " 1\n",
       " 0\n",
       " 0\n",
       " 0"
      ]
     },
     "execution_count": 6,
     "metadata": {},
     "output_type": "execute_result"
    }
   ],
   "source": [
    "df.failed = coalesce.(df.Final, 0) .< 50"
   ]
  },
  {
   "cell_type": "code",
   "execution_count": 7,
   "metadata": {},
   "outputs": [
    {
     "data": {
      "text/html": [
       "<table class=\"data-frame\"><thead><tr><th></th><th>Prefix</th><th>Assignment</th><th>Tutorial</th><th>Midterm</th><th>TakeHome</th><th>Final</th><th>grade</th><th>grade2</th><th>failed</th></tr><tr><th></th><th>Int64</th><th>Float64</th><th>Float64</th><th>Float64</th><th>Float64⍰</th><th>Float64⍰</th><th>String</th><th>String</th><th>Bool</th></tr></thead><tbody><p>99 rows × 9 columns</p><tr><th>1</th><td>5</td><td>57.14</td><td>34.09</td><td>64.38</td><td>51.48</td><td>52.5</td><td>pass</td><td>pass</td><td>0</td></tr><tr><th>2</th><td>8</td><td>95.05</td><td>105.49</td><td>67.5</td><td>99.07</td><td>68.33</td><td>pass</td><td>pass</td><td>0</td></tr><tr><th>3</th><td>8</td><td>83.7</td><td>83.17</td><td>30.0</td><td>63.15</td><td>48.89</td><td>fail</td><td>fail</td><td>1</td></tr><tr><th>4</th><td>7</td><td>81.22</td><td>96.06</td><td>49.38</td><td>105.93</td><td>80.56</td><td>pass</td><td>pass</td><td>0</td></tr><tr><th>5</th><td>8</td><td>91.32</td><td>93.64</td><td>95.0</td><td>107.41</td><td>73.89</td><td>pass</td><td>pass</td><td>0</td></tr><tr><th>6</th><td>7</td><td>95.0</td><td>92.58</td><td>93.12</td><td>97.78</td><td>68.06</td><td>pass</td><td>pass</td><td>0</td></tr><tr><th>7</th><td>8</td><td>95.05</td><td>102.99</td><td>56.25</td><td>99.07</td><td>50.0</td><td>pass</td><td>pass</td><td>0</td></tr><tr><th>8</th><td>7</td><td>72.85</td><td>86.85</td><td>60.0</td><td>missing</td><td>56.11</td><td>pass</td><td>pass</td><td>0</td></tr><tr><th>9</th><td>8</td><td>84.26</td><td>93.1</td><td>47.5</td><td>18.52</td><td>50.83</td><td>fail</td><td>fail</td><td>0</td></tr><tr><th>10</th><td>7</td><td>90.1</td><td>97.55</td><td>51.25</td><td>88.89</td><td>63.61</td><td>pass</td><td>pass</td><td>0</td></tr><tr><th>11</th><td>7</td><td>80.44</td><td>90.2</td><td>75.0</td><td>91.48</td><td>39.72</td><td>fail</td><td>fail</td><td>1</td></tr><tr><th>12</th><td>6</td><td>86.26</td><td>80.6</td><td>74.38</td><td>87.59</td><td>77.5</td><td>pass</td><td>pass</td><td>0</td></tr><tr><th>13</th><td>8</td><td>97.16</td><td>103.71</td><td>72.5</td><td>93.52</td><td>63.33</td><td>pass</td><td>pass</td><td>0</td></tr><tr><th>14</th><td>7</td><td>91.28</td><td>83.53</td><td>81.25</td><td>99.81</td><td>92.22</td><td>pass</td><td>pass</td><td>0</td></tr><tr><th>15</th><td>8</td><td>84.8</td><td>89.08</td><td>44.38</td><td>16.91</td><td>35.83</td><td>fail</td><td>fail</td><td>1</td></tr><tr><th>16</th><td>7</td><td>93.83</td><td>95.43</td><td>88.12</td><td>80.93</td><td>90.0</td><td>pass</td><td>pass</td><td>0</td></tr><tr><th>17</th><td>8</td><td>84.8</td><td>89.08</td><td>47.5</td><td>16.91</td><td>53.33</td><td>fail</td><td>fail</td><td>0</td></tr><tr><th>18</th><td>4</td><td>92.01</td><td>102.52</td><td>38.75</td><td>86.11</td><td>49.17</td><td>fail</td><td>fail</td><td>1</td></tr><tr><th>19</th><td>8</td><td>55.14</td><td>81.85</td><td>75.0</td><td>56.11</td><td>62.5</td><td>pass</td><td>pass</td><td>0</td></tr><tr><th>20</th><td>8</td><td>93.04</td><td>82.93</td><td>79.38</td><td>83.33</td><td>91.11</td><td>pass</td><td>pass</td><td>0</td></tr><tr><th>21</th><td>8</td><td>63.4</td><td>86.21</td><td>63.12</td><td>72.78</td><td>missing</td><td>fail</td><td>fail</td><td>1</td></tr><tr><th>22</th><td>8</td><td>75.27</td><td>97.52</td><td>63.12</td><td>61.11</td><td>66.11</td><td>pass</td><td>pass</td><td>0</td></tr><tr><th>23</th><td>8</td><td>63.78</td><td>76.21</td><td>39.38</td><td>42.22</td><td>34.44</td><td>fail</td><td>fail</td><td>1</td></tr><tr><th>24</th><td>7</td><td>80.44</td><td>90.2</td><td>46.25</td><td>91.48</td><td>72.22</td><td>pass</td><td>pass</td><td>0</td></tr><tr><th>25</th><td>7</td><td>53.36</td><td>82.01</td><td>74.38</td><td>102.59</td><td>56.39</td><td>pass</td><td>pass</td><td>0</td></tr><tr><th>26</th><td>6</td><td>91.28</td><td>95.24</td><td>82.5</td><td>97.59</td><td>92.78</td><td>pass</td><td>pass</td><td>0</td></tr><tr><th>27</th><td>8</td><td>82.45</td><td>86.65</td><td>93.12</td><td>85.56</td><td>89.17</td><td>pass</td><td>pass</td><td>0</td></tr><tr><th>28</th><td>8</td><td>75.27</td><td>86.67</td><td>69.38</td><td>61.11</td><td>88.89</td><td>pass</td><td>pass</td><td>0</td></tr><tr><th>29</th><td>8</td><td>91.32</td><td>94.89</td><td>76.25</td><td>107.41</td><td>85.56</td><td>pass</td><td>pass</td><td>0</td></tr><tr><th>30</th><td>7</td><td>91.62</td><td>65.18</td><td>71.88</td><td>90.0</td><td>45.56</td><td>fail</td><td>fail</td><td>1</td></tr><tr><th>&vellip;</th><td>&vellip;</td><td>&vellip;</td><td>&vellip;</td><td>&vellip;</td><td>&vellip;</td><td>&vellip;</td><td>&vellip;</td><td>&vellip;</td><td>&vellip;</td></tr></tbody></table>"
      ],
      "text/latex": [
       "\\begin{tabular}{r|ccccccccc}\n",
       "\t& Prefix & Assignment & Tutorial & Midterm & TakeHome & Final & grade & grade2 & failed\\\\\n",
       "\t\\hline\n",
       "\t& Int64 & Float64 & Float64 & Float64 & Float64⍰ & Float64⍰ & String & String & Bool\\\\\n",
       "\t\\hline\n",
       "\t1 & 5 & 57.14 & 34.09 & 64.38 & 51.48 & 52.5 & pass & pass & 0 \\\\\n",
       "\t2 & 8 & 95.05 & 105.49 & 67.5 & 99.07 & 68.33 & pass & pass & 0 \\\\\n",
       "\t3 & 8 & 83.7 & 83.17 & 30.0 & 63.15 & 48.89 & fail & fail & 1 \\\\\n",
       "\t4 & 7 & 81.22 & 96.06 & 49.38 & 105.93 & 80.56 & pass & pass & 0 \\\\\n",
       "\t5 & 8 & 91.32 & 93.64 & 95.0 & 107.41 & 73.89 & pass & pass & 0 \\\\\n",
       "\t6 & 7 & 95.0 & 92.58 & 93.12 & 97.78 & 68.06 & pass & pass & 0 \\\\\n",
       "\t7 & 8 & 95.05 & 102.99 & 56.25 & 99.07 & 50.0 & pass & pass & 0 \\\\\n",
       "\t8 & 7 & 72.85 & 86.85 & 60.0 &  & 56.11 & pass & pass & 0 \\\\\n",
       "\t9 & 8 & 84.26 & 93.1 & 47.5 & 18.52 & 50.83 & fail & fail & 0 \\\\\n",
       "\t10 & 7 & 90.1 & 97.55 & 51.25 & 88.89 & 63.61 & pass & pass & 0 \\\\\n",
       "\t11 & 7 & 80.44 & 90.2 & 75.0 & 91.48 & 39.72 & fail & fail & 1 \\\\\n",
       "\t12 & 6 & 86.26 & 80.6 & 74.38 & 87.59 & 77.5 & pass & pass & 0 \\\\\n",
       "\t13 & 8 & 97.16 & 103.71 & 72.5 & 93.52 & 63.33 & pass & pass & 0 \\\\\n",
       "\t14 & 7 & 91.28 & 83.53 & 81.25 & 99.81 & 92.22 & pass & pass & 0 \\\\\n",
       "\t15 & 8 & 84.8 & 89.08 & 44.38 & 16.91 & 35.83 & fail & fail & 1 \\\\\n",
       "\t16 & 7 & 93.83 & 95.43 & 88.12 & 80.93 & 90.0 & pass & pass & 0 \\\\\n",
       "\t17 & 8 & 84.8 & 89.08 & 47.5 & 16.91 & 53.33 & fail & fail & 0 \\\\\n",
       "\t18 & 4 & 92.01 & 102.52 & 38.75 & 86.11 & 49.17 & fail & fail & 1 \\\\\n",
       "\t19 & 8 & 55.14 & 81.85 & 75.0 & 56.11 & 62.5 & pass & pass & 0 \\\\\n",
       "\t20 & 8 & 93.04 & 82.93 & 79.38 & 83.33 & 91.11 & pass & pass & 0 \\\\\n",
       "\t21 & 8 & 63.4 & 86.21 & 63.12 & 72.78 &  & fail & fail & 1 \\\\\n",
       "\t22 & 8 & 75.27 & 97.52 & 63.12 & 61.11 & 66.11 & pass & pass & 0 \\\\\n",
       "\t23 & 8 & 63.78 & 76.21 & 39.38 & 42.22 & 34.44 & fail & fail & 1 \\\\\n",
       "\t24 & 7 & 80.44 & 90.2 & 46.25 & 91.48 & 72.22 & pass & pass & 0 \\\\\n",
       "\t25 & 7 & 53.36 & 82.01 & 74.38 & 102.59 & 56.39 & pass & pass & 0 \\\\\n",
       "\t26 & 6 & 91.28 & 95.24 & 82.5 & 97.59 & 92.78 & pass & pass & 0 \\\\\n",
       "\t27 & 8 & 82.45 & 86.65 & 93.12 & 85.56 & 89.17 & pass & pass & 0 \\\\\n",
       "\t28 & 8 & 75.27 & 86.67 & 69.38 & 61.11 & 88.89 & pass & pass & 0 \\\\\n",
       "\t29 & 8 & 91.32 & 94.89 & 76.25 & 107.41 & 85.56 & pass & pass & 0 \\\\\n",
       "\t30 & 7 & 91.62 & 65.18 & 71.88 & 90.0 & 45.56 & fail & fail & 1 \\\\\n",
       "\t$\\dots$ & $\\dots$ & $\\dots$ & $\\dots$ & $\\dots$ & $\\dots$ & $\\dots$ & $\\dots$ & $\\dots$ & $\\dots$ \\\\\n",
       "\\end{tabular}\n"
      ],
      "text/plain": [
       "99×9 DataFrame. Omitted printing of 3 columns\n",
       "│ Row │ Prefix │ Assignment │ Tutorial │ Midterm │ TakeHome │ Final    │\n",
       "│     │ \u001b[90mInt64\u001b[39m  │ \u001b[90mFloat64\u001b[39m    │ \u001b[90mFloat64\u001b[39m  │ \u001b[90mFloat64\u001b[39m │ \u001b[90mFloat64⍰\u001b[39m │ \u001b[90mFloat64⍰\u001b[39m │\n",
       "├─────┼────────┼────────────┼──────────┼─────────┼──────────┼──────────┤\n",
       "│ 1   │ 5      │ 57.14      │ 34.09    │ 64.38   │ 51.48    │ 52.5     │\n",
       "│ 2   │ 8      │ 95.05      │ 105.49   │ 67.5    │ 99.07    │ 68.33    │\n",
       "│ 3   │ 8      │ 83.7       │ 83.17    │ 30.0    │ 63.15    │ 48.89    │\n",
       "│ 4   │ 7      │ 81.22      │ 96.06    │ 49.38   │ 105.93   │ 80.56    │\n",
       "│ 5   │ 8      │ 91.32      │ 93.64    │ 95.0    │ 107.41   │ 73.89    │\n",
       "│ 6   │ 7      │ 95.0       │ 92.58    │ 93.12   │ 97.78    │ 68.06    │\n",
       "│ 7   │ 8      │ 95.05      │ 102.99   │ 56.25   │ 99.07    │ 50.0     │\n",
       "│ 8   │ 7      │ 72.85      │ 86.85    │ 60.0    │ \u001b[90mmissing\u001b[39m  │ 56.11    │\n",
       "│ 9   │ 8      │ 84.26      │ 93.1     │ 47.5    │ 18.52    │ 50.83    │\n",
       "│ 10  │ 7      │ 90.1       │ 97.55    │ 51.25   │ 88.89    │ 63.61    │\n",
       "⋮\n",
       "│ 89  │ 7      │ 86.29      │ 88.81    │ 83.12   │ 77.96    │ 75.83    │\n",
       "│ 90  │ 8      │ 97.0       │ 100.52   │ 64.38   │ 90.74    │ 58.61    │\n",
       "│ 91  │ 8      │ 97.33      │ 106.74   │ 81.25   │ 108.89   │ 71.11    │\n",
       "│ 92  │ 8      │ 96.41      │ 103.71   │ 56.25   │ 95.93    │ 66.39    │\n",
       "│ 93  │ 7      │ 95.6       │ 82.28    │ 76.88   │ 108.33   │ 78.33    │\n",
       "│ 94  │ 8      │ 87.52      │ 91.58    │ 56.25   │ 71.85    │ 85.0     │\n",
       "│ 95  │ 8      │ 96.73      │ 103.71   │ 45.0    │ 93.52    │ 61.94    │\n",
       "│ 96  │ 7      │ 85.34      │ 80.54    │ 41.25   │ 93.7     │ 39.72    │\n",
       "│ 97  │ 8      │ 89.94      │ 102.77   │ 87.5    │ 90.74    │ 87.78    │\n",
       "│ 98  │ 7      │ 95.6       │ 76.13    │ 66.25   │ 99.81    │ 85.56    │\n",
       "│ 99  │ 8      │ 63.4       │ 97.37    │ 73.12   │ 72.78    │ 77.22    │"
      ]
     },
     "execution_count": 7,
     "metadata": {},
     "output_type": "execute_result"
    }
   ],
   "source": [
    "df"
   ]
  },
  {
   "cell_type": "code",
   "execution_count": null,
   "metadata": {},
   "outputs": [],
   "source": []
  }
 ],
 "metadata": {
  "@webio": {
   "lastCommId": null,
   "lastKernelId": null
  },
  "kernelspec": {
   "display_name": "Julia 1.2.0",
   "language": "julia",
   "name": "julia-1.2"
  },
  "language_info": {
   "file_extension": ".jl",
   "mimetype": "application/julia",
   "name": "julia",
   "version": "1.2.0"
  }
 },
 "nbformat": 4,
 "nbformat_minor": 1
}

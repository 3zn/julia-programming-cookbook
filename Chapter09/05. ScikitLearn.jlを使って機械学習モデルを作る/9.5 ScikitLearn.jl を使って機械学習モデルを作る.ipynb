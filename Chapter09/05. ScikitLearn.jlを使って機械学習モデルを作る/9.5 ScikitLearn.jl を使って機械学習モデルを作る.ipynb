{
 "cells": [
  {
   "cell_type": "code",
   "execution_count": 1,
   "metadata": {},
   "outputs": [
    {
     "name": "stdout",
     "output_type": "stream",
     "text": [
      "\u001b[32m\u001b[1m  Updating\u001b[22m\u001b[39m registry at `~/.julia/registries/General`\n",
      "\u001b[32m\u001b[1m  Updating\u001b[22m\u001b[39m git-repo `https://github.com/JuliaRegistries/General.git`\n",
      "\u001b[?25l\u001b[2K\u001b[?25h\u001b[32m\u001b[1m Resolving\u001b[22m\u001b[39m package versions...\n",
      "\u001b[32m\u001b[1m Installed\u001b[22m\u001b[39m CMakeWrapper ──────── v0.2.3\n",
      "\u001b[32m\u001b[1m Installed\u001b[22m\u001b[39m NBInclude ─────────── v2.1.0\n",
      "\u001b[32m\u001b[1m Installed\u001b[22m\u001b[39m Distances ─────────── v0.8.2\n",
      "\u001b[32m\u001b[1m Installed\u001b[22m\u001b[39m RData ─────────────── v0.6.2\n",
      "\u001b[32m\u001b[1m Installed\u001b[22m\u001b[39m DecisionTree ──────── v0.8.3\n",
      "\u001b[32m\u001b[1m Installed\u001b[22m\u001b[39m JLD ───────────────── v0.9.1\n",
      "\u001b[32m\u001b[1m Installed\u001b[22m\u001b[39m NearestNeighbors ──── v0.4.3\n",
      "\u001b[32m\u001b[1m Installed\u001b[22m\u001b[39m FastGaussQuadrature ─ v0.4.0\n",
      "\u001b[32m\u001b[1m Installed\u001b[22m\u001b[39m Blosc ─────────────── v0.5.1\n",
      "\u001b[32m\u001b[1m Installed\u001b[22m\u001b[39m LegacyStrings ─────── v0.4.1\n",
      "\u001b[32m\u001b[1m Installed\u001b[22m\u001b[39m ScikitLearnBase ───── v0.5.0\n",
      "\u001b[32m\u001b[1m Installed\u001b[22m\u001b[39m ElasticPDMats ─────── v0.2.1\n",
      "\u001b[32m\u001b[1m Installed\u001b[22m\u001b[39m HDF5 ──────────────── v0.12.3\n",
      "\u001b[32m\u001b[1m Installed\u001b[22m\u001b[39m ElasticArrays ─────── v0.4.0\n",
      "\u001b[32m\u001b[1m Installed\u001b[22m\u001b[39m GaussianMixtures ──── v0.3.0\n",
      "\u001b[32m\u001b[1m Installed\u001b[22m\u001b[39m CMake ─────────────── v1.1.2\n",
      "\u001b[32m\u001b[1m Installed\u001b[22m\u001b[39m ScikitLearn ───────── v0.5.1\n",
      "\u001b[32m\u001b[1m Installed\u001b[22m\u001b[39m Clustering ────────── v0.13.3\n",
      "\u001b[32m\u001b[1m Installed\u001b[22m\u001b[39m GaussianProcesses ─── v0.9.0\n",
      "\u001b[32m\u001b[1m Installed\u001b[22m\u001b[39m RDatasets ─────────── v0.6.1\n",
      "\u001b[32m\u001b[1m  Updating\u001b[22m\u001b[39m `~/.julia/environments/v1.2/Project.toml`\n",
      " \u001b[90m [3646fa90]\u001b[39m\u001b[92m + ScikitLearn v0.5.1\u001b[39m\n",
      "\u001b[32m\u001b[1m  Updating\u001b[22m\u001b[39m `~/.julia/environments/v1.2/Manifest.toml`\n",
      " \u001b[90m [a74b3585]\u001b[39m\u001b[92m + Blosc v0.5.1\u001b[39m\n",
      " \u001b[90m [631607c0]\u001b[39m\u001b[92m + CMake v1.1.2\u001b[39m\n",
      " \u001b[90m [d5fb7624]\u001b[39m\u001b[92m + CMakeWrapper v0.2.3\u001b[39m\n",
      " \u001b[90m [aaaa29a8]\u001b[39m\u001b[92m + Clustering v0.13.3\u001b[39m\n",
      " \u001b[90m [7806a523]\u001b[39m\u001b[92m + DecisionTree v0.8.3\u001b[39m\n",
      " \u001b[90m [b4f34e82]\u001b[39m\u001b[92m + Distances v0.8.2\u001b[39m\n",
      " \u001b[90m [fdbdab4c]\u001b[39m\u001b[92m + ElasticArrays v0.4.0\u001b[39m\n",
      " \u001b[90m [2904ab23]\u001b[39m\u001b[92m + ElasticPDMats v0.2.1\u001b[39m\n",
      " \u001b[90m [442a2c76]\u001b[39m\u001b[92m + FastGaussQuadrature v0.4.0\u001b[39m\n",
      " \u001b[90m [cc18c42c]\u001b[39m\u001b[92m + GaussianMixtures v0.3.0\u001b[39m\n",
      " \u001b[90m [891a1506]\u001b[39m\u001b[92m + GaussianProcesses v0.9.0\u001b[39m\n",
      " \u001b[90m [f67ccb44]\u001b[39m\u001b[92m + HDF5 v0.12.3\u001b[39m\n",
      " \u001b[90m [4138dd39]\u001b[39m\u001b[92m + JLD v0.9.1\u001b[39m\n",
      " \u001b[90m [1b4a561d]\u001b[39m\u001b[92m + LegacyStrings v0.4.1\u001b[39m\n",
      " \u001b[90m [0db19996]\u001b[39m\u001b[92m + NBInclude v2.1.0\u001b[39m\n",
      " \u001b[90m [b8a86587]\u001b[39m\u001b[92m + NearestNeighbors v0.4.3\u001b[39m\n",
      " \u001b[90m [df47a6cb]\u001b[39m\u001b[92m + RData v0.6.2\u001b[39m\n",
      " \u001b[90m [ce6b1742]\u001b[39m\u001b[92m + RDatasets v0.6.1\u001b[39m\n",
      " \u001b[90m [3646fa90]\u001b[39m\u001b[92m + ScikitLearn v0.5.1\u001b[39m\n",
      " \u001b[90m [6e75b9c4]\u001b[39m\u001b[92m + ScikitLearnBase v0.5.0\u001b[39m\n",
      "\u001b[32m\u001b[1m  Building\u001b[22m\u001b[39m CMake → `~/.julia/packages/CMake/nSK2r/deps/build.log`\n",
      "\u001b[32m\u001b[1m  Building\u001b[22m\u001b[39m Blosc → `~/.julia/packages/Blosc/lzFr0/deps/build.log`\n",
      "\u001b[32m\u001b[1m  Building\u001b[22m\u001b[39m HDF5 ─→ `~/.julia/packages/HDF5/DktP4/deps/build.log`\n"
     ]
    }
   ],
   "source": [
    "#using Pkg; Pkg.add(\"Conda\"); Pkg.add(\"CSV\"); Pkg.add(\"HTTP\"); Pkg.add(\"DataFrames\"); Pkg.add(\"ScikitLearn\"); Pkg.add(\"PyCall\")\n",
    "using Pkg; Pkg.add(\"ScikitLearn\");"
   ]
  },
  {
   "cell_type": "code",
   "execution_count": 2,
   "metadata": {},
   "outputs": [
    {
     "name": "stderr",
     "output_type": "stream",
     "text": [
      "┌ Info: Running `conda install mlxtend -c conda-forge -y` in root environment\n",
      "└ @ Conda /home/nakada/.julia/packages/Conda/kLXeC/src/Conda.jl:112\n"
     ]
    },
    {
     "name": "stdout",
     "output_type": "stream",
     "text": [
      "Collecting package metadata (current_repodata.json): ...working... done\n",
      "Solving environment: ...working... done\n",
      "\n",
      "## Package Plan ##\n",
      "\n",
      "  environment location: /home/nakada/anaconda3/envs/conda_jl\n",
      "\n",
      "  added / updated specs:\n",
      "    - mlxtend\n",
      "\n",
      "\n",
      "The following packages will be downloaded:\n",
      "\n",
      "    package                    |            build\n",
      "    ---------------------------|-----------------\n",
      "    ca-certificates-2019.6.16  |       hecc5488_0         145 KB  conda-forge\n",
      "    certifi-2019.6.16          |           py37_1         149 KB  conda-forge\n",
      "    conda-4.7.11               |           py37_0         3.0 MB  conda-forge\n",
      "    cycler-0.10.0              |             py_1           8 KB  conda-forge\n",
      "    dbus-1.13.6                |       he372182_0         602 KB  conda-forge\n",
      "    expat-2.2.5                |    he1b5a44_1003         191 KB  conda-forge\n",
      "    fontconfig-2.13.1          |    he4413a7_1000         327 KB  conda-forge\n",
      "    freetype-2.10.0            |       he983fc9_1         884 KB  conda-forge\n",
      "    gettext-0.19.8.1           |    hc5be6a0_1002         3.6 MB  conda-forge\n",
      "    glib-2.58.3                |    h6f030ca_1002         3.3 MB  conda-forge\n",
      "    gst-plugins-base-1.14.5    |       h0935bb2_0         6.8 MB  conda-forge\n",
      "    gstreamer-1.14.5           |       h36ae1b5_0         4.5 MB  conda-forge\n",
      "    icu-58.2                   |    hf484d3e_1000        22.6 MB  conda-forge\n",
      "    joblib-0.13.2              |             py_0         180 KB  conda-forge\n",
      "    jpeg-9c                    |    h14c3975_1001         251 KB  conda-forge\n",
      "    kiwisolver-1.1.0           |   py37hc9558a2_0          86 KB  conda-forge\n",
      "    libblas-3.8.0              |      12_openblas          10 KB  conda-forge\n",
      "    libcblas-3.8.0             |      12_openblas          10 KB  conda-forge\n",
      "    libgfortran-ng-7.3.0       |       hdf63c60_0        1006 KB\n",
      "    libiconv-1.15              |    h516909a_1005         2.0 MB  conda-forge\n",
      "    liblapack-3.8.0            |      12_openblas          10 KB  conda-forge\n",
      "    libopenblas-0.3.7          |       h6e990d7_1         7.6 MB  conda-forge\n",
      "    libpng-1.6.37              |       hed695b0_0         343 KB  conda-forge\n",
      "    libuuid-2.32.1             |    h14c3975_1000          26 KB  conda-forge\n",
      "    libxcb-1.13                |    h14c3975_1002         396 KB  conda-forge\n",
      "    matplotlib-3.1.1           |   py37h5429711_0         6.7 MB\n",
      "    mlxtend-0.17.0             |             py_0         1.2 MB  conda-forge\n",
      "    numpy-1.17.1               |   py37h95a1406_0         5.2 MB  conda-forge\n",
      "    openssl-1.1.1c             |       h516909a_0         2.1 MB  conda-forge\n",
      "    pandas-0.25.1              |   py37hb3f55d8_0        11.4 MB  conda-forge\n",
      "    pcre-8.41                  |    hf484d3e_1003         249 KB  conda-forge\n",
      "    pthread-stubs-0.4          |    h14c3975_1001           5 KB  conda-forge\n",
      "    pyparsing-2.4.2            |             py_0          57 KB  conda-forge\n",
      "    pyqt-5.9.2                 |   py37hcca6a23_2         5.7 MB  conda-forge\n",
      "    python-dateutil-2.8.0      |             py_0         219 KB  conda-forge\n",
      "    pytz-2019.2                |             py_0         228 KB  conda-forge\n",
      "    qt-5.9.7                   |       h52cfd70_2        85.9 MB  conda-forge\n",
      "    scikit-learn-0.21.3        |   py37hcdab131_0         6.7 MB  conda-forge\n",
      "    scipy-1.3.1                |   py37h921218d_2        18.1 MB  conda-forge\n",
      "    sip-4.19.8                 |py37hf484d3e_1000         290 KB  conda-forge\n",
      "    tornado-6.0.3              |   py37h516909a_0         637 KB  conda-forge\n",
      "    xorg-libxau-1.0.9          |       h14c3975_0          13 KB  conda-forge\n",
      "    xorg-libxdmcp-1.1.3        |       h516909a_0          18 KB  conda-forge\n",
      "    ------------------------------------------------------------\n",
      "                                           Total:       202.6 MB\n",
      "\n",
      "The following NEW packages will be INSTALLED:\n",
      "\n",
      "  cycler             conda-forge/noarch::cycler-0.10.0-py_1\n",
      "  dbus               conda-forge/linux-64::dbus-1.13.6-he372182_0\n",
      "  expat              conda-forge/linux-64::expat-2.2.5-he1b5a44_1003\n",
      "  fontconfig         conda-forge/linux-64::fontconfig-2.13.1-he4413a7_1000\n",
      "  freetype           conda-forge/linux-64::freetype-2.10.0-he983fc9_1\n",
      "  gettext            conda-forge/linux-64::gettext-0.19.8.1-hc5be6a0_1002\n",
      "  glib               conda-forge/linux-64::glib-2.58.3-h6f030ca_1002\n",
      "  gst-plugins-base   conda-forge/linux-64::gst-plugins-base-1.14.5-h0935bb2_0\n",
      "  gstreamer          conda-forge/linux-64::gstreamer-1.14.5-h36ae1b5_0\n",
      "  icu                conda-forge/linux-64::icu-58.2-hf484d3e_1000\n",
      "  joblib             conda-forge/noarch::joblib-0.13.2-py_0\n",
      "  jpeg               conda-forge/linux-64::jpeg-9c-h14c3975_1001\n",
      "  kiwisolver         conda-forge/linux-64::kiwisolver-1.1.0-py37hc9558a2_0\n",
      "  libblas            conda-forge/linux-64::libblas-3.8.0-12_openblas\n",
      "  libcblas           conda-forge/linux-64::libcblas-3.8.0-12_openblas\n",
      "  libgfortran-ng     pkgs/main/linux-64::libgfortran-ng-7.3.0-hdf63c60_0\n",
      "  libiconv           conda-forge/linux-64::libiconv-1.15-h516909a_1005\n",
      "  liblapack          conda-forge/linux-64::liblapack-3.8.0-12_openblas\n",
      "  libopenblas        conda-forge/linux-64::libopenblas-0.3.7-h6e990d7_1\n",
      "  libpng             conda-forge/linux-64::libpng-1.6.37-hed695b0_0\n",
      "  libuuid            conda-forge/linux-64::libuuid-2.32.1-h14c3975_1000\n",
      "  libxcb             conda-forge/linux-64::libxcb-1.13-h14c3975_1002\n",
      "  matplotlib         pkgs/main/linux-64::matplotlib-3.1.1-py37h5429711_0\n",
      "  mlxtend            conda-forge/noarch::mlxtend-0.17.0-py_0\n",
      "  numpy              conda-forge/linux-64::numpy-1.17.1-py37h95a1406_0\n",
      "  pandas             conda-forge/linux-64::pandas-0.25.1-py37hb3f55d8_0\n",
      "  pcre               conda-forge/linux-64::pcre-8.41-hf484d3e_1003\n",
      "  pthread-stubs      conda-forge/linux-64::pthread-stubs-0.4-h14c3975_1001\n",
      "  pyparsing          conda-forge/noarch::pyparsing-2.4.2-py_0\n",
      "  pyqt               conda-forge/linux-64::pyqt-5.9.2-py37hcca6a23_2\n",
      "  python-dateutil    conda-forge/noarch::python-dateutil-2.8.0-py_0\n",
      "  pytz               conda-forge/noarch::pytz-2019.2-py_0\n",
      "  qt                 conda-forge/linux-64::qt-5.9.7-h52cfd70_2\n",
      "  scikit-learn       conda-forge/linux-64::scikit-learn-0.21.3-py37hcdab131_0\n",
      "  scipy              conda-forge/linux-64::scipy-1.3.1-py37h921218d_2\n",
      "  sip                conda-forge/linux-64::sip-4.19.8-py37hf484d3e_1000\n",
      "  tornado            conda-forge/linux-64::tornado-6.0.3-py37h516909a_0\n",
      "  xorg-libxau        conda-forge/linux-64::xorg-libxau-1.0.9-h14c3975_0\n",
      "  xorg-libxdmcp      conda-forge/linux-64::xorg-libxdmcp-1.1.3-h516909a_0\n",
      "\n",
      "The following packages will be UPDATED:\n",
      "\n",
      "  ca-certificates    pkgs/main::ca-certificates-2019.5.15-1 --> conda-forge::ca-certificates-2019.6.16-hecc5488_0\n",
      "\n",
      "The following packages will be SUPERSEDED by a higher-priority channel:\n",
      "\n",
      "  certifi                                         pkgs/main --> conda-forge\n",
      "  conda                                           pkgs/main --> conda-forge\n",
      "  openssl              pkgs/main::openssl-1.1.1c-h7b6447c_1 --> conda-forge::openssl-1.1.1c-h516909a_0\n",
      "\n",
      "\n",
      "\n",
      "Downloading and Extracting Packages\n",
      "kiwisolver-1.1.0     | 86 KB     | ########## | 100% \n",
      "pcre-8.41            | 249 KB    | ########## | 100% \n",
      "tornado-6.0.3        | 637 KB    | ########## | 100% \n",
      "dbus-1.13.6          | 602 KB    | ########## | 100% \n",
      "scipy-1.3.1          | 18.1 MB   | ########## | 100% \n",
      "icu-58.2             | 22.6 MB   | ########## | 100% \n",
      "qt-5.9.7             | 85.9 MB   | ########## | 100% \n",
      "xorg-libxdmcp-1.1.3  | 18 KB     | ########## | 100% \n",
      "pyparsing-2.4.2      | 57 KB     | ########## | 100% \n",
      "pyqt-5.9.2           | 5.7 MB    | ########## | 100% \n",
      "joblib-0.13.2        | 180 KB    | ########## | 100% \n",
      "libcblas-3.8.0       | 10 KB     | ########## | 100% \n",
      "certifi-2019.6.16    | 149 KB    | ########## | 100% \n",
      "ca-certificates-2019 | 145 KB    | ########## | 100% \n",
      "libiconv-1.15        | 2.0 MB    | ########## | 100% \n",
      "gettext-0.19.8.1     | 3.6 MB    | ########## | 100% \n",
      "scikit-learn-0.21.3  | 6.7 MB    | ########## | 100% \n",
      "pytz-2019.2          | 228 KB    | ########## | 100% \n",
      "libblas-3.8.0        | 10 KB     | ########## | 100% \n",
      "libxcb-1.13          | 396 KB    | ########## | 100% \n",
      "libpng-1.6.37        | 343 KB    | ########## | 100% \n",
      "conda-4.7.11         | 3.0 MB    | ########## | 100% \n",
      "libuuid-2.32.1       | 26 KB     | ########## | 100% \n",
      "pandas-0.25.1        | 11.4 MB   | ########## | 100% \n",
      "pthread-stubs-0.4    | 5 KB      | ########## | 100% \n",
      "sip-4.19.8           | 290 KB    | ########## | 100% \n",
      "expat-2.2.5          | 191 KB    | ########## | 100% \n",
      "liblapack-3.8.0      | 10 KB     | ########## | 100% \n",
      "gst-plugins-base-1.1 | 6.8 MB    | ########## | 100% \n",
      "python-dateutil-2.8. | 219 KB    | ########## | 100% \n",
      "fontconfig-2.13.1    | 327 KB    | ########## | 100% \n",
      "mlxtend-0.17.0       | 1.2 MB    | ########## | 100% \n",
      "freetype-2.10.0      | 884 KB    | ########## | 100% \n",
      "cycler-0.10.0        | 8 KB      | ########## | 100% \n",
      "libopenblas-0.3.7    | 7.6 MB    | ########## | 100% \n",
      "openssl-1.1.1c       | 2.1 MB    | ########## | 100% \n",
      "matplotlib-3.1.1     | 6.7 MB    | ########## | 100% \n",
      "xorg-libxau-1.0.9    | 13 KB     | ########## | 100% \n",
      "jpeg-9c              | 251 KB    | ########## | 100% \n",
      "gstreamer-1.14.5     | 4.5 MB    | ########## | 100% \n",
      "numpy-1.17.1         | 5.2 MB    | ########## | 100% \n",
      "glib-2.58.3          | 3.3 MB    | ########## | 100% \n",
      "libgfortran-ng-7.3.0 | 1006 KB   | ########## | 100% \n",
      "Preparing transaction: ...working... done\n",
      "Verifying transaction: ...working... done\n",
      "Executing transaction: ...working... done\n"
     ]
    }
   ],
   "source": [
    "using Conda\n",
    "Conda.runconda(`install mlxtend -c conda-forge -y`)"
   ]
  },
  {
   "cell_type": "code",
   "execution_count": 2,
   "metadata": {},
   "outputs": [],
   "source": [
    "using CSV, HTTP, DataFrames, ScikitLearn, Random, PyCall, Statistics"
   ]
  },
  {
   "cell_type": "code",
   "execution_count": 3,
   "metadata": {},
   "outputs": [
    {
     "data": {
      "text/html": [
       "<table class=\"data-frame\"><thead><tr><th></th><th>SepalLength</th><th>SepalWidth</th><th>PetalLength</th><th>PetalWidth</th><th>Class</th></tr><tr><th></th><th>Float64</th><th>Float64</th><th>Float64</th><th>Float64</th><th>String</th></tr></thead><tbody><p>150 rows × 5 columns</p><tr><th>1</th><td>5.1</td><td>3.5</td><td>1.4</td><td>0.2</td><td>Iris-setosa</td></tr><tr><th>2</th><td>4.9</td><td>3.0</td><td>1.4</td><td>0.2</td><td>Iris-setosa</td></tr><tr><th>3</th><td>4.7</td><td>3.2</td><td>1.3</td><td>0.2</td><td>Iris-setosa</td></tr><tr><th>4</th><td>4.6</td><td>3.1</td><td>1.5</td><td>0.2</td><td>Iris-setosa</td></tr><tr><th>5</th><td>5.0</td><td>3.6</td><td>1.4</td><td>0.2</td><td>Iris-setosa</td></tr><tr><th>6</th><td>5.4</td><td>3.9</td><td>1.7</td><td>0.4</td><td>Iris-setosa</td></tr><tr><th>7</th><td>4.6</td><td>3.4</td><td>1.4</td><td>0.3</td><td>Iris-setosa</td></tr><tr><th>8</th><td>5.0</td><td>3.4</td><td>1.5</td><td>0.2</td><td>Iris-setosa</td></tr><tr><th>9</th><td>4.4</td><td>2.9</td><td>1.4</td><td>0.2</td><td>Iris-setosa</td></tr><tr><th>10</th><td>4.9</td><td>3.1</td><td>1.5</td><td>0.1</td><td>Iris-setosa</td></tr><tr><th>11</th><td>5.4</td><td>3.7</td><td>1.5</td><td>0.2</td><td>Iris-setosa</td></tr><tr><th>12</th><td>4.8</td><td>3.4</td><td>1.6</td><td>0.2</td><td>Iris-setosa</td></tr><tr><th>13</th><td>4.8</td><td>3.0</td><td>1.4</td><td>0.1</td><td>Iris-setosa</td></tr><tr><th>14</th><td>4.3</td><td>3.0</td><td>1.1</td><td>0.1</td><td>Iris-setosa</td></tr><tr><th>15</th><td>5.8</td><td>4.0</td><td>1.2</td><td>0.2</td><td>Iris-setosa</td></tr><tr><th>16</th><td>5.7</td><td>4.4</td><td>1.5</td><td>0.4</td><td>Iris-setosa</td></tr><tr><th>17</th><td>5.4</td><td>3.9</td><td>1.3</td><td>0.4</td><td>Iris-setosa</td></tr><tr><th>18</th><td>5.1</td><td>3.5</td><td>1.4</td><td>0.3</td><td>Iris-setosa</td></tr><tr><th>19</th><td>5.7</td><td>3.8</td><td>1.7</td><td>0.3</td><td>Iris-setosa</td></tr><tr><th>20</th><td>5.1</td><td>3.8</td><td>1.5</td><td>0.3</td><td>Iris-setosa</td></tr><tr><th>21</th><td>5.4</td><td>3.4</td><td>1.7</td><td>0.2</td><td>Iris-setosa</td></tr><tr><th>22</th><td>5.1</td><td>3.7</td><td>1.5</td><td>0.4</td><td>Iris-setosa</td></tr><tr><th>23</th><td>4.6</td><td>3.6</td><td>1.0</td><td>0.2</td><td>Iris-setosa</td></tr><tr><th>24</th><td>5.1</td><td>3.3</td><td>1.7</td><td>0.5</td><td>Iris-setosa</td></tr><tr><th>25</th><td>4.8</td><td>3.4</td><td>1.9</td><td>0.2</td><td>Iris-setosa</td></tr><tr><th>26</th><td>5.0</td><td>3.0</td><td>1.6</td><td>0.2</td><td>Iris-setosa</td></tr><tr><th>27</th><td>5.0</td><td>3.4</td><td>1.6</td><td>0.4</td><td>Iris-setosa</td></tr><tr><th>28</th><td>5.2</td><td>3.5</td><td>1.5</td><td>0.2</td><td>Iris-setosa</td></tr><tr><th>29</th><td>5.2</td><td>3.4</td><td>1.4</td><td>0.2</td><td>Iris-setosa</td></tr><tr><th>30</th><td>4.7</td><td>3.2</td><td>1.6</td><td>0.2</td><td>Iris-setosa</td></tr><tr><th>&vellip;</th><td>&vellip;</td><td>&vellip;</td><td>&vellip;</td><td>&vellip;</td><td>&vellip;</td></tr></tbody></table>"
      ],
      "text/latex": [
       "\\begin{tabular}{r|ccccc}\n",
       "\t& SepalLength & SepalWidth & PetalLength & PetalWidth & Class\\\\\n",
       "\t\\hline\n",
       "\t& Float64 & Float64 & Float64 & Float64 & String\\\\\n",
       "\t\\hline\n",
       "\t1 & 5.1 & 3.5 & 1.4 & 0.2 & Iris-setosa \\\\\n",
       "\t2 & 4.9 & 3.0 & 1.4 & 0.2 & Iris-setosa \\\\\n",
       "\t3 & 4.7 & 3.2 & 1.3 & 0.2 & Iris-setosa \\\\\n",
       "\t4 & 4.6 & 3.1 & 1.5 & 0.2 & Iris-setosa \\\\\n",
       "\t5 & 5.0 & 3.6 & 1.4 & 0.2 & Iris-setosa \\\\\n",
       "\t6 & 5.4 & 3.9 & 1.7 & 0.4 & Iris-setosa \\\\\n",
       "\t7 & 4.6 & 3.4 & 1.4 & 0.3 & Iris-setosa \\\\\n",
       "\t8 & 5.0 & 3.4 & 1.5 & 0.2 & Iris-setosa \\\\\n",
       "\t9 & 4.4 & 2.9 & 1.4 & 0.2 & Iris-setosa \\\\\n",
       "\t10 & 4.9 & 3.1 & 1.5 & 0.1 & Iris-setosa \\\\\n",
       "\t11 & 5.4 & 3.7 & 1.5 & 0.2 & Iris-setosa \\\\\n",
       "\t12 & 4.8 & 3.4 & 1.6 & 0.2 & Iris-setosa \\\\\n",
       "\t13 & 4.8 & 3.0 & 1.4 & 0.1 & Iris-setosa \\\\\n",
       "\t14 & 4.3 & 3.0 & 1.1 & 0.1 & Iris-setosa \\\\\n",
       "\t15 & 5.8 & 4.0 & 1.2 & 0.2 & Iris-setosa \\\\\n",
       "\t16 & 5.7 & 4.4 & 1.5 & 0.4 & Iris-setosa \\\\\n",
       "\t17 & 5.4 & 3.9 & 1.3 & 0.4 & Iris-setosa \\\\\n",
       "\t18 & 5.1 & 3.5 & 1.4 & 0.3 & Iris-setosa \\\\\n",
       "\t19 & 5.7 & 3.8 & 1.7 & 0.3 & Iris-setosa \\\\\n",
       "\t20 & 5.1 & 3.8 & 1.5 & 0.3 & Iris-setosa \\\\\n",
       "\t21 & 5.4 & 3.4 & 1.7 & 0.2 & Iris-setosa \\\\\n",
       "\t22 & 5.1 & 3.7 & 1.5 & 0.4 & Iris-setosa \\\\\n",
       "\t23 & 4.6 & 3.6 & 1.0 & 0.2 & Iris-setosa \\\\\n",
       "\t24 & 5.1 & 3.3 & 1.7 & 0.5 & Iris-setosa \\\\\n",
       "\t25 & 4.8 & 3.4 & 1.9 & 0.2 & Iris-setosa \\\\\n",
       "\t26 & 5.0 & 3.0 & 1.6 & 0.2 & Iris-setosa \\\\\n",
       "\t27 & 5.0 & 3.4 & 1.6 & 0.4 & Iris-setosa \\\\\n",
       "\t28 & 5.2 & 3.5 & 1.5 & 0.2 & Iris-setosa \\\\\n",
       "\t29 & 5.2 & 3.4 & 1.4 & 0.2 & Iris-setosa \\\\\n",
       "\t30 & 4.7 & 3.2 & 1.6 & 0.2 & Iris-setosa \\\\\n",
       "\t$\\dots$ & $\\dots$ & $\\dots$ & $\\dots$ & $\\dots$ & $\\dots$ \\\\\n",
       "\\end{tabular}\n"
      ],
      "text/plain": [
       "150×5 DataFrame\n",
       "│ Row │ SepalLength │ SepalWidth │ PetalLength │ PetalWidth │ Class          │\n",
       "│     │ \u001b[90mFloat64\u001b[39m     │ \u001b[90mFloat64\u001b[39m    │ \u001b[90mFloat64\u001b[39m     │ \u001b[90mFloat64\u001b[39m    │ \u001b[90mString\u001b[39m         │\n",
       "├─────┼─────────────┼────────────┼─────────────┼────────────┼────────────────┤\n",
       "│ 1   │ 5.1         │ 3.5        │ 1.4         │ 0.2        │ Iris-setosa    │\n",
       "│ 2   │ 4.9         │ 3.0        │ 1.4         │ 0.2        │ Iris-setosa    │\n",
       "│ 3   │ 4.7         │ 3.2        │ 1.3         │ 0.2        │ Iris-setosa    │\n",
       "│ 4   │ 4.6         │ 3.1        │ 1.5         │ 0.2        │ Iris-setosa    │\n",
       "│ 5   │ 5.0         │ 3.6        │ 1.4         │ 0.2        │ Iris-setosa    │\n",
       "│ 6   │ 5.4         │ 3.9        │ 1.7         │ 0.4        │ Iris-setosa    │\n",
       "│ 7   │ 4.6         │ 3.4        │ 1.4         │ 0.3        │ Iris-setosa    │\n",
       "│ 8   │ 5.0         │ 3.4        │ 1.5         │ 0.2        │ Iris-setosa    │\n",
       "│ 9   │ 4.4         │ 2.9        │ 1.4         │ 0.2        │ Iris-setosa    │\n",
       "│ 10  │ 4.9         │ 3.1        │ 1.5         │ 0.1        │ Iris-setosa    │\n",
       "⋮\n",
       "│ 140 │ 6.9         │ 3.1        │ 5.4         │ 2.1        │ Iris-virginica │\n",
       "│ 141 │ 6.7         │ 3.1        │ 5.6         │ 2.4        │ Iris-virginica │\n",
       "│ 142 │ 6.9         │ 3.1        │ 5.1         │ 2.3        │ Iris-virginica │\n",
       "│ 143 │ 5.8         │ 2.7        │ 5.1         │ 1.9        │ Iris-virginica │\n",
       "│ 144 │ 6.8         │ 3.2        │ 5.9         │ 2.3        │ Iris-virginica │\n",
       "│ 145 │ 6.7         │ 3.3        │ 5.7         │ 2.5        │ Iris-virginica │\n",
       "│ 146 │ 6.7         │ 3.0        │ 5.2         │ 2.3        │ Iris-virginica │\n",
       "│ 147 │ 6.3         │ 2.5        │ 5.0         │ 1.9        │ Iris-virginica │\n",
       "│ 148 │ 6.5         │ 3.0        │ 5.2         │ 2.0        │ Iris-virginica │\n",
       "│ 149 │ 6.2         │ 3.4        │ 5.4         │ 2.3        │ Iris-virginica │\n",
       "│ 150 │ 5.9         │ 3.0        │ 5.1         │ 1.8        │ Iris-virginica │"
      ]
     },
     "execution_count": 3,
     "metadata": {},
     "output_type": "execute_result"
    }
   ],
   "source": [
    "dat = HTTP.get(\"https://archive.ics.uci.edu/ml/machine-learning-databases/iris/iris.data\")\n",
    "buf = IOBuffer(dat.body[1:end-1]) # 最後の改行文字を切り落とす\n",
    "iris = CSV.read(buf; header=false)\n",
    "names!(iris, Symbol.([\"SepalLength\", \"SepalWidth\", \"PetalLength\", \"PetalWidth\", \"Class\"]))\n"
   ]
  },
  {
   "cell_type": "code",
   "execution_count": 4,
   "metadata": {},
   "outputs": [
    {
     "data": {
      "text/plain": [
       "150×4 Array{Float64,2}:\n",
       " 5.1  3.5  1.4  0.2\n",
       " 4.9  3.0  1.4  0.2\n",
       " 4.7  3.2  1.3  0.2\n",
       " 4.6  3.1  1.5  0.2\n",
       " 5.0  3.6  1.4  0.2\n",
       " 5.4  3.9  1.7  0.4\n",
       " 4.6  3.4  1.4  0.3\n",
       " 5.0  3.4  1.5  0.2\n",
       " 4.4  2.9  1.4  0.2\n",
       " 4.9  3.1  1.5  0.1\n",
       " 5.4  3.7  1.5  0.2\n",
       " 4.8  3.4  1.6  0.2\n",
       " 4.8  3.0  1.4  0.1\n",
       " ⋮                 \n",
       " 6.0  3.0  4.8  1.8\n",
       " 6.9  3.1  5.4  2.1\n",
       " 6.7  3.1  5.6  2.4\n",
       " 6.9  3.1  5.1  2.3\n",
       " 5.8  2.7  5.1  1.9\n",
       " 6.8  3.2  5.9  2.3\n",
       " 6.7  3.3  5.7  2.5\n",
       " 6.7  3.0  5.2  2.3\n",
       " 6.3  2.5  5.0  1.9\n",
       " 6.5  3.0  5.2  2.0\n",
       " 6.2  3.4  5.4  2.3\n",
       " 5.9  3.0  5.1  1.8"
      ]
     },
     "execution_count": 4,
     "metadata": {},
     "output_type": "execute_result"
    }
   ],
   "source": [
    "ua = unique(iris[!, :Class])\n",
    "iris[!, :Class]=[findfirst(==(x), ua) - 1 for x in iris[!, :Class]]\n",
    "y = iris[!, :Class]\n",
    "X = Matrix(iris[!, 1:4])"
   ]
  },
  {
   "cell_type": "code",
   "execution_count": 5,
   "metadata": {},
   "outputs": [],
   "source": [
    "using ScikitLearn.CrossValidation: train_test_split\n",
    "Random.seed!(0)\n",
    "X_train, X_test, y_train, y_test=\n",
    "        train_test_split(X, y, test_size=0.3, random_state=0, stratify=y);"
   ]
  },
  {
   "cell_type": "code",
   "execution_count": 6,
   "metadata": {},
   "outputs": [
    {
     "data": {
      "text/plain": [
       "45×4 Array{Float64,2}:\n",
       "  0.508824    0.790705    1.02517    1.57207 \n",
       " -0.074435   -0.754955    0.747024   0.917039\n",
       " -0.890998    0.790705   -1.25564   -1.31006 \n",
       " -0.890998    1.67394    -1.03312   -1.04804 \n",
       "  1.32539     0.349088    0.524506   0.262011\n",
       " -0.890998    0.569896   -1.14438   -0.917039\n",
       " -0.42439    -0.975764    0.357618   0.0     \n",
       "  0.0422169  -0.0925293   0.747024   0.786034\n",
       " -0.890998    1.67394    -1.20001   -1.31006 \n",
       " -0.191087   -0.534146    0.413247   0.131006\n",
       " -0.890998    1.45313    -1.25564   -1.04804 \n",
       "  0.742128   -0.0925293   0.802653   1.04804 \n",
       " -1.47426     0.349088   -1.31126   -1.31006 \n",
       "  ⋮                                          \n",
       " -0.307739   -0.0925293   0.190729   0.131006\n",
       "  0.975432    0.128279    0.524506   0.393017\n",
       " -0.307739   -0.534146    0.635765   1.04804 \n",
       "  0.158869    0.790705    0.413247   0.524022\n",
       " -1.1243      0.128279   -1.25564   -1.44106 \n",
       " -1.1243      0.128279   -1.25564   -1.44106 \n",
       "  0.0422169  -0.0925293   0.246359   0.393017\n",
       " -0.42439     1.01151    -1.36689   -1.31006 \n",
       "  1.55869     1.23232     1.30332    1.70307 \n",
       " -1.47426     0.128279   -1.25564   -1.31006 \n",
       " -1.24095    -0.0925293  -1.31126   -1.44106 \n",
       "  1.20874     0.128279    0.913912   1.17905 "
      ]
     },
     "execution_count": 6,
     "metadata": {},
     "output_type": "execute_result"
    }
   ],
   "source": [
    "@sk_import preprocessing : StandardScaler\n",
    "stdsc = StandardScaler();\n",
    "X_train_std = stdsc.fit_transform(X_train)\n",
    "X_test_std = stdsc.transform(X_test)\n"
   ]
  },
  {
   "cell_type": "code",
   "execution_count": 7,
   "metadata": {},
   "outputs": [
    {
     "data": {
      "text/plain": [
       "45-element Array{Int64,1}:\n",
       " 2\n",
       " 2\n",
       " 0\n",
       " 0\n",
       " 2\n",
       " 0\n",
       " 1\n",
       " 2\n",
       " 0\n",
       " 1\n",
       " 0\n",
       " 2\n",
       " 0\n",
       " ⋮\n",
       " 1\n",
       " 2\n",
       " 2\n",
       " 2\n",
       " 0\n",
       " 0\n",
       " 1\n",
       " 0\n",
       " 2\n",
       " 0\n",
       " 0\n",
       " 2"
      ]
     },
     "execution_count": 7,
     "metadata": {},
     "output_type": "execute_result"
    }
   ],
   "source": [
    "@sk_import linear_model: LogisticRegression\n",
    "logreg = LogisticRegression(fit_intercept=true)\n",
    "fit!(logreg, X_train_std, y_train)\n",
    "y_pred = predict(logreg, X_test_std)"
   ]
  },
  {
   "cell_type": "code",
   "execution_count": 8,
   "metadata": {},
   "outputs": [
    {
     "data": {
      "text/plain": [
       "0.8666666666666667"
      ]
     },
     "execution_count": 8,
     "metadata": {},
     "output_type": "execute_result"
    }
   ],
   "source": [
    "@sk_import metrics: (accuracy_score, confusion_matrix);\n",
    "accuracy_score(y_test, y_pred)"
   ]
  },
  {
   "cell_type": "code",
   "execution_count": 9,
   "metadata": {},
   "outputs": [
    {
     "data": {
      "text/plain": [
       "3×3 Array{Int64,2}:\n",
       " 15   0   0\n",
       "  0  10   5\n",
       "  0   1  14"
      ]
     },
     "execution_count": 9,
     "metadata": {},
     "output_type": "execute_result"
    }
   ],
   "source": [
    "confusion_matrix(y_test, y_pred)"
   ]
  },
  {
   "cell_type": "code",
   "execution_count": 10,
   "metadata": {},
   "outputs": [
    {
     "data": {
      "text/plain": [
       "4-element Array{Int64,1}:\n",
       " 4\n",
       " 3\n",
       " 1\n",
       " 2"
      ]
     },
     "execution_count": 10,
     "metadata": {},
     "output_type": "execute_result"
    }
   ],
   "source": [
    "@sk_import ensemble : RandomForestClassifier\n",
    "forest = RandomForestClassifier(n_estimators=100,  random_state=0)\n",
    "fit!(forest, X_train, y_train)\n",
    "y_pred = predict(forest, X_test)\n",
    "importances = forest.feature_importances_\n",
    "indices = sortperm(importances, rev=true)"
   ]
  },
  {
   "cell_type": "code",
   "execution_count": 11,
   "metadata": {},
   "outputs": [
    {
     "data": {
      "text/html": [
       "<table class=\"data-frame\"><thead><tr><th></th><th>Name</th><th>Importance</th></tr><tr><th></th><th>Symbol</th><th>Float64</th></tr></thead><tbody><p>4 rows × 2 columns</p><tr><th>1</th><td>PetalWidth</td><td>0.458133</td></tr><tr><th>2</th><td>PetalLength</td><td>0.4064</td></tr><tr><th>3</th><td>SepalLength</td><td>0.103548</td></tr><tr><th>4</th><td>SepalWidth</td><td>0.0319198</td></tr></tbody></table>"
      ],
      "text/latex": [
       "\\begin{tabular}{r|cc}\n",
       "\t& Name & Importance\\\\\n",
       "\t\\hline\n",
       "\t& Symbol & Float64\\\\\n",
       "\t\\hline\n",
       "\t1 & PetalWidth & 0.458133 \\\\\n",
       "\t2 & PetalLength & 0.4064 \\\\\n",
       "\t3 & SepalLength & 0.103548 \\\\\n",
       "\t4 & SepalWidth & 0.0319198 \\\\\n",
       "\\end{tabular}\n"
      ],
      "text/plain": [
       "4×2 DataFrame\n",
       "│ Row │ Name        │ Importance │\n",
       "│     │ \u001b[90mSymbol\u001b[39m      │ \u001b[90mFloat64\u001b[39m    │\n",
       "├─────┼─────────────┼────────────┤\n",
       "│ 1   │ PetalWidth  │ 0.458133   │\n",
       "│ 2   │ PetalLength │ 0.4064     │\n",
       "│ 3   │ SepalLength │ 0.103548   │\n",
       "│ 4   │ SepalWidth  │ 0.0319198  │"
      ]
     },
     "execution_count": 11,
     "metadata": {},
     "output_type": "execute_result"
    }
   ],
   "source": [
    "DataFrame(Name=names(iris)[indices], Importance=importances[indices])"
   ]
  },
  {
   "cell_type": "code",
   "execution_count": 12,
   "metadata": {},
   "outputs": [
    {
     "data": {
      "text/plain": [
       "3×3 Array{Int64,2}:\n",
       " 15   0   0\n",
       "  0  15   0\n",
       "  0   1  14"
      ]
     },
     "execution_count": 12,
     "metadata": {},
     "output_type": "execute_result"
    }
   ],
   "source": [
    "confusion_matrix(y_test, y_pred)"
   ]
  },
  {
   "cell_type": "code",
   "execution_count": 14,
   "metadata": {},
   "outputs": [
    {
     "data": {
      "image/png": "[encoded data removed]",
      "text/plain": [
       "Figure(PyObject <Figure size 640x480 with 1 Axes>)"
      ]
     },
     "metadata": {},
     "output_type": "display_data"
    },
    {
     "data": {
      "text/plain": [
       "PyObject Text(24.000000000000007, 0.5, 'PetalLength')"
      ]
     },
     "execution_count": 14,
     "metadata": {},
     "output_type": "execute_result"
    }
   ],
   "source": [
    "using PyPlot    #重要!\n",
    "mlp = pyimport(\"mlxtend.plotting\")\n",
    "fill_vals = Dict{Int,Float64}()\n",
    "fill_rngs = Dict{Int,Float64}()\n",
    "for ind in indices[3:end]\n",
    "    fill_vals[ind-1] = mean(iris[!, names(iris)[ind]])\n",
    "    fill_rngs[ind-1] = std(iris[!, names(iris)[ind]])\n",
    "end\n",
    "mlp.plot_decision_regions(X, y, forest, X_highlight=X_test, \n",
    "    feature_index=(indices[1:2].-1),\n",
    "    filler_feature_values=fill_vals, filler_feature_ranges=fill_rngs)\n",
    "xlabel(names(iris)[indices[1]])\n",
    "ylabel(names(iris)[indices[2]])"
   ]
  },
  {
   "cell_type": "code",
   "execution_count": null,
   "metadata": {
    "collapsed": true
   },
   "outputs": [],
   "source": []
  }
 ],
 "metadata": {
  "@webio": {
   "lastCommId": null,
   "lastKernelId": null
  },
  "kernelspec": {
   "display_name": "Julia 1.2.0",
   "language": "julia",
   "name": "julia-1.2"
  },
  "language_info": {
   "file_extension": ".jl",
   "mimetype": "application/julia",
   "name": "julia",
   "version": "1.2.0"
  }
 },
 "nbformat": 4,
 "nbformat_minor": 1
}

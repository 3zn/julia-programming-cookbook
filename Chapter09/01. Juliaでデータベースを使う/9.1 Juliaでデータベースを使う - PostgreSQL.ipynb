{
 "cells": [
  {
   "cell_type": "code",
   "execution_count": 1,
   "metadata": {},
   "outputs": [
    {
     "name": "stdout",
     "output_type": "stream",
     "text": [
      "\u001b[32m\u001b[1m  Updating\u001b[22m\u001b[39m registry at `~/.julia/registries/General`\n",
      "\u001b[32m\u001b[1m  Updating\u001b[22m\u001b[39m git-repo `https://github.com/JuliaRegistries/General.git`\n",
      "\u001b[?25l\u001b[2K\u001b[?25h\u001b[32m\u001b[1m Resolving\u001b[22m\u001b[39m package versions...\n",
      "\u001b[32m\u001b[1m Installed\u001b[22m\u001b[39m CEnum ─────────────── v0.1.2\n",
      "\u001b[32m\u001b[1m Installed\u001b[22m\u001b[39m LayerDicts ────────── v1.0.0\n",
      "\u001b[32m\u001b[1m Installed\u001b[22m\u001b[39m Decimals ──────────── v0.4.0\n",
      "\u001b[32m\u001b[1m Installed\u001b[22m\u001b[39m Syslogs ───────────── v0.3.0\n",
      "\u001b[32m\u001b[1m Installed\u001b[22m\u001b[39m DocStringExtensions ─ v0.8.0\n",
      "\u001b[32m\u001b[1m Installed\u001b[22m\u001b[39m Memento ───────────── v0.12.1\n",
      "\u001b[32m\u001b[1m Installed\u001b[22m\u001b[39m LibPQ ─────────────── v0.11.2\n",
      "\u001b[32m\u001b[1m  Updating\u001b[22m\u001b[39m `~/.julia/environments/v1.2/Project.toml`\n",
      " \u001b[90m [194296ae]\u001b[39m\u001b[92m + LibPQ v0.11.2\u001b[39m\n",
      "\u001b[32m\u001b[1m  Updating\u001b[22m\u001b[39m `~/.julia/environments/v1.2/Manifest.toml`\n",
      " \u001b[90m [fa961155]\u001b[39m\u001b[92m + CEnum v0.1.2\u001b[39m\n",
      " \u001b[90m [abce61dc]\u001b[39m\u001b[92m + Decimals v0.4.0\u001b[39m\n",
      " \u001b[90m [ffbed154]\u001b[39m\u001b[92m + DocStringExtensions v0.8.0\u001b[39m\n",
      " \u001b[90m [6f188dcb]\u001b[39m\u001b[92m + LayerDicts v1.0.0\u001b[39m\n",
      " \u001b[90m [194296ae]\u001b[39m\u001b[92m + LibPQ v0.11.2\u001b[39m\n",
      " \u001b[90m [f28f55f0]\u001b[39m\u001b[92m + Memento v0.12.1\u001b[39m\n",
      " \u001b[90m [cea106d9]\u001b[39m\u001b[92m + Syslogs v0.3.0\u001b[39m\n",
      "\u001b[32m\u001b[1m  Building\u001b[22m\u001b[39m LibPQ → `~/.julia/packages/LibPQ/7GUmX/deps/build.log`\n"
     ]
    }
   ],
   "source": [
    "#using Pkg;Pkg.add(\"LibPQ\")"
   ]
  },
  {
   "cell_type": "code",
   "execution_count": 2,
   "metadata": {},
   "outputs": [
    {
     "name": "stderr",
     "output_type": "stream",
     "text": [
      "┌ Info: Precompiling LibPQ [194296ae-ab2e-5f79-8cd4-7183a0a5a0d1]\n",
      "└ @ Base loading.jl:1242\n"
     ]
    }
   ],
   "source": [
    "using DataFrames\n",
    "using LibPQ"
   ]
  },
  {
   "cell_type": "code",
   "execution_count": 15,
   "metadata": {},
   "outputs": [
    {
     "data": {
      "text/plain": [
       "PostgreSQL connection (CONNECTION_OK) with parameters:\n",
       "  user = nakada\n",
       "  password = ********************\n",
       "  dbname = postgres\n",
       "  host = 10.0.21.207\n",
       "  port = 5432\n",
       "  client_encoding = UTF8\n",
       "  application_name = LibPQ.jl\n",
       "  sslmode = prefer\n",
       "  sslcompression = 1\n",
       "  krbsrvname = postgres\n",
       "  target_session_attrs = any"
      ]
     },
     "execution_count": 15,
     "metadata": {},
     "output_type": "execute_result"
    }
   ],
   "source": [
    "conn = LibPQ.Connection(\"host=localhost dbname=postgres user=nakada password=type_password_here\")\n"
   ]
  },
  {
   "cell_type": "code",
   "execution_count": 7,
   "metadata": {},
   "outputs": [
    {
     "data": {
      "text/plain": [
       "PostgreSQL result"
      ]
     },
     "execution_count": 7,
     "metadata": {},
     "output_type": "execute_result"
    }
   ],
   "source": [
    "LibPQ.execute(conn, \"CREATE TABLE mytable \n",
    "    (col1 SERIAL PRIMARY KEY NOT NULL, col2 VARCHAR(50), col3 INT)\")"
   ]
  },
  {
   "cell_type": "code",
   "execution_count": 8,
   "metadata": {},
   "outputs": [
    {
     "data": {
      "text/plain": [
       "PostgreSQL prepared statement named __libpq_stmt_0__ with query INSERT INTO MYTABLE(col2, col3) VALUES ($1,$2)"
      ]
     },
     "execution_count": 8,
     "metadata": {},
     "output_type": "execute_result"
    }
   ],
   "source": [
    "st = LibPQ.prepare(conn, \"INSERT INTO MYTABLE(col2, col3) VALUES (\\$1,\\$2)\")"
   ]
  },
  {
   "cell_type": "code",
   "execution_count": 9,
   "metadata": {},
   "outputs": [
    {
     "data": {
      "text/plain": [
       "PostgreSQL result"
      ]
     },
     "execution_count": 9,
     "metadata": {},
     "output_type": "execute_result"
    }
   ],
   "source": [
    "LibPQ.execute(st,[\"testdata\",7])"
   ]
  },
  {
   "cell_type": "code",
   "execution_count": 10,
   "metadata": {},
   "outputs": [
    {
     "data": {
      "text/plain": [
       "PostgreSQL result"
      ]
     },
     "execution_count": 10,
     "metadata": {},
     "output_type": "execute_result"
    }
   ],
   "source": [
    "LibPQ.execute(st,[\"testdata2\",8])"
   ]
  },
  {
   "cell_type": "code",
   "execution_count": 11,
   "metadata": {},
   "outputs": [
    {
     "data": {
      "text/html": [
       "<table class=\"data-frame\"><thead><tr><th></th><th>col1</th><th>col2</th><th>col3</th></tr><tr><th></th><th>Int32⍰</th><th>String⍰</th><th>Int32⍰</th></tr></thead><tbody><p>2 rows × 3 columns</p><tr><th>1</th><td>1</td><td>testdata</td><td>7</td></tr><tr><th>2</th><td>2</td><td>testdata2</td><td>8</td></tr></tbody></table>"
      ],
      "text/latex": [
       "\\begin{tabular}{r|ccc}\n",
       "\t& col1 & col2 & col3\\\\\n",
       "\t\\hline\n",
       "\t& Int32⍰ & String⍰ & Int32⍰\\\\\n",
       "\t\\hline\n",
       "\t1 & 1 & testdata & 7 \\\\\n",
       "\t2 & 2 & testdata2 & 8 \\\\\n",
       "\\end{tabular}\n"
      ],
      "text/plain": [
       "2×3 DataFrame\n",
       "│ Row │ col1   │ col2      │ col3   │\n",
       "│     │ \u001b[90mInt32⍰\u001b[39m │ \u001b[90mString⍰\u001b[39m   │ \u001b[90mInt32⍰\u001b[39m │\n",
       "├─────┼────────┼───────────┼────────┤\n",
       "│ 1   │ 1      │ testdata  │ 7      │\n",
       "│ 2   │ 2      │ testdata2 │ 8      │"
      ]
     },
     "execution_count": 11,
     "metadata": {},
     "output_type": "execute_result"
    }
   ],
   "source": [
    "df = DataFrame(LibPQ.execute(conn, \"SELECT * FROM mytable\"))"
   ]
  },
  {
   "cell_type": "code",
   "execution_count": 12,
   "metadata": {},
   "outputs": [
    {
     "name": "stdout",
     "output_type": "stream",
     "text": [
      "col1|col2|col3\n",
      "1|testdata|7\n",
      "2|testdata2|8\n"
     ]
    }
   ],
   "source": [
    "res = LibPQ.execute(conn, \"SELECT * FROM mytable\");\n",
    "\n",
    "function print_res(res)\n",
    "    cols = LibPQ.column_names(res)\n",
    "    println(join(cols,\"|\"))\n",
    "    for r in res\n",
    "        println(join(getindex.(Ref(r),1:length(cols)), \"|\") )\n",
    "    end\n",
    "end\n",
    "print_res(res)"
   ]
  },
  {
   "cell_type": "code",
   "execution_count": 13,
   "metadata": {},
   "outputs": [],
   "source": [
    "LibPQ.execute(conn, \"DROP TABLE mytable\")\n",
    "LibPQ.close(conn)"
   ]
  },
  {
   "cell_type": "code",
   "execution_count": null,
   "metadata": {},
   "outputs": [],
   "source": []
  }
 ],
 "metadata": {
  "kernelspec": {
   "display_name": "Julia 1.2.0",
   "language": "julia",
   "name": "julia-1.2"
  },
  "language_info": {
   "file_extension": ".jl",
   "mimetype": "application/julia",
   "name": "julia",
   "version": "1.2.0"
  }
 },
 "nbformat": 4,
 "nbformat_minor": 2
}

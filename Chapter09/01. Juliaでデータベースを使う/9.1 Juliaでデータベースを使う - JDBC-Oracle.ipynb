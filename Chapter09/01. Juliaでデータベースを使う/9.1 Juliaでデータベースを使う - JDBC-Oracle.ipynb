{
 "cells": [
  {
   "cell_type": "code",
   "execution_count": 2,
   "metadata": {},
   "outputs": [
    {
     "name": "stdout",
     "output_type": "stream",
     "text": [
      "\u001b[32m\u001b[1m Resolving\u001b[22m\u001b[39m package versions...\n",
      "\u001b[32m\u001b[1m  Updating\u001b[22m\u001b[39m `~/.julia/environments/v1.0/Project.toml`\n",
      " \u001b[90m [6042db11]\u001b[39m\u001b[92m + JDBC v0.4.1\u001b[39m\n",
      "\u001b[32m\u001b[1m  Updating\u001b[22m\u001b[39m `~/.julia/environments/v1.0/Manifest.toml`\n",
      " \u001b[90m [9a8bc11e]\u001b[39m\u001b[92m + DataStreams v0.4.2\u001b[39m\n",
      " \u001b[90m [864edb3b]\u001b[39m\u001b[92m + DataStructures v0.17.0\u001b[39m\n",
      " \u001b[90m [6042db11]\u001b[39m\u001b[92m + JDBC v0.4.1\u001b[39m\n",
      " \u001b[90m [494afd89]\u001b[39m\u001b[92m + JavaCall v0.7.1\u001b[39m\n",
      " \u001b[90m [e1d29d7a]\u001b[39m\u001b[92m + Missings v0.4.1\u001b[39m\n",
      " \u001b[90m [bac558e1]\u001b[39m\u001b[92m + OrderedCollections v1.1.0\u001b[39m\n",
      " \u001b[90m [ea10d353]\u001b[39m\u001b[92m + WeakRefStrings v0.6.1\u001b[39m\n",
      " \u001b[90m [1b915085]\u001b[39m\u001b[92m + WinReg v0.3.1\u001b[39m\n",
      "\u001b[32m\u001b[1m Resolving\u001b[22m\u001b[39m package versions...\n",
      "\u001b[32m\u001b[1m Installed\u001b[22m\u001b[39m DataFrames ─ v0.19.2\n",
      "\u001b[32m\u001b[1m  Updating\u001b[22m\u001b[39m `~/.julia/environments/v1.0/Project.toml`\n",
      " \u001b[90m [a93c6f00]\u001b[39m\u001b[92m + DataFrames v0.19.2\u001b[39m\n",
      "\u001b[32m\u001b[1m  Updating\u001b[22m\u001b[39m `~/.julia/environments/v1.0/Manifest.toml`\n",
      " \u001b[90m [324d7699]\u001b[39m\u001b[92m + CategoricalArrays v0.5.5\u001b[39m\n",
      " \u001b[90m [9a962f9c]\u001b[39m\u001b[92m + DataAPI v1.0.1\u001b[39m\n",
      " \u001b[90m [a93c6f00]\u001b[39m\u001b[92m + DataFrames v0.19.2\u001b[39m\n",
      " \u001b[90m [e2d170a0]\u001b[39m\u001b[92m + DataValueInterfaces v1.0.0\u001b[39m\n",
      " \u001b[90m [41ab1584]\u001b[39m\u001b[92m + InvertedIndices v1.0.0\u001b[39m\n",
      " \u001b[90m [82899510]\u001b[39m\u001b[92m + IteratorInterfaceExtensions v1.0.0\u001b[39m\n",
      " \u001b[90m [2dfb63ee]\u001b[39m\u001b[92m + PooledArrays v0.5.2\u001b[39m\n",
      " \u001b[90m [189a3867]\u001b[39m\u001b[92m + Reexport v0.2.0\u001b[39m\n",
      " \u001b[90m [a2af1166]\u001b[39m\u001b[92m + SortingAlgorithms v0.3.1\u001b[39m\n",
      " \u001b[90m [3783bdb8]\u001b[39m\u001b[92m + TableTraits v1.0.0\u001b[39m\n",
      " \u001b[90m [bd369af6]\u001b[39m\u001b[92m + Tables v0.2.10\u001b[39m\n",
      " \u001b[90m [9fa8497b]\u001b[39m\u001b[92m + Future \u001b[39m\n"
     ]
    }
   ],
   "source": [
    "using Pkg\n",
    "Pkg.add(\"JDBC\")\n",
    "Pkg.add(\"DataFrames\")"
   ]
  },
  {
   "cell_type": "code",
   "execution_count": 14,
   "metadata": {},
   "outputs": [
    {
     "data": {
      "text/plain": [
       "\"/Library/Java/JavaVirtualMachines/jdk1.8.0_45.jdk/Contents/Home/\""
      ]
     },
     "execution_count": 14,
     "metadata": {},
     "output_type": "execute_result"
    }
   ],
   "source": [
    "ENV[\"JAVA_HOME\"]"
   ]
  },
  {
   "cell_type": "code",
   "execution_count": 18,
   "metadata": {},
   "outputs": [
    {
     "ename": "JavaCall.JavaCallError",
     "evalue": "JavaCall.JavaCallError(\"Unable to initialise Java VM: -5\")",
     "output_type": "error",
     "traceback": [
      "JavaCall.JavaCallError(\"Unable to initialise Java VM: -5\")",
      "",
      "Stacktrace:",
      " [1] init(::Array{String,1}) at /Users/nakada/.julia/packages/JavaCall/toamy/src/jvm.jl:178",
      " [2] init() at /Users/nakada/.julia/packages/JavaCall/toamy/src/jvm.jl:159",
      " [3] top-level scope at In[18]:2"
     ]
    }
   ],
   "source": [
    "using JavaCall\n",
    "JavaCall.init()\n"
   ]
  },
  {
   "cell_type": "code",
   "execution_count": 3,
   "metadata": {},
   "outputs": [
    {
     "name": "stderr",
     "output_type": "stream",
     "text": [
      "┌ Info: Precompiling DataFrames [a93c6f00-e57d-5684-b7b6-d8193f3e46c0]\n",
      "└ @ Base loading.jl:1192\n",
      "┌ Info: Precompiling JDBC [6042db11-3c3d-5e84-8dba-9cbf74c9ba48]\n",
      "└ @ Base loading.jl:1192\n",
      "\n",
      "signal (11): Segmentation fault: 11\n",
      "in expression starting at /Users/nakada/.julia/packages/IJulia/cwvsj/src/kernel.jl:52\n",
      "unknown function (ip: 0x1344fb2b3)\n",
      "Allocations: 57088692 (Pool: 57074142; Big: 14550); GC: 123\n"
     ]
    }
   ],
   "source": [
    "using DataFrames\n",
    "using JDBC\n",
    "JDBC.usedriver(\"ojdbc7.jar\")\n",
    "JDBC.init()"
   ]
  },
  {
   "cell_type": "code",
   "execution_count": 5,
   "metadata": {},
   "outputs": [],
   "source": [
    "conn = JDBC.DriverManager.getConnection(\n",
    "    \"jdbc:oracle:thin:@database-1.crf3aqt77obh.us-east-1.rds.amazonaws.com:1521:ORCL\",\n",
    "    Dict(\"user\"=>\"orauser\",\"password\"=>\"type_password_here\"));"
   ]
  },
  {
   "cell_type": "code",
   "execution_count": 6,
   "metadata": {},
   "outputs": [],
   "source": [
    "st = JDBC.createStatement(conn);\n",
    "JDBC.execute(st, \"CREATE TABLE mytable (col1 INT GENERATED ALWAYS AS IDENTITY NOT NULL,\"\n",
    " * \" col2 VARCHAR2(50), col3 INT, CONSTRAINT col1 PRIMARY KEY (col1))\");"
   ]
  },
  {
   "cell_type": "code",
   "execution_count": 7,
   "metadata": {},
   "outputs": [],
   "source": [
    "pst = JDBC.prepareStatement(conn, \"INSERT INTO mytable (col2, col3) VALUES (:1,:2)\")\n",
    "JDBC.setString(pst,1,\"testdata\")\n",
    "JDBC.setInt(pst,2,7)\n",
    "JDBC.executeUpdate(pst)\n",
    "JDBC.setString(pst,1,\"testdata\")\n",
    "JDBC.setInt(pst,2,8)\n",
    "JDBC.executeUpdate(pst)\n",
    "JDBC.commit(conn)"
   ]
  },
  {
   "cell_type": "code",
   "execution_count": 8,
   "metadata": {},
   "outputs": [],
   "source": [
    "rs = executeQuery(st, \"select * from mytable\");"
   ]
  },
  {
   "cell_type": "code",
   "execution_count": 9,
   "metadata": {},
   "outputs": [
    {
     "name": "stdout",
     "output_type": "stream",
     "text": [
      "1|testdata|7\n",
      "2|testdata|8\n"
     ]
    }
   ],
   "source": [
    "for r in rs\n",
    "    println(JDBC.getInt(r,1),\"|\",\n",
    "            JDBC.getString(r,2),\"|\",JDBC.getInt(r,3))\n",
    "end"
   ]
  },
  {
   "cell_type": "code",
   "execution_count": 10,
   "metadata": {},
   "outputs": [],
   "source": [
    "JDBC.close(conn)"
   ]
  },
  {
   "cell_type": "code",
   "execution_count": null,
   "metadata": {},
   "outputs": [],
   "source": []
  }
 ],
 "metadata": {
  "kernelspec": {
   "display_name": "Julia 1.0.4",
   "language": "julia",
   "name": "julia-1.0"
  },
  "language_info": {
   "file_extension": ".jl",
   "mimetype": "application/julia",
   "name": "julia",
   "version": "1.0.4"
  }
 },
 "nbformat": 4,
 "nbformat_minor": 2
}

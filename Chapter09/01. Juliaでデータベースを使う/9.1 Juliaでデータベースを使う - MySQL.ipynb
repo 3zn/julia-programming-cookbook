{
 "cells": [
  {
   "cell_type": "code",
   "execution_count": 1,
   "metadata": {},
   "outputs": [
    {
     "name": "stdout",
     "output_type": "stream",
     "text": [
      "\u001b[32m\u001b[1m  Updating\u001b[22m\u001b[39m registry at `~/.julia/registries/General`\n",
      "\u001b[32m\u001b[1m  Updating\u001b[22m\u001b[39m git-repo `https://github.com/JuliaRegistries/General.git`\n",
      "\u001b[?25l\u001b[2K\u001b[?25h\u001b[32m\u001b[1m Resolving\u001b[22m\u001b[39m package versions...\n",
      "\u001b[32m\u001b[1m Installed\u001b[22m\u001b[39m DecFP ─ v0.4.8\n",
      "\u001b[32m\u001b[1m Installed\u001b[22m\u001b[39m MySQL ─ v0.7.0\n",
      "\u001b[32m\u001b[1m  Updating\u001b[22m\u001b[39m `~/.julia/environments/v1.2/Project.toml`\n",
      " \u001b[90m [39abe10b]\u001b[39m\u001b[92m + MySQL v0.7.0\u001b[39m\n",
      "\u001b[32m\u001b[1m  Updating\u001b[22m\u001b[39m `~/.julia/environments/v1.2/Manifest.toml`\n",
      " \u001b[90m [55939f99]\u001b[39m\u001b[92m + DecFP v0.4.8\u001b[39m\n",
      " \u001b[90m [39abe10b]\u001b[39m\u001b[92m + MySQL v0.7.0\u001b[39m\n",
      "\u001b[32m\u001b[1m  Building\u001b[22m\u001b[39m DecFP → `~/.julia/packages/DecFP/3jJW7/deps/build.log`\n",
      "\u001b[32m\u001b[1m  Building\u001b[22m\u001b[39m MySQL → `~/.julia/packages/MySQL/owtkt/deps/build.log`\n"
     ]
    }
   ],
   "source": [
    "#using Pkg; Pkg.add(\"MySQL\")"
   ]
  },
  {
   "cell_type": "code",
   "execution_count": 3,
   "metadata": {},
   "outputs": [
    {
     "name": "stderr",
     "output_type": "stream",
     "text": [
      "┌ Info: Precompiling MySQL [39abe10b-433b-5dbd-92d4-e302a9df00cd]\n",
      "└ @ Base loading.jl:1242\n"
     ]
    }
   ],
   "source": [
    "using DataFrames\n",
    "using MySQL\n"
   ]
  },
  {
   "cell_type": "code",
   "execution_count": 5,
   "metadata": {},
   "outputs": [
    {
     "data": {
      "text/plain": [
       "MySQL Connection\n",
       "------------\n",
       "Host: 10.0.21.207\n",
       "Port: 3306\n",
       "User: root\n",
       "DB:   sys\n"
      ]
     },
     "execution_count": 5,
     "metadata": {},
     "output_type": "execute_result"
    }
   ],
   "source": [
    "conn = MySQL.connect(\"127.0.0.1\", \"root\", \"type_password_here\",db=\"sys\")"
   ]
  },
  {
   "cell_type": "code",
   "execution_count": 6,
   "metadata": {},
   "outputs": [
    {
     "ename": "MySQL.MySQLInternalError",
     "evalue": "(1050): Table 'mytable' already exists",
     "output_type": "error",
     "traceback": [
      "(1050): Table 'mytable' already exists",
      "",
      "Stacktrace:",
      " [1] execute!(::MySQL.Connection, ::String) at /home/nakada/.julia/packages/MySQL/owtkt/src/MySQL.jl:84",
      " [2] top-level scope at In[6]:1"
     ]
    }
   ],
   "source": [
    " MySQL.execute!(conn, \"CREATE TABLE mytable (col1 INT AUTO_INCREMENT PRIMARY KEY, col2 VARCHAR(50), col3 INT)\")"
   ]
  },
  {
   "cell_type": "code",
   "execution_count": 7,
   "metadata": {},
   "outputs": [],
   "source": [
    "st = MySQL.Stmt(conn, \"INSERT INTO mytable(col2, col3) VALUES (?,?)\");"
   ]
  },
  {
   "cell_type": "code",
   "execution_count": 8,
   "metadata": {},
   "outputs": [],
   "source": [
    "MySQL.execute!(st, [\"testdata\",7]);\n",
    "MySQL.execute!(st, [\"testdata2\",8]);"
   ]
  },
  {
   "cell_type": "code",
   "execution_count": 9,
   "metadata": {},
   "outputs": [
    {
     "name": "stderr",
     "output_type": "stream",
     "text": [
      "┌ Warning: `MySQL.query(conn, sql)` will return a MySQL.Query in the future; to materialize the result, use `MySQL.query(conn, sql) |> columntable` or `MySQL.query(conn, sql) |> DataFrame` instead\n",
      "│   caller = ip:0x0\n",
      "└ @ Core :-1\n"
     ]
    },
    {
     "data": {
      "text/html": [
       "<table class=\"data-frame\"><thead><tr><th></th><th>col1</th><th>col2</th><th>col3</th></tr><tr><th></th><th>Int32</th><th>String⍰</th><th>Int32⍰</th></tr></thead><tbody><p>4 rows × 3 columns</p><tr><th>1</th><td>1</td><td>testdata</td><td>7</td></tr><tr><th>2</th><td>2</td><td>testdata2</td><td>8</td></tr><tr><th>3</th><td>3</td><td>testdata</td><td>7</td></tr><tr><th>4</th><td>4</td><td>testdata2</td><td>8</td></tr></tbody></table>"
      ],
      "text/latex": [
       "\\begin{tabular}{r|ccc}\n",
       "\t& col1 & col2 & col3\\\\\n",
       "\t\\hline\n",
       "\t& Int32 & String⍰ & Int32⍰\\\\\n",
       "\t\\hline\n",
       "\t1 & 1 & testdata & 7 \\\\\n",
       "\t2 & 2 & testdata2 & 8 \\\\\n",
       "\t3 & 3 & testdata & 7 \\\\\n",
       "\t4 & 4 & testdata2 & 8 \\\\\n",
       "\\end{tabular}\n"
      ],
      "text/plain": [
       "4×3 DataFrame\n",
       "│ Row │ col1  │ col2      │ col3   │\n",
       "│     │ \u001b[90mInt32\u001b[39m │ \u001b[90mString⍰\u001b[39m   │ \u001b[90mInt32⍰\u001b[39m │\n",
       "├─────┼───────┼───────────┼────────┤\n",
       "│ 1   │ 1     │ testdata  │ 7      │\n",
       "│ 2   │ 2     │ testdata2 │ 8      │\n",
       "│ 3   │ 3     │ testdata  │ 7      │\n",
       "│ 4   │ 4     │ testdata2 │ 8      │"
      ]
     },
     "execution_count": 9,
     "metadata": {},
     "output_type": "execute_result"
    }
   ],
   "source": [
    "df = MySQL.query(conn, \"SELECT * FROM mytable\") |> DataFrame"
   ]
  },
  {
   "cell_type": "code",
   "execution_count": 10,
   "metadata": {},
   "outputs": [
    {
     "name": "stderr",
     "output_type": "stream",
     "text": [
      "┌ Warning: `MySQL.query(conn, sql)` will return a MySQL.Query in the future; to materialize the result, use `MySQL.query(conn, sql) |> columntable` or `MySQL.query(conn, sql) |> DataFrame` instead\n",
      "│   caller = ip:0x0\n",
      "└ @ Core :-1\n"
     ]
    },
    {
     "data": {
      "text/plain": [
       "(col1 = Int32[1, 2, 3, 4], col2 = Union{Missing, String}[\"testdata\", \"testdata2\", \"testdata\", \"testdata2\"], col3 = Union{Missing, Int32}[7, 8, 7, 8])"
      ]
     },
     "execution_count": 10,
     "metadata": {},
     "output_type": "execute_result"
    }
   ],
   "source": [
    "res = MySQL.query(conn, \"SELECT * FROM mytable\")"
   ]
  },
  {
   "cell_type": "code",
   "execution_count": 11,
   "metadata": {},
   "outputs": [],
   "source": [
    "MySQL.disconnect(conn)"
   ]
  },
  {
   "cell_type": "code",
   "execution_count": null,
   "metadata": {},
   "outputs": [],
   "source": []
  }
 ],
 "metadata": {
  "@webio": {
   "lastCommId": null,
   "lastKernelId": null
  },
  "kernelspec": {
   "display_name": "Julia 1.2.0",
   "language": "julia",
   "name": "julia-1.2"
  },
  "language_info": {
   "file_extension": ".jl",
   "mimetype": "application/julia",
   "name": "julia",
   "version": "1.2.0"
  }
 },
 "nbformat": 4,
 "nbformat_minor": 2
}

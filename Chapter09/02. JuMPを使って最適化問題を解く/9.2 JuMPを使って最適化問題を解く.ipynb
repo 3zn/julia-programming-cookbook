{
 "cells": [
  {
   "cell_type": "code",
   "execution_count": 1,
   "metadata": {},
   "outputs": [
    {
     "name": "stdout",
     "output_type": "stream",
     "text": [
      "\u001b[32m\u001b[1m  Updating\u001b[22m\u001b[39m registry at `~/.julia/registries/General`\n",
      "\u001b[32m\u001b[1m  Updating\u001b[22m\u001b[39m git-repo `https://github.com/JuliaRegistries/General.git`\n",
      "\u001b[?25l\u001b[2K\u001b[?25h\u001b[32m\u001b[1m Resolving\u001b[22m\u001b[39m package versions...\n",
      "\u001b[32m\u001b[1m Installed\u001b[22m\u001b[39m Calculus ───────── v0.5.0\n",
      "\u001b[32m\u001b[1m Installed\u001b[22m\u001b[39m MathOptInterface ─ v0.9.1\n",
      "\u001b[32m\u001b[1m Installed\u001b[22m\u001b[39m JuMP ───────────── v0.20.0\n",
      "\u001b[32m\u001b[1m  Updating\u001b[22m\u001b[39m `~/.julia/environments/v1.2/Project.toml`\n",
      " \u001b[90m [4076af6c]\u001b[39m\u001b[92m + JuMP v0.20.0\u001b[39m\n",
      "\u001b[32m\u001b[1m  Updating\u001b[22m\u001b[39m `~/.julia/environments/v1.2/Manifest.toml`\n",
      " \u001b[90m [49dc2e85]\u001b[39m\u001b[92m + Calculus v0.5.0\u001b[39m\n",
      " \u001b[90m [4076af6c]\u001b[39m\u001b[92m + JuMP v0.20.0\u001b[39m\n",
      " \u001b[90m [b8f27783]\u001b[39m\u001b[92m + MathOptInterface v0.9.1\u001b[39m\n",
      "\u001b[32m\u001b[1m Resolving\u001b[22m\u001b[39m package versions...\n"
     ]
    },
    {
     "ename": "Pkg.Types.ResolverError",
     "evalue": "Unsatisfiable requirements detected for package LinQuadOptInterface [f8899e07]:\n LinQuadOptInterface [f8899e07] log:\n ├─possible versions are: [0.1.0, 0.2.0, 0.3.0-0.3.1, 0.4.0-0.4.3, 0.5.0, 0.6.0] or uninstalled\n ├─restricted by julia compatibility requirements to versions: [0.3.0-0.3.1, 0.4.0-0.4.3, 0.5.0, 0.6.0] or uninstalled\n ├─restricted by compatibility requirements with MathOptInterface [b8f27783] to versions: uninstalled\n │ └─MathOptInterface [b8f27783] log:\n │   ├─possible versions are: [0.1.0, 0.2.0, 0.3.0, 0.4.0-0.4.1, 0.5.0-0.5.1, 0.6.0-0.6.4, 0.7.0, 0.8.0-0.8.4, 0.9.0-0.9.1] or uninstalled\n │   └─restricted by compatibility requirements with JuMP [4076af6c] to versions: 0.9.1\n │     └─JuMP [4076af6c] log:\n │       ├─possible versions are: [0.1.1-0.1.2, 0.2.0, 0.3.0-0.3.2, 0.4.0-0.4.1, 0.5.0-0.5.8, 0.6.0-0.6.3, 0.7.0-0.7.4, 0.8.0, 0.9.0-0.9.3, 0.10.0-0.10.3, 0.11.0-0.11.3, 0.12.0-0.12.2, 0.13.0-0.13.2, 0.14.0-0.14.2, 0.15.0-0.15.1, 0.16.0-0.16.2, 0.17.0-0.17.1, 0.18.0-0.18.6, 0.19.0-0.19.2, 0.20.0] or uninstalled\n │       └─restricted to versions 0.20.0 by an explicit requirement, leaving only versions 0.20.0\n └─restricted by compatibility requirements with Clp [e2554f3b] to versions: [0.4.0-0.4.3, 0.6.0] — no versions left\n   └─Clp [e2554f3b] log:\n     ├─possible versions are: [0.0.5-0.0.10, 0.1.0-0.1.1, 0.2.0-0.2.2, 0.3.0-0.3.1, 0.4.0, 0.5.0-0.5.1, 0.6.0-0.6.2] or uninstalled\n     ├─restricted to versions * by an explicit requirement, leaving only versions [0.0.5-0.0.10, 0.1.0-0.1.1, 0.2.0-0.2.2, 0.3.0-0.3.1, 0.4.0, 0.5.0-0.5.1, 0.6.0-0.6.2]\n     └─restricted by julia compatibility requirements to versions: [0.5.0-0.5.1, 0.6.0-0.6.2] or uninstalled, leaving only versions: [0.5.0-0.5.1, 0.6.0-0.6.2]",
     "output_type": "error",
     "traceback": [
      "Unsatisfiable requirements detected for package LinQuadOptInterface [f8899e07]:\n LinQuadOptInterface [f8899e07] log:\n ├─possible versions are: [0.1.0, 0.2.0, 0.3.0-0.3.1, 0.4.0-0.4.3, 0.5.0, 0.6.0] or uninstalled\n ├─restricted by julia compatibility requirements to versions: [0.3.0-0.3.1, 0.4.0-0.4.3, 0.5.0, 0.6.0] or uninstalled\n ├─restricted by compatibility requirements with MathOptInterface [b8f27783] to versions: uninstalled\n │ └─MathOptInterface [b8f27783] log:\n │   ├─possible versions are: [0.1.0, 0.2.0, 0.3.0, 0.4.0-0.4.1, 0.5.0-0.5.1, 0.6.0-0.6.4, 0.7.0, 0.8.0-0.8.4, 0.9.0-0.9.1] or uninstalled\n │   └─restricted by compatibility requirements with JuMP [4076af6c] to versions: 0.9.1\n │     └─JuMP [4076af6c] log:\n │       ├─possible versions are: [0.1.1-0.1.2, 0.2.0, 0.3.0-0.3.2, 0.4.0-0.4.1, 0.5.0-0.5.8, 0.6.0-0.6.3, 0.7.0-0.7.4, 0.8.0, 0.9.0-0.9.3, 0.10.0-0.10.3, 0.11.0-0.11.3, 0.12.0-0.12.2, 0.13.0-0.13.2, 0.14.0-0.14.2, 0.15.0-0.15.1, 0.16.0-0.16.2, 0.17.0-0.17.1, 0.18.0-0.18.6, 0.19.0-0.19.2, 0.20.0] or uninstalled\n │       └─restricted to versions 0.20.0 by an explicit requirement, leaving only versions 0.20.0\n └─restricted by compatibility requirements with Clp [e2554f3b] to versions: [0.4.0-0.4.3, 0.6.0] — no versions left\n   └─Clp [e2554f3b] log:\n     ├─possible versions are: [0.0.5-0.0.10, 0.1.0-0.1.1, 0.2.0-0.2.2, 0.3.0-0.3.1, 0.4.0, 0.5.0-0.5.1, 0.6.0-0.6.2] or uninstalled\n     ├─restricted to versions * by an explicit requirement, leaving only versions [0.0.5-0.0.10, 0.1.0-0.1.1, 0.2.0-0.2.2, 0.3.0-0.3.1, 0.4.0, 0.5.0-0.5.1, 0.6.0-0.6.2]\n     └─restricted by julia compatibility requirements to versions: [0.5.0-0.5.1, 0.6.0-0.6.2] or uninstalled, leaving only versions: [0.5.0-0.5.1, 0.6.0-0.6.2]",
      "",
      "Stacktrace:",
      " [1] #propagate_constraints!#61(::Bool, ::typeof(Pkg.GraphType.propagate_constraints!), ::Pkg.GraphType.Graph, ::Set{Int64}) at /buildworker/worker/package_linux64/build/usr/share/julia/stdlib/v1.2/Pkg/src/GraphType.jl:1007",
      " [2] propagate_constraints! at /buildworker/worker/package_linux64/build/usr/share/julia/stdlib/v1.2/Pkg/src/GraphType.jl:948 [inlined]",
      " [3] #simplify_graph!#121(::Bool, ::typeof(Pkg.GraphType.simplify_graph!), ::Pkg.GraphType.Graph, ::Set{Int64}) at /buildworker/worker/package_linux64/build/usr/share/julia/stdlib/v1.2/Pkg/src/GraphType.jl:1462",
      " [4] simplify_graph! at /buildworker/worker/package_linux64/build/usr/share/julia/stdlib/v1.2/Pkg/src/GraphType.jl:1462 [inlined]",
      " [5] resolve_versions!(::Pkg.Types.Context, ::Array{Pkg.Types.PackageSpec,1}) at /buildworker/worker/package_linux64/build/usr/share/julia/stdlib/v1.2/Pkg/src/Operations.jl:317",
      " [6] #add#100(::Bool, ::typeof(Pkg.Operations.add), ::Pkg.Types.Context, ::Array{Pkg.Types.PackageSpec,1}, ::Array{Base.UUID,1}) at /buildworker/worker/package_linux64/build/usr/share/julia/stdlib/v1.2/Pkg/src/Operations.jl:962",
      " [7] #add at ./none:0 [inlined]",
      " [8] #add#25(::Bool, ::Base.Iterators.Pairs{Union{},Union{},Tuple{},NamedTuple{(),Tuple{}}}, ::typeof(Pkg.API.add), ::Pkg.Types.Context, ::Array{Pkg.Types.PackageSpec,1}) at /buildworker/worker/package_linux64/build/usr/share/julia/stdlib/v1.2/Pkg/src/API.jl:99",
      " [9] add at /buildworker/worker/package_linux64/build/usr/share/julia/stdlib/v1.2/Pkg/src/API.jl:69 [inlined]",
      " [10] #add#24 at /buildworker/worker/package_linux64/build/usr/share/julia/stdlib/v1.2/Pkg/src/API.jl:67 [inlined]",
      " [11] add at /buildworker/worker/package_linux64/build/usr/share/julia/stdlib/v1.2/Pkg/src/API.jl:67 [inlined]",
      " [12] #add#21 at /buildworker/worker/package_linux64/build/usr/share/julia/stdlib/v1.2/Pkg/src/API.jl:65 [inlined]",
      " [13] add at /buildworker/worker/package_linux64/build/usr/share/julia/stdlib/v1.2/Pkg/src/API.jl:65 [inlined]",
      " [14] #add#20(::Base.Iterators.Pairs{Union{},Union{},Tuple{},NamedTuple{(),Tuple{}}}, ::typeof(Pkg.API.add), ::String) at /buildworker/worker/package_linux64/build/usr/share/julia/stdlib/v1.2/Pkg/src/API.jl:64",
      " [15] add(::String) at /buildworker/worker/package_linux64/build/usr/share/julia/stdlib/v1.2/Pkg/src/API.jl:64",
      " [16] top-level scope at In[1]:1"
     ]
    }
   ],
   "source": [
    "#using Pkg; Pkg.add(\"JuMP\"); Pkg.add(\"Clp\"); Pkg.add(\"Cbc\")"
   ]
  },
  {
   "cell_type": "code",
   "execution_count": 2,
   "metadata": {},
   "outputs": [
    {
     "name": "stderr",
     "output_type": "stream",
     "text": [
      "┌ Info: Precompiling JuMP [4076af6c-e467-56ae-b986-b466b2749572]\n",
      "└ @ Base loading.jl:1242\n"
     ]
    },
    {
     "ename": "ArgumentError",
     "evalue": "ArgumentError: Package Clp not found in current path:\n- Run `import Pkg; Pkg.add(\"Clp\")` to install the Clp package.\n",
     "output_type": "error",
     "traceback": [
      "ArgumentError: Package Clp not found in current path:\n- Run `import Pkg; Pkg.add(\"Clp\")` to install the Clp package.\n",
      "",
      "Stacktrace:",
      " [1] require(::Module, ::Symbol) at ./loading.jl:876",
      " [2] top-level scope at In[2]:2"
     ]
    }
   ],
   "source": [
    "using JuMP\n",
    "using Clp"
   ]
  },
  {
   "cell_type": "code",
   "execution_count": 3,
   "metadata": {},
   "outputs": [
    {
     "ename": "UndefVarError",
     "evalue": "UndefVarError: Clp not defined",
     "output_type": "error",
     "traceback": [
      "UndefVarError: Clp not defined",
      "",
      "Stacktrace:",
      " [1] top-level scope at In[3]:1"
     ]
    }
   ],
   "source": [
    "m = Model(with_optimizer(Clp.Optimizer))"
   ]
  },
  {
   "cell_type": "code",
   "execution_count": 4,
   "metadata": {},
   "outputs": [
    {
     "ename": "UndefVarError",
     "evalue": "UndefVarError: m not defined",
     "output_type": "error",
     "traceback": [
      "UndefVarError: m not defined",
      "",
      "Stacktrace:",
      " [1] top-level scope at /home/nakada/.julia/packages/JuMP/iGamg/src/macros.jl:258",
      " [2] top-level scope at In[4]:1"
     ]
    }
   ],
   "source": [
    "@variable(m, x₁>=0)\n",
    "@variable(m, x₂>=0)\n",
    "@objective(m, Min, 50x₁ + 70x₂)\n",
    "@constraint(m, 200x₁ + 2000x₂ >= 9000);\n",
    "@constraint(m, 100x₁ + 30x₂   >=  300);\n",
    "@constraint(m, 9x₁   + 11x₂   >=   60);"
   ]
  },
  {
   "cell_type": "code",
   "execution_count": 5,
   "metadata": {},
   "outputs": [
    {
     "ename": "UndefVarError",
     "evalue": "UndefVarError: m not defined",
     "output_type": "error",
     "traceback": [
      "UndefVarError: m not defined",
      "",
      "Stacktrace:",
      " [1] top-level scope at In[5]:1"
     ]
    }
   ],
   "source": [
    "println(m)"
   ]
  },
  {
   "cell_type": "code",
   "execution_count": 6,
   "metadata": {
    "scrolled": true
   },
   "outputs": [
    {
     "ename": "UndefVarError",
     "evalue": "UndefVarError: m not defined",
     "output_type": "error",
     "traceback": [
      "UndefVarError: m not defined",
      "",
      "Stacktrace:",
      " [1] top-level scope at In[6]:1"
     ]
    }
   ],
   "source": [
    "optimize!(m)\n",
    "termination_status(m)"
   ]
  },
  {
   "cell_type": "code",
   "execution_count": 7,
   "metadata": {},
   "outputs": [
    {
     "ename": "UndefVarError",
     "evalue": "UndefVarError: m not defined",
     "output_type": "error",
     "traceback": [
      "UndefVarError: m not defined",
      "",
      "Stacktrace:",
      " [1] top-level scope at In[7]:1"
     ]
    }
   ],
   "source": [
    "println(\"Cost: $(objective_value(m))\\nx₁=$(value(x₁))\\nx₂=$(value(x₂))\")"
   ]
  },
  {
   "cell_type": "code",
   "execution_count": 8,
   "metadata": {},
   "outputs": [
    {
     "ename": "ArgumentError",
     "evalue": "ArgumentError: Package Cbc not found in current path:\n- Run `import Pkg; Pkg.add(\"Cbc\")` to install the Cbc package.\n",
     "output_type": "error",
     "traceback": [
      "ArgumentError: Package Cbc not found in current path:\n- Run `import Pkg; Pkg.add(\"Cbc\")` to install the Cbc package.\n",
      "",
      "Stacktrace:",
      " [1] require(::Module, ::Symbol) at ./loading.jl:876",
      " [2] top-level scope at In[8]:2"
     ]
    }
   ],
   "source": [
    "using JuMP\n",
    "using Cbc\n",
    "m = Model(with_optimizer(Cbc.Optimizer));\n",
    "@variable(m, x₁ >= 0)\n",
    "@variable(m, x₂ >= 0, Int)\n",
    "@objective(m, Min, 50x₁ + 70x₂)\n",
    "@constraint(m, 200x₁ + 2000x₂ >= 9000)\n",
    "@constraint(m, 100x₁ +   30x₂ >=  300)\n",
    "@constraint(m, 9x₁   +   11x₂ >=   60)"
   ]
  },
  {
   "cell_type": "code",
   "execution_count": 9,
   "metadata": {},
   "outputs": [
    {
     "ename": "UndefVarError",
     "evalue": "UndefVarError: m not defined",
     "output_type": "error",
     "traceback": [
      "UndefVarError: m not defined",
      "",
      "Stacktrace:",
      " [1] top-level scope at In[9]:1"
     ]
    }
   ],
   "source": [
    "optimize!(m)"
   ]
  },
  {
   "cell_type": "code",
   "execution_count": 10,
   "metadata": {},
   "outputs": [
    {
     "ename": "UndefVarError",
     "evalue": "UndefVarError: m not defined",
     "output_type": "error",
     "traceback": [
      "UndefVarError: m not defined",
      "",
      "Stacktrace:",
      " [1] top-level scope at In[10]:1"
     ]
    }
   ],
   "source": [
    "println(\"Cost: $(objective_value(m))\\nx₁=$(value(x₁))\\nx₂=$(value(x₂))\")"
   ]
  },
  {
   "cell_type": "code",
   "execution_count": 11,
   "metadata": {},
   "outputs": [
    {
     "ename": "ArgumentError",
     "evalue": "ArgumentError: Package Clp not found in current path:\n- Run `import Pkg; Pkg.add(\"Clp\")` to install the Clp package.\n",
     "output_type": "error",
     "traceback": [
      "ArgumentError: Package Clp not found in current path:\n- Run `import Pkg; Pkg.add(\"Clp\")` to install the Clp package.\n",
      "",
      "Stacktrace:",
      " [1] require(::Module, ::Symbol) at ./loading.jl:876",
      " [2] top-level scope at In[11]:2"
     ]
    }
   ],
   "source": [
    "using JuMP\n",
    "using Clp\n",
    "m = Model(with_optimizer(Clp.Optimizer));\n",
    "@variable(m, x₁ >= 0)\n",
    "@variable(m, x₂ >= 0, Int)\n",
    "@objective(m, Min, 50x₁ + 70x₂)\n",
    "@constraint(m, 200x₁ + 2000x₂ >= 9000)\n",
    "@constraint(m, 100x₁ +   30x₂ >=  300)\n",
    "@constraint(m, 9x₁   +   11x₂ >=   60)"
   ]
  },
  {
   "cell_type": "code",
   "execution_count": 12,
   "metadata": {},
   "outputs": [
    {
     "ename": "UndefVarError",
     "evalue": "UndefVarError: m not defined",
     "output_type": "error",
     "traceback": [
      "UndefVarError: m not defined",
      "",
      "Stacktrace:",
      " [1] top-level scope at In[12]:1"
     ]
    }
   ],
   "source": [
    "optimize!(m)"
   ]
  },
  {
   "cell_type": "markdown",
   "metadata": {
    "collapsed": true
   },
   "source": [
    "#-----"
   ]
  },
  {
   "cell_type": "code",
   "execution_count": 13,
   "metadata": {},
   "outputs": [
    {
     "ename": "ArgumentError",
     "evalue": "ArgumentError: Package Gurobi not found in current path:\n- Run `import Pkg; Pkg.add(\"Gurobi\")` to install the Gurobi package.\n",
     "output_type": "error",
     "traceback": [
      "ArgumentError: Package Gurobi not found in current path:\n- Run `import Pkg; Pkg.add(\"Gurobi\")` to install the Gurobi package.\n",
      "",
      "Stacktrace:",
      " [1] require(::Module, ::Symbol) at ./loading.jl:876",
      " [2] top-level scope at In[13]:2"
     ]
    }
   ],
   "source": [
    "using JuMP\n",
    "using Gurobi\n",
    "m = Model(with_optimizer(Grobi.Optimizer));\n",
    "@variable(m, x1 >= 0)\n",
    "@variable(m, x2 >= 0, Int)\n",
    "@objective(m, Min, 50x1+70x2)\n",
    "@constraint(m, 200x1 + 2000x2 >= 9000)\n",
    "@constraint(m, 100x1 + 30x2 >= 300)\n",
    "@constraint(m, 9x1 + 11x2 >= 60)"
   ]
  },
  {
   "cell_type": "code",
   "execution_count": 14,
   "metadata": {},
   "outputs": [
    {
     "ename": "UndefVarError",
     "evalue": "UndefVarError: m not defined",
     "output_type": "error",
     "traceback": [
      "UndefVarError: m not defined",
      "",
      "Stacktrace:",
      " [1] top-level scope at In[14]:1"
     ]
    }
   ],
   "source": [
    "optimize!(m)"
   ]
  },
  {
   "cell_type": "code",
   "execution_count": 15,
   "metadata": {},
   "outputs": [
    {
     "ename": "UndefVarError",
     "evalue": "UndefVarError: m not defined",
     "output_type": "error",
     "traceback": [
      "UndefVarError: m not defined",
      "",
      "Stacktrace:",
      " [1] top-level scope at In[15]:1"
     ]
    }
   ],
   "source": [
    "println(\"Cost: $(objective_value(m))\\nx1=$(value(x1))\\nx2=$(value(x2))\")"
   ]
  },
  {
   "cell_type": "code",
   "execution_count": null,
   "metadata": {},
   "outputs": [],
   "source": []
  }
 ],
 "metadata": {
  "@webio": {
   "lastCommId": null,
   "lastKernelId": null
  },
  "kernelspec": {
   "display_name": "Julia 1.2.0",
   "language": "julia",
   "name": "julia-1.2"
  },
  "language_info": {
   "file_extension": ".jl",
   "mimetype": "application/julia",
   "name": "julia",
   "version": "1.2.0"
  }
 },
 "nbformat": 4,
 "nbformat_minor": 1
}
